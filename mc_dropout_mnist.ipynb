{
  "nbformat": 4,
  "nbformat_minor": 0,
  "metadata": {
    "colab": {
      "name": "mc_dropout_mnist.ipynb",
      "provenance": [],
      "authorship_tag": "ABX9TyOvf86swJN9XfR7AcFo4V7i",
      "include_colab_link": true
    },
    "kernelspec": {
      "name": "python3",
      "display_name": "Python 3"
    },
    "accelerator": "GPU"
  },
  "cells": [
    {
      "cell_type": "markdown",
      "metadata": {
        "id": "view-in-github",
        "colab_type": "text"
      },
      "source": [
        "<a href=\"https://colab.research.google.com/github/tylerlum/deep_learning_monte_carlo_dropout/blob/main/mc_dropout_mnist.ipynb\" target=\"_parent\"><img src=\"https://colab.research.google.com/assets/colab-badge.svg\" alt=\"Open In Colab\"/></a>"
      ]
    },
    {
      "cell_type": "code",
      "metadata": {
        "id": "FRSSPjyypg5z"
      },
      "source": [
        "from __future__ import print_function\n",
        "import keras\n",
        "from keras.datasets import mnist\n",
        "from keras.models import Sequential, Model, Input\n",
        "from keras.layers import Dense, Dropout, Flatten, SpatialDropout2D, SpatialDropout1D, AlphaDropout\n",
        "from keras.layers import Conv2D, MaxPooling2D\n",
        "from keras import backend as K\n",
        "\n",
        "import numpy as np\n",
        "import pandas as pd\n",
        "from sklearn.metrics import accuracy_score\n",
        "\n",
        "import matplotlib.pyplot as plt\n",
        "plt.style.use(\"ggplot\")\n",
        "%matplotlib inline"
      ],
      "execution_count": 1,
      "outputs": []
    },
    {
      "cell_type": "code",
      "metadata": {
        "id": "DL7Nx2ALplZz"
      },
      "source": [
        "batch_size = 128\n",
        "num_classes = 10\n",
        "epochs = 12\n",
        "\n",
        "# input image dimensions\n",
        "img_rows, img_cols = 28, 28"
      ],
      "execution_count": 2,
      "outputs": []
    },
    {
      "cell_type": "code",
      "metadata": {
        "id": "8IcmK8-Rp6vm",
        "outputId": "fa445edd-1a90-4fff-96fa-d01874b9263e",
        "colab": {
          "base_uri": "https://localhost:8080/",
          "height": 52
        }
      },
      "source": [
        "# the data, split between train and test sets\n",
        "(x_train, y_train), (x_test, y_test) = mnist.load_data()"
      ],
      "execution_count": 3,
      "outputs": [
        {
          "output_type": "stream",
          "text": [
            "Downloading data from https://storage.googleapis.com/tensorflow/tf-keras-datasets/mnist.npz\n",
            "11493376/11490434 [==============================] - 0s 0us/step\n"
          ],
          "name": "stdout"
        }
      ]
    },
    {
      "cell_type": "code",
      "metadata": {
        "id": "pVkUNnhRp8PD"
      },
      "source": [
        "if K.image_data_format() == 'channels_first':\n",
        "    x_train = x_train.reshape(x_train.shape[0], 1, img_rows, img_cols)\n",
        "    x_test = x_test.reshape(x_test.shape[0], 1, img_rows, img_cols)\n",
        "    input_shape = (1, img_rows, img_cols)\n",
        "else:\n",
        "    x_train = x_train.reshape(x_train.shape[0], img_rows, img_cols, 1)\n",
        "    x_test = x_test.reshape(x_test.shape[0], img_rows, img_cols, 1)\n",
        "    input_shape = (img_rows, img_cols, 1)"
      ],
      "execution_count": 4,
      "outputs": []
    },
    {
      "cell_type": "code",
      "metadata": {
        "id": "c0rDhZOOp9w6",
        "outputId": "5d445243-4f4e-4eeb-e211-e3e4395a380e",
        "colab": {
          "base_uri": "https://localhost:8080/",
          "height": 69
        }
      },
      "source": [
        "x_train = x_train.astype('float32')\n",
        "x_test = x_test.astype('float32')\n",
        "x_train /= 255\n",
        "x_test /= 255\n",
        "print('x_train shape:', x_train.shape)\n",
        "print(x_train.shape[0], 'train samples')\n",
        "print(x_test.shape[0], 'test samples')"
      ],
      "execution_count": 5,
      "outputs": [
        {
          "output_type": "stream",
          "text": [
            "x_train shape: (60000, 28, 28, 1)\n",
            "60000 train samples\n",
            "10000 test samples\n"
          ],
          "name": "stdout"
        }
      ]
    },
    {
      "cell_type": "code",
      "metadata": {
        "id": "evEfJ7PBqAbP"
      },
      "source": [
        "# convert class vectors to binary class matrices\n",
        "y_train = keras.utils.to_categorical(y_train, num_classes)\n",
        "y_test = keras.utils.to_categorical(y_test, num_classes)"
      ],
      "execution_count": 6,
      "outputs": []
    },
    {
      "cell_type": "code",
      "metadata": {
        "id": "zNC4-tjlqCZd"
      },
      "source": [
        "def get_dropout(input_tensor, p=0.5, mc=False):\n",
        "    if mc:\n",
        "        return Dropout(p)(input_tensor, training=True)\n",
        "    else:\n",
        "        return Dropout(p)(input_tensor)\n",
        "\n",
        "\n",
        "def get_model(mc=False, act=\"relu\"):\n",
        "    inp = Input(input_shape)\n",
        "    x = Conv2D(32, kernel_size=(3, 3), activation=act)(inp)\n",
        "    x = Conv2D(64, kernel_size=(3, 3), activation=act)(x)\n",
        "    x = MaxPooling2D(pool_size=(2, 2))(x)\n",
        "    x = get_dropout(x, p=0.25, mc=mc)\n",
        "    x = Flatten()(x)\n",
        "    x = Dense(128, activation=act)(x)\n",
        "    x = get_dropout(x, p=0.5, mc=mc)\n",
        "    out = Dense(num_classes, activation='softmax')(x)\n",
        "\n",
        "    model = Model(inputs=inp, outputs=out)\n",
        "\n",
        "    model.compile(loss=keras.losses.categorical_crossentropy,\n",
        "                  optimizer=keras.optimizers.Adadelta(),\n",
        "                  metrics=['accuracy'])\n",
        "    return model"
      ],
      "execution_count": 7,
      "outputs": []
    },
    {
      "cell_type": "code",
      "metadata": {
        "id": "18gwCGvkqDbL"
      },
      "source": [
        "model = get_model(mc=False, act=\"relu\")\n",
        "mc_model = get_model(mc=True, act=\"relu\")"
      ],
      "execution_count": 8,
      "outputs": []
    },
    {
      "cell_type": "code",
      "metadata": {
        "id": "abq84XFEqGpY",
        "outputId": "c60407db-83d7-4ef4-c869-fddd1b02ca96",
        "colab": {
          "base_uri": "https://localhost:8080/",
          "height": 366
        }
      },
      "source": [
        "h = model.fit(x_train, y_train,\n",
        "              batch_size=batch_size,\n",
        "              epochs=10,\n",
        "              verbose=1,\n",
        "              validation_data=(x_test, y_test))"
      ],
      "execution_count": 9,
      "outputs": [
        {
          "output_type": "stream",
          "text": [
            "Epoch 1/10\n",
            "469/469 [==============================] - 5s 10ms/step - loss: 2.2856 - accuracy: 0.1321 - val_loss: 2.2515 - val_accuracy: 0.2360\n",
            "Epoch 2/10\n",
            "469/469 [==============================] - 5s 10ms/step - loss: 2.2311 - accuracy: 0.2254 - val_loss: 2.1861 - val_accuracy: 0.4024\n",
            "Epoch 3/10\n",
            "469/469 [==============================] - 5s 10ms/step - loss: 2.1639 - accuracy: 0.3134 - val_loss: 2.1007 - val_accuracy: 0.5347\n",
            "Epoch 4/10\n",
            "469/469 [==============================] - 4s 10ms/step - loss: 2.0724 - accuracy: 0.3961 - val_loss: 1.9853 - val_accuracy: 0.6358\n",
            "Epoch 5/10\n",
            "469/469 [==============================] - 5s 10ms/step - loss: 1.9554 - accuracy: 0.4665 - val_loss: 1.8338 - val_accuracy: 0.6915\n",
            "Epoch 6/10\n",
            "469/469 [==============================] - 5s 10ms/step - loss: 1.8088 - accuracy: 0.5282 - val_loss: 1.6474 - val_accuracy: 0.7315\n",
            "Epoch 7/10\n",
            "469/469 [==============================] - 5s 10ms/step - loss: 1.6396 - accuracy: 0.5767 - val_loss: 1.4413 - val_accuracy: 0.7605\n",
            "Epoch 8/10\n",
            "469/469 [==============================] - 5s 10ms/step - loss: 1.4680 - accuracy: 0.6119 - val_loss: 1.2419 - val_accuracy: 0.7831\n",
            "Epoch 9/10\n",
            "469/469 [==============================] - 5s 10ms/step - loss: 1.3152 - accuracy: 0.6423 - val_loss: 1.0710 - val_accuracy: 0.7999\n",
            "Epoch 10/10\n",
            "469/469 [==============================] - 5s 10ms/step - loss: 1.1903 - accuracy: 0.6647 - val_loss: 0.9360 - val_accuracy: 0.8131\n"
          ],
          "name": "stdout"
        }
      ]
    },
    {
      "cell_type": "code",
      "metadata": {
        "id": "asc482A-qIiW",
        "outputId": "0e6572b1-79da-43f0-9759-0e5d985f4b0a",
        "colab": {
          "base_uri": "https://localhost:8080/",
          "height": 52
        }
      },
      "source": [
        "# score of the normal model\n",
        "score = model.evaluate(x_test, y_test, verbose=0)\n",
        "\n",
        "print('Test loss:', score[0])\n",
        "print('Test accuracy:', score[1])"
      ],
      "execution_count": 10,
      "outputs": [
        {
          "output_type": "stream",
          "text": [
            "Test loss: 0.9359776377677917\n",
            "Test accuracy: 0.8130999803543091\n"
          ],
          "name": "stdout"
        }
      ]
    },
    {
      "cell_type": "code",
      "metadata": {
        "id": "ifrWtzuOqMsd",
        "outputId": "eac943b8-b006-40f8-982b-0129713a92b9",
        "colab": {
          "base_uri": "https://localhost:8080/",
          "height": 366
        }
      },
      "source": [
        "h_mc = mc_model.fit(x_train, y_train,\n",
        "                    batch_size=batch_size,\n",
        "                    epochs=10,\n",
        "                    verbose=1,\n",
        "                    validation_data=(x_test, y_test))"
      ],
      "execution_count": null,
      "outputs": [
        {
          "output_type": "stream",
          "text": [
            "Epoch 1/10\n",
            "469/469 [==============================] - 5s 10ms/step - loss: 2.2764 - accuracy: 0.1528 - val_loss: 2.2556 - val_accuracy: 0.1918\n",
            "Epoch 2/10\n",
            "469/469 [==============================] - 5s 10ms/step - loss: 2.2319 - accuracy: 0.2387 - val_loss: 2.2025 - val_accuracy: 0.2939\n",
            "Epoch 3/10\n",
            "469/469 [==============================] - 5s 10ms/step - loss: 2.1692 - accuracy: 0.3269 - val_loss: 2.1265 - val_accuracy: 0.3778\n",
            "Epoch 4/10\n",
            "469/469 [==============================] - 5s 10ms/step - loss: 2.0830 - accuracy: 0.4026 - val_loss: 2.0255 - val_accuracy: 0.4408\n",
            "Epoch 5/10\n",
            "469/469 [==============================] - 5s 10ms/step - loss: 1.9634 - accuracy: 0.4770 - val_loss: 1.8888 - val_accuracy: 0.5079\n",
            "Epoch 6/10\n",
            "469/469 [==============================] - 5s 10ms/step - loss: 1.8161 - accuracy: 0.5347 - val_loss: 1.7221 - val_accuracy: 0.5711\n",
            "Epoch 7/10\n",
            "469/469 [==============================] - 5s 10ms/step - loss: 1.6396 - accuracy: 0.5913 - val_loss: 1.5369 - val_accuracy: 0.6148\n",
            "Epoch 8/10\n",
            "469/469 [==============================] - 5s 10ms/step - loss: 1.4585 - accuracy: 0.6328 - val_loss: 1.3588 - val_accuracy: 0.6576\n",
            "Epoch 9/10\n",
            "469/469 [==============================] - 5s 10ms/step - loss: 1.2994 - accuracy: 0.6593 - val_loss: 1.2139 - val_accuracy: 0.6799\n",
            "Epoch 10/10\n",
            "320/469 [===================>..........] - ETA: 1s - loss: 1.1869 - accuracy: 0.6811"
          ],
          "name": "stdout"
        }
      ]
    },
    {
      "cell_type": "code",
      "metadata": {
        "id": "nkx2TIeIqOGS"
      },
      "source": [
        "import tqdm\n",
        "\n",
        "mc_predictions = []\n",
        "for i in tqdm.tqdm(range(500)):\n",
        "    y_p = mc_model.predict(x_test, batch_size=1000)\n",
        "    mc_predictions.append(y_p)"
      ],
      "execution_count": null,
      "outputs": []
    },
    {
      "cell_type": "code",
      "metadata": {
        "id": "xN2mOrPFqPp9"
      },
      "source": [
        "# score of the mc model\n",
        "accs = []\n",
        "for y_p in mc_predictions:\n",
        "    acc = accuracy_score(y_test.argmax(axis=1), y_p.argmax(axis=1))\n",
        "    accs.append(acc)\n",
        "print(\"MC accuracy: {:.1%}\".format(sum(accs)/len(accs)))"
      ],
      "execution_count": null,
      "outputs": []
    },
    {
      "cell_type": "code",
      "metadata": {
        "id": "bEO-8Wz6qSOJ"
      },
      "source": [
        "mc_ensemble_pred = np.array(mc_predictions).mean(axis=0).argmax(axis=1)\n",
        "ensemble_acc = accuracy_score(y_test.argmax(axis=1), mc_ensemble_pred)\n",
        "print(\"MC-ensemble accuracy: {:.1%}\".format(ensemble_acc))"
      ],
      "execution_count": null,
      "outputs": []
    },
    {
      "cell_type": "code",
      "metadata": {
        "id": "h6myvS2vqXaO"
      },
      "source": [
        "plt.hist(accs)\n",
        "plt.axvline(x=ensemble_acc, color=\"b\")"
      ],
      "execution_count": null,
      "outputs": []
    },
    {
      "cell_type": "code",
      "metadata": {
        "id": "oHpqlqxwqcGI"
      },
      "source": [
        "idx = 247\n",
        "plt.imshow(x_test[idx][:,:,0])"
      ],
      "execution_count": null,
      "outputs": []
    },
    {
      "cell_type": "code",
      "metadata": {
        "id": "vfnyFLHDqd7b"
      },
      "source": [
        "p0 = np.array([p[idx] for p in mc_predictions])\n",
        "print(\"posterior mean: {}\".format(p0.mean(axis=0).argmax()))\n",
        "print(\"true label: {}\".format(y_test[idx].argmax()))\n",
        "print()\n",
        "# probability + variance\n",
        "for i, (prob, var) in enumerate(zip(p0.mean(axis=0), p0.std(axis=0))):\n",
        "    print(\"class: {}; proba: {:.1%}; var: {:.2%} \".format(i, prob, var))"
      ],
      "execution_count": null,
      "outputs": []
    },
    {
      "cell_type": "code",
      "metadata": {
        "id": "iaGEw6nlqgk0"
      },
      "source": [
        "x, y = list(range(len(p0.mean(axis=0)))), p0.mean(axis=0)\n",
        "plt.plot(x, y)"
      ],
      "execution_count": null,
      "outputs": []
    },
    {
      "cell_type": "code",
      "metadata": {
        "id": "sGZt_b1TqiQh"
      },
      "source": [
        "fig, axes = plt.subplots(5, 2, figsize=(12,12))\n",
        "\n",
        "for i, ax in enumerate(fig.get_axes()):\n",
        "    ax.hist(p0[:,i], bins=100, range=(0,1))\n",
        "    ax.set_title(f\"class {i}\")\n",
        "    ax.label_outer()"
      ],
      "execution_count": null,
      "outputs": []
    },
    {
      "cell_type": "code",
      "metadata": {
        "id": "UebGG4FFqkTs"
      },
      "source": [
        "max_means = []\n",
        "preds = []\n",
        "for idx in range(len(mc_predictions)):\n",
        "    px = np.array([p[idx] for p in mc_predictions])\n",
        "    preds.append(px.mean(axis=0).argmax())\n",
        "    max_means.append(px.mean(axis=0).max())"
      ],
      "execution_count": null,
      "outputs": []
    },
    {
      "cell_type": "code",
      "metadata": {
        "id": "9HKmuXlcqmcn"
      },
      "source": [
        "(np.array(max_means)).argsort()[:10]"
      ],
      "execution_count": null,
      "outputs": []
    },
    {
      "cell_type": "code",
      "metadata": {
        "id": "nKKXAC8iqnbD"
      },
      "source": [
        "plt.imshow(x_test[247][:,:,0])"
      ],
      "execution_count": null,
      "outputs": []
    },
    {
      "cell_type": "code",
      "metadata": {
        "id": "RSLwrUjHqpoA"
      },
      "source": [
        "max_vars = []\n",
        "for idx in range(len(mc_predictions)):\n",
        "    px = np.array([p[idx] for p in mc_predictions])\n",
        "    max_vars.append(px.std(axis=0)[px.mean(axis=0).argmax()])"
      ],
      "execution_count": null,
      "outputs": []
    },
    {
      "cell_type": "code",
      "metadata": {
        "id": "Vq14yMjSqrWk"
      },
      "source": [
        "(-np.array(max_vars)).argsort()[:10]"
      ],
      "execution_count": null,
      "outputs": []
    },
    {
      "cell_type": "code",
      "metadata": {
        "id": "FOqasRD5qsv3"
      },
      "source": [
        "plt.imshow(x_test[259][:,:,0])"
      ],
      "execution_count": null,
      "outputs": []
    },
    {
      "cell_type": "code",
      "metadata": {
        "id": "Cta7v7U3qu7t"
      },
      "source": [
        "random_img = np.random.random(input_shape)"
      ],
      "execution_count": null,
      "outputs": []
    },
    {
      "cell_type": "code",
      "metadata": {
        "id": "Khz_b4buq5FV"
      },
      "source": [
        "plt.imshow(random_img[:,:,0]);"
      ],
      "execution_count": null,
      "outputs": []
    },
    {
      "cell_type": "code",
      "metadata": {
        "id": "-Ofqa1h6q6CU"
      },
      "source": [
        "random_predictions = []\n",
        "for i in tqdm.tqdm(range(500)):\n",
        "    y_p = mc_model.predict(np.array([random_img]))\n",
        "    random_predictions.append(y_p)"
      ],
      "execution_count": null,
      "outputs": []
    },
    {
      "cell_type": "code",
      "metadata": {
        "id": "GcxDanEjq7fx"
      },
      "source": [
        "p0 = np.array([p[0] for p in random_predictions])\n",
        "print(\"posterior mean: {}\".format(p0.mean(axis=0).argmax()))\n",
        "print()\n",
        "# probability + variance\n",
        "for i, (prob, var) in enumerate(zip(p0.mean(axis=0), p0.std(axis=0))):\n",
        "    print(\"class: {}; proba: {:.1%}; var: {:.2%} \".format(i, prob, var))"
      ],
      "execution_count": null,
      "outputs": []
    },
    {
      "cell_type": "code",
      "metadata": {
        "id": "rjzCDeMLq82Y"
      },
      "source": [
        "x, y = list(range(len(p0.mean(axis=0)))), p0.mean(axis=0)\n",
        "plt.plot(x, y)"
      ],
      "execution_count": null,
      "outputs": []
    },
    {
      "cell_type": "code",
      "metadata": {
        "id": "H8JGSP8Qq-oX"
      },
      "source": [
        "fig, axes = plt.subplots(5, 2, figsize=(12,12))\n",
        "\n",
        "for i, ax in enumerate(fig.get_axes()):\n",
        "    ax.hist(p0[:,i], bins=100, range=(0,1))\n",
        "    ax.set_title(f\"class {i}\")\n",
        "    ax.label_outer()"
      ],
      "execution_count": null,
      "outputs": []
    }
  ]
}