{
  "nbformat": 4,
  "nbformat_minor": 0,
  "metadata": {
    "colab": {
      "name": "mc_dropout_mnist.ipynb",
      "provenance": [],
      "authorship_tag": "ABX9TyO9KY3knNVpocQmazW7nQuU",
      "include_colab_link": true
    },
    "kernelspec": {
      "name": "python3",
      "display_name": "Python 3"
    },
    "accelerator": "GPU"
  },
  "cells": [
    {
      "cell_type": "markdown",
      "metadata": {
        "id": "view-in-github",
        "colab_type": "text"
      },
      "source": [
        "<a href=\"https://colab.research.google.com/github/tylerlum/deep_learning_monte_carlo_dropout/blob/main/mc_dropout_mnist.ipynb\" target=\"_parent\"><img src=\"https://colab.research.google.com/assets/colab-badge.svg\" alt=\"Open In Colab\"/></a>"
      ]
    },
    {
      "cell_type": "markdown",
      "metadata": {
        "id": "BbtlTbE4xpW6"
      },
      "source": [
        "## Monte Carlo Dropout on MNIST\n",
        "\n",
        "Reference:\n",
        "https://www.depends-on-the-definition.com/model-uncertainty-in-deep-learning-with-monte-carlo-dropout/#2-selection-by-variance"
      ]
    },
    {
      "cell_type": "code",
      "metadata": {
        "id": "FRSSPjyypg5z"
      },
      "source": [
        "from __future__ import print_function\n",
        "import keras\n",
        "from keras.datasets import mnist\n",
        "from keras.models import Sequential, Model, Input\n",
        "from keras.layers import Dense, Dropout, Flatten, SpatialDropout2D, SpatialDropout1D, AlphaDropout\n",
        "from keras.layers import Conv2D, MaxPooling2D\n",
        "from keras import backend as K\n",
        "\n",
        "import numpy as np\n",
        "import pandas as pd\n",
        "from sklearn.metrics import accuracy_score\n",
        "\n",
        "import matplotlib.pyplot as plt\n",
        "plt.style.use(\"ggplot\")\n",
        "%matplotlib inline"
      ],
      "execution_count": 1,
      "outputs": []
    },
    {
      "cell_type": "code",
      "metadata": {
        "id": "DL7Nx2ALplZz"
      },
      "source": [
        "batch_size = 128\n",
        "num_classes = 10\n",
        "epochs = 20\n",
        "\n",
        "# input image dimensions\n",
        "img_rows, img_cols = 28, 28"
      ],
      "execution_count": 2,
      "outputs": []
    },
    {
      "cell_type": "code",
      "metadata": {
        "id": "8IcmK8-Rp6vm"
      },
      "source": [
        "# the data, split between train and test sets\n",
        "(x_train, y_train), (x_test, y_test) = mnist.load_data()"
      ],
      "execution_count": 3,
      "outputs": []
    },
    {
      "cell_type": "code",
      "metadata": {
        "id": "pVkUNnhRp8PD"
      },
      "source": [
        "if K.image_data_format() == 'channels_first':\n",
        "    x_train = x_train.reshape(x_train.shape[0], 1, img_rows, img_cols)\n",
        "    x_test = x_test.reshape(x_test.shape[0], 1, img_rows, img_cols)\n",
        "    input_shape = (1, img_rows, img_cols)\n",
        "else:\n",
        "    x_train = x_train.reshape(x_train.shape[0], img_rows, img_cols, 1)\n",
        "    x_test = x_test.reshape(x_test.shape[0], img_rows, img_cols, 1)\n",
        "    input_shape = (img_rows, img_cols, 1)"
      ],
      "execution_count": 4,
      "outputs": []
    },
    {
      "cell_type": "code",
      "metadata": {
        "id": "c0rDhZOOp9w6",
        "outputId": "b90a4a5f-bf10-444e-de68-6f50023aa48b",
        "colab": {
          "base_uri": "https://localhost:8080/",
          "height": 69
        }
      },
      "source": [
        "x_train = x_train.astype('float32')\n",
        "x_test = x_test.astype('float32')\n",
        "x_train /= 255\n",
        "x_test /= 255\n",
        "print('x_train shape:', x_train.shape)\n",
        "print(x_train.shape[0], 'train samples')\n",
        "print(x_test.shape[0], 'test samples')"
      ],
      "execution_count": 5,
      "outputs": [
        {
          "output_type": "stream",
          "text": [
            "x_train shape: (60000, 28, 28, 1)\n",
            "60000 train samples\n",
            "10000 test samples\n"
          ],
          "name": "stdout"
        }
      ]
    },
    {
      "cell_type": "code",
      "metadata": {
        "id": "evEfJ7PBqAbP"
      },
      "source": [
        "# convert class vectors to binary class matrices\n",
        "y_train = keras.utils.to_categorical(y_train, num_classes)\n",
        "y_test = keras.utils.to_categorical(y_test, num_classes)"
      ],
      "execution_count": 6,
      "outputs": []
    },
    {
      "cell_type": "code",
      "metadata": {
        "id": "zNC4-tjlqCZd"
      },
      "source": [
        "def get_dropout(input_tensor, p=0.5, mc=False):\n",
        "    if mc:\n",
        "        return Dropout(p)(input_tensor, training=True)\n",
        "    else:\n",
        "        return Dropout(p)(input_tensor)\n",
        "\n",
        "\n",
        "def get_model(mc=False, act=\"relu\"):\n",
        "    inp = Input(input_shape)\n",
        "    x = Conv2D(32, kernel_size=(3, 3), activation=act)(inp)\n",
        "    x = Conv2D(64, kernel_size=(3, 3), activation=act)(x)\n",
        "    x = MaxPooling2D(pool_size=(2, 2))(x)\n",
        "    x = get_dropout(x, p=0.25, mc=mc)\n",
        "    x = Flatten()(x)\n",
        "    x = Dense(128, activation=act)(x)\n",
        "    x = get_dropout(x, p=0.5, mc=mc)\n",
        "    out = Dense(num_classes, activation='softmax')(x)\n",
        "\n",
        "    model = Model(inputs=inp, outputs=out)\n",
        "\n",
        "    model.compile(loss=keras.losses.categorical_crossentropy,\n",
        "                  optimizer=keras.optimizers.Adadelta(),\n",
        "                  metrics=['accuracy'])\n",
        "    return model"
      ],
      "execution_count": 7,
      "outputs": []
    },
    {
      "cell_type": "code",
      "metadata": {
        "id": "18gwCGvkqDbL"
      },
      "source": [
        "model = get_model(mc=False, act=\"relu\")\n",
        "mc_model = get_model(mc=True, act=\"relu\")"
      ],
      "execution_count": 8,
      "outputs": []
    },
    {
      "cell_type": "code",
      "metadata": {
        "id": "abq84XFEqGpY",
        "outputId": "a5a39ead-cc7a-4b2e-830b-53c26cd0b267",
        "colab": {
          "base_uri": "https://localhost:8080/",
          "height": 715
        }
      },
      "source": [
        "h = model.fit(x_train, y_train,\n",
        "              batch_size=batch_size,\n",
        "              epochs=epochs,\n",
        "              verbose=1,\n",
        "              validation_data=(x_test, y_test))"
      ],
      "execution_count": 9,
      "outputs": [
        {
          "output_type": "stream",
          "text": [
            "Epoch 1/20\n",
            "469/469 [==============================] - 5s 10ms/step - loss: 2.2945 - accuracy: 0.1212 - val_loss: 2.2813 - val_accuracy: 0.2088\n",
            "Epoch 2/20\n",
            "469/469 [==============================] - 5s 10ms/step - loss: 2.2728 - accuracy: 0.1787 - val_loss: 2.2562 - val_accuracy: 0.3575\n",
            "Epoch 3/20\n",
            "469/469 [==============================] - 5s 10ms/step - loss: 2.2476 - accuracy: 0.2490 - val_loss: 2.2255 - val_accuracy: 0.4668\n",
            "Epoch 4/20\n",
            "469/469 [==============================] - 5s 10ms/step - loss: 2.2145 - accuracy: 0.3226 - val_loss: 2.1855 - val_accuracy: 0.5592\n",
            "Epoch 5/20\n",
            "469/469 [==============================] - 5s 10ms/step - loss: 2.1713 - accuracy: 0.3868 - val_loss: 2.1313 - val_accuracy: 0.6402\n",
            "Epoch 6/20\n",
            "469/469 [==============================] - 5s 10ms/step - loss: 2.1130 - accuracy: 0.4543 - val_loss: 2.0570 - val_accuracy: 0.6971\n",
            "Epoch 7/20\n",
            "469/469 [==============================] - 5s 10ms/step - loss: 2.0324 - accuracy: 0.5091 - val_loss: 1.9550 - val_accuracy: 0.7270\n",
            "Epoch 8/20\n",
            "469/469 [==============================] - 5s 10ms/step - loss: 1.9234 - accuracy: 0.5563 - val_loss: 1.8180 - val_accuracy: 0.7452\n",
            "Epoch 9/20\n",
            "469/469 [==============================] - 5s 10ms/step - loss: 1.7833 - accuracy: 0.5922 - val_loss: 1.6435 - val_accuracy: 0.7646\n",
            "Epoch 10/20\n",
            "469/469 [==============================] - 5s 10ms/step - loss: 1.6212 - accuracy: 0.6192 - val_loss: 1.4439 - val_accuracy: 0.7819\n",
            "Epoch 11/20\n",
            "469/469 [==============================] - 5s 10ms/step - loss: 1.4503 - accuracy: 0.6451 - val_loss: 1.2443 - val_accuracy: 0.7960\n",
            "Epoch 12/20\n",
            "469/469 [==============================] - 5s 10ms/step - loss: 1.2938 - accuracy: 0.6678 - val_loss: 1.0709 - val_accuracy: 0.8079\n",
            "Epoch 13/20\n",
            "469/469 [==============================] - 5s 10ms/step - loss: 1.1648 - accuracy: 0.6879 - val_loss: 0.9339 - val_accuracy: 0.8175\n",
            "Epoch 14/20\n",
            "469/469 [==============================] - 5s 10ms/step - loss: 1.0673 - accuracy: 0.7034 - val_loss: 0.8301 - val_accuracy: 0.8260\n",
            "Epoch 15/20\n",
            "469/469 [==============================] - 5s 10ms/step - loss: 0.9875 - accuracy: 0.7181 - val_loss: 0.7507 - val_accuracy: 0.8359\n",
            "Epoch 16/20\n",
            "469/469 [==============================] - 5s 10ms/step - loss: 0.9229 - accuracy: 0.7314 - val_loss: 0.6898 - val_accuracy: 0.8403\n",
            "Epoch 17/20\n",
            "469/469 [==============================] - 5s 10ms/step - loss: 0.8756 - accuracy: 0.7403 - val_loss: 0.6420 - val_accuracy: 0.8464\n",
            "Epoch 18/20\n",
            "469/469 [==============================] - 5s 10ms/step - loss: 0.8311 - accuracy: 0.7514 - val_loss: 0.6023 - val_accuracy: 0.8527\n",
            "Epoch 19/20\n",
            "469/469 [==============================] - 5s 10ms/step - loss: 0.7929 - accuracy: 0.7629 - val_loss: 0.5695 - val_accuracy: 0.8576\n",
            "Epoch 20/20\n",
            "469/469 [==============================] - 5s 10ms/step - loss: 0.7621 - accuracy: 0.7693 - val_loss: 0.5415 - val_accuracy: 0.8646\n"
          ],
          "name": "stdout"
        }
      ]
    },
    {
      "cell_type": "code",
      "metadata": {
        "id": "VBJ0-kissiMm"
      },
      "source": [
        "def plot_train_validation(history, plot_type):\n",
        "  plt.plot(h.history[plot_type])\n",
        "  plt.plot(h.history[f'val_{plot_type}'])\n",
        "  plt.title(f'model {plot_type}')\n",
        "  plt.ylabel(plot_type)\n",
        "  plt.xlabel('epoch')\n",
        "  plt.legend(['train', 'val'], loc='upper left')\n",
        "  plt.show()"
      ],
      "execution_count": 10,
      "outputs": []
    },
    {
      "cell_type": "code",
      "metadata": {
        "id": "HxTLKUUntP8H",
        "outputId": "2bcffb5c-db06-4bea-8030-e4d44f610923",
        "colab": {
          "base_uri": "https://localhost:8080/",
          "height": 299
        }
      },
      "source": [
        "plot_train_validation(h, \"loss\")"
      ],
      "execution_count": 11,
      "outputs": [
        {
          "output_type": "display_data",
          "data": {
            "image/png": "[encoded data removed]",
            "text/plain": [
              "<Figure size 432x288 with 1 Axes>"
            ]
          },
          "metadata": {
            "tags": [],
            "needs_background": "light"
          }
        }
      ]
    },
    {
      "cell_type": "code",
      "metadata": {
        "id": "orqB7hX9tSW-",
        "outputId": "43bfb240-5cda-4e88-ec51-b7466dfedd97",
        "colab": {
          "base_uri": "https://localhost:8080/",
          "height": 299
        }
      },
      "source": [
        "plot_train_validation(h, \"accuracy\")"
      ],
      "execution_count": 12,
      "outputs": [
        {
          "output_type": "display_data",
          "data": {
            "image/png": "[encoded data removed]",
            "text/plain": [
              "<Figure size 432x288 with 1 Axes>"
            ]
          },
          "metadata": {
            "tags": [],
            "needs_background": "light"
          }
        }
      ]
    },
    {
      "cell_type": "code",
      "metadata": {
        "id": "asc482A-qIiW",
        "outputId": "04a4c325-ba26-4601-a0fb-42e110217043",
        "colab": {
          "base_uri": "https://localhost:8080/",
          "height": 52
        }
      },
      "source": [
        "# score of the normal model\n",
        "score = model.evaluate(x_test, y_test, verbose=0)\n",
        "\n",
        "print('Test loss:', score[0])\n",
        "print('Test accuracy:', score[1])"
      ],
      "execution_count": 13,
      "outputs": [
        {
          "output_type": "stream",
          "text": [
            "Test loss: 0.5414754152297974\n",
            "Test accuracy: 0.8646000027656555\n"
          ],
          "name": "stdout"
        }
      ]
    },
    {
      "cell_type": "code",
      "metadata": {
        "id": "ifrWtzuOqMsd",
        "outputId": "cbd8a169-acaa-4e2e-8f39-b0ec9f65595b",
        "colab": {
          "base_uri": "https://localhost:8080/",
          "height": 715
        }
      },
      "source": [
        "h_mc = mc_model.fit(x_train, y_train,\n",
        "                    batch_size=batch_size,\n",
        "                    epochs=epochs,\n",
        "                    verbose=1,\n",
        "                    validation_data=(x_test, y_test))"
      ],
      "execution_count": 14,
      "outputs": [
        {
          "output_type": "stream",
          "text": [
            "Epoch 1/20\n",
            "469/469 [==============================] - 5s 10ms/step - loss: 2.2885 - accuracy: 0.1316 - val_loss: 2.2679 - val_accuracy: 0.1846\n",
            "Epoch 2/20\n",
            "469/469 [==============================] - 5s 10ms/step - loss: 2.2461 - accuracy: 0.2357 - val_loss: 2.2193 - val_accuracy: 0.2935\n",
            "Epoch 3/20\n",
            "469/469 [==============================] - 5s 10ms/step - loss: 2.1925 - accuracy: 0.3269 - val_loss: 2.1577 - val_accuracy: 0.3679\n",
            "Epoch 4/20\n",
            "469/469 [==============================] - 5s 10ms/step - loss: 2.1205 - accuracy: 0.4003 - val_loss: 2.0728 - val_accuracy: 0.4312\n",
            "Epoch 5/20\n",
            "469/469 [==============================] - 5s 10ms/step - loss: 2.0227 - accuracy: 0.4651 - val_loss: 1.9578 - val_accuracy: 0.4948\n",
            "Epoch 6/20\n",
            "469/469 [==============================] - 5s 10ms/step - loss: 1.8956 - accuracy: 0.5176 - val_loss: 1.8141 - val_accuracy: 0.5478\n",
            "Epoch 7/20\n",
            "469/469 [==============================] - 5s 10ms/step - loss: 1.7408 - accuracy: 0.5685 - val_loss: 1.6442 - val_accuracy: 0.6056\n",
            "Epoch 8/20\n",
            "469/469 [==============================] - 5s 10ms/step - loss: 1.5715 - accuracy: 0.6083 - val_loss: 1.4751 - val_accuracy: 0.6250\n",
            "Epoch 9/20\n",
            "469/469 [==============================] - 5s 10ms/step - loss: 1.4041 - accuracy: 0.6406 - val_loss: 1.3123 - val_accuracy: 0.6581\n",
            "Epoch 10/20\n",
            "469/469 [==============================] - 5s 10ms/step - loss: 1.2612 - accuracy: 0.6599 - val_loss: 1.1818 - val_accuracy: 0.6789\n",
            "Epoch 11/20\n",
            "469/469 [==============================] - 5s 10ms/step - loss: 1.1435 - accuracy: 0.6829 - val_loss: 1.0649 - val_accuracy: 0.6978\n",
            "Epoch 12/20\n",
            "469/469 [==============================] - 5s 10ms/step - loss: 1.0516 - accuracy: 0.6987 - val_loss: 0.9965 - val_accuracy: 0.7081\n",
            "Epoch 13/20\n",
            "469/469 [==============================] - 5s 10ms/step - loss: 0.9767 - accuracy: 0.7158 - val_loss: 0.9311 - val_accuracy: 0.7256\n",
            "Epoch 14/20\n",
            "469/469 [==============================] - 5s 10ms/step - loss: 0.9162 - accuracy: 0.7282 - val_loss: 0.8718 - val_accuracy: 0.7430\n",
            "Epoch 15/20\n",
            "469/469 [==============================] - 5s 10ms/step - loss: 0.8681 - accuracy: 0.7389 - val_loss: 0.8227 - val_accuracy: 0.7496\n",
            "Epoch 16/20\n",
            "469/469 [==============================] - 5s 10ms/step - loss: 0.8286 - accuracy: 0.7498 - val_loss: 0.7829 - val_accuracy: 0.7640\n",
            "Epoch 17/20\n",
            "469/469 [==============================] - 5s 10ms/step - loss: 0.7925 - accuracy: 0.7594 - val_loss: 0.7586 - val_accuracy: 0.7682\n",
            "Epoch 18/20\n",
            "469/469 [==============================] - 5s 10ms/step - loss: 0.7612 - accuracy: 0.7693 - val_loss: 0.7287 - val_accuracy: 0.7804\n",
            "Epoch 19/20\n",
            "469/469 [==============================] - 5s 10ms/step - loss: 0.7324 - accuracy: 0.7802 - val_loss: 0.6982 - val_accuracy: 0.7856\n",
            "Epoch 20/20\n",
            "469/469 [==============================] - 5s 10ms/step - loss: 0.7098 - accuracy: 0.7830 - val_loss: 0.6734 - val_accuracy: 0.7958\n"
          ],
          "name": "stdout"
        }
      ]
    },
    {
      "cell_type": "code",
      "metadata": {
        "id": "uucOvZyatVzc",
        "outputId": "ccf5354c-472a-48b0-ea7e-81444ff8a976",
        "colab": {
          "base_uri": "https://localhost:8080/",
          "height": 299
        }
      },
      "source": [
        "plot_train_validation(h_mc, \"loss\")"
      ],
      "execution_count": 15,
      "outputs": [
        {
          "output_type": "display_data",
          "data": {
            "image/png": "[encoded data removed]",
            "text/plain": [
              "<Figure size 432x288 with 1 Axes>"
            ]
          },
          "metadata": {
            "tags": [],
            "needs_background": "light"
          }
        }
      ]
    },
    {
      "cell_type": "code",
      "metadata": {
        "id": "O1GwBA6ItWVX",
        "outputId": "d34c92c8-afdb-451e-c43d-84486a8b8517",
        "colab": {
          "base_uri": "https://localhost:8080/",
          "height": 299
        }
      },
      "source": [
        "plot_train_validation(h_mc, \"accuracy\")"
      ],
      "execution_count": 16,
      "outputs": [
        {
          "output_type": "display_data",
          "data": {
            "image/png": "[encoded data removed]",
            "text/plain": [
              "<Figure size 432x288 with 1 Axes>"
            ]
          },
          "metadata": {
            "tags": [],
            "needs_background": "light"
          }
        }
      ]
    },
    {
      "cell_type": "code",
      "metadata": {
        "id": "nkx2TIeIqOGS",
        "outputId": "3525027d-0502-4d94-fb7c-cbea29bfa7ed",
        "colab": {
          "base_uri": "https://localhost:8080/",
          "height": 34
        }
      },
      "source": [
        "import tqdm\n",
        "\n",
        "mc_predictions = []\n",
        "for i in tqdm.tqdm(range(500)):\n",
        "    y_p = mc_model.predict(x_test, batch_size=1000)\n",
        "    mc_predictions.append(y_p)"
      ],
      "execution_count": 17,
      "outputs": [
        {
          "output_type": "stream",
          "text": [
            "100%|██████████| 500/500 [01:28<00:00,  5.65it/s]\n"
          ],
          "name": "stderr"
        }
      ]
    },
    {
      "cell_type": "code",
      "metadata": {
        "id": "xN2mOrPFqPp9",
        "outputId": "ddeae1b6-e034-42d1-fc42-d52130ed632c",
        "colab": {
          "base_uri": "https://localhost:8080/",
          "height": 34
        }
      },
      "source": [
        "# score of the mc model\n",
        "accs = []\n",
        "for y_p in mc_predictions:\n",
        "    acc = accuracy_score(y_test.argmax(axis=1), y_p.argmax(axis=1))\n",
        "    accs.append(acc)\n",
        "print(\"MC accuracy: {:.1%}\".format(sum(accs)/len(accs)))"
      ],
      "execution_count": 18,
      "outputs": [
        {
          "output_type": "stream",
          "text": [
            "MC accuracy: 79.4%\n"
          ],
          "name": "stdout"
        }
      ]
    },
    {
      "cell_type": "code",
      "metadata": {
        "id": "bEO-8Wz6qSOJ",
        "outputId": "7e53c447-eb84-4736-cef3-591483a6104a",
        "colab": {
          "base_uri": "https://localhost:8080/",
          "height": 34
        }
      },
      "source": [
        "mc_ensemble_pred = np.array(mc_predictions).mean(axis=0).argmax(axis=1)\n",
        "ensemble_acc = accuracy_score(y_test.argmax(axis=1), mc_ensemble_pred)\n",
        "print(\"MC-ensemble accuracy: {:.1%}\".format(ensemble_acc))"
      ],
      "execution_count": 19,
      "outputs": [
        {
          "output_type": "stream",
          "text": [
            "MC-ensemble accuracy: 87.2%\n"
          ],
          "name": "stdout"
        }
      ]
    },
    {
      "cell_type": "code",
      "metadata": {
        "id": "h6myvS2vqXaO",
        "outputId": "1f3d1886-41cd-4c2c-a431-e6e86c6cb5f6",
        "colab": {
          "base_uri": "https://localhost:8080/",
          "height": 282
        }
      },
      "source": [
        "plt.hist(accs)\n",
        "plt.axvline(x=ensemble_acc, color=\"b\")"
      ],
      "execution_count": 20,
      "outputs": [
        {
          "output_type": "execute_result",
          "data": {
            "text/plain": [
              "<matplotlib.lines.Line2D at 0x7f04d21460f0>"
            ]
          },
          "metadata": {
            "tags": []
          },
          "execution_count": 20
        },
        {
          "output_type": "display_data",
          "data": {
            "image/png": "[encoded data removed]",
            "text/plain": [
              "<Figure size 432x288 with 1 Axes>"
            ]
          },
          "metadata": {
            "tags": [],
            "needs_background": "light"
          }
        }
      ]
    },
    {
      "cell_type": "code",
      "metadata": {
        "id": "oHpqlqxwqcGI",
        "outputId": "921ebb1b-0856-4498-837d-119cac979873",
        "colab": {
          "base_uri": "https://localhost:8080/",
          "height": 282
        }
      },
      "source": [
        "idx = 240\n",
        "plt.imshow(x_test[idx][:,:,0])"
      ],
      "execution_count": 37,
      "outputs": [
        {
          "output_type": "execute_result",
          "data": {
            "text/plain": [
              "<matplotlib.image.AxesImage at 0x7f04d20c0588>"
            ]
          },
          "metadata": {
            "tags": []
          },
          "execution_count": 37
        },
        {
          "output_type": "display_data",
          "data": {
            "image/png": "[encoded data removed]",
            "text/plain": [
              "<Figure size 432x288 with 1 Axes>"
            ]
          },
          "metadata": {
            "tags": [],
            "needs_background": "light"
          }
        }
      ]
    },
    {
      "cell_type": "code",
      "metadata": {
        "id": "vfnyFLHDqd7b",
        "outputId": "fef66a07-9f83-46ef-eaaf-c3bf7dc3432e",
        "colab": {
          "base_uri": "https://localhost:8080/",
          "height": 244
        }
      },
      "source": [
        "p0 = np.array([p[idx] for p in mc_predictions])\n",
        "print(\"posterior mean: {}\".format(p0.mean(axis=0).argmax()))\n",
        "print(\"true label: {}\".format(y_test[idx].argmax()))\n",
        "print()\n",
        "# probability + variance\n",
        "for i, (prob, var) in enumerate(zip(p0.mean(axis=0), p0.std(axis=0))):\n",
        "    print(\"class: {}; proba: {:.1%}; var: {:.2%} \".format(i, prob, var))"
      ],
      "execution_count": 38,
      "outputs": [
        {
          "output_type": "stream",
          "text": [
            "posterior mean: 5\n",
            "true label: 5\n",
            "\n",
            "class: 0; proba: 2.3%; var: 3.87% \n",
            "class: 1; proba: 0.7%; var: 1.29% \n",
            "class: 2; proba: 1.0%; var: 1.73% \n",
            "class: 3; proba: 25.2%; var: 16.42% \n",
            "class: 4; proba: 0.3%; var: 0.39% \n",
            "class: 5; proba: 47.4%; var: 20.34% \n",
            "class: 6; proba: 3.0%; var: 3.37% \n",
            "class: 7; proba: 0.3%; var: 0.56% \n",
            "class: 8; proba: 18.9%; var: 15.09% \n",
            "class: 9; proba: 1.1%; var: 1.94% \n"
          ],
          "name": "stdout"
        }
      ]
    },
    {
      "cell_type": "code",
      "metadata": {
        "id": "iaGEw6nlqgk0",
        "outputId": "e99b892a-2b84-4643-d0b9-67204b4970d2",
        "colab": {
          "base_uri": "https://localhost:8080/",
          "height": 282
        }
      },
      "source": [
        "x, y = list(range(len(p0.mean(axis=0)))), p0.mean(axis=0)\n",
        "plt.plot(x, y)"
      ],
      "execution_count": 39,
      "outputs": [
        {
          "output_type": "execute_result",
          "data": {
            "text/plain": [
              "[<matplotlib.lines.Line2D at 0x7f04aea09c18>]"
            ]
          },
          "metadata": {
            "tags": []
          },
          "execution_count": 39
        },
        {
          "output_type": "display_data",
          "data": {
            "image/png": "[encoded data removed]",
            "text/plain": [
              "<Figure size 432x288 with 1 Axes>"
            ]
          },
          "metadata": {
            "tags": [],
            "needs_background": "light"
          }
        }
      ]
    },
    {
      "cell_type": "code",
      "metadata": {
        "id": "sGZt_b1TqiQh",
        "outputId": "8078e349-407f-41b8-f216-1830edd9bff1",
        "colab": {
          "base_uri": "https://localhost:8080/",
          "height": 717
        }
      },
      "source": [
        "fig, axes = plt.subplots(5, 2, figsize=(12,12))\n",
        "\n",
        "for i, ax in enumerate(fig.get_axes()):\n",
        "    ax.hist(p0[:,i], bins=100, range=(0,1))\n",
        "    ax.set_title(f\"class {i}\")\n",
        "    ax.label_outer()"
      ],
      "execution_count": 40,
      "outputs": [
        {
          "output_type": "display_data",
          "data": {
            "image/png": "[encoded data removed]",
            "text/plain": [
              "<Figure size 864x864 with 10 Axes>"
            ]
          },
          "metadata": {
            "tags": [],
            "needs_background": "light"
          }
        }
      ]
    },
    {
      "cell_type": "code",
      "metadata": {
        "id": "UebGG4FFqkTs"
      },
      "source": [
        "max_means = []\n",
        "preds = []\n",
        "for idx in range(len(mc_predictions)):\n",
        "    px = np.array([p[idx] for p in mc_predictions])\n",
        "    preds.append(px.mean(axis=0).argmax())\n",
        "    max_means.append(px.mean(axis=0).max())"
      ],
      "execution_count": 41,
      "outputs": []
    },
    {
      "cell_type": "code",
      "metadata": {
        "id": "9HKmuXlcqmcn",
        "outputId": "d2954309-9234-450d-bffd-de1b0cfc1afc",
        "colab": {
          "base_uri": "https://localhost:8080/",
          "height": 34
        }
      },
      "source": [
        "(np.array(max_means)).argsort()[:10]"
      ],
      "execution_count": 42,
      "outputs": [
        {
          "output_type": "execute_result",
          "data": {
            "text/plain": [
              "array([483, 195,  96, 149, 191, 478, 175, 167,  92, 346])"
            ]
          },
          "metadata": {
            "tags": []
          },
          "execution_count": 42
        }
      ]
    },
    {
      "cell_type": "code",
      "metadata": {
        "id": "nKKXAC8iqnbD",
        "outputId": "14f5deaf-5f72-4318-a38f-05147251da87",
        "colab": {
          "base_uri": "https://localhost:8080/",
          "height": 282
        }
      },
      "source": [
        "plt.imshow(x_test[96][:,:,0])"
      ],
      "execution_count": 47,
      "outputs": [
        {
          "output_type": "execute_result",
          "data": {
            "text/plain": [
              "<matplotlib.image.AxesImage at 0x7f04e00fcac8>"
            ]
          },
          "metadata": {
            "tags": []
          },
          "execution_count": 47
        },
        {
          "output_type": "display_data",
          "data": {
            "image/png": "[encoded data removed]",
            "text/plain": [
              "<Figure size 432x288 with 1 Axes>"
            ]
          },
          "metadata": {
            "tags": [],
            "needs_background": "light"
          }
        }
      ]
    },
    {
      "cell_type": "code",
      "metadata": {
        "id": "RSLwrUjHqpoA"
      },
      "source": [
        "max_vars = []\n",
        "for idx in range(len(mc_predictions)):\n",
        "    px = np.array([p[idx] for p in mc_predictions])\n",
        "    max_vars.append(px.std(axis=0)[px.mean(axis=0).argmax()])"
      ],
      "execution_count": 28,
      "outputs": []
    },
    {
      "cell_type": "code",
      "metadata": {
        "id": "Vq14yMjSqrWk",
        "outputId": "b0503e23-1bbe-4503-9d86-d96173a3b362",
        "colab": {
          "base_uri": "https://localhost:8080/",
          "height": 34
        }
      },
      "source": [
        "(-np.array(max_vars)).argsort()[:10]"
      ],
      "execution_count": 29,
      "outputs": [
        {
          "output_type": "execute_result",
          "data": {
            "text/plain": [
              "array([200, 222, 186, 291, 412, 406, 172,  48, 277, 126])"
            ]
          },
          "metadata": {
            "tags": []
          },
          "execution_count": 29
        }
      ]
    },
    {
      "cell_type": "code",
      "metadata": {
        "id": "FOqasRD5qsv3",
        "outputId": "7807995f-d474-4e33-a4fc-c90994293c47",
        "colab": {
          "base_uri": "https://localhost:8080/",
          "height": 282
        }
      },
      "source": [
        "plt.imshow(x_test[222][:,:,0])"
      ],
      "execution_count": 45,
      "outputs": [
        {
          "output_type": "execute_result",
          "data": {
            "text/plain": [
              "<matplotlib.image.AxesImage at 0x7f04af4e7b70>"
            ]
          },
          "metadata": {
            "tags": []
          },
          "execution_count": 45
        },
        {
          "output_type": "display_data",
          "data": {
            "image/png": "[encoded data removed]",
            "text/plain": [
              "<Figure size 432x288 with 1 Axes>"
            ]
          },
          "metadata": {
            "tags": [],
            "needs_background": "light"
          }
        }
      ]
    },
    {
      "cell_type": "code",
      "metadata": {
        "id": "Cta7v7U3qu7t"
      },
      "source": [
        "random_img = np.random.random(input_shape)"
      ],
      "execution_count": 48,
      "outputs": []
    },
    {
      "cell_type": "code",
      "metadata": {
        "id": "Khz_b4buq5FV",
        "outputId": "04a25bea-5790-4cb6-e1db-e0dcdaef44d9",
        "colab": {
          "base_uri": "https://localhost:8080/",
          "height": 265
        }
      },
      "source": [
        "plt.imshow(random_img[:,:,0]);"
      ],
      "execution_count": 49,
      "outputs": [
        {
          "output_type": "display_data",
          "data": {
            "image/png": "[encoded data removed]",
            "text/plain": [
              "<Figure size 432x288 with 1 Axes>"
            ]
          },
          "metadata": {
            "tags": [],
            "needs_background": "light"
          }
        }
      ]
    },
    {
      "cell_type": "code",
      "metadata": {
        "id": "-Ofqa1h6q6CU",
        "outputId": "1d1e1665-fac2-4090-c185-bea2885f1adc",
        "colab": {
          "base_uri": "https://localhost:8080/",
          "height": 34
        }
      },
      "source": [
        "random_predictions = []\n",
        "for i in tqdm.tqdm(range(500)):\n",
        "    y_p = mc_model.predict(np.array([random_img]))\n",
        "    random_predictions.append(y_p)"
      ],
      "execution_count": 50,
      "outputs": [
        {
          "output_type": "stream",
          "text": [
            "100%|██████████| 500/500 [00:15<00:00, 32.07it/s]\n"
          ],
          "name": "stderr"
        }
      ]
    },
    {
      "cell_type": "code",
      "metadata": {
        "id": "GcxDanEjq7fx",
        "outputId": "f251c099-1509-4eea-8aac-4629188f2cf5",
        "colab": {
          "base_uri": "https://localhost:8080/",
          "height": 226
        }
      },
      "source": [
        "p0 = np.array([p[0] for p in random_predictions])\n",
        "print(\"posterior mean: {}\".format(p0.mean(axis=0).argmax()))\n",
        "print()\n",
        "# probability + variance\n",
        "for i, (prob, var) in enumerate(zip(p0.mean(axis=0), p0.std(axis=0))):\n",
        "    print(\"class: {}; proba: {:.1%}; var: {:.2%} \".format(i, prob, var))"
      ],
      "execution_count": 51,
      "outputs": [
        {
          "output_type": "stream",
          "text": [
            "posterior mean: 2\n",
            "\n",
            "class: 0; proba: 6.7%; var: 11.19% \n",
            "class: 1; proba: 0.1%; var: 0.15% \n",
            "class: 2; proba: 58.4%; var: 28.07% \n",
            "class: 3; proba: 17.8%; var: 18.80% \n",
            "class: 4; proba: 0.2%; var: 0.48% \n",
            "class: 5; proba: 12.3%; var: 16.17% \n",
            "class: 6; proba: 1.3%; var: 3.09% \n",
            "class: 7; proba: 0.3%; var: 0.87% \n",
            "class: 8; proba: 2.7%; var: 5.18% \n",
            "class: 9; proba: 0.1%; var: 0.23% \n"
          ],
          "name": "stdout"
        }
      ]
    },
    {
      "cell_type": "code",
      "metadata": {
        "id": "rjzCDeMLq82Y",
        "outputId": "6a2955ab-411f-44ec-898d-ad25017f7561",
        "colab": {
          "base_uri": "https://localhost:8080/",
          "height": 282
        }
      },
      "source": [
        "x, y = list(range(len(p0.mean(axis=0)))), p0.mean(axis=0)\n",
        "plt.plot(x, y)"
      ],
      "execution_count": 52,
      "outputs": [
        {
          "output_type": "execute_result",
          "data": {
            "text/plain": [
              "[<matplotlib.lines.Line2D at 0x7f044af28080>]"
            ]
          },
          "metadata": {
            "tags": []
          },
          "execution_count": 52
        },
        {
          "output_type": "display_data",
          "data": {
            "image/png": "[encoded data removed]",
            "text/plain": [
              "<Figure size 432x288 with 1 Axes>"
            ]
          },
          "metadata": {
            "tags": [],
            "needs_background": "light"
          }
        }
      ]
    },
    {
      "cell_type": "code",
      "metadata": {
        "id": "H8JGSP8Qq-oX",
        "outputId": "f0cec0e6-c338-4c52-9d14-76b897a53a76",
        "colab": {
          "base_uri": "https://localhost:8080/",
          "height": 717
        }
      },
      "source": [
        "fig, axes = plt.subplots(5, 2, figsize=(12,12))\n",
        "\n",
        "for i, ax in enumerate(fig.get_axes()):\n",
        "    ax.hist(p0[:,i], bins=100, range=(0,1))\n",
        "    ax.set_title(f\"class {i}\")\n",
        "    ax.label_outer()"
      ],
      "execution_count": 53,
      "outputs": [
        {
          "output_type": "display_data",
          "data": {
            "image/png": "[encoded data removed]",
            "text/plain": [
              "<Figure size 864x864 with 10 Axes>"
            ]
          },
          "metadata": {
            "tags": [],
            "needs_background": "light"
          }
        }
      ]
    },
    {
      "cell_type": "code",
      "metadata": {
        "id": "Ww9Qusrizfrr"
      },
      "source": [
        ""
      ],
      "execution_count": null,
      "outputs": []
    },
    {
      "cell_type": "code",
      "metadata": {
        "id": "g_3U2j7uzqy6"
      },
      "source": [
        ""
      ],
      "execution_count": null,
      "outputs": []
    },
    {
      "cell_type": "markdown",
      "metadata": {
        "id": "nsCJdDOjzq5a"
      },
      "source": [
        "## Test out non-MC model and test if it can be converted to MC"
      ]
    },
    {
      "cell_type": "code",
      "metadata": {
        "id": "0GCUv0OTzua_",
        "outputId": "ce9c3446-b0b9-4d17-e75c-db84d5949941",
        "colab": {
          "base_uri": "https://localhost:8080/",
          "height": 282
        }
      },
      "source": [
        "plt.imshow(x_test[222][:,:,0])"
      ],
      "execution_count": 54,
      "outputs": [
        {
          "output_type": "execute_result",
          "data": {
            "text/plain": [
              "<matplotlib.image.AxesImage at 0x7f044b2c09b0>"
            ]
          },
          "metadata": {
            "tags": []
          },
          "execution_count": 54
        },
        {
          "output_type": "display_data",
          "data": {
            "image/png": "[encoded data removed]",
            "text/plain": [
              "<Figure size 432x288 with 1 Axes>"
            ]
          },
          "metadata": {
            "tags": [],
            "needs_background": "light"
          }
        }
      ]
    },
    {
      "cell_type": "code",
      "metadata": {
        "id": "LxiC1hnT0AYL",
        "outputId": "d4648f0b-3861-4035-f279-9341000a1456",
        "colab": {
          "base_uri": "https://localhost:8080/",
          "height": 34
        }
      },
      "source": [
        "model.predict(np.expand_dims(x_test[222], axis=0), batch_size=1).argmax()"
      ],
      "execution_count": 64,
      "outputs": [
        {
          "output_type": "execute_result",
          "data": {
            "text/plain": [
              "2"
            ]
          },
          "metadata": {
            "tags": []
          },
          "execution_count": 64
        }
      ]
    },
    {
      "cell_type": "code",
      "metadata": {
        "id": "VcDLWmO42dYi",
        "outputId": "e231199d-4d73-467c-f888-4bfb508fbab8",
        "colab": {
          "base_uri": "https://localhost:8080/",
          "height": 34
        }
      },
      "source": [
        "mc_model.predict(np.expand_dims(x_test[222], axis=0), batch_size=1).argmax()"
      ],
      "execution_count": 79,
      "outputs": [
        {
          "output_type": "execute_result",
          "data": {
            "text/plain": [
              "6"
            ]
          },
          "metadata": {
            "tags": []
          },
          "execution_count": 79
        }
      ]
    },
    {
      "cell_type": "code",
      "metadata": {
        "id": "S7LOFX790HYL",
        "outputId": "f09657d9-8a67-40f0-f485-64f17ca0d8a7",
        "colab": {
          "base_uri": "https://localhost:8080/",
          "height": 34
        }
      },
      "source": [
        "from keras.models import clone_model\n",
        "model2 = clone_model(model)\n",
        "model2.set_weights(model.get_weights())\n",
        "model2.predict(np.expand_dims(x_test[222], axis=0), batch_size=1).argmax()"
      ],
      "execution_count": 65,
      "outputs": [
        {
          "output_type": "execute_result",
          "data": {
            "text/plain": [
              "2"
            ]
          },
          "metadata": {
            "tags": []
          },
          "execution_count": 65
        }
      ]
    },
    {
      "cell_type": "code",
      "metadata": {
        "id": "J6RrEZxA1Nli",
        "outputId": "0cf06957-f109-43a7-925e-4b31d07b1820",
        "colab": {
          "base_uri": "https://localhost:8080/",
          "height": 34
        }
      },
      "source": [
        "layers = [l for l in model.layers]\n",
        "x = layers[0].output\n",
        "for i in range(1, len(layers)):\n",
        "    if isinstance(layers[i], Dropout):\n",
        "        x = Dropout(layers[i].rate)(x, training=True)\n",
        "    else:\n",
        "        x = layers[i](x)\n",
        "        \n",
        "model3 = Model(inputs=layers[0].input, outputs=x)\n",
        "model3.set_weights(model.get_weights())\n",
        "model3.predict(np.expand_dims(x_test[222], axis=0), batch_size=1).argmax()"
      ],
      "execution_count": 82,
      "outputs": [
        {
          "output_type": "execute_result",
          "data": {
            "text/plain": [
              "2"
            ]
          },
          "metadata": {
            "tags": []
          },
          "execution_count": 82
        }
      ]
    },
    {
      "cell_type": "code",
      "metadata": {
        "id": "sDns_tB51qbt",
        "outputId": "f39d7b6c-b98b-405e-d5b9-6ae9e5d6982a",
        "colab": {
          "base_uri": "https://localhost:8080/",
          "height": 34
        }
      },
      "source": [
        "model3.predict(np.expand_dims(x_test[222], axis=0), batch_size=1).argmax()"
      ],
      "execution_count": 91,
      "outputs": [
        {
          "output_type": "execute_result",
          "data": {
            "text/plain": [
              "0"
            ]
          },
          "metadata": {
            "tags": []
          },
          "execution_count": 91
        }
      ]
    },
    {
      "cell_type": "code",
      "metadata": {
        "id": "i-MkJ2zx6L07",
        "outputId": "be8720e7-7dd3-45a6-9ab4-0a41afcfeeb3",
        "colab": {
          "base_uri": "https://localhost:8080/",
          "height": 34
        }
      },
      "source": [
        "import tqdm\n",
        "\n",
        "mc_predictions = []\n",
        "for i in tqdm.tqdm(range(500)):\n",
        "    y_p = model3.predict(x_test, batch_size=1000)\n",
        "    mc_predictions.append(y_p)"
      ],
      "execution_count": 92,
      "outputs": [
        {
          "output_type": "stream",
          "text": [
            "100%|██████████| 500/500 [01:28<00:00,  5.66it/s]\n"
          ],
          "name": "stderr"
        }
      ]
    },
    {
      "cell_type": "code",
      "metadata": {
        "id": "WFzyPY4M6VK8",
        "outputId": "1384cedc-351b-4caa-8693-e5437414e177",
        "colab": {
          "base_uri": "https://localhost:8080/",
          "height": 34
        }
      },
      "source": [
        "# score of the mc model\n",
        "accs = []\n",
        "for y_p in mc_predictions:\n",
        "    acc = accuracy_score(y_test.argmax(axis=1), y_p.argmax(axis=1))\n",
        "    accs.append(acc)\n",
        "print(\"MC accuracy: {:.1%}\".format(sum(accs)/len(accs)))"
      ],
      "execution_count": 93,
      "outputs": [
        {
          "output_type": "stream",
          "text": [
            "MC accuracy: 78.2%\n"
          ],
          "name": "stdout"
        }
      ]
    },
    {
      "cell_type": "code",
      "metadata": {
        "id": "jzd__QxH6U3i",
        "outputId": "c50cb9d0-d97f-415b-9924-78b779759e65",
        "colab": {
          "base_uri": "https://localhost:8080/",
          "height": 34
        }
      },
      "source": [
        "mc_ensemble_pred = np.array(mc_predictions).mean(axis=0).argmax(axis=1)\n",
        "ensemble_acc = accuracy_score(y_test.argmax(axis=1), mc_ensemble_pred)\n",
        "print(\"MC-ensemble accuracy: {:.1%}\".format(ensemble_acc))"
      ],
      "execution_count": 94,
      "outputs": [
        {
          "output_type": "stream",
          "text": [
            "MC-ensemble accuracy: 86.3%\n"
          ],
          "name": "stdout"
        }
      ]
    },
    {
      "cell_type": "code",
      "metadata": {
        "id": "JyCP1ZpB7gp9"
      },
      "source": [
        ""
      ],
      "execution_count": null,
      "outputs": []
    }
  ]
}