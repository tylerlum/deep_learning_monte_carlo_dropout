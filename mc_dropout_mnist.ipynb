{
  "nbformat": 4,
  "nbformat_minor": 0,
  "metadata": {
    "colab": {
      "name": "mc_dropout_mnist.ipynb",
      "provenance": [],
      "authorship_tag": "ABX9TyO4H0wNjXYnSe/hqo0LnQ1z",
      "include_colab_link": true
    },
    "kernelspec": {
      "name": "python3",
      "display_name": "Python 3"
    },
    "accelerator": "GPU"
  },
  "cells": [
    {
      "cell_type": "markdown",
      "metadata": {
        "id": "view-in-github",
        "colab_type": "text"
      },
      "source": [
        "<a href=\"https://colab.research.google.com/github/tylerlum/deep_learning_monte_carlo_dropout/blob/main/mc_dropout_mnist.ipynb\" target=\"_parent\"><img src=\"https://colab.research.google.com/assets/colab-badge.svg\" alt=\"Open In Colab\"/></a>"
      ]
    },
    {
      "cell_type": "markdown",
      "metadata": {
        "id": "BbtlTbE4xpW6"
      },
      "source": [
        "# Monte Carlo Dropout on MNIST\n",
        "\n",
        "Reference:\n",
        "https://www.depends-on-the-definition.com/model-uncertainty-in-deep-learning-with-monte-carlo-dropout/#2-selection-by-variance"
      ]
    },
    {
      "cell_type": "code",
      "metadata": {
        "id": "FRSSPjyypg5z"
      },
      "source": [
        "from __future__ import print_function\n",
        "import keras\n",
        "from keras.datasets import mnist\n",
        "from keras.models import Sequential, Model, Input\n",
        "from keras.layers import Dense, Dropout, Flatten, SpatialDropout2D, SpatialDropout1D, AlphaDropout\n",
        "from keras.layers import Conv2D, MaxPooling2D\n",
        "from keras import backend as K\n",
        "\n",
        "import numpy as np\n",
        "import pandas as pd\n",
        "from sklearn.metrics import accuracy_score\n",
        "\n",
        "import matplotlib.pyplot as plt\n",
        "plt.style.use(\"ggplot\")\n",
        "%matplotlib inline"
      ],
      "execution_count": null,
      "outputs": []
    },
    {
      "cell_type": "markdown",
      "metadata": {
        "id": "uKP2iNUGMyId"
      },
      "source": [
        "## Setup train/test datasets"
      ]
    },
    {
      "cell_type": "code",
      "metadata": {
        "id": "DL7Nx2ALplZz"
      },
      "source": [
        "batch_size = 128\n",
        "num_classes = 10\n",
        "epochs = 20\n",
        "\n",
        "# input image dimensions\n",
        "img_rows, img_cols = 28, 28"
      ],
      "execution_count": null,
      "outputs": []
    },
    {
      "cell_type": "code",
      "metadata": {
        "id": "8IcmK8-Rp6vm"
      },
      "source": [
        "# the data, split between train and test sets\n",
        "(x_train, y_train), (x_test, y_test) = mnist.load_data()"
      ],
      "execution_count": null,
      "outputs": []
    },
    {
      "cell_type": "code",
      "metadata": {
        "id": "pVkUNnhRp8PD"
      },
      "source": [
        "if K.image_data_format() == 'channels_first':\n",
        "    x_train = x_train.reshape(x_train.shape[0], 1, img_rows, img_cols)\n",
        "    x_test = x_test.reshape(x_test.shape[0], 1, img_rows, img_cols)\n",
        "    input_shape = (1, img_rows, img_cols)\n",
        "else:\n",
        "    x_train = x_train.reshape(x_train.shape[0], img_rows, img_cols, 1)\n",
        "    x_test = x_test.reshape(x_test.shape[0], img_rows, img_cols, 1)\n",
        "    input_shape = (img_rows, img_cols, 1)"
      ],
      "execution_count": null,
      "outputs": []
    },
    {
      "cell_type": "code",
      "metadata": {
        "id": "c0rDhZOOp9w6",
        "outputId": "85d53eb2-b197-422b-9313-235d619092e5",
        "colab": {
          "base_uri": "https://localhost:8080/",
          "height": 71
        }
      },
      "source": [
        "x_train = x_train.astype('float32')\n",
        "x_test = x_test.astype('float32')\n",
        "x_train /= 255\n",
        "x_test /= 255\n",
        "print('x_train shape:', x_train.shape)\n",
        "print(x_train.shape[0], 'train samples')\n",
        "print(x_test.shape[0], 'test samples')"
      ],
      "execution_count": null,
      "outputs": [
        {
          "output_type": "stream",
          "text": [
            "x_train shape: (60000, 28, 28, 1)\n",
            "60000 train samples\n",
            "10000 test samples\n"
          ],
          "name": "stdout"
        }
      ]
    },
    {
      "cell_type": "code",
      "metadata": {
        "id": "evEfJ7PBqAbP"
      },
      "source": [
        "# convert class vectors to binary class matrices\n",
        "y_train = keras.utils.to_categorical(y_train, num_classes)\n",
        "y_test = keras.utils.to_categorical(y_test, num_classes)"
      ],
      "execution_count": null,
      "outputs": []
    },
    {
      "cell_type": "markdown",
      "metadata": {
        "id": "0t2GqzzoM5Iz"
      },
      "source": [
        "## Setup regular model and MC model"
      ]
    },
    {
      "cell_type": "code",
      "metadata": {
        "id": "zNC4-tjlqCZd"
      },
      "source": [
        "def get_dropout(input_tensor, p=0.5, mc=False):\n",
        "    if mc:\n",
        "        return Dropout(p)(input_tensor, training=True)\n",
        "    else:\n",
        "        return Dropout(p)(input_tensor)\n",
        "\n",
        "\n",
        "def get_model(mc=False, act=\"relu\"):\n",
        "    inp = Input(input_shape)\n",
        "    x = Conv2D(32, kernel_size=(3, 3), activation=act)(inp)\n",
        "    x = Conv2D(64, kernel_size=(3, 3), activation=act)(x)\n",
        "    x = MaxPooling2D(pool_size=(2, 2))(x)\n",
        "    x = get_dropout(x, p=0.25, mc=mc)\n",
        "    x = Flatten()(x)\n",
        "    x = Dense(128, activation=act)(x)\n",
        "    x = get_dropout(x, p=0.5, mc=mc)\n",
        "    out = Dense(num_classes, activation='softmax')(x)\n",
        "    model = Model(inputs=inp, outputs=out)\n",
        "\n",
        "    model.compile(loss=keras.losses.categorical_crossentropy,\n",
        "                  optimizer=keras.optimizers.Adadelta(learning_rate=0.005),\n",
        "                  metrics=['accuracy'])\n",
        "    return model"
      ],
      "execution_count": null,
      "outputs": []
    },
    {
      "cell_type": "code",
      "metadata": {
        "id": "18gwCGvkqDbL"
      },
      "source": [
        "model = get_model(mc=False, act=\"relu\")\n",
        "mc_model = get_model(mc=True, act=\"relu\")"
      ],
      "execution_count": null,
      "outputs": []
    },
    {
      "cell_type": "markdown",
      "metadata": {
        "id": "X-a9BLesNNpl"
      },
      "source": [
        "## Train and evaluate regular model"
      ]
    },
    {
      "cell_type": "code",
      "metadata": {
        "id": "abq84XFEqGpY",
        "outputId": "375db23e-c963-4f09-cf1c-2787a201bd88",
        "colab": {
          "base_uri": "https://localhost:8080/",
          "height": 737
        }
      },
      "source": [
        "h = model.fit(x_train, y_train,\n",
        "              batch_size=batch_size,\n",
        "              epochs=epochs,\n",
        "              verbose=1,\n",
        "              validation_data=(x_test, y_test))"
      ],
      "execution_count": null,
      "outputs": [
        {
          "output_type": "stream",
          "text": [
            "Epoch 1/20\n",
            "469/469 [==============================] - 3s 6ms/step - loss: 2.1044 - accuracy: 0.3711 - val_loss: 1.6679 - val_accuracy: 0.7304\n",
            "Epoch 2/20\n",
            "469/469 [==============================] - 3s 6ms/step - loss: 1.2550 - accuracy: 0.6585 - val_loss: 0.6995 - val_accuracy: 0.8434\n",
            "Epoch 3/20\n",
            "469/469 [==============================] - 3s 6ms/step - loss: 0.7946 - accuracy: 0.7587 - val_loss: 0.4914 - val_accuracy: 0.8729\n",
            "Epoch 4/20\n",
            "469/469 [==============================] - 3s 6ms/step - loss: 0.6535 - accuracy: 0.8022 - val_loss: 0.4126 - val_accuracy: 0.8913\n",
            "Epoch 5/20\n",
            "469/469 [==============================] - 3s 6ms/step - loss: 0.5759 - accuracy: 0.8234 - val_loss: 0.3687 - val_accuracy: 0.8995\n",
            "Epoch 6/20\n",
            "469/469 [==============================] - 3s 6ms/step - loss: 0.5302 - accuracy: 0.8388 - val_loss: 0.3382 - val_accuracy: 0.9067\n",
            "Epoch 7/20\n",
            "469/469 [==============================] - 3s 6ms/step - loss: 0.4995 - accuracy: 0.8484 - val_loss: 0.3169 - val_accuracy: 0.9103\n",
            "Epoch 8/20\n",
            "469/469 [==============================] - 3s 6ms/step - loss: 0.4672 - accuracy: 0.8589 - val_loss: 0.2975 - val_accuracy: 0.9151\n",
            "Epoch 9/20\n",
            "469/469 [==============================] - 3s 6ms/step - loss: 0.4496 - accuracy: 0.8639 - val_loss: 0.2839 - val_accuracy: 0.9169\n",
            "Epoch 10/20\n",
            "469/469 [==============================] - 3s 6ms/step - loss: 0.4320 - accuracy: 0.8682 - val_loss: 0.2711 - val_accuracy: 0.9213\n",
            "Epoch 11/20\n",
            "469/469 [==============================] - 3s 6ms/step - loss: 0.4144 - accuracy: 0.8736 - val_loss: 0.2598 - val_accuracy: 0.9234\n",
            "Epoch 12/20\n",
            "469/469 [==============================] - 3s 6ms/step - loss: 0.4022 - accuracy: 0.8788 - val_loss: 0.2508 - val_accuracy: 0.9266\n",
            "Epoch 13/20\n",
            "469/469 [==============================] - 3s 6ms/step - loss: 0.3923 - accuracy: 0.8818 - val_loss: 0.2423 - val_accuracy: 0.9279\n",
            "Epoch 14/20\n",
            "469/469 [==============================] - 3s 6ms/step - loss: 0.3791 - accuracy: 0.8848 - val_loss: 0.2344 - val_accuracy: 0.9293\n",
            "Epoch 15/20\n",
            "469/469 [==============================] - 3s 6ms/step - loss: 0.3710 - accuracy: 0.8882 - val_loss: 0.2270 - val_accuracy: 0.9315\n",
            "Epoch 16/20\n",
            "469/469 [==============================] - 3s 6ms/step - loss: 0.3592 - accuracy: 0.8921 - val_loss: 0.2209 - val_accuracy: 0.9331\n",
            "Epoch 17/20\n",
            "469/469 [==============================] - 3s 6ms/step - loss: 0.3583 - accuracy: 0.8926 - val_loss: 0.2167 - val_accuracy: 0.9343\n",
            "Epoch 18/20\n",
            "469/469 [==============================] - 3s 6ms/step - loss: 0.3457 - accuracy: 0.8954 - val_loss: 0.2103 - val_accuracy: 0.9368\n",
            "Epoch 19/20\n",
            "469/469 [==============================] - 3s 6ms/step - loss: 0.3396 - accuracy: 0.8979 - val_loss: 0.2055 - val_accuracy: 0.9378\n",
            "Epoch 20/20\n",
            "469/469 [==============================] - 3s 6ms/step - loss: 0.3337 - accuracy: 0.9003 - val_loss: 0.2008 - val_accuracy: 0.9377\n"
          ],
          "name": "stdout"
        }
      ]
    },
    {
      "cell_type": "code",
      "metadata": {
        "id": "VBJ0-kissiMm"
      },
      "source": [
        "def plot_train_validation(history, plot_type):\n",
        "  plt.plot(h.history[plot_type])\n",
        "  plt.plot(h.history[f'val_{plot_type}'])\n",
        "  plt.title(f'model {plot_type}')\n",
        "  plt.ylabel(plot_type)\n",
        "  plt.xlabel('epoch')\n",
        "  plt.legend(['train', 'val'], loc='upper left')\n",
        "  plt.show()"
      ],
      "execution_count": null,
      "outputs": []
    },
    {
      "cell_type": "code",
      "metadata": {
        "id": "HxTLKUUntP8H",
        "outputId": "795153cf-fccf-4006-df5d-dbe8d0b56f3e",
        "colab": {
          "base_uri": "https://localhost:8080/",
          "height": 299
        }
      },
      "source": [
        "plot_train_validation(h, \"loss\")"
      ],
      "execution_count": null,
      "outputs": [
        {
          "output_type": "display_data",
          "data": {
            "image/png": "[encoded data removed]",
            "text/plain": [
              "<Figure size 432x288 with 1 Axes>"
            ]
          },
          "metadata": {
            "tags": [],
            "needs_background": "light"
          }
        }
      ]
    },
    {
      "cell_type": "code",
      "metadata": {
        "id": "orqB7hX9tSW-",
        "outputId": "65f4fcbf-74e0-48a9-ebea-775b71a90c69",
        "colab": {
          "base_uri": "https://localhost:8080/",
          "height": 299
        }
      },
      "source": [
        "plot_train_validation(h, \"accuracy\")"
      ],
      "execution_count": null,
      "outputs": [
        {
          "output_type": "display_data",
          "data": {
            "image/png": "[encoded data removed]",
            "text/plain": [
              "<Figure size 432x288 with 1 Axes>"
            ]
          },
          "metadata": {
            "tags": [],
            "needs_background": "light"
          }
        }
      ]
    },
    {
      "cell_type": "code",
      "metadata": {
        "id": "asc482A-qIiW",
        "outputId": "441b5512-b994-4829-9948-07db98e65c23",
        "colab": {
          "base_uri": "https://localhost:8080/",
          "height": 53
        }
      },
      "source": [
        "# score of the normal model\n",
        "score = model.evaluate(x_test, y_test, verbose=0)\n",
        "\n",
        "print('Test loss:', score[0])\n",
        "print('Test accuracy:', score[1])"
      ],
      "execution_count": null,
      "outputs": [
        {
          "output_type": "stream",
          "text": [
            "Test loss: 0.200792133808136\n",
            "Test accuracy: 0.9376999735832214\n"
          ],
          "name": "stdout"
        }
      ]
    },
    {
      "cell_type": "markdown",
      "metadata": {
        "id": "bbFN7bWdNXZ1"
      },
      "source": [
        "## Train and evaluate MC model"
      ]
    },
    {
      "cell_type": "code",
      "metadata": {
        "id": "ifrWtzuOqMsd",
        "outputId": "18301399-d247-4780-c978-16d7bbdb460b",
        "colab": {
          "base_uri": "https://localhost:8080/",
          "height": 737
        }
      },
      "source": [
        "h_mc = mc_model.fit(x_train, y_train,\n",
        "                    batch_size=batch_size,\n",
        "                    epochs=epochs,\n",
        "                    verbose=1,\n",
        "                    validation_data=(x_test, y_test))"
      ],
      "execution_count": null,
      "outputs": [
        {
          "output_type": "stream",
          "text": [
            "Epoch 1/20\n",
            "469/469 [==============================] - 3s 6ms/step - loss: 2.1509 - accuracy: 0.3238 - val_loss: 1.8886 - val_accuracy: 0.5141\n",
            "Epoch 2/20\n",
            "469/469 [==============================] - 3s 6ms/step - loss: 1.4142 - accuracy: 0.6235 - val_loss: 1.0078 - val_accuracy: 0.7020\n",
            "Epoch 3/20\n",
            "469/469 [==============================] - 3s 6ms/step - loss: 0.8602 - accuracy: 0.7394 - val_loss: 0.7242 - val_accuracy: 0.7792\n",
            "Epoch 4/20\n",
            "469/469 [==============================] - 3s 6ms/step - loss: 0.6901 - accuracy: 0.7870 - val_loss: 0.6175 - val_accuracy: 0.8116\n",
            "Epoch 5/20\n",
            "469/469 [==============================] - 3s 6ms/step - loss: 0.6092 - accuracy: 0.8108 - val_loss: 0.5604 - val_accuracy: 0.8249\n",
            "Epoch 6/20\n",
            "469/469 [==============================] - 3s 6ms/step - loss: 0.5568 - accuracy: 0.8296 - val_loss: 0.5073 - val_accuracy: 0.8438\n",
            "Epoch 7/20\n",
            "469/469 [==============================] - 3s 6ms/step - loss: 0.5163 - accuracy: 0.8414 - val_loss: 0.4879 - val_accuracy: 0.8485\n",
            "Epoch 8/20\n",
            "469/469 [==============================] - 3s 6ms/step - loss: 0.4904 - accuracy: 0.8486 - val_loss: 0.4650 - val_accuracy: 0.8562\n",
            "Epoch 9/20\n",
            "469/469 [==============================] - 3s 6ms/step - loss: 0.4678 - accuracy: 0.8569 - val_loss: 0.4369 - val_accuracy: 0.8689\n",
            "Epoch 10/20\n",
            "469/469 [==============================] - 3s 6ms/step - loss: 0.4456 - accuracy: 0.8645 - val_loss: 0.4188 - val_accuracy: 0.8710\n",
            "Epoch 11/20\n",
            "469/469 [==============================] - 3s 6ms/step - loss: 0.4307 - accuracy: 0.8699 - val_loss: 0.4049 - val_accuracy: 0.8757\n",
            "Epoch 12/20\n",
            "469/469 [==============================] - 3s 6ms/step - loss: 0.4152 - accuracy: 0.8728 - val_loss: 0.4000 - val_accuracy: 0.8797\n",
            "Epoch 13/20\n",
            "469/469 [==============================] - 3s 6ms/step - loss: 0.4033 - accuracy: 0.8773 - val_loss: 0.3801 - val_accuracy: 0.8833\n",
            "Epoch 14/20\n",
            "469/469 [==============================] - 3s 6ms/step - loss: 0.3918 - accuracy: 0.8809 - val_loss: 0.3608 - val_accuracy: 0.8915\n",
            "Epoch 15/20\n",
            "469/469 [==============================] - 3s 6ms/step - loss: 0.3825 - accuracy: 0.8845 - val_loss: 0.3638 - val_accuracy: 0.8902\n",
            "Epoch 16/20\n",
            "469/469 [==============================] - 3s 6ms/step - loss: 0.3720 - accuracy: 0.8867 - val_loss: 0.3568 - val_accuracy: 0.8913\n",
            "Epoch 17/20\n",
            "469/469 [==============================] - 3s 6ms/step - loss: 0.3632 - accuracy: 0.8895 - val_loss: 0.3450 - val_accuracy: 0.8949\n",
            "Epoch 18/20\n",
            "469/469 [==============================] - 3s 6ms/step - loss: 0.3525 - accuracy: 0.8931 - val_loss: 0.3325 - val_accuracy: 0.8976\n",
            "Epoch 19/20\n",
            "469/469 [==============================] - 3s 6ms/step - loss: 0.3445 - accuracy: 0.8961 - val_loss: 0.3319 - val_accuracy: 0.8991\n",
            "Epoch 20/20\n",
            "469/469 [==============================] - 3s 6ms/step - loss: 0.3382 - accuracy: 0.8969 - val_loss: 0.3174 - val_accuracy: 0.9044\n"
          ],
          "name": "stdout"
        }
      ]
    },
    {
      "cell_type": "code",
      "metadata": {
        "id": "uucOvZyatVzc",
        "outputId": "4298cb70-3bd3-4c72-cdc9-5499c9b486c4",
        "colab": {
          "base_uri": "https://localhost:8080/",
          "height": 299
        }
      },
      "source": [
        "plot_train_validation(h_mc, \"loss\")"
      ],
      "execution_count": null,
      "outputs": [
        {
          "output_type": "display_data",
          "data": {
            "image/png": "[encoded data removed]",
            "text/plain": [
              "<Figure size 432x288 with 1 Axes>"
            ]
          },
          "metadata": {
            "tags": [],
            "needs_background": "light"
          }
        }
      ]
    },
    {
      "cell_type": "code",
      "metadata": {
        "id": "O1GwBA6ItWVX",
        "outputId": "90721cdb-e49a-487f-cb3b-1c7430641d45",
        "colab": {
          "base_uri": "https://localhost:8080/",
          "height": 299
        }
      },
      "source": [
        "plot_train_validation(h_mc, \"accuracy\")"
      ],
      "execution_count": null,
      "outputs": [
        {
          "output_type": "display_data",
          "data": {
            "image/png": "[encoded data removed]",
            "text/plain": [
              "<Figure size 432x288 with 1 Axes>"
            ]
          },
          "metadata": {
            "tags": [],
            "needs_background": "light"
          }
        }
      ]
    },
    {
      "cell_type": "markdown",
      "metadata": {
        "id": "2G2T6WIBNaNx"
      },
      "source": [
        "## Calculate MC Dropout Predictions"
      ]
    },
    {
      "cell_type": "code",
      "metadata": {
        "id": "nkx2TIeIqOGS",
        "outputId": "f17b407b-e301-46bf-f688-0a5770f9da5e",
        "colab": {
          "base_uri": "https://localhost:8080/"
        }
      },
      "source": [
        "import tqdm\n",
        "\n",
        "mc_predictions = []\n",
        "for i in tqdm.tqdm(range(500)):\n",
        "    y_p = mc_model.predict(x_test, batch_size=1000)\n",
        "    mc_predictions.append(y_p)"
      ],
      "execution_count": null,
      "outputs": [
        {
          "output_type": "stream",
          "text": [
            "100%|██████████| 500/500 [00:46<00:00, 10.83it/s]\n"
          ],
          "name": "stderr"
        }
      ]
    },
    {
      "cell_type": "code",
      "metadata": {
        "id": "xN2mOrPFqPp9",
        "outputId": "228f845f-4c0c-4a7e-b6a9-96258beef41b",
        "colab": {
          "base_uri": "https://localhost:8080/"
        }
      },
      "source": [
        "# score of the mc model\n",
        "accs = []\n",
        "for y_p in mc_predictions:\n",
        "    acc = accuracy_score(y_test.argmax(axis=1), y_p.argmax(axis=1))\n",
        "    accs.append(acc)\n",
        "print(\"MC accuracy: {:.1%}\".format(sum(accs)/len(accs)))"
      ],
      "execution_count": null,
      "outputs": [
        {
          "output_type": "stream",
          "text": [
            "MC accuracy: 90.3%\n"
          ],
          "name": "stdout"
        }
      ]
    },
    {
      "cell_type": "code",
      "metadata": {
        "id": "bEO-8Wz6qSOJ",
        "outputId": "9bcfc4b1-ebae-4633-c4bf-e942ae53cb77",
        "colab": {
          "base_uri": "https://localhost:8080/"
        }
      },
      "source": [
        "mc_ensemble_pred = np.array(mc_predictions).mean(axis=0).argmax(axis=1)\n",
        "ensemble_acc = accuracy_score(y_test.argmax(axis=1), mc_ensemble_pred)\n",
        "print(\"MC-ensemble accuracy: {:.1%}\".format(ensemble_acc))"
      ],
      "execution_count": null,
      "outputs": [
        {
          "output_type": "stream",
          "text": [
            "MC-ensemble accuracy: 93.6%\n"
          ],
          "name": "stdout"
        }
      ]
    },
    {
      "cell_type": "code",
      "metadata": {
        "id": "h6myvS2vqXaO",
        "outputId": "00eabf2f-c5fd-455a-e76a-da9dc8c86a73",
        "colab": {
          "base_uri": "https://localhost:8080/"
        }
      },
      "source": [
        "plt.hist(accs)\n",
        "plt.axvline(x=ensemble_acc, color=\"b\")"
      ],
      "execution_count": null,
      "outputs": [
        {
          "output_type": "execute_result",
          "data": {
            "text/plain": [
              "<matplotlib.lines.Line2D at 0x7fe49e0c0fd0>"
            ]
          },
          "metadata": {
            "tags": []
          },
          "execution_count": 55
        },
        {
          "output_type": "display_data",
          "data": {
            "image/png": "[encoded data removed]",
            "text/plain": [
              "<Figure size 432x288 with 1 Axes>"
            ]
          },
          "metadata": {
            "tags": [],
            "needs_background": "light"
          }
        }
      ]
    },
    {
      "cell_type": "markdown",
      "metadata": {
        "id": "1fXpaObLNhT_"
      },
      "source": [
        "## Test MC Dropout results"
      ]
    },
    {
      "cell_type": "code",
      "metadata": {
        "id": "oHpqlqxwqcGI",
        "outputId": "c7d9c6ba-72c7-4930-cb16-e264dc162443",
        "colab": {
          "base_uri": "https://localhost:8080/"
        }
      },
      "source": [
        "idx = 240\n",
        "plt.imshow(x_test[idx][:,:,0])"
      ],
      "execution_count": null,
      "outputs": [
        {
          "output_type": "execute_result",
          "data": {
            "text/plain": [
              "<matplotlib.image.AxesImage at 0x7fe49e574400>"
            ]
          },
          "metadata": {
            "tags": []
          },
          "execution_count": 56
        },
        {
          "output_type": "display_data",
          "data": {
            "image/png": "[encoded data removed]",
            "text/plain": [
              "<Figure size 432x288 with 1 Axes>"
            ]
          },
          "metadata": {
            "tags": [],
            "needs_background": "light"
          }
        }
      ]
    },
    {
      "cell_type": "code",
      "metadata": {
        "id": "vfnyFLHDqd7b",
        "outputId": "57675dd6-f9b2-4b67-94bd-cb3b853da33f",
        "colab": {
          "base_uri": "https://localhost:8080/"
        }
      },
      "source": [
        "p0 = np.array([p[idx] for p in mc_predictions])\n",
        "print(\"posterior mean: {}\".format(p0.mean(axis=0).argmax()))\n",
        "print(\"true label: {}\".format(y_test[idx].argmax()))\n",
        "print()\n",
        "# probability + variance\n",
        "for i, (prob, var) in enumerate(zip(p0.mean(axis=0), p0.std(axis=0))):\n",
        "    print(\"class: {}; proba: {:.1%}; var: {:.2%} \".format(i, prob, var))"
      ],
      "execution_count": null,
      "outputs": [
        {
          "output_type": "stream",
          "text": [
            "posterior mean: 5\n",
            "true label: 5\n",
            "\n",
            "class: 0; proba: 0.2%; var: 1.17% \n",
            "class: 1; proba: 0.2%; var: 1.03% \n",
            "class: 2; proba: 0.1%; var: 0.38% \n",
            "class: 3; proba: 2.5%; var: 4.56% \n",
            "class: 4; proba: 0.0%; var: 0.19% \n",
            "class: 5; proba: 86.7%; var: 17.43% \n",
            "class: 6; proba: 0.6%; var: 2.92% \n",
            "class: 7; proba: 0.0%; var: 0.04% \n",
            "class: 8; proba: 9.4%; var: 15.36% \n",
            "class: 9; proba: 0.2%; var: 0.66% \n"
          ],
          "name": "stdout"
        }
      ]
    },
    {
      "cell_type": "code",
      "metadata": {
        "id": "iaGEw6nlqgk0",
        "outputId": "37992f3c-6c1b-48b9-8c5f-777409678bf4",
        "colab": {
          "base_uri": "https://localhost:8080/"
        }
      },
      "source": [
        "x, y = list(range(len(p0.mean(axis=0)))), p0.mean(axis=0)\n",
        "plt.plot(x, y)"
      ],
      "execution_count": null,
      "outputs": [
        {
          "output_type": "execute_result",
          "data": {
            "text/plain": [
              "[<matplotlib.lines.Line2D at 0x7fe42a68b0b8>]"
            ]
          },
          "metadata": {
            "tags": []
          },
          "execution_count": 58
        },
        {
          "output_type": "display_data",
          "data": {
            "image/png": "[encoded data removed]",
            "text/plain": [
              "<Figure size 432x288 with 1 Axes>"
            ]
          },
          "metadata": {
            "tags": [],
            "needs_background": "light"
          }
        }
      ]
    },
    {
      "cell_type": "code",
      "metadata": {
        "id": "sGZt_b1TqiQh",
        "outputId": "667ba86d-d807-4e18-aa9f-3bc5eff223fc",
        "colab": {
          "base_uri": "https://localhost:8080/"
        }
      },
      "source": [
        "fig, axes = plt.subplots(5, 2, figsize=(12,12))\n",
        "\n",
        "for i, ax in enumerate(fig.get_axes()):\n",
        "    ax.hist(p0[:,i], bins=100, range=(0,1))\n",
        "    ax.set_title(f\"class {i}\")\n",
        "    ax.label_outer()"
      ],
      "execution_count": null,
      "outputs": [
        {
          "output_type": "display_data",
          "data": {
            "image/png": "[encoded data removed]",
            "text/plain": [
              "<Figure size 864x864 with 10 Axes>"
            ]
          },
          "metadata": {
            "tags": [],
            "needs_background": "light"
          }
        }
      ]
    },
    {
      "cell_type": "markdown",
      "metadata": {
        "id": "NgPGsgHjNoEz"
      },
      "source": [
        "## View images with lowest probability"
      ]
    },
    {
      "cell_type": "code",
      "metadata": {
        "id": "UebGG4FFqkTs"
      },
      "source": [
        "max_means = []\n",
        "preds = []\n",
        "for idx in range(len(mc_predictions)):\n",
        "    px = np.array([p[idx] for p in mc_predictions])\n",
        "    preds.append(px.mean(axis=0).argmax())\n",
        "    max_means.append(px.mean(axis=0).max())"
      ],
      "execution_count": null,
      "outputs": []
    },
    {
      "cell_type": "code",
      "metadata": {
        "id": "9HKmuXlcqmcn",
        "outputId": "434b2f81-1f10-48d7-e83b-46522c5e93a3",
        "colab": {
          "base_uri": "https://localhost:8080/"
        }
      },
      "source": [
        "(np.array(max_means)).argsort()[:10]"
      ],
      "execution_count": null,
      "outputs": [
        {
          "output_type": "execute_result",
          "data": {
            "text/plain": [
              "array([195,  33, 149, 403, 193, 495, 406,  66, 325, 245])"
            ]
          },
          "metadata": {
            "tags": []
          },
          "execution_count": 61
        }
      ]
    },
    {
      "cell_type": "code",
      "metadata": {
        "id": "nKKXAC8iqnbD",
        "outputId": "7ffd6d91-8232-4af0-adf8-4bf51c4e0342",
        "colab": {
          "base_uri": "https://localhost:8080/"
        }
      },
      "source": [
        "plt.imshow(x_test[96][:,:,0])"
      ],
      "execution_count": null,
      "outputs": [
        {
          "output_type": "execute_result",
          "data": {
            "text/plain": [
              "<matplotlib.image.AxesImage at 0x7fe49e0cb320>"
            ]
          },
          "metadata": {
            "tags": []
          },
          "execution_count": 62
        },
        {
          "output_type": "display_data",
          "data": {
            "image/png": "[encoded data removed]",
            "text/plain": [
              "<Figure size 432x288 with 1 Axes>"
            ]
          },
          "metadata": {
            "tags": [],
            "needs_background": "light"
          }
        }
      ]
    },
    {
      "cell_type": "markdown",
      "metadata": {
        "id": "RZKWSguSN71-"
      },
      "source": [
        "## View images with highest variance"
      ]
    },
    {
      "cell_type": "code",
      "metadata": {
        "id": "RSLwrUjHqpoA"
      },
      "source": [
        "max_vars = []\n",
        "for idx in range(len(mc_predictions)):\n",
        "    px = np.array([p[idx] for p in mc_predictions])\n",
        "    max_vars.append(px.std(axis=0)[px.mean(axis=0).argmax()])"
      ],
      "execution_count": null,
      "outputs": []
    },
    {
      "cell_type": "code",
      "metadata": {
        "id": "Vq14yMjSqrWk",
        "outputId": "ea297c54-a513-4d80-e64c-b59b7e8bfdfe",
        "colab": {
          "base_uri": "https://localhost:8080/"
        }
      },
      "source": [
        "(-np.array(max_vars)).argsort()[:10]"
      ],
      "execution_count": null,
      "outputs": [
        {
          "output_type": "execute_result",
          "data": {
            "text/plain": [
              "array([412, 362, 124, 217, 172, 460, 435, 261, 233, 291])"
            ]
          },
          "metadata": {
            "tags": []
          },
          "execution_count": 64
        }
      ]
    },
    {
      "cell_type": "code",
      "metadata": {
        "id": "FOqasRD5qsv3",
        "outputId": "83b0e3bd-5994-4adf-e865-5daf576a0929",
        "colab": {
          "base_uri": "https://localhost:8080/"
        }
      },
      "source": [
        "plt.imshow(x_test[222][:,:,0])"
      ],
      "execution_count": null,
      "outputs": [
        {
          "output_type": "execute_result",
          "data": {
            "text/plain": [
              "<matplotlib.image.AxesImage at 0x7fe3f75e2c50>"
            ]
          },
          "metadata": {
            "tags": []
          },
          "execution_count": 65
        },
        {
          "output_type": "display_data",
          "data": {
            "image/png": "[encoded data removed]",
            "text/plain": [
              "<Figure size 432x288 with 1 Axes>"
            ]
          },
          "metadata": {
            "tags": [],
            "needs_background": "light"
          }
        }
      ]
    },
    {
      "cell_type": "markdown",
      "metadata": {
        "id": "fkam-qHaOBpb"
      },
      "source": [
        "## Test MC dropout on random image"
      ]
    },
    {
      "cell_type": "code",
      "metadata": {
        "id": "Cta7v7U3qu7t"
      },
      "source": [
        "random_img = np.random.random(input_shape)"
      ],
      "execution_count": null,
      "outputs": []
    },
    {
      "cell_type": "code",
      "metadata": {
        "id": "Khz_b4buq5FV",
        "outputId": "2d8da7f5-3a5e-4a53-fb35-3fa8cf4505b4",
        "colab": {
          "base_uri": "https://localhost:8080/"
        }
      },
      "source": [
        "plt.imshow(random_img[:,:,0]);"
      ],
      "execution_count": null,
      "outputs": [
        {
          "output_type": "display_data",
          "data": {
            "image/png": "[encoded data removed]",
            "text/plain": [
              "<Figure size 432x288 with 1 Axes>"
            ]
          },
          "metadata": {
            "tags": [],
            "needs_background": "light"
          }
        }
      ]
    },
    {
      "cell_type": "code",
      "metadata": {
        "id": "-Ofqa1h6q6CU",
        "outputId": "d301575e-8df5-48d3-e830-f2955cef8206",
        "colab": {
          "base_uri": "https://localhost:8080/"
        }
      },
      "source": [
        "random_predictions = []\n",
        "for i in tqdm.tqdm(range(500)):\n",
        "    y_p = mc_model.predict(np.array([random_img]))\n",
        "    random_predictions.append(y_p)"
      ],
      "execution_count": null,
      "outputs": [
        {
          "output_type": "stream",
          "text": [
            "100%|██████████| 500/500 [00:15<00:00, 32.62it/s]\n"
          ],
          "name": "stderr"
        }
      ]
    },
    {
      "cell_type": "code",
      "metadata": {
        "id": "GcxDanEjq7fx",
        "outputId": "8bf9b971-f257-4b05-a6f7-e2459df95f0b",
        "colab": {
          "base_uri": "https://localhost:8080/"
        }
      },
      "source": [
        "p0 = np.array([p[0] for p in random_predictions])\n",
        "print(\"posterior mean: {}\".format(p0.mean(axis=0).argmax()))\n",
        "print()\n",
        "# probability + variance\n",
        "for i, (prob, var) in enumerate(zip(p0.mean(axis=0), p0.std(axis=0))):\n",
        "    print(\"class: {}; proba: {:.1%}; var: {:.2%} \".format(i, prob, var))"
      ],
      "execution_count": null,
      "outputs": [
        {
          "output_type": "stream",
          "text": [
            "posterior mean: 2\n",
            "\n",
            "class: 0; proba: 4.1%; var: 8.83% \n",
            "class: 1; proba: 0.5%; var: 1.22% \n",
            "class: 2; proba: 49.8%; var: 22.43% \n",
            "class: 3; proba: 33.4%; var: 20.39% \n",
            "class: 4; proba: 0.1%; var: 0.46% \n",
            "class: 5; proba: 8.1%; var: 10.70% \n",
            "class: 6; proba: 1.8%; var: 3.30% \n",
            "class: 7; proba: 0.1%; var: 0.34% \n",
            "class: 8; proba: 2.1%; var: 4.27% \n",
            "class: 9; proba: 0.1%; var: 0.26% \n"
          ],
          "name": "stdout"
        }
      ]
    },
    {
      "cell_type": "code",
      "metadata": {
        "id": "rjzCDeMLq82Y",
        "outputId": "d32bb62a-5dd6-4c8c-be65-04ed273a0674",
        "colab": {
          "base_uri": "https://localhost:8080/"
        }
      },
      "source": [
        "x, y = list(range(len(p0.mean(axis=0)))), p0.mean(axis=0)\n",
        "plt.plot(x, y)"
      ],
      "execution_count": null,
      "outputs": [
        {
          "output_type": "execute_result",
          "data": {
            "text/plain": [
              "[<matplotlib.lines.Line2D at 0x7fe3f64ce668>]"
            ]
          },
          "metadata": {
            "tags": []
          },
          "execution_count": 70
        },
        {
          "output_type": "display_data",
          "data": {
            "image/png": "[encoded data removed]",
            "text/plain": [
              "<Figure size 432x288 with 1 Axes>"
            ]
          },
          "metadata": {
            "tags": [],
            "needs_background": "light"
          }
        }
      ]
    },
    {
      "cell_type": "code",
      "metadata": {
        "id": "H8JGSP8Qq-oX",
        "outputId": "5f1158bc-49fa-4b42-df6f-ee816e50d6da",
        "colab": {
          "base_uri": "https://localhost:8080/"
        }
      },
      "source": [
        "fig, axes = plt.subplots(5, 2, figsize=(12,12))\n",
        "\n",
        "for i, ax in enumerate(fig.get_axes()):\n",
        "    ax.hist(p0[:,i], bins=100, range=(0,1))\n",
        "    ax.set_title(f\"class {i}\")\n",
        "    ax.label_outer()"
      ],
      "execution_count": null,
      "outputs": [
        {
          "output_type": "display_data",
          "data": {
            "image/png": "[encoded data removed]",
            "text/plain": [
              "<Figure size 864x864 with 10 Axes>"
            ]
          },
          "metadata": {
            "tags": [],
            "needs_background": "light"
          }
        }
      ]
    },
    {
      "cell_type": "markdown",
      "metadata": {
        "id": "nsCJdDOjzq5a"
      },
      "source": [
        "## Convert trained regular model into a MC model"
      ]
    },
    {
      "cell_type": "code",
      "metadata": {
        "id": "J6RrEZxA1Nli",
        "outputId": "b46bbe9a-7b7c-4fc2-ca8b-38be0e1a294b",
        "colab": {
          "base_uri": "https://localhost:8080/",
          "height": 35
        }
      },
      "source": [
        "layers = [l for l in model.layers]\n",
        "x = layers[0].output\n",
        "for i in range(1, len(layers)):\n",
        "    # Replace dropout layers with MC dropout layers\n",
        "    if isinstance(layers[i], Dropout):\n",
        "        x = Dropout(0.2)(x, training=True)\n",
        "    else:\n",
        "        x = layers[i](x)\n",
        "        \n",
        "mc_model2 = Model(inputs=layers[0].input, outputs=x)\n",
        "mc_model2.set_weights(model.get_weights())\n",
        "mc_model2.predict(np.expand_dims(x_test[222], axis=0), batch_size=1).argmax()"
      ],
      "execution_count": null,
      "outputs": [
        {
          "output_type": "execute_result",
          "data": {
            "text/plain": [
              "2"
            ]
          },
          "metadata": {
            "tags": []
          },
          "execution_count": 72
        }
      ]
    },
    {
      "cell_type": "code",
      "metadata": {
        "id": "SImMCSqLOxqs",
        "outputId": "7533ce63-3f07-4953-c849-d78bddf326db",
        "colab": {
          "base_uri": "https://localhost:8080/",
          "height": 283
        }
      },
      "source": [
        "idx = 222\n",
        "plt.imshow(x_test[idx][:,:,0])"
      ],
      "execution_count": null,
      "outputs": [
        {
          "output_type": "execute_result",
          "data": {
            "text/plain": [
              "<matplotlib.image.AxesImage at 0x7fe3f77a6e48>"
            ]
          },
          "metadata": {
            "tags": []
          },
          "execution_count": 73
        },
        {
          "output_type": "display_data",
          "data": {
            "image/png": "[encoded data removed]",
            "text/plain": [
              "<Figure size 432x288 with 1 Axes>"
            ]
          },
          "metadata": {
            "tags": [],
            "needs_background": "light"
          }
        }
      ]
    },
    {
      "cell_type": "code",
      "metadata": {
        "id": "sDns_tB51qbt",
        "outputId": "c42a2f9b-ce62-431f-a3a4-191d5817cb35",
        "colab": {
          "base_uri": "https://localhost:8080/",
          "height": 215
        }
      },
      "source": [
        "print(f\"Ground truth is {y_test[idx].argmax()}\")\n",
        "for i in range(10):\n",
        "  print(f\"Prediction {i} = {mc_model2.predict(np.expand_dims(x_test[idx], axis=0), batch_size=1).argmax()}\")"
      ],
      "execution_count": null,
      "outputs": [
        {
          "output_type": "stream",
          "text": [
            "Ground truth is 2\n",
            "Prediction 0 = 2\n",
            "Prediction 1 = 2\n",
            "Prediction 2 = 2\n",
            "Prediction 3 = 2\n",
            "Prediction 4 = 2\n",
            "Prediction 5 = 2\n",
            "Prediction 6 = 2\n",
            "Prediction 7 = 2\n",
            "Prediction 8 = 2\n",
            "Prediction 9 = 2\n"
          ],
          "name": "stdout"
        }
      ]
    },
    {
      "cell_type": "markdown",
      "metadata": {
        "id": "VO0YXDHqPCGT"
      },
      "source": [
        "## Test accuracy of new mc model"
      ]
    },
    {
      "cell_type": "code",
      "metadata": {
        "id": "i-MkJ2zx6L07",
        "outputId": "4790eb2d-48b1-4bab-938f-1dde92a0fb65",
        "colab": {
          "base_uri": "https://localhost:8080/",
          "height": 35
        }
      },
      "source": [
        "import tqdm\n",
        "\n",
        "mc_predictions2 = []\n",
        "for i in tqdm.tqdm(range(500)):\n",
        "    y_p = mc_model2.predict(x_test, batch_size=1000)\n",
        "    mc_predictions2.append(y_p)"
      ],
      "execution_count": null,
      "outputs": [
        {
          "output_type": "stream",
          "text": [
            "100%|██████████| 500/500 [00:45<00:00, 10.90it/s]\n"
          ],
          "name": "stderr"
        }
      ]
    },
    {
      "cell_type": "code",
      "metadata": {
        "id": "WFzyPY4M6VK8",
        "outputId": "7ffee276-bf06-4fcb-d545-c9dba8bc02d3",
        "colab": {
          "base_uri": "https://localhost:8080/",
          "height": 35
        }
      },
      "source": [
        "# score of the mc model\n",
        "accs = []\n",
        "for y_p in mc_predictions2:\n",
        "    acc = accuracy_score(y_test.argmax(axis=1), y_p.argmax(axis=1))\n",
        "    accs.append(acc)\n",
        "print(\"MC accuracy: {:.1%}\".format(sum(accs)/len(accs)))"
      ],
      "execution_count": null,
      "outputs": [
        {
          "output_type": "stream",
          "text": [
            "MC accuracy: 93.0%\n"
          ],
          "name": "stdout"
        }
      ]
    },
    {
      "cell_type": "code",
      "metadata": {
        "id": "jzd__QxH6U3i",
        "outputId": "a7dbdab0-c95d-4fcb-a5b7-1348f2282ebd",
        "colab": {
          "base_uri": "https://localhost:8080/",
          "height": 35
        }
      },
      "source": [
        "mc_ensemble_pred = np.array(mc_predictions2).mean(axis=0).argmax(axis=1)\n",
        "ensemble_acc = accuracy_score(y_test.argmax(axis=1), mc_ensemble_pred)\n",
        "print(\"MC-ensemble accuracy: {:.1%}\".format(ensemble_acc))"
      ],
      "execution_count": null,
      "outputs": [
        {
          "output_type": "stream",
          "text": [
            "MC-ensemble accuracy: 93.8%\n"
          ],
          "name": "stdout"
        }
      ]
    },
    {
      "cell_type": "markdown",
      "metadata": {
        "id": "uWtiwD0YPVEn"
      },
      "source": [
        "## Create ensemble of models"
      ]
    },
    {
      "cell_type": "markdown",
      "metadata": {
        "id": "ap--Zwbf2cj5"
      },
      "source": [
        ""
      ]
    },
    {
      "cell_type": "code",
      "metadata": {
        "id": "0O1szSGe74ok"
      },
      "source": [
        "models = [get_model(mc=False, act=\"relu\") for x in range(5)]"
      ],
      "execution_count": null,
      "outputs": []
    },
    {
      "cell_type": "code",
      "metadata": {
        "id": "ktm0BRA87-nd",
        "outputId": "6cd4d043-8667-40c5-9f95-0ed739bed4b9",
        "colab": {
          "base_uri": "https://localhost:8080/"
        }
      },
      "source": [
        "histories = [m.fit(x_train, y_train,\n",
        "                       batch_size=batch_size,\n",
        "                       epochs=epochs,\n",
        "                       verbose=1,\n",
        "                       validation_data=(x_test, y_test)) for m in models]"
      ],
      "execution_count": null,
      "outputs": [
        {
          "output_type": "stream",
          "text": [
            "Epoch 1/20\n",
            "469/469 [==============================] - 3s 6ms/step - loss: 2.1106 - accuracy: 0.3651 - val_loss: 1.7102 - val_accuracy: 0.7481\n",
            "Epoch 2/20\n",
            "469/469 [==============================] - 3s 6ms/step - loss: 1.3009 - accuracy: 0.6492 - val_loss: 0.7349 - val_accuracy: 0.8503\n",
            "Epoch 3/20\n",
            "469/469 [==============================] - 3s 6ms/step - loss: 0.8181 - accuracy: 0.7513 - val_loss: 0.5073 - val_accuracy: 0.8726\n",
            "Epoch 4/20\n",
            "469/469 [==============================] - 3s 6ms/step - loss: 0.6755 - accuracy: 0.7925 - val_loss: 0.4293 - val_accuracy: 0.8871\n",
            "Epoch 5/20\n",
            "469/469 [==============================] - 3s 6ms/step - loss: 0.6051 - accuracy: 0.8137 - val_loss: 0.3843 - val_accuracy: 0.8949\n",
            "Epoch 6/20\n",
            "469/469 [==============================] - 3s 6ms/step - loss: 0.5558 - accuracy: 0.8297 - val_loss: 0.3537 - val_accuracy: 0.9016\n",
            "Epoch 7/20\n",
            "469/469 [==============================] - 3s 6ms/step - loss: 0.5190 - accuracy: 0.8425 - val_loss: 0.3313 - val_accuracy: 0.9069\n",
            "Epoch 8/20\n",
            "469/469 [==============================] - 3s 6ms/step - loss: 0.4903 - accuracy: 0.8500 - val_loss: 0.3144 - val_accuracy: 0.9099\n",
            "Epoch 9/20\n",
            "469/469 [==============================] - 3s 6ms/step - loss: 0.4703 - accuracy: 0.8569 - val_loss: 0.2997 - val_accuracy: 0.9136\n",
            "Epoch 10/20\n",
            "469/469 [==============================] - 3s 6ms/step - loss: 0.4498 - accuracy: 0.8621 - val_loss: 0.2861 - val_accuracy: 0.9175\n",
            "Epoch 11/20\n",
            "469/469 [==============================] - 3s 6ms/step - loss: 0.4338 - accuracy: 0.8676 - val_loss: 0.2754 - val_accuracy: 0.9213\n",
            "Epoch 12/20\n",
            "469/469 [==============================] - 3s 6ms/step - loss: 0.4170 - accuracy: 0.8731 - val_loss: 0.2661 - val_accuracy: 0.9225\n",
            "Epoch 13/20\n",
            "469/469 [==============================] - 3s 6ms/step - loss: 0.4066 - accuracy: 0.8761 - val_loss: 0.2567 - val_accuracy: 0.9245\n",
            "Epoch 14/20\n",
            "469/469 [==============================] - 3s 6ms/step - loss: 0.3936 - accuracy: 0.8805 - val_loss: 0.2477 - val_accuracy: 0.9274\n",
            "Epoch 15/20\n",
            "469/469 [==============================] - 3s 6ms/step - loss: 0.3831 - accuracy: 0.8841 - val_loss: 0.2401 - val_accuracy: 0.9292\n",
            "Epoch 16/20\n",
            "469/469 [==============================] - 3s 6ms/step - loss: 0.3743 - accuracy: 0.8882 - val_loss: 0.2332 - val_accuracy: 0.9310\n",
            "Epoch 17/20\n",
            "469/469 [==============================] - 3s 6ms/step - loss: 0.3636 - accuracy: 0.8900 - val_loss: 0.2260 - val_accuracy: 0.9323\n",
            "Epoch 18/20\n",
            "469/469 [==============================] - 3s 6ms/step - loss: 0.3545 - accuracy: 0.8929 - val_loss: 0.2193 - val_accuracy: 0.9339\n",
            "Epoch 19/20\n",
            "469/469 [==============================] - 3s 6ms/step - loss: 0.3492 - accuracy: 0.8945 - val_loss: 0.2152 - val_accuracy: 0.9356\n",
            "Epoch 20/20\n",
            "469/469 [==============================] - 3s 6ms/step - loss: 0.3395 - accuracy: 0.8979 - val_loss: 0.2084 - val_accuracy: 0.9369\n",
            "Epoch 1/20\n",
            "469/469 [==============================] - 3s 6ms/step - loss: 2.0661 - accuracy: 0.3482 - val_loss: 1.5758 - val_accuracy: 0.7722\n",
            "Epoch 2/20\n",
            "469/469 [==============================] - 3s 6ms/step - loss: 1.2415 - accuracy: 0.6607 - val_loss: 0.7143 - val_accuracy: 0.8424\n",
            "Epoch 3/20\n",
            "469/469 [==============================] - 3s 6ms/step - loss: 0.8200 - accuracy: 0.7519 - val_loss: 0.5049 - val_accuracy: 0.8737\n",
            "Epoch 4/20\n",
            "469/469 [==============================] - 3s 6ms/step - loss: 0.6768 - accuracy: 0.7925 - val_loss: 0.4267 - val_accuracy: 0.8861\n",
            "Epoch 5/20\n",
            "469/469 [==============================] - 3s 6ms/step - loss: 0.6011 - accuracy: 0.8154 - val_loss: 0.3805 - val_accuracy: 0.8947\n",
            "Epoch 6/20\n",
            "469/469 [==============================] - 3s 6ms/step - loss: 0.5529 - accuracy: 0.8311 - val_loss: 0.3504 - val_accuracy: 0.9015\n",
            "Epoch 7/20\n",
            "469/469 [==============================] - 3s 6ms/step - loss: 0.5148 - accuracy: 0.8434 - val_loss: 0.3269 - val_accuracy: 0.9078\n",
            "Epoch 8/20\n",
            "469/469 [==============================] - 3s 6ms/step - loss: 0.4873 - accuracy: 0.8513 - val_loss: 0.3088 - val_accuracy: 0.9137\n",
            "Epoch 9/20\n",
            "469/469 [==============================] - 3s 6ms/step - loss: 0.4623 - accuracy: 0.8589 - val_loss: 0.2928 - val_accuracy: 0.9169\n",
            "Epoch 10/20\n",
            "469/469 [==============================] - 3s 6ms/step - loss: 0.4476 - accuracy: 0.8647 - val_loss: 0.2790 - val_accuracy: 0.9224\n",
            "Epoch 11/20\n",
            "469/469 [==============================] - 3s 6ms/step - loss: 0.4250 - accuracy: 0.8708 - val_loss: 0.2672 - val_accuracy: 0.9244\n",
            "Epoch 12/20\n",
            "469/469 [==============================] - 3s 6ms/step - loss: 0.4048 - accuracy: 0.8775 - val_loss: 0.2556 - val_accuracy: 0.9267\n",
            "Epoch 13/20\n",
            "469/469 [==============================] - 3s 6ms/step - loss: 0.3967 - accuracy: 0.8797 - val_loss: 0.2474 - val_accuracy: 0.9284\n",
            "Epoch 14/20\n",
            "469/469 [==============================] - 3s 6ms/step - loss: 0.3836 - accuracy: 0.8848 - val_loss: 0.2381 - val_accuracy: 0.9314\n",
            "Epoch 15/20\n",
            "469/469 [==============================] - 3s 6ms/step - loss: 0.3723 - accuracy: 0.8877 - val_loss: 0.2311 - val_accuracy: 0.9338\n",
            "Epoch 16/20\n",
            "469/469 [==============================] - 3s 6ms/step - loss: 0.3623 - accuracy: 0.8910 - val_loss: 0.2231 - val_accuracy: 0.9352\n",
            "Epoch 17/20\n",
            "469/469 [==============================] - 3s 6ms/step - loss: 0.3543 - accuracy: 0.8921 - val_loss: 0.2178 - val_accuracy: 0.9381\n",
            "Epoch 18/20\n",
            "469/469 [==============================] - 3s 6ms/step - loss: 0.3463 - accuracy: 0.8962 - val_loss: 0.2124 - val_accuracy: 0.9391\n",
            "Epoch 19/20\n",
            "469/469 [==============================] - 3s 6ms/step - loss: 0.3364 - accuracy: 0.8987 - val_loss: 0.2054 - val_accuracy: 0.9401\n",
            "Epoch 20/20\n",
            "469/469 [==============================] - 3s 6ms/step - loss: 0.3324 - accuracy: 0.9007 - val_loss: 0.2008 - val_accuracy: 0.9427\n",
            "Epoch 1/20\n",
            "469/469 [==============================] - 3s 6ms/step - loss: 2.0754 - accuracy: 0.3770 - val_loss: 1.6203 - val_accuracy: 0.7617\n",
            "Epoch 2/20\n",
            "469/469 [==============================] - 3s 6ms/step - loss: 1.2538 - accuracy: 0.6581 - val_loss: 0.7135 - val_accuracy: 0.8526\n",
            "Epoch 3/20\n",
            "469/469 [==============================] - 3s 6ms/step - loss: 0.8146 - accuracy: 0.7502 - val_loss: 0.4966 - val_accuracy: 0.8795\n",
            "Epoch 4/20\n",
            "469/469 [==============================] - 3s 6ms/step - loss: 0.6690 - accuracy: 0.7955 - val_loss: 0.4163 - val_accuracy: 0.8909\n",
            "Epoch 5/20\n",
            "469/469 [==============================] - 3s 6ms/step - loss: 0.5954 - accuracy: 0.8178 - val_loss: 0.3724 - val_accuracy: 0.8985\n",
            "Epoch 6/20\n",
            "469/469 [==============================] - 3s 6ms/step - loss: 0.5452 - accuracy: 0.8327 - val_loss: 0.3428 - val_accuracy: 0.9049\n",
            "Epoch 7/20\n",
            "469/469 [==============================] - 3s 6ms/step - loss: 0.5095 - accuracy: 0.8440 - val_loss: 0.3196 - val_accuracy: 0.9110\n",
            "Epoch 8/20\n",
            "469/469 [==============================] - 3s 6ms/step - loss: 0.4852 - accuracy: 0.8521 - val_loss: 0.3019 - val_accuracy: 0.9149\n",
            "Epoch 9/20\n",
            "469/469 [==============================] - 3s 6ms/step - loss: 0.4615 - accuracy: 0.8589 - val_loss: 0.2874 - val_accuracy: 0.9185\n",
            "Epoch 10/20\n",
            "469/469 [==============================] - 3s 6ms/step - loss: 0.4407 - accuracy: 0.8652 - val_loss: 0.2755 - val_accuracy: 0.9203\n",
            "Epoch 11/20\n",
            "469/469 [==============================] - 3s 6ms/step - loss: 0.4253 - accuracy: 0.8711 - val_loss: 0.2637 - val_accuracy: 0.9236\n",
            "Epoch 12/20\n",
            "469/469 [==============================] - 3s 6ms/step - loss: 0.4134 - accuracy: 0.8755 - val_loss: 0.2543 - val_accuracy: 0.9264\n",
            "Epoch 13/20\n",
            "469/469 [==============================] - 3s 6ms/step - loss: 0.4009 - accuracy: 0.8793 - val_loss: 0.2459 - val_accuracy: 0.9284\n",
            "Epoch 14/20\n",
            "469/469 [==============================] - 3s 6ms/step - loss: 0.3879 - accuracy: 0.8820 - val_loss: 0.2377 - val_accuracy: 0.9306\n",
            "Epoch 15/20\n",
            "469/469 [==============================] - 3s 6ms/step - loss: 0.3811 - accuracy: 0.8846 - val_loss: 0.2322 - val_accuracy: 0.9316\n",
            "Epoch 16/20\n",
            "469/469 [==============================] - 3s 6ms/step - loss: 0.3702 - accuracy: 0.8880 - val_loss: 0.2248 - val_accuracy: 0.9339\n",
            "Epoch 17/20\n",
            "469/469 [==============================] - 3s 6ms/step - loss: 0.3633 - accuracy: 0.8907 - val_loss: 0.2196 - val_accuracy: 0.9349\n",
            "Epoch 18/20\n",
            "469/469 [==============================] - 3s 6ms/step - loss: 0.3550 - accuracy: 0.8938 - val_loss: 0.2140 - val_accuracy: 0.9360\n",
            "Epoch 19/20\n",
            "469/469 [==============================] - 3s 6ms/step - loss: 0.3466 - accuracy: 0.8963 - val_loss: 0.2096 - val_accuracy: 0.9378\n",
            "Epoch 20/20\n",
            "469/469 [==============================] - 3s 6ms/step - loss: 0.3420 - accuracy: 0.8968 - val_loss: 0.2041 - val_accuracy: 0.9401\n",
            "Epoch 1/20\n",
            "469/469 [==============================] - 3s 6ms/step - loss: 2.2235 - accuracy: 0.2891 - val_loss: 2.0535 - val_accuracy: 0.6341\n",
            "Epoch 2/20\n",
            "469/469 [==============================] - 3s 6ms/step - loss: 1.6439 - accuracy: 0.5876 - val_loss: 0.9850 - val_accuracy: 0.8016\n",
            "Epoch 3/20\n",
            "469/469 [==============================] - 3s 6ms/step - loss: 0.9435 - accuracy: 0.7159 - val_loss: 0.5815 - val_accuracy: 0.8547\n",
            "Epoch 4/20\n",
            "469/469 [==============================] - 3s 6ms/step - loss: 0.7345 - accuracy: 0.7738 - val_loss: 0.4717 - val_accuracy: 0.8745\n",
            "Epoch 5/20\n",
            "469/469 [==============================] - 3s 6ms/step - loss: 0.6502 - accuracy: 0.7981 - val_loss: 0.4212 - val_accuracy: 0.8852\n",
            "Epoch 6/20\n",
            "469/469 [==============================] - 3s 6ms/step - loss: 0.5937 - accuracy: 0.8164 - val_loss: 0.3849 - val_accuracy: 0.8933\n",
            "Epoch 7/20\n",
            "469/469 [==============================] - 3s 6ms/step - loss: 0.5502 - accuracy: 0.8312 - val_loss: 0.3597 - val_accuracy: 0.9009\n",
            "Epoch 8/20\n",
            "469/469 [==============================] - 3s 6ms/step - loss: 0.5222 - accuracy: 0.8402 - val_loss: 0.3387 - val_accuracy: 0.9036\n",
            "Epoch 9/20\n",
            "469/469 [==============================] - 3s 6ms/step - loss: 0.4989 - accuracy: 0.8465 - val_loss: 0.3235 - val_accuracy: 0.9096\n",
            "Epoch 10/20\n",
            "469/469 [==============================] - 3s 6ms/step - loss: 0.4830 - accuracy: 0.8525 - val_loss: 0.3093 - val_accuracy: 0.9113\n",
            "Epoch 11/20\n",
            "469/469 [==============================] - 3s 6ms/step - loss: 0.4637 - accuracy: 0.8587 - val_loss: 0.2967 - val_accuracy: 0.9150\n",
            "Epoch 12/20\n",
            "469/469 [==============================] - 3s 6ms/step - loss: 0.4479 - accuracy: 0.8628 - val_loss: 0.2865 - val_accuracy: 0.9170\n",
            "Epoch 13/20\n",
            "469/469 [==============================] - 3s 6ms/step - loss: 0.4374 - accuracy: 0.8682 - val_loss: 0.2770 - val_accuracy: 0.9194\n",
            "Epoch 14/20\n",
            "469/469 [==============================] - 3s 6ms/step - loss: 0.4238 - accuracy: 0.8729 - val_loss: 0.2680 - val_accuracy: 0.9207\n",
            "Epoch 15/20\n",
            "469/469 [==============================] - 3s 6ms/step - loss: 0.4122 - accuracy: 0.8766 - val_loss: 0.2604 - val_accuracy: 0.9230\n",
            "Epoch 16/20\n",
            "469/469 [==============================] - 3s 6ms/step - loss: 0.3994 - accuracy: 0.8788 - val_loss: 0.2518 - val_accuracy: 0.9247\n",
            "Epoch 17/20\n",
            "469/469 [==============================] - 3s 6ms/step - loss: 0.3892 - accuracy: 0.8820 - val_loss: 0.2449 - val_accuracy: 0.9269\n",
            "Epoch 18/20\n",
            "469/469 [==============================] - 3s 6ms/step - loss: 0.3821 - accuracy: 0.8844 - val_loss: 0.2388 - val_accuracy: 0.9282\n",
            "Epoch 19/20\n",
            "469/469 [==============================] - 3s 6ms/step - loss: 0.3725 - accuracy: 0.8867 - val_loss: 0.2324 - val_accuracy: 0.9297\n",
            "Epoch 20/20\n",
            "469/469 [==============================] - 3s 6ms/step - loss: 0.3659 - accuracy: 0.8894 - val_loss: 0.2273 - val_accuracy: 0.9324\n",
            "Epoch 1/20\n",
            "469/469 [==============================] - 3s 6ms/step - loss: 2.0508 - accuracy: 0.3703 - val_loss: 1.5368 - val_accuracy: 0.7489\n",
            "Epoch 2/20\n",
            "469/469 [==============================] - 3s 6ms/step - loss: 1.2031 - accuracy: 0.6602 - val_loss: 0.6963 - val_accuracy: 0.8480\n",
            "Epoch 3/20\n",
            "469/469 [==============================] - 3s 6ms/step - loss: 0.8021 - accuracy: 0.7560 - val_loss: 0.5040 - val_accuracy: 0.8745\n",
            "Epoch 4/20\n",
            "469/469 [==============================] - 3s 6ms/step - loss: 0.6697 - accuracy: 0.7940 - val_loss: 0.4278 - val_accuracy: 0.8883\n",
            "Epoch 5/20\n",
            "469/469 [==============================] - 3s 6ms/step - loss: 0.6007 - accuracy: 0.8157 - val_loss: 0.3830 - val_accuracy: 0.8965\n",
            "Epoch 6/20\n",
            "469/469 [==============================] - 3s 6ms/step - loss: 0.5523 - accuracy: 0.8331 - val_loss: 0.3535 - val_accuracy: 0.9031\n",
            "Epoch 7/20\n",
            "469/469 [==============================] - 3s 6ms/step - loss: 0.5189 - accuracy: 0.8418 - val_loss: 0.3318 - val_accuracy: 0.9079\n",
            "Epoch 8/20\n",
            "469/469 [==============================] - 3s 6ms/step - loss: 0.4910 - accuracy: 0.8505 - val_loss: 0.3120 - val_accuracy: 0.9130\n",
            "Epoch 9/20\n",
            "469/469 [==============================] - 3s 6ms/step - loss: 0.4724 - accuracy: 0.8577 - val_loss: 0.2983 - val_accuracy: 0.9156\n",
            "Epoch 10/20\n",
            "469/469 [==============================] - 3s 6ms/step - loss: 0.4544 - accuracy: 0.8638 - val_loss: 0.2852 - val_accuracy: 0.9177\n",
            "Epoch 11/20\n",
            "469/469 [==============================] - 3s 6ms/step - loss: 0.4348 - accuracy: 0.8686 - val_loss: 0.2733 - val_accuracy: 0.9203\n",
            "Epoch 12/20\n",
            "469/469 [==============================] - 3s 6ms/step - loss: 0.4215 - accuracy: 0.8729 - val_loss: 0.2628 - val_accuracy: 0.9231\n",
            "Epoch 13/20\n",
            "469/469 [==============================] - 3s 6ms/step - loss: 0.4106 - accuracy: 0.8757 - val_loss: 0.2545 - val_accuracy: 0.9259\n",
            "Epoch 14/20\n",
            "469/469 [==============================] - 3s 6ms/step - loss: 0.4001 - accuracy: 0.8802 - val_loss: 0.2467 - val_accuracy: 0.9281\n",
            "Epoch 15/20\n",
            "469/469 [==============================] - 3s 6ms/step - loss: 0.3880 - accuracy: 0.8837 - val_loss: 0.2396 - val_accuracy: 0.9293\n",
            "Epoch 16/20\n",
            "469/469 [==============================] - 3s 6ms/step - loss: 0.3787 - accuracy: 0.8862 - val_loss: 0.2324 - val_accuracy: 0.9321\n",
            "Epoch 17/20\n",
            "469/469 [==============================] - 3s 6ms/step - loss: 0.3716 - accuracy: 0.8891 - val_loss: 0.2256 - val_accuracy: 0.9335\n",
            "Epoch 18/20\n",
            "469/469 [==============================] - 3s 6ms/step - loss: 0.3636 - accuracy: 0.8908 - val_loss: 0.2217 - val_accuracy: 0.9350\n",
            "Epoch 19/20\n",
            "469/469 [==============================] - 3s 6ms/step - loss: 0.3574 - accuracy: 0.8934 - val_loss: 0.2163 - val_accuracy: 0.9373\n",
            "Epoch 20/20\n",
            "469/469 [==============================] - 3s 6ms/step - loss: 0.3505 - accuracy: 0.8953 - val_loss: 0.2102 - val_accuracy: 0.9386\n"
          ],
          "name": "stdout"
        }
      ]
    },
    {
      "cell_type": "markdown",
      "metadata": {
        "id": "1kkzI__xZg79"
      },
      "source": [
        "## Compare ensemble and MC methods"
      ]
    },
    {
      "cell_type": "code",
      "metadata": {
        "id": "OGQTQgFDS4rX",
        "outputId": "de95430d-d0a5-48ec-a1f6-f8439001b4c2",
        "colab": {
          "base_uri": "https://localhost:8080/",
          "height": 283
        }
      },
      "source": [
        "idx = 195\n",
        "plt.imshow(x_test[idx][:,:,0])"
      ],
      "execution_count": null,
      "outputs": [
        {
          "output_type": "execute_result",
          "data": {
            "text/plain": [
              "<matplotlib.image.AxesImage at 0x7fe3916624a8>"
            ]
          },
          "metadata": {
            "tags": []
          },
          "execution_count": 80
        },
        {
          "output_type": "display_data",
          "data": {
            "image/png": "[encoded data removed]",
            "text/plain": [
              "<Figure size 432x288 with 1 Axes>"
            ]
          },
          "metadata": {
            "tags": [],
            "needs_background": "light"
          }
        }
      ]
    },
    {
      "cell_type": "code",
      "metadata": {
        "id": "osW1ZF1VSZBw",
        "outputId": "7853a448-851f-4585-9524-0772c5025788",
        "colab": {
          "base_uri": "https://localhost:8080/",
          "height": 127
        }
      },
      "source": [
        "def average(nums):\n",
        "    return sum(nums) / len(nums)\n",
        "\n",
        "def argmax(lst):\n",
        "    return lst.index(max(lst))\n",
        "\n",
        "print(f\"Ground truth is {y_test[idx].argmax()}\")\n",
        "\n",
        "my_predictions = []\n",
        "for m in models:\n",
        "    my_predictions.append(np.squeeze(m.predict(np.expand_dims(x_test[idx], axis=0), batch_size=1)))\n",
        "\n",
        "final_predictions = []\n",
        "for i in range(len(my_predictions[0])):\n",
        "    predictions_i = [p[i] for p in my_predictions]\n",
        "    final_predictions.append(average(predictions_i))\n",
        "print(f\"Ensemble Prediction = {argmax(final_predictions)}\")\n",
        "print(f\"Average ensemble predictions = {final_predictions}\")"
      ],
      "execution_count": null,
      "outputs": [
        {
          "output_type": "stream",
          "text": [
            "Ground truth is 3\n",
            "WARNING:tensorflow:5 out of the last 5004 calls to <function Model.make_predict_function.<locals>.predict_function at 0x7fe3f63a79d8> triggered tf.function retracing. Tracing is expensive and the excessive number of tracings could be due to (1) creating @tf.function repeatedly in a loop, (2) passing tensors with different shapes, (3) passing Python objects instead of tensors. For (1), please define your @tf.function outside of the loop. For (2), @tf.function has experimental_relax_shapes=True option that relaxes argument shapes that can avoid unnecessary retracing. For (3), please refer to https://www.tensorflow.org/tutorials/customization/performance#python_or_tensor_args and https://www.tensorflow.org/api_docs/python/tf/function for  more details.\n",
            "WARNING:tensorflow:6 out of the last 5005 calls to <function Model.make_predict_function.<locals>.predict_function at 0x7fe395f2cea0> triggered tf.function retracing. Tracing is expensive and the excessive number of tracings could be due to (1) creating @tf.function repeatedly in a loop, (2) passing tensors with different shapes, (3) passing Python objects instead of tensors. For (1), please define your @tf.function outside of the loop. For (2), @tf.function has experimental_relax_shapes=True option that relaxes argument shapes that can avoid unnecessary retracing. For (3), please refer to https://www.tensorflow.org/tutorials/customization/performance#python_or_tensor_args and https://www.tensorflow.org/api_docs/python/tf/function for  more details.\n",
            "Ensemble Prediction = 8\n",
            "Average ensemble predictions = [0.001804690866265446, 0.05972716584801674, 0.16607904732227324, 0.22079046666622162, 0.05910719484090805, 0.11045402437448501, 0.02340199686586857, 0.011764225643128156, 0.32319563031196596, 0.02367558144032955]\n"
          ],
          "name": "stdout"
        }
      ]
    },
    {
      "cell_type": "code",
      "metadata": {
        "id": "ujbwBMb3Yb6N",
        "outputId": "4dea149f-1c3a-4baf-bf44-7dea6dc21546",
        "colab": {
          "base_uri": "https://localhost:8080/",
          "height": 73
        }
      },
      "source": [
        "my_mc_predictions = []\n",
        "for m in models:\n",
        "    my_mc_predictions.append(np.squeeze(mc_model.predict(np.expand_dims(x_test[idx], axis=0), batch_size=1)))\n",
        "\n",
        "final_mc_predictions = []\n",
        "for i in range(len(my_mc_predictions[0])):\n",
        "    predictions_i = [p[i] for p in my_mc_predictions]\n",
        "    final_mc_predictions.append(average(predictions_i)) \n",
        "print(f\"MC Prediction = {argmax(final_mc_predictions)}\")\n",
        "print(f\"Average MC predictions = {final_mc_predictions}\")"
      ],
      "execution_count": null,
      "outputs": [
        {
          "output_type": "stream",
          "text": [
            "MC Prediction = 3\n",
            "Average MC predictions = [0.0016592558240517974, 0.1210622888058424, 0.14561714977025986, 0.3836315482854843, 0.07479400215670466, 0.05311877056956291, 0.015523248724639416, 0.005536674085306004, 0.1836031511425972, 0.015453889407217503]\n"
          ],
          "name": "stdout"
        }
      ]
    },
    {
      "cell_type": "code",
      "metadata": {
        "id": "4p_Te--SWZNQ",
        "outputId": "6664c525-03a8-4762-b8b4-8294f338ef91",
        "colab": {
          "base_uri": "https://localhost:8080/",
          "height": 73
        }
      },
      "source": [
        "my_mc_predictions2 = []\n",
        "for m in models:\n",
        "    my_mc_predictions2.append(np.squeeze(mc_model2.predict(np.expand_dims(x_test[idx], axis=0), batch_size=1)))\n",
        "\n",
        "final_mc_predictions2 = []\n",
        "for i in range(len(my_mc_predictions2[0])):\n",
        "    predictions_i = [p[i] for p in my_mc_predictions2]\n",
        "    final_mc_predictions2.append(average(predictions_i)) \n",
        "print(f\"MC Prediction = {argmax(final_mc_predictions2)}\")\n",
        "print(f\"Average MC predictions = {final_mc_predictions2}\")"
      ],
      "execution_count": null,
      "outputs": [
        {
          "output_type": "stream",
          "text": [
            "MC Prediction = 2\n",
            "Average MC predictions = [0.0013218144944403321, 0.02309466227889061, 0.32100913524627683, 0.1829644724726677, 0.0576624259352684, 0.08473046496510506, 0.023346572928130627, 0.007468701293691993, 0.2576132655143738, 0.040788496285676955]\n"
          ],
          "name": "stdout"
        }
      ]
    },
    {
      "cell_type": "markdown",
      "metadata": {
        "id": "2xTASYxVWHF7"
      },
      "source": [
        "\"In deep learning, practitioners set dropout rates between 20% and 50% range, meaning that up to half of the connections of a certain layer will be set to zero during inference.\""
      ]
    },
    {
      "cell_type": "markdown",
      "metadata": {
        "id": "5FyaocF62iG-"
      },
      "source": [
        "## Setup data augmentation"
      ]
    },
    {
      "cell_type": "code",
      "metadata": {
        "id": "1CM99e0T2hUW"
      },
      "source": [
        "from imgaug import augmenters as iaa\n",
        "import random\n",
        "import cv2\n",
        "\n",
        "def zoom(image):\n",
        "  zoom = iaa.Affine(scale=(1, 1.3))\n",
        "  image = zoom.augment_image(image)\n",
        "  return image\n",
        "\n",
        "def pan(image):\n",
        "  pan = iaa.Affine(translate_percent= {'x': (-0.1, 0.1), 'y': (-0.1, 0.1)})\n",
        "  image = pan.augment_image(image)\n",
        "  return image\n",
        "\n",
        "def img_random_brightness(image):\n",
        "  brightness = iaa.Multiply((0.2, 1.2))\n",
        "  image = brightness.augment_image(image)\n",
        "  return image\n",
        "\n",
        "def img_random_flip(image):\n",
        "  image = cv2.flip(image, 1)  # horizontal flip\n",
        "  return image\n",
        "\n",
        "def random_augment(image):\n",
        "  \"\"\"50% change for each augmentation technique\"\"\"\n",
        "  if np.random.rand() < 0.5:\n",
        "    image = pan(image)\n",
        "  if np.random.rand() < 0.5:\n",
        "    image = zoom(image)\n",
        "  if np.random.rand() < 0.5:\n",
        "    image = img_random_brightness(image)\n",
        "  if np.random.rand() < 0.0:\n",
        "  # if np.random.rand() < 0.5:\n",
        "    image  = img_random_flip(image)\n",
        "  return image"
      ],
      "execution_count": null,
      "outputs": []
    },
    {
      "cell_type": "code",
      "metadata": {
        "id": "BdGgCe7g40hG"
      },
      "source": [
        "def batch_generator(images, labels, batch_size, augment):\n",
        "  \"\"\"Coroutine to generate batch\"\"\"\n",
        "  while True:\n",
        "    batch_img = []\n",
        "    batch_label = []\n",
        "    \n",
        "    for i in range(batch_size):\n",
        "      random_index = random.randint(0, len(images)-1)\n",
        "      \n",
        "      im = random_augment(images[random_index]) if augment else images[random_index]\n",
        "      label = labels[random_index]\n",
        "      \n",
        "      batch_img.append(im)\n",
        "      batch_label.append(label)\n",
        "      \n",
        "    yield(np.asarray(batch_img), np.asarray(batch_label))"
      ],
      "execution_count": null,
      "outputs": []
    },
    {
      "cell_type": "code",
      "metadata": {
        "id": "lZL93hs55u1t",
        "outputId": "1a91fbf6-83a4-4b99-8275-699b031b2424",
        "colab": {
          "base_uri": "https://localhost:8080/",
          "height": 541
        }
      },
      "source": [
        "## Test batch generator\n",
        "x_train_gen, y_train_gen = next(batch_generator(x_train, y_train, batch_size=1, augment=True))\n",
        "x_test_gen, y_test_gen = next(batch_generator(x_test, y_test, batch_size=1, augment=True))\n",
        "\n",
        "fig, axs = plt.subplots(1, 2, figsize=(15, 10))\n",
        "fig.tight_layout()\n",
        "\n",
        "axs[0].imshow(np.squeeze(x_train_gen[0]))\n",
        "axs[0].set_title(f'Training Image: Label = {y_train_gen[0].argmax()}')\n",
        "\n",
        "axs[1].imshow(np.squeeze(x_test_gen[0]))\n",
        "axs[1].set_title(f'Test Image: Label = {y_test_gen[0].argmax()}')\n",
        "\n",
        "axs[0].axis('off')\n",
        "axs[1].axis('off')\n",
        "plt.show()"
      ],
      "execution_count": 119,
      "outputs": [
        {
          "output_type": "display_data",
          "data": {
            "image/png": "[encoded data removed]",
            "text/plain": [
              "<Figure size 1080x720 with 2 Axes>"
            ]
          },
          "metadata": {
            "tags": [],
            "needs_background": "light"
          }
        }
      ]
    },
    {
      "cell_type": "code",
      "metadata": {
        "id": "-F78k_bSRA20"
      },
      "source": [
        "from keras.preprocessing.image import ImageDataGenerator\n",
        "data_generator = ImageDataGenerator(rotation_range=20, width_shift_range=0.1,\n",
        "    height_shift_range=0.1, brightness_range=[0.2, 1.2], zoom_range=[1, 1.3])\n",
        "\n",
        "data_iterator = data_generator.flow(x_test, y_test, batch_size=1)"
      ],
      "execution_count": 141,
      "outputs": []
    },
    {
      "cell_type": "code",
      "metadata": {
        "id": "RiiOGr3QSltR",
        "outputId": "0752925a-26de-421e-b7a8-dfdd844588ec",
        "colab": {
          "base_uri": "https://localhost:8080/",
          "height": 283
        }
      },
      "source": [
        "batch = data_iterator.next()\n",
        "plt.imshow(np.squeeze(batch[0]))"
      ],
      "execution_count": 134,
      "outputs": [
        {
          "output_type": "execute_result",
          "data": {
            "text/plain": [
              "<matplotlib.image.AxesImage at 0x7fe387c93550>"
            ]
          },
          "metadata": {
            "tags": []
          },
          "execution_count": 134
        },
        {
          "output_type": "display_data",
          "data": {
            "image/png": "[encoded data removed]",
            "text/plain": [
              "<Figure size 432x288 with 1 Axes>"
            ]
          },
          "metadata": {
            "tags": [],
            "needs_background": "light"
          }
        }
      ]
    },
    {
      "cell_type": "code",
      "metadata": {
        "id": "XE_SGz6-S4NJ",
        "outputId": "0263b7e6-a12f-4d9a-f94e-2521fc1931da",
        "colab": {
          "base_uri": "https://localhost:8080/",
          "height": 53
        }
      },
      "source": [
        "score = model.evaluate(data_iterator, steps=x_test.shape[0]//10, verbose=0)\n",
        "print('Test loss:', score[0])\n",
        "print('Test accuracy:', score[1])"
      ],
      "execution_count": 144,
      "outputs": [
        {
          "output_type": "stream",
          "text": [
            "Test loss: 195.70648193359375\n",
            "Test accuracy: 0.5720000267028809\n"
          ],
          "name": "stdout"
        }
      ]
    },
    {
      "cell_type": "code",
      "metadata": {
        "id": "COFPKg2y_NnD",
        "outputId": "071eae95-4ab5-47e8-82e8-a8220c0d1e7e",
        "colab": {
          "base_uri": "https://localhost:8080/",
          "height": 53
        }
      },
      "source": [
        "# score of the normal model\n",
        "score = model.evaluate(x_test, y_test, verbose=0)\n",
        "\n",
        "print('Test loss:', score[0])\n",
        "print('Test accuracy:', score[1])"
      ],
      "execution_count": 140,
      "outputs": [
        {
          "output_type": "stream",
          "text": [
            "Test loss: 0.200792133808136\n",
            "Test accuracy: 0.9376999735832214\n"
          ],
          "name": "stdout"
        }
      ]
    },
    {
      "cell_type": "code",
      "metadata": {
        "id": "QKMFlLxAAUCs",
        "outputId": "7d5ae77b-76bb-489c-da1f-bbd77a8768b5",
        "colab": {
          "base_uri": "https://localhost:8080/",
          "height": 53
        }
      },
      "source": [
        "# score of the normal model\n",
        "score = model.evaluate(batch_generator(x_test, y_test, batch_size=1, augment=True), steps=x_test.shape[0]//1, verbose=0)\n",
        "\n",
        "print('Test loss:', score[0])\n",
        "print('Test accuracy:', score[1])"
      ],
      "execution_count": null,
      "outputs": [
        {
          "output_type": "stream",
          "text": [
            "Test loss: 0.9556800723075867\n",
            "Test accuracy: 0.7468000054359436\n"
          ],
          "name": "stdout"
        }
      ]
    },
    {
      "cell_type": "code",
      "metadata": {
        "id": "nRW2vX43CTMW",
        "outputId": "5bc04eb0-d0dd-429a-80bc-07b683277062",
        "colab": {
          "base_uri": "https://localhost:8080/",
          "height": 53
        }
      },
      "source": [
        "# score of the normal model\n",
        "score = model.evaluate(batch_generator(x_test, y_test, batch_size=1, augment=True), steps=x_test.shape[0]//1, verbose=0)\n",
        "\n",
        "print('Test loss:', score[0])\n",
        "print('Test accuracy:', score[1])"
      ],
      "execution_count": null,
      "outputs": [
        {
          "output_type": "stream",
          "text": [
            "Test loss: 0.985175609588623\n",
            "Test accuracy: 0.7386999726295471\n"
          ],
          "name": "stdout"
        }
      ]
    },
    {
      "cell_type": "code",
      "metadata": {
        "id": "OYtzDE3dB5-H",
        "outputId": "96b0ab12-04eb-49c0-cd7e-34696263e7cf",
        "colab": {
          "base_uri": "https://localhost:8080/",
          "height": 53
        }
      },
      "source": [
        "# score of the normal model\n",
        "score = model.evaluate(batch_generator(x_test, y_test, batch_size=1, augment=False), steps=x_test.shape[0]//1, verbose=0)\n",
        "\n",
        "print('Test loss:', score[0])\n",
        "print('Test accuracy:', score[1])"
      ],
      "execution_count": null,
      "outputs": [
        {
          "output_type": "stream",
          "text": [
            "Test loss: 0.20753474533557892\n",
            "Test accuracy: 0.9368000030517578\n"
          ],
          "name": "stdout"
        }
      ]
    },
    {
      "cell_type": "code",
      "metadata": {
        "id": "Z3AYXvyI_pS-",
        "outputId": "ce0a207e-1a71-4c02-e695-95eedeb20a12",
        "colab": {
          "base_uri": "https://localhost:8080/",
          "height": 445
        }
      },
      "source": [
        "# score of the normal model\n",
        "score = model.evaluate_generator(batch_generator(x_test, y_test, batch_size=1, augment=False), verbose=0)\n",
        "\n",
        "print('Test loss:', score[0])\n",
        "print('Test accuracy:', score[1])"
      ],
      "execution_count": null,
      "outputs": [
        {
          "output_type": "stream",
          "text": [
            "WARNING:tensorflow:From <ipython-input-89-67daf3feaf10>:2: Model.evaluate_generator (from tensorflow.python.keras.engine.training) is deprecated and will be removed in a future version.\n",
            "Instructions for updating:\n",
            "Please use Model.evaluate, which supports generators.\n"
          ],
          "name": "stdout"
        },
        {
          "output_type": "error",
          "ename": "KeyboardInterrupt",
          "evalue": "ignored",
          "traceback": [
            "\u001b[0;31m---------------------------------------------------------------------------\u001b[0m",
            "\u001b[0;31mKeyboardInterrupt\u001b[0m                         Traceback (most recent call last)",
            "\u001b[0;32m<ipython-input-89-67daf3feaf10>\u001b[0m in \u001b[0;36m<module>\u001b[0;34m()\u001b[0m\n\u001b[1;32m      1\u001b[0m \u001b[0;31m# score of the normal model\u001b[0m\u001b[0;34m\u001b[0m\u001b[0;34m\u001b[0m\u001b[0;34m\u001b[0m\u001b[0m\n\u001b[0;32m----> 2\u001b[0;31m \u001b[0mscore\u001b[0m \u001b[0;34m=\u001b[0m \u001b[0mmodel\u001b[0m\u001b[0;34m.\u001b[0m\u001b[0mevaluate_generator\u001b[0m\u001b[0;34m(\u001b[0m\u001b[0mbatch_generator\u001b[0m\u001b[0;34m(\u001b[0m\u001b[0mx_test\u001b[0m\u001b[0;34m,\u001b[0m \u001b[0my_test\u001b[0m\u001b[0;34m,\u001b[0m \u001b[0mbatch_size\u001b[0m\u001b[0;34m=\u001b[0m\u001b[0;36m1\u001b[0m\u001b[0;34m,\u001b[0m \u001b[0maugment\u001b[0m\u001b[0;34m=\u001b[0m\u001b[0;32mFalse\u001b[0m\u001b[0;34m)\u001b[0m\u001b[0;34m,\u001b[0m \u001b[0mverbose\u001b[0m\u001b[0;34m=\u001b[0m\u001b[0;36m0\u001b[0m\u001b[0;34m)\u001b[0m\u001b[0;34m\u001b[0m\u001b[0;34m\u001b[0m\u001b[0m\n\u001b[0m\u001b[1;32m      3\u001b[0m \u001b[0;34m\u001b[0m\u001b[0m\n\u001b[1;32m      4\u001b[0m \u001b[0mprint\u001b[0m\u001b[0;34m(\u001b[0m\u001b[0;34m'Test loss:'\u001b[0m\u001b[0;34m,\u001b[0m \u001b[0mscore\u001b[0m\u001b[0;34m[\u001b[0m\u001b[0;36m0\u001b[0m\u001b[0;34m]\u001b[0m\u001b[0;34m)\u001b[0m\u001b[0;34m\u001b[0m\u001b[0;34m\u001b[0m\u001b[0m\n\u001b[1;32m      5\u001b[0m \u001b[0mprint\u001b[0m\u001b[0;34m(\u001b[0m\u001b[0;34m'Test accuracy:'\u001b[0m\u001b[0;34m,\u001b[0m \u001b[0mscore\u001b[0m\u001b[0;34m[\u001b[0m\u001b[0;36m1\u001b[0m\u001b[0;34m]\u001b[0m\u001b[0;34m)\u001b[0m\u001b[0;34m\u001b[0m\u001b[0;34m\u001b[0m\u001b[0m\n",
            "\u001b[0;32m/usr/local/lib/python3.6/dist-packages/tensorflow/python/util/deprecation.py\u001b[0m in \u001b[0;36mnew_func\u001b[0;34m(*args, **kwargs)\u001b[0m\n\u001b[1;32m    322\u001b[0m               \u001b[0;34m'in a future version'\u001b[0m \u001b[0;32mif\u001b[0m \u001b[0mdate\u001b[0m \u001b[0;32mis\u001b[0m \u001b[0;32mNone\u001b[0m \u001b[0;32melse\u001b[0m \u001b[0;34m(\u001b[0m\u001b[0;34m'after %s'\u001b[0m \u001b[0;34m%\u001b[0m \u001b[0mdate\u001b[0m\u001b[0;34m)\u001b[0m\u001b[0;34m,\u001b[0m\u001b[0;34m\u001b[0m\u001b[0;34m\u001b[0m\u001b[0m\n\u001b[1;32m    323\u001b[0m               instructions)\n\u001b[0;32m--> 324\u001b[0;31m       \u001b[0;32mreturn\u001b[0m \u001b[0mfunc\u001b[0m\u001b[0;34m(\u001b[0m\u001b[0;34m*\u001b[0m\u001b[0margs\u001b[0m\u001b[0;34m,\u001b[0m \u001b[0;34m**\u001b[0m\u001b[0mkwargs\u001b[0m\u001b[0;34m)\u001b[0m\u001b[0;34m\u001b[0m\u001b[0;34m\u001b[0m\u001b[0m\n\u001b[0m\u001b[1;32m    325\u001b[0m     return tf_decorator.make_decorator(\n\u001b[1;32m    326\u001b[0m         \u001b[0mfunc\u001b[0m\u001b[0;34m,\u001b[0m \u001b[0mnew_func\u001b[0m\u001b[0;34m,\u001b[0m \u001b[0;34m'deprecated'\u001b[0m\u001b[0;34m,\u001b[0m\u001b[0;34m\u001b[0m\u001b[0;34m\u001b[0m\u001b[0m\n",
            "\u001b[0;32m/usr/local/lib/python3.6/dist-packages/tensorflow/python/keras/engine/training.py\u001b[0m in \u001b[0;36mevaluate_generator\u001b[0;34m(self, generator, steps, callbacks, max_queue_size, workers, use_multiprocessing, verbose)\u001b[0m\n\u001b[1;32m   1855\u001b[0m         \u001b[0muse_multiprocessing\u001b[0m\u001b[0;34m=\u001b[0m\u001b[0muse_multiprocessing\u001b[0m\u001b[0;34m,\u001b[0m\u001b[0;34m\u001b[0m\u001b[0;34m\u001b[0m\u001b[0m\n\u001b[1;32m   1856\u001b[0m         \u001b[0mverbose\u001b[0m\u001b[0;34m=\u001b[0m\u001b[0mverbose\u001b[0m\u001b[0;34m,\u001b[0m\u001b[0;34m\u001b[0m\u001b[0;34m\u001b[0m\u001b[0m\n\u001b[0;32m-> 1857\u001b[0;31m         callbacks=callbacks)\n\u001b[0m\u001b[1;32m   1858\u001b[0m \u001b[0;34m\u001b[0m\u001b[0m\n\u001b[1;32m   1859\u001b[0m   @deprecation.deprecated(\n",
            "\u001b[0;32m/usr/local/lib/python3.6/dist-packages/tensorflow/python/keras/engine/training.py\u001b[0m in \u001b[0;36m_method_wrapper\u001b[0;34m(self, *args, **kwargs)\u001b[0m\n\u001b[1;32m    106\u001b[0m   \u001b[0;32mdef\u001b[0m \u001b[0m_method_wrapper\u001b[0m\u001b[0;34m(\u001b[0m\u001b[0mself\u001b[0m\u001b[0;34m,\u001b[0m \u001b[0;34m*\u001b[0m\u001b[0margs\u001b[0m\u001b[0;34m,\u001b[0m \u001b[0;34m**\u001b[0m\u001b[0mkwargs\u001b[0m\u001b[0;34m)\u001b[0m\u001b[0;34m:\u001b[0m\u001b[0;34m\u001b[0m\u001b[0;34m\u001b[0m\u001b[0m\n\u001b[1;32m    107\u001b[0m     \u001b[0;32mif\u001b[0m \u001b[0;32mnot\u001b[0m \u001b[0mself\u001b[0m\u001b[0;34m.\u001b[0m\u001b[0m_in_multi_worker_mode\u001b[0m\u001b[0;34m(\u001b[0m\u001b[0;34m)\u001b[0m\u001b[0;34m:\u001b[0m  \u001b[0;31m# pylint: disable=protected-access\u001b[0m\u001b[0;34m\u001b[0m\u001b[0;34m\u001b[0m\u001b[0m\n\u001b[0;32m--> 108\u001b[0;31m       \u001b[0;32mreturn\u001b[0m \u001b[0mmethod\u001b[0m\u001b[0;34m(\u001b[0m\u001b[0mself\u001b[0m\u001b[0;34m,\u001b[0m \u001b[0;34m*\u001b[0m\u001b[0margs\u001b[0m\u001b[0;34m,\u001b[0m \u001b[0;34m**\u001b[0m\u001b[0mkwargs\u001b[0m\u001b[0;34m)\u001b[0m\u001b[0;34m\u001b[0m\u001b[0;34m\u001b[0m\u001b[0m\n\u001b[0m\u001b[1;32m    109\u001b[0m \u001b[0;34m\u001b[0m\u001b[0m\n\u001b[1;32m    110\u001b[0m     \u001b[0;31m# Running inside `run_distribute_coordinator` already.\u001b[0m\u001b[0;34m\u001b[0m\u001b[0;34m\u001b[0m\u001b[0;34m\u001b[0m\u001b[0m\n",
            "\u001b[0;32m/usr/local/lib/python3.6/dist-packages/tensorflow/python/keras/engine/training.py\u001b[0m in \u001b[0;36mevaluate\u001b[0;34m(self, x, y, batch_size, verbose, sample_weight, steps, callbacks, max_queue_size, workers, use_multiprocessing, return_dict)\u001b[0m\n\u001b[1;32m   1377\u001b[0m             \u001b[0;32mwith\u001b[0m \u001b[0mtrace\u001b[0m\u001b[0;34m.\u001b[0m\u001b[0mTrace\u001b[0m\u001b[0;34m(\u001b[0m\u001b[0;34m'TraceContext'\u001b[0m\u001b[0;34m,\u001b[0m \u001b[0mgraph_type\u001b[0m\u001b[0;34m=\u001b[0m\u001b[0;34m'test'\u001b[0m\u001b[0;34m,\u001b[0m \u001b[0mstep_num\u001b[0m\u001b[0;34m=\u001b[0m\u001b[0mstep\u001b[0m\u001b[0;34m)\u001b[0m\u001b[0;34m:\u001b[0m\u001b[0;34m\u001b[0m\u001b[0;34m\u001b[0m\u001b[0m\n\u001b[1;32m   1378\u001b[0m               \u001b[0mcallbacks\u001b[0m\u001b[0;34m.\u001b[0m\u001b[0mon_test_batch_begin\u001b[0m\u001b[0;34m(\u001b[0m\u001b[0mstep\u001b[0m\u001b[0;34m)\u001b[0m\u001b[0;34m\u001b[0m\u001b[0;34m\u001b[0m\u001b[0m\n\u001b[0;32m-> 1379\u001b[0;31m               \u001b[0mtmp_logs\u001b[0m \u001b[0;34m=\u001b[0m \u001b[0mtest_function\u001b[0m\u001b[0;34m(\u001b[0m\u001b[0miterator\u001b[0m\u001b[0;34m)\u001b[0m\u001b[0;34m\u001b[0m\u001b[0;34m\u001b[0m\u001b[0m\n\u001b[0m\u001b[1;32m   1380\u001b[0m               \u001b[0;32mif\u001b[0m \u001b[0mdata_handler\u001b[0m\u001b[0;34m.\u001b[0m\u001b[0mshould_sync\u001b[0m\u001b[0;34m:\u001b[0m\u001b[0;34m\u001b[0m\u001b[0;34m\u001b[0m\u001b[0m\n\u001b[1;32m   1381\u001b[0m                 \u001b[0mcontext\u001b[0m\u001b[0;34m.\u001b[0m\u001b[0masync_wait\u001b[0m\u001b[0;34m(\u001b[0m\u001b[0;34m)\u001b[0m\u001b[0;34m\u001b[0m\u001b[0;34m\u001b[0m\u001b[0m\n",
            "\u001b[0;32m/usr/local/lib/python3.6/dist-packages/tensorflow/python/eager/def_function.py\u001b[0m in \u001b[0;36m__call__\u001b[0;34m(self, *args, **kwds)\u001b[0m\n\u001b[1;32m    778\u001b[0m       \u001b[0;32melse\u001b[0m\u001b[0;34m:\u001b[0m\u001b[0;34m\u001b[0m\u001b[0;34m\u001b[0m\u001b[0m\n\u001b[1;32m    779\u001b[0m         \u001b[0mcompiler\u001b[0m \u001b[0;34m=\u001b[0m \u001b[0;34m\"nonXla\"\u001b[0m\u001b[0;34m\u001b[0m\u001b[0;34m\u001b[0m\u001b[0m\n\u001b[0;32m--> 780\u001b[0;31m         \u001b[0mresult\u001b[0m \u001b[0;34m=\u001b[0m \u001b[0mself\u001b[0m\u001b[0;34m.\u001b[0m\u001b[0m_call\u001b[0m\u001b[0;34m(\u001b[0m\u001b[0;34m*\u001b[0m\u001b[0margs\u001b[0m\u001b[0;34m,\u001b[0m \u001b[0;34m**\u001b[0m\u001b[0mkwds\u001b[0m\u001b[0;34m)\u001b[0m\u001b[0;34m\u001b[0m\u001b[0;34m\u001b[0m\u001b[0m\n\u001b[0m\u001b[1;32m    781\u001b[0m \u001b[0;34m\u001b[0m\u001b[0m\n\u001b[1;32m    782\u001b[0m       \u001b[0mnew_tracing_count\u001b[0m \u001b[0;34m=\u001b[0m \u001b[0mself\u001b[0m\u001b[0;34m.\u001b[0m\u001b[0m_get_tracing_count\u001b[0m\u001b[0;34m(\u001b[0m\u001b[0;34m)\u001b[0m\u001b[0;34m\u001b[0m\u001b[0;34m\u001b[0m\u001b[0m\n",
            "\u001b[0;32m/usr/local/lib/python3.6/dist-packages/tensorflow/python/eager/def_function.py\u001b[0m in \u001b[0;36m_call\u001b[0;34m(self, *args, **kwds)\u001b[0m\n\u001b[1;32m    812\u001b[0m       \u001b[0;31m# In this case we have not created variables on the first call. So we can\u001b[0m\u001b[0;34m\u001b[0m\u001b[0;34m\u001b[0m\u001b[0;34m\u001b[0m\u001b[0m\n\u001b[1;32m    813\u001b[0m       \u001b[0;31m# run the first trace but we should fail if variables are created.\u001b[0m\u001b[0;34m\u001b[0m\u001b[0;34m\u001b[0m\u001b[0;34m\u001b[0m\u001b[0m\n\u001b[0;32m--> 814\u001b[0;31m       \u001b[0mresults\u001b[0m \u001b[0;34m=\u001b[0m \u001b[0mself\u001b[0m\u001b[0;34m.\u001b[0m\u001b[0m_stateful_fn\u001b[0m\u001b[0;34m(\u001b[0m\u001b[0;34m*\u001b[0m\u001b[0margs\u001b[0m\u001b[0;34m,\u001b[0m \u001b[0;34m**\u001b[0m\u001b[0mkwds\u001b[0m\u001b[0;34m)\u001b[0m\u001b[0;34m\u001b[0m\u001b[0;34m\u001b[0m\u001b[0m\n\u001b[0m\u001b[1;32m    815\u001b[0m       \u001b[0;32mif\u001b[0m \u001b[0mself\u001b[0m\u001b[0;34m.\u001b[0m\u001b[0m_created_variables\u001b[0m\u001b[0;34m:\u001b[0m\u001b[0;34m\u001b[0m\u001b[0;34m\u001b[0m\u001b[0m\n\u001b[1;32m    816\u001b[0m         raise ValueError(\"Creating variables on a non-first call to a function\"\n",
            "\u001b[0;32m/usr/local/lib/python3.6/dist-packages/tensorflow/python/eager/function.py\u001b[0m in \u001b[0;36m__call__\u001b[0;34m(self, *args, **kwargs)\u001b[0m\n\u001b[1;32m   2827\u001b[0m     \u001b[0;32mwith\u001b[0m \u001b[0mself\u001b[0m\u001b[0;34m.\u001b[0m\u001b[0m_lock\u001b[0m\u001b[0;34m:\u001b[0m\u001b[0;34m\u001b[0m\u001b[0;34m\u001b[0m\u001b[0m\n\u001b[1;32m   2828\u001b[0m       \u001b[0mgraph_function\u001b[0m\u001b[0;34m,\u001b[0m \u001b[0margs\u001b[0m\u001b[0;34m,\u001b[0m \u001b[0mkwargs\u001b[0m \u001b[0;34m=\u001b[0m \u001b[0mself\u001b[0m\u001b[0;34m.\u001b[0m\u001b[0m_maybe_define_function\u001b[0m\u001b[0;34m(\u001b[0m\u001b[0margs\u001b[0m\u001b[0;34m,\u001b[0m \u001b[0mkwargs\u001b[0m\u001b[0;34m)\u001b[0m\u001b[0;34m\u001b[0m\u001b[0;34m\u001b[0m\u001b[0m\n\u001b[0;32m-> 2829\u001b[0;31m     \u001b[0;32mreturn\u001b[0m \u001b[0mgraph_function\u001b[0m\u001b[0;34m.\u001b[0m\u001b[0m_filtered_call\u001b[0m\u001b[0;34m(\u001b[0m\u001b[0margs\u001b[0m\u001b[0;34m,\u001b[0m \u001b[0mkwargs\u001b[0m\u001b[0;34m)\u001b[0m  \u001b[0;31m# pylint: disable=protected-access\u001b[0m\u001b[0;34m\u001b[0m\u001b[0;34m\u001b[0m\u001b[0m\n\u001b[0m\u001b[1;32m   2830\u001b[0m \u001b[0;34m\u001b[0m\u001b[0m\n\u001b[1;32m   2831\u001b[0m   \u001b[0;34m@\u001b[0m\u001b[0mproperty\u001b[0m\u001b[0;34m\u001b[0m\u001b[0;34m\u001b[0m\u001b[0m\n",
            "\u001b[0;32m/usr/local/lib/python3.6/dist-packages/tensorflow/python/eager/function.py\u001b[0m in \u001b[0;36m_filtered_call\u001b[0;34m(self, args, kwargs, cancellation_manager)\u001b[0m\n\u001b[1;32m   1846\u001b[0m                            resource_variable_ops.BaseResourceVariable))],\n\u001b[1;32m   1847\u001b[0m         \u001b[0mcaptured_inputs\u001b[0m\u001b[0;34m=\u001b[0m\u001b[0mself\u001b[0m\u001b[0;34m.\u001b[0m\u001b[0mcaptured_inputs\u001b[0m\u001b[0;34m,\u001b[0m\u001b[0;34m\u001b[0m\u001b[0;34m\u001b[0m\u001b[0m\n\u001b[0;32m-> 1848\u001b[0;31m         cancellation_manager=cancellation_manager)\n\u001b[0m\u001b[1;32m   1849\u001b[0m \u001b[0;34m\u001b[0m\u001b[0m\n\u001b[1;32m   1850\u001b[0m   \u001b[0;32mdef\u001b[0m \u001b[0m_call_flat\u001b[0m\u001b[0;34m(\u001b[0m\u001b[0mself\u001b[0m\u001b[0;34m,\u001b[0m \u001b[0margs\u001b[0m\u001b[0;34m,\u001b[0m \u001b[0mcaptured_inputs\u001b[0m\u001b[0;34m,\u001b[0m \u001b[0mcancellation_manager\u001b[0m\u001b[0;34m=\u001b[0m\u001b[0;32mNone\u001b[0m\u001b[0;34m)\u001b[0m\u001b[0;34m:\u001b[0m\u001b[0;34m\u001b[0m\u001b[0;34m\u001b[0m\u001b[0m\n",
            "\u001b[0;32m/usr/local/lib/python3.6/dist-packages/tensorflow/python/eager/function.py\u001b[0m in \u001b[0;36m_call_flat\u001b[0;34m(self, args, captured_inputs, cancellation_manager)\u001b[0m\n\u001b[1;32m   1922\u001b[0m       \u001b[0;31m# No tape is watching; skip to running the function.\u001b[0m\u001b[0;34m\u001b[0m\u001b[0;34m\u001b[0m\u001b[0;34m\u001b[0m\u001b[0m\n\u001b[1;32m   1923\u001b[0m       return self._build_call_outputs(self._inference_function.call(\n\u001b[0;32m-> 1924\u001b[0;31m           ctx, args, cancellation_manager=cancellation_manager))\n\u001b[0m\u001b[1;32m   1925\u001b[0m     forward_backward = self._select_forward_and_backward_functions(\n\u001b[1;32m   1926\u001b[0m         \u001b[0margs\u001b[0m\u001b[0;34m,\u001b[0m\u001b[0;34m\u001b[0m\u001b[0;34m\u001b[0m\u001b[0m\n",
            "\u001b[0;32m/usr/local/lib/python3.6/dist-packages/tensorflow/python/eager/function.py\u001b[0m in \u001b[0;36mcall\u001b[0;34m(self, ctx, args, cancellation_manager)\u001b[0m\n\u001b[1;32m    548\u001b[0m               \u001b[0minputs\u001b[0m\u001b[0;34m=\u001b[0m\u001b[0margs\u001b[0m\u001b[0;34m,\u001b[0m\u001b[0;34m\u001b[0m\u001b[0;34m\u001b[0m\u001b[0m\n\u001b[1;32m    549\u001b[0m               \u001b[0mattrs\u001b[0m\u001b[0;34m=\u001b[0m\u001b[0mattrs\u001b[0m\u001b[0;34m,\u001b[0m\u001b[0;34m\u001b[0m\u001b[0;34m\u001b[0m\u001b[0m\n\u001b[0;32m--> 550\u001b[0;31m               ctx=ctx)\n\u001b[0m\u001b[1;32m    551\u001b[0m         \u001b[0;32melse\u001b[0m\u001b[0;34m:\u001b[0m\u001b[0;34m\u001b[0m\u001b[0;34m\u001b[0m\u001b[0m\n\u001b[1;32m    552\u001b[0m           outputs = execute.execute_with_cancellation(\n",
            "\u001b[0;32m/usr/local/lib/python3.6/dist-packages/tensorflow/python/eager/execute.py\u001b[0m in \u001b[0;36mquick_execute\u001b[0;34m(op_name, num_outputs, inputs, attrs, ctx, name)\u001b[0m\n\u001b[1;32m     58\u001b[0m     \u001b[0mctx\u001b[0m\u001b[0;34m.\u001b[0m\u001b[0mensure_initialized\u001b[0m\u001b[0;34m(\u001b[0m\u001b[0;34m)\u001b[0m\u001b[0;34m\u001b[0m\u001b[0;34m\u001b[0m\u001b[0m\n\u001b[1;32m     59\u001b[0m     tensors = pywrap_tfe.TFE_Py_Execute(ctx._handle, device_name, op_name,\n\u001b[0;32m---> 60\u001b[0;31m                                         inputs, attrs, num_outputs)\n\u001b[0m\u001b[1;32m     61\u001b[0m   \u001b[0;32mexcept\u001b[0m \u001b[0mcore\u001b[0m\u001b[0;34m.\u001b[0m\u001b[0m_NotOkStatusException\u001b[0m \u001b[0;32mas\u001b[0m \u001b[0me\u001b[0m\u001b[0;34m:\u001b[0m\u001b[0;34m\u001b[0m\u001b[0;34m\u001b[0m\u001b[0m\n\u001b[1;32m     62\u001b[0m     \u001b[0;32mif\u001b[0m \u001b[0mname\u001b[0m \u001b[0;32mis\u001b[0m \u001b[0;32mnot\u001b[0m \u001b[0;32mNone\u001b[0m\u001b[0;34m:\u001b[0m\u001b[0;34m\u001b[0m\u001b[0;34m\u001b[0m\u001b[0m\n",
            "\u001b[0;31mKeyboardInterrupt\u001b[0m: "
          ]
        }
      ]
    },
    {
      "cell_type": "markdown",
      "metadata": {
        "id": "gwtSj3EDPb4C"
      },
      "source": [
        "## High level plan for aleatoric uncertainty model"
      ]
    },
    {
      "cell_type": "code",
      "metadata": {
        "id": "DPsWAnFN8MwM"
      },
      "source": [
        "# def get_model(mc=False, act=\"relu\"):\n",
        "#     inp = Input(input_shape)\n",
        "#     x = Conv2D(32, kernel_size=(3, 3), activation=act)(inp)\n",
        "#     x = Conv2D(64, kernel_size=(3, 3), activation=act)(x)\n",
        "#     x = MaxPooling2D(pool_size=(2, 2))(x)\n",
        "#     x = get_dropout(x, p=0.25, mc=mc)\n",
        "#     x = Flatten()(x)\n",
        "#     x = Dense(128, activation=act)(x)\n",
        "#     x = get_dropout(x, p=0.5, mc=mc)\n",
        "#     out = Dense(num_classes, activation='softmax')(x)\n",
        "#     # out2 = Dense(num_classes, activation='softplus')(x)  Or relu\n",
        "#     # For classificiation, can either be 1 or num_classes for aleatoric uncertainty\n",
        "#     # Probably num_classes, then for each prediction, looking at the sigma of the prediction\n",
        "#     model = Model(inputs=inp, outputs=[out, out2])\n",
        "\n",
        "#     model.compile(loss=keras.losses.categorical_crossentropy, # Replace with custom loss\n",
        "#                   optimizer=keras.optimizers.Adadelta(),\n",
        "#                   metrics=['accuracy'])\n",
        "#     return model"
      ],
      "execution_count": null,
      "outputs": []
    }
  ]
}