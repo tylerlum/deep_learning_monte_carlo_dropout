{
  "nbformat": 4,
  "nbformat_minor": 0,
  "metadata": {
    "colab": {
      "name": "mc_dropout_mnist.ipynb",
      "provenance": [],
      "authorship_tag": "ABX9TyM2k4uacv3SUwGIVKgDeVrt",
      "include_colab_link": true
    },
    "kernelspec": {
      "name": "python3",
      "display_name": "Python 3"
    },
    "accelerator": "GPU"
  },
  "cells": [
    {
      "cell_type": "markdown",
      "metadata": {
        "id": "view-in-github",
        "colab_type": "text"
      },
      "source": [
        "<a href=\"https://colab.research.google.com/github/tylerlum/deep_learning_monte_carlo_dropout/blob/main/mc_dropout_mnist.ipynb\" target=\"_parent\"><img src=\"https://colab.research.google.com/assets/colab-badge.svg\" alt=\"Open In Colab\"/></a>"
      ]
    },
    {
      "cell_type": "markdown",
      "metadata": {
        "id": "BbtlTbE4xpW6"
      },
      "source": [
        "# Monte Carlo Dropout on MNIST\n",
        "\n",
        "Reference:\n",
        "https://www.depends-on-the-definition.com/model-uncertainty-in-deep-learning-with-monte-carlo-dropout/#2-selection-by-variance"
      ]
    },
    {
      "cell_type": "code",
      "metadata": {
        "id": "FRSSPjyypg5z"
      },
      "source": [
        "from __future__ import print_function\n",
        "import keras\n",
        "from keras.datasets import mnist\n",
        "from keras.models import Sequential, Model, Input\n",
        "from keras.layers import Dense, Dropout, Flatten, SpatialDropout2D, SpatialDropout1D, AlphaDropout\n",
        "from keras.layers import Conv2D, MaxPooling2D\n",
        "from keras import backend as K\n",
        "\n",
        "import numpy as np\n",
        "import pandas as pd\n",
        "from sklearn.metrics import accuracy_score\n",
        "\n",
        "import matplotlib.pyplot as plt\n",
        "plt.style.use(\"ggplot\")\n",
        "%matplotlib inline"
      ],
      "execution_count": 1,
      "outputs": []
    },
    {
      "cell_type": "markdown",
      "metadata": {
        "id": "uKP2iNUGMyId"
      },
      "source": [
        "## Setup train/test datasets"
      ]
    },
    {
      "cell_type": "code",
      "metadata": {
        "id": "DL7Nx2ALplZz"
      },
      "source": [
        "batch_size = 128\n",
        "num_classes = 10\n",
        "epochs = 100\n",
        "\n",
        "# input image dimensions\n",
        "img_rows, img_cols = 28, 28"
      ],
      "execution_count": 2,
      "outputs": []
    },
    {
      "cell_type": "code",
      "metadata": {
        "id": "8IcmK8-Rp6vm"
      },
      "source": [
        "# the data, split between train and test sets\n",
        "(x_train, y_train), (x_test, y_test) = mnist.load_data()"
      ],
      "execution_count": 3,
      "outputs": []
    },
    {
      "cell_type": "code",
      "metadata": {
        "id": "pVkUNnhRp8PD"
      },
      "source": [
        "if K.image_data_format() == 'channels_first':\n",
        "    x_train = x_train.reshape(x_train.shape[0], 1, img_rows, img_cols)\n",
        "    x_test = x_test.reshape(x_test.shape[0], 1, img_rows, img_cols)\n",
        "    input_shape = (1, img_rows, img_cols)\n",
        "else:\n",
        "    x_train = x_train.reshape(x_train.shape[0], img_rows, img_cols, 1)\n",
        "    x_test = x_test.reshape(x_test.shape[0], img_rows, img_cols, 1)\n",
        "    input_shape = (img_rows, img_cols, 1)"
      ],
      "execution_count": 4,
      "outputs": []
    },
    {
      "cell_type": "code",
      "metadata": {
        "id": "c0rDhZOOp9w6",
        "outputId": "52579629-8b7c-4b09-db41-3e144b3515e9",
        "colab": {
          "base_uri": "https://localhost:8080/",
          "height": 69
        }
      },
      "source": [
        "x_train = x_train.astype('float32')\n",
        "x_test = x_test.astype('float32')\n",
        "x_train /= 255\n",
        "x_test /= 255\n",
        "print('x_train shape:', x_train.shape)\n",
        "print(x_train.shape[0], 'train samples')\n",
        "print(x_test.shape[0], 'test samples')"
      ],
      "execution_count": 5,
      "outputs": [
        {
          "output_type": "stream",
          "text": [
            "x_train shape: (60000, 28, 28, 1)\n",
            "60000 train samples\n",
            "10000 test samples\n"
          ],
          "name": "stdout"
        }
      ]
    },
    {
      "cell_type": "code",
      "metadata": {
        "id": "evEfJ7PBqAbP"
      },
      "source": [
        "# convert class vectors to binary class matrices\n",
        "y_train = keras.utils.to_categorical(y_train, num_classes)\n",
        "y_test = keras.utils.to_categorical(y_test, num_classes)"
      ],
      "execution_count": 6,
      "outputs": []
    },
    {
      "cell_type": "markdown",
      "metadata": {
        "id": "0t2GqzzoM5Iz"
      },
      "source": [
        "## Setup regular model and MC model"
      ]
    },
    {
      "cell_type": "code",
      "metadata": {
        "id": "zNC4-tjlqCZd"
      },
      "source": [
        "def get_dropout(input_tensor, p=0.5, mc=False):\n",
        "    if mc:\n",
        "        return Dropout(p)(input_tensor, training=True)\n",
        "    else:\n",
        "        return Dropout(p)(input_tensor)\n",
        "\n",
        "\n",
        "def get_model(mc=False, act=\"relu\"):\n",
        "    inp = Input(input_shape)\n",
        "    x = Conv2D(32, kernel_size=(3, 3), activation=act)(inp)\n",
        "    x = Conv2D(64, kernel_size=(3, 3), activation=act)(x)\n",
        "    x = MaxPooling2D(pool_size=(2, 2))(x)\n",
        "    x = get_dropout(x, p=0.25, mc=mc)\n",
        "    x = Flatten()(x)\n",
        "    x = Dense(128, activation=act)(x)\n",
        "    x = get_dropout(x, p=0.5, mc=mc)\n",
        "    out = Dense(num_classes, activation='softmax')(x)\n",
        "    model = Model(inputs=inp, outputs=out)\n",
        "\n",
        "    model.compile(loss=keras.losses.categorical_crossentropy,\n",
        "                  optimizer=keras.optimizers.Adadelta(),\n",
        "                  metrics=['accuracy'])\n",
        "    return model"
      ],
      "execution_count": 7,
      "outputs": []
    },
    {
      "cell_type": "code",
      "metadata": {
        "id": "18gwCGvkqDbL"
      },
      "source": [
        "model = get_model(mc=False, act=\"relu\")\n",
        "mc_model = get_model(mc=True, act=\"relu\")"
      ],
      "execution_count": 8,
      "outputs": []
    },
    {
      "cell_type": "markdown",
      "metadata": {
        "id": "X-a9BLesNNpl"
      },
      "source": [
        "## Train and evaluate regular model"
      ]
    },
    {
      "cell_type": "code",
      "metadata": {
        "id": "abq84XFEqGpY",
        "outputId": "22ac445a-a2cb-40e0-8932-5ebb77b3d65a",
        "colab": {
          "base_uri": "https://localhost:8080/",
          "height": 1000
        }
      },
      "source": [
        "h = model.fit(x_train, y_train,\n",
        "              batch_size=batch_size,\n",
        "              epochs=epochs,\n",
        "              verbose=1,\n",
        "              validation_data=(x_test, y_test))"
      ],
      "execution_count": 9,
      "outputs": [
        {
          "output_type": "stream",
          "text": [
            "Epoch 1/100\n",
            "469/469 [==============================] - 7s 15ms/step - loss: 2.2765 - accuracy: 0.1672 - val_loss: 2.2385 - val_accuracy: 0.3965\n",
            "Epoch 2/100\n",
            "469/469 [==============================] - 7s 14ms/step - loss: 2.2177 - accuracy: 0.2900 - val_loss: 2.1655 - val_accuracy: 0.6054\n",
            "Epoch 3/100\n",
            "469/469 [==============================] - 7s 14ms/step - loss: 2.1407 - accuracy: 0.3948 - val_loss: 2.0679 - val_accuracy: 0.6840\n",
            "Epoch 4/100\n",
            "469/469 [==============================] - 7s 14ms/step - loss: 2.0377 - accuracy: 0.4729 - val_loss: 1.9381 - val_accuracy: 0.7072\n",
            "Epoch 5/100\n",
            "469/469 [==============================] - 7s 14ms/step - loss: 1.9056 - accuracy: 0.5264 - val_loss: 1.7725 - val_accuracy: 0.7198\n",
            "Epoch 6/100\n",
            "469/469 [==============================] - 7s 14ms/step - loss: 1.7467 - accuracy: 0.5624 - val_loss: 1.5785 - val_accuracy: 0.7316\n",
            "Epoch 7/100\n",
            "469/469 [==============================] - 7s 14ms/step - loss: 1.5784 - accuracy: 0.5937 - val_loss: 1.3776 - val_accuracy: 0.7493\n",
            "Epoch 8/100\n",
            "469/469 [==============================] - 7s 14ms/step - loss: 1.4175 - accuracy: 0.6188 - val_loss: 1.1937 - val_accuracy: 0.7676\n",
            "Epoch 9/100\n",
            "469/469 [==============================] - 7s 14ms/step - loss: 1.2751 - accuracy: 0.6464 - val_loss: 1.0406 - val_accuracy: 0.7834\n",
            "Epoch 10/100\n",
            "469/469 [==============================] - 7s 14ms/step - loss: 1.1638 - accuracy: 0.6680 - val_loss: 0.9208 - val_accuracy: 0.8000\n",
            "Epoch 11/100\n",
            "469/469 [==============================] - 7s 14ms/step - loss: 1.0741 - accuracy: 0.6848 - val_loss: 0.8276 - val_accuracy: 0.8113\n",
            "Epoch 12/100\n",
            "469/469 [==============================] - 7s 15ms/step - loss: 1.0049 - accuracy: 0.7036 - val_loss: 0.7553 - val_accuracy: 0.8216\n",
            "Epoch 13/100\n",
            "469/469 [==============================] - 7s 15ms/step - loss: 0.9460 - accuracy: 0.7146 - val_loss: 0.6978 - val_accuracy: 0.8331\n",
            "Epoch 14/100\n",
            "469/469 [==============================] - 7s 15ms/step - loss: 0.8978 - accuracy: 0.7301 - val_loss: 0.6512 - val_accuracy: 0.8411\n",
            "Epoch 15/100\n",
            "469/469 [==============================] - 7s 14ms/step - loss: 0.8507 - accuracy: 0.7407 - val_loss: 0.6116 - val_accuracy: 0.8477\n",
            "Epoch 16/100\n",
            "469/469 [==============================] - 7s 14ms/step - loss: 0.8166 - accuracy: 0.7495 - val_loss: 0.5792 - val_accuracy: 0.8537\n",
            "Epoch 17/100\n",
            "469/469 [==============================] - 7s 14ms/step - loss: 0.7895 - accuracy: 0.7582 - val_loss: 0.5519 - val_accuracy: 0.8593\n",
            "Epoch 18/100\n",
            "469/469 [==============================] - 7s 14ms/step - loss: 0.7584 - accuracy: 0.7659 - val_loss: 0.5283 - val_accuracy: 0.8635\n",
            "Epoch 19/100\n",
            "469/469 [==============================] - 7s 14ms/step - loss: 0.7364 - accuracy: 0.7743 - val_loss: 0.5078 - val_accuracy: 0.8690\n",
            "Epoch 20/100\n",
            "469/469 [==============================] - 7s 14ms/step - loss: 0.7125 - accuracy: 0.7813 - val_loss: 0.4900 - val_accuracy: 0.8737\n",
            "Epoch 21/100\n",
            "469/469 [==============================] - 7s 14ms/step - loss: 0.6934 - accuracy: 0.7876 - val_loss: 0.4742 - val_accuracy: 0.8770\n",
            "Epoch 22/100\n",
            "469/469 [==============================] - 7s 14ms/step - loss: 0.6807 - accuracy: 0.7918 - val_loss: 0.4602 - val_accuracy: 0.8803\n",
            "Epoch 23/100\n",
            "469/469 [==============================] - 7s 14ms/step - loss: 0.6631 - accuracy: 0.7975 - val_loss: 0.4469 - val_accuracy: 0.8833\n",
            "Epoch 24/100\n",
            "469/469 [==============================] - 7s 14ms/step - loss: 0.6441 - accuracy: 0.8014 - val_loss: 0.4351 - val_accuracy: 0.8846\n",
            "Epoch 25/100\n",
            "469/469 [==============================] - 7s 15ms/step - loss: 0.6329 - accuracy: 0.8053 - val_loss: 0.4242 - val_accuracy: 0.8871\n",
            "Epoch 26/100\n",
            "469/469 [==============================] - 7s 15ms/step - loss: 0.6176 - accuracy: 0.8099 - val_loss: 0.4141 - val_accuracy: 0.8892\n",
            "Epoch 27/100\n",
            "469/469 [==============================] - 7s 14ms/step - loss: 0.6075 - accuracy: 0.8130 - val_loss: 0.4050 - val_accuracy: 0.8912\n",
            "Epoch 28/100\n",
            "469/469 [==============================] - 7s 14ms/step - loss: 0.6013 - accuracy: 0.8153 - val_loss: 0.3972 - val_accuracy: 0.8933\n",
            "Epoch 29/100\n",
            "469/469 [==============================] - 7s 15ms/step - loss: 0.5840 - accuracy: 0.8220 - val_loss: 0.3886 - val_accuracy: 0.8953\n",
            "Epoch 30/100\n",
            "469/469 [==============================] - 7s 15ms/step - loss: 0.5733 - accuracy: 0.8246 - val_loss: 0.3815 - val_accuracy: 0.8964\n",
            "Epoch 31/100\n",
            "469/469 [==============================] - 7s 14ms/step - loss: 0.5688 - accuracy: 0.8250 - val_loss: 0.3743 - val_accuracy: 0.8984\n",
            "Epoch 32/100\n",
            "469/469 [==============================] - 7s 14ms/step - loss: 0.5575 - accuracy: 0.8284 - val_loss: 0.3679 - val_accuracy: 0.9004\n",
            "Epoch 33/100\n",
            "469/469 [==============================] - 7s 14ms/step - loss: 0.5517 - accuracy: 0.8302 - val_loss: 0.3624 - val_accuracy: 0.9015\n",
            "Epoch 34/100\n",
            "469/469 [==============================] - 7s 14ms/step - loss: 0.5473 - accuracy: 0.8328 - val_loss: 0.3567 - val_accuracy: 0.9027\n",
            "Epoch 35/100\n",
            "469/469 [==============================] - 7s 14ms/step - loss: 0.5401 - accuracy: 0.8353 - val_loss: 0.3515 - val_accuracy: 0.9040\n",
            "Epoch 36/100\n",
            "469/469 [==============================] - 7s 14ms/step - loss: 0.5331 - accuracy: 0.8377 - val_loss: 0.3464 - val_accuracy: 0.9054\n",
            "Epoch 37/100\n",
            "469/469 [==============================] - 7s 14ms/step - loss: 0.5233 - accuracy: 0.8404 - val_loss: 0.3416 - val_accuracy: 0.9059\n",
            "Epoch 38/100\n",
            "469/469 [==============================] - 7s 15ms/step - loss: 0.5169 - accuracy: 0.8430 - val_loss: 0.3366 - val_accuracy: 0.9074\n",
            "Epoch 39/100\n",
            "469/469 [==============================] - 7s 15ms/step - loss: 0.5123 - accuracy: 0.8442 - val_loss: 0.3322 - val_accuracy: 0.9086\n",
            "Epoch 40/100\n",
            "469/469 [==============================] - 7s 14ms/step - loss: 0.5071 - accuracy: 0.8448 - val_loss: 0.3281 - val_accuracy: 0.9096\n",
            "Epoch 41/100\n",
            "469/469 [==============================] - 7s 14ms/step - loss: 0.4988 - accuracy: 0.8470 - val_loss: 0.3242 - val_accuracy: 0.9095\n",
            "Epoch 42/100\n",
            "469/469 [==============================] - 7s 14ms/step - loss: 0.4969 - accuracy: 0.8479 - val_loss: 0.3203 - val_accuracy: 0.9110\n",
            "Epoch 43/100\n",
            "469/469 [==============================] - 7s 14ms/step - loss: 0.4934 - accuracy: 0.8501 - val_loss: 0.3166 - val_accuracy: 0.9122\n",
            "Epoch 44/100\n",
            "469/469 [==============================] - 7s 14ms/step - loss: 0.4862 - accuracy: 0.8517 - val_loss: 0.3130 - val_accuracy: 0.9129\n",
            "Epoch 45/100\n",
            "469/469 [==============================] - 7s 14ms/step - loss: 0.4870 - accuracy: 0.8528 - val_loss: 0.3098 - val_accuracy: 0.9140\n",
            "Epoch 46/100\n",
            "469/469 [==============================] - 7s 14ms/step - loss: 0.4785 - accuracy: 0.8540 - val_loss: 0.3064 - val_accuracy: 0.9150\n",
            "Epoch 47/100\n",
            "469/469 [==============================] - 7s 14ms/step - loss: 0.4735 - accuracy: 0.8552 - val_loss: 0.3026 - val_accuracy: 0.9159\n",
            "Epoch 48/100\n",
            "469/469 [==============================] - 7s 14ms/step - loss: 0.4679 - accuracy: 0.8559 - val_loss: 0.2994 - val_accuracy: 0.9165\n",
            "Epoch 49/100\n",
            "469/469 [==============================] - 7s 14ms/step - loss: 0.4648 - accuracy: 0.8571 - val_loss: 0.2967 - val_accuracy: 0.9171\n",
            "Epoch 50/100\n",
            "469/469 [==============================] - 7s 14ms/step - loss: 0.4614 - accuracy: 0.8597 - val_loss: 0.2938 - val_accuracy: 0.9184\n",
            "Epoch 51/100\n",
            "469/469 [==============================] - 7s 14ms/step - loss: 0.4581 - accuracy: 0.8598 - val_loss: 0.2910 - val_accuracy: 0.9181\n",
            "Epoch 52/100\n",
            "469/469 [==============================] - 7s 14ms/step - loss: 0.4526 - accuracy: 0.8626 - val_loss: 0.2880 - val_accuracy: 0.9187\n",
            "Epoch 53/100\n",
            "469/469 [==============================] - 7s 14ms/step - loss: 0.4497 - accuracy: 0.8636 - val_loss: 0.2855 - val_accuracy: 0.9195\n",
            "Epoch 54/100\n",
            "469/469 [==============================] - 7s 14ms/step - loss: 0.4448 - accuracy: 0.8652 - val_loss: 0.2825 - val_accuracy: 0.9195\n",
            "Epoch 55/100\n",
            "469/469 [==============================] - 7s 14ms/step - loss: 0.4421 - accuracy: 0.8658 - val_loss: 0.2801 - val_accuracy: 0.9200\n",
            "Epoch 56/100\n",
            "469/469 [==============================] - 7s 14ms/step - loss: 0.4373 - accuracy: 0.8670 - val_loss: 0.2773 - val_accuracy: 0.9207\n",
            "Epoch 57/100\n",
            "469/469 [==============================] - 7s 14ms/step - loss: 0.4355 - accuracy: 0.8669 - val_loss: 0.2750 - val_accuracy: 0.9214\n",
            "Epoch 58/100\n",
            "469/469 [==============================] - 7s 14ms/step - loss: 0.4301 - accuracy: 0.8704 - val_loss: 0.2726 - val_accuracy: 0.9221\n",
            "Epoch 59/100\n",
            "469/469 [==============================] - 7s 14ms/step - loss: 0.4308 - accuracy: 0.8680 - val_loss: 0.2706 - val_accuracy: 0.9219\n",
            "Epoch 60/100\n",
            "469/469 [==============================] - 7s 14ms/step - loss: 0.4236 - accuracy: 0.8716 - val_loss: 0.2680 - val_accuracy: 0.9232\n",
            "Epoch 61/100\n",
            "469/469 [==============================] - 7s 14ms/step - loss: 0.4220 - accuracy: 0.8723 - val_loss: 0.2660 - val_accuracy: 0.9237\n",
            "Epoch 62/100\n",
            "469/469 [==============================] - 7s 14ms/step - loss: 0.4208 - accuracy: 0.8737 - val_loss: 0.2634 - val_accuracy: 0.9234\n",
            "Epoch 63/100\n",
            "469/469 [==============================] - 7s 14ms/step - loss: 0.4179 - accuracy: 0.8734 - val_loss: 0.2615 - val_accuracy: 0.9243\n",
            "Epoch 64/100\n",
            "469/469 [==============================] - 7s 14ms/step - loss: 0.4151 - accuracy: 0.8739 - val_loss: 0.2595 - val_accuracy: 0.9243\n",
            "Epoch 65/100\n",
            "469/469 [==============================] - 7s 14ms/step - loss: 0.4109 - accuracy: 0.8767 - val_loss: 0.2576 - val_accuracy: 0.9251\n",
            "Epoch 66/100\n",
            "469/469 [==============================] - 7s 14ms/step - loss: 0.4120 - accuracy: 0.8750 - val_loss: 0.2554 - val_accuracy: 0.9251\n",
            "Epoch 67/100\n",
            "469/469 [==============================] - 7s 14ms/step - loss: 0.4071 - accuracy: 0.8771 - val_loss: 0.2537 - val_accuracy: 0.9260\n",
            "Epoch 68/100\n",
            "469/469 [==============================] - 7s 14ms/step - loss: 0.4070 - accuracy: 0.8763 - val_loss: 0.2518 - val_accuracy: 0.9264\n",
            "Epoch 69/100\n",
            "469/469 [==============================] - 7s 14ms/step - loss: 0.4048 - accuracy: 0.8774 - val_loss: 0.2502 - val_accuracy: 0.9273\n",
            "Epoch 70/100\n",
            "469/469 [==============================] - 7s 14ms/step - loss: 0.4001 - accuracy: 0.8789 - val_loss: 0.2484 - val_accuracy: 0.9271\n",
            "Epoch 71/100\n",
            "469/469 [==============================] - 7s 15ms/step - loss: 0.3984 - accuracy: 0.8803 - val_loss: 0.2461 - val_accuracy: 0.9281\n",
            "Epoch 72/100\n",
            "469/469 [==============================] - 7s 15ms/step - loss: 0.3932 - accuracy: 0.8806 - val_loss: 0.2442 - val_accuracy: 0.9282\n",
            "Epoch 73/100\n",
            "469/469 [==============================] - 7s 14ms/step - loss: 0.3892 - accuracy: 0.8826 - val_loss: 0.2424 - val_accuracy: 0.9288\n",
            "Epoch 74/100\n",
            "469/469 [==============================] - 7s 14ms/step - loss: 0.3902 - accuracy: 0.8826 - val_loss: 0.2407 - val_accuracy: 0.9292\n",
            "Epoch 75/100\n",
            "469/469 [==============================] - 7s 15ms/step - loss: 0.3861 - accuracy: 0.8829 - val_loss: 0.2391 - val_accuracy: 0.9292\n",
            "Epoch 76/100\n",
            "469/469 [==============================] - 7s 14ms/step - loss: 0.3837 - accuracy: 0.8844 - val_loss: 0.2375 - val_accuracy: 0.9298\n",
            "Epoch 77/100\n",
            "469/469 [==============================] - 7s 14ms/step - loss: 0.3830 - accuracy: 0.8836 - val_loss: 0.2361 - val_accuracy: 0.9300\n",
            "Epoch 78/100\n",
            "469/469 [==============================] - 7s 14ms/step - loss: 0.3845 - accuracy: 0.8838 - val_loss: 0.2344 - val_accuracy: 0.9310\n",
            "Epoch 79/100\n",
            "469/469 [==============================] - 7s 14ms/step - loss: 0.3772 - accuracy: 0.8864 - val_loss: 0.2325 - val_accuracy: 0.9313\n",
            "Epoch 80/100\n",
            "469/469 [==============================] - 7s 14ms/step - loss: 0.3749 - accuracy: 0.8871 - val_loss: 0.2308 - val_accuracy: 0.9311\n",
            "Epoch 81/100\n",
            "469/469 [==============================] - 7s 14ms/step - loss: 0.3766 - accuracy: 0.8868 - val_loss: 0.2294 - val_accuracy: 0.9314\n",
            "Epoch 82/100\n",
            "469/469 [==============================] - 7s 14ms/step - loss: 0.3719 - accuracy: 0.8887 - val_loss: 0.2281 - val_accuracy: 0.9320\n",
            "Epoch 83/100\n",
            "469/469 [==============================] - 7s 14ms/step - loss: 0.3730 - accuracy: 0.8874 - val_loss: 0.2267 - val_accuracy: 0.9323\n",
            "Epoch 84/100\n",
            "469/469 [==============================] - 7s 14ms/step - loss: 0.3663 - accuracy: 0.8899 - val_loss: 0.2253 - val_accuracy: 0.9332\n",
            "Epoch 85/100\n",
            "469/469 [==============================] - 7s 14ms/step - loss: 0.3666 - accuracy: 0.8910 - val_loss: 0.2238 - val_accuracy: 0.9339\n",
            "Epoch 86/100\n",
            "469/469 [==============================] - 7s 14ms/step - loss: 0.3670 - accuracy: 0.8902 - val_loss: 0.2226 - val_accuracy: 0.9335\n",
            "Epoch 87/100\n",
            "469/469 [==============================] - 7s 14ms/step - loss: 0.3632 - accuracy: 0.8889 - val_loss: 0.2212 - val_accuracy: 0.9341\n",
            "Epoch 88/100\n",
            "469/469 [==============================] - 7s 14ms/step - loss: 0.3603 - accuracy: 0.8916 - val_loss: 0.2201 - val_accuracy: 0.9348\n",
            "Epoch 89/100\n",
            "469/469 [==============================] - 7s 14ms/step - loss: 0.3610 - accuracy: 0.8913 - val_loss: 0.2183 - val_accuracy: 0.9350\n",
            "Epoch 90/100\n",
            "469/469 [==============================] - 7s 14ms/step - loss: 0.3567 - accuracy: 0.8923 - val_loss: 0.2172 - val_accuracy: 0.9348\n",
            "Epoch 91/100\n",
            "469/469 [==============================] - 7s 14ms/step - loss: 0.3544 - accuracy: 0.8941 - val_loss: 0.2157 - val_accuracy: 0.9350\n",
            "Epoch 92/100\n",
            "469/469 [==============================] - 7s 14ms/step - loss: 0.3511 - accuracy: 0.8943 - val_loss: 0.2143 - val_accuracy: 0.9354\n",
            "Epoch 93/100\n",
            "469/469 [==============================] - 7s 14ms/step - loss: 0.3535 - accuracy: 0.8933 - val_loss: 0.2130 - val_accuracy: 0.9360\n",
            "Epoch 94/100\n",
            "469/469 [==============================] - 7s 14ms/step - loss: 0.3514 - accuracy: 0.8956 - val_loss: 0.2117 - val_accuracy: 0.9363\n",
            "Epoch 95/100\n",
            "469/469 [==============================] - 7s 14ms/step - loss: 0.3464 - accuracy: 0.8957 - val_loss: 0.2104 - val_accuracy: 0.9367\n",
            "Epoch 96/100\n",
            "469/469 [==============================] - 7s 14ms/step - loss: 0.3480 - accuracy: 0.8967 - val_loss: 0.2095 - val_accuracy: 0.9377\n",
            "Epoch 97/100\n",
            "469/469 [==============================] - 7s 14ms/step - loss: 0.3494 - accuracy: 0.8960 - val_loss: 0.2083 - val_accuracy: 0.9377\n",
            "Epoch 98/100\n",
            "469/469 [==============================] - 7s 14ms/step - loss: 0.3436 - accuracy: 0.8962 - val_loss: 0.2069 - val_accuracy: 0.9382\n",
            "Epoch 99/100\n",
            "469/469 [==============================] - 7s 14ms/step - loss: 0.3424 - accuracy: 0.8971 - val_loss: 0.2056 - val_accuracy: 0.9384\n",
            "Epoch 100/100\n",
            "469/469 [==============================] - 7s 14ms/step - loss: 0.3379 - accuracy: 0.8988 - val_loss: 0.2048 - val_accuracy: 0.9381\n"
          ],
          "name": "stdout"
        }
      ]
    },
    {
      "cell_type": "code",
      "metadata": {
        "id": "VBJ0-kissiMm"
      },
      "source": [
        "def plot_train_validation(history, plot_type):\n",
        "  plt.plot(h.history[plot_type])\n",
        "  plt.plot(h.history[f'val_{plot_type}'])\n",
        "  plt.title(f'model {plot_type}')\n",
        "  plt.ylabel(plot_type)\n",
        "  plt.xlabel('epoch')\n",
        "  plt.legend(['train', 'val'], loc='upper left')\n",
        "  plt.show()"
      ],
      "execution_count": 10,
      "outputs": []
    },
    {
      "cell_type": "code",
      "metadata": {
        "id": "HxTLKUUntP8H",
        "outputId": "b1daf82c-57ea-41d2-95e0-55fba13c240f",
        "colab": {
          "base_uri": "https://localhost:8080/",
          "height": 299
        }
      },
      "source": [
        "plot_train_validation(h, \"loss\")"
      ],
      "execution_count": 11,
      "outputs": [
        {
          "output_type": "display_data",
          "data": {
            "image/png": "[encoded data removed]",
            "text/plain": [
              "<Figure size 432x288 with 1 Axes>"
            ]
          },
          "metadata": {
            "tags": [],
            "needs_background": "light"
          }
        }
      ]
    },
    {
      "cell_type": "code",
      "metadata": {
        "id": "orqB7hX9tSW-",
        "outputId": "0b57ac45-4242-48b3-9e8c-24757d21b5ea",
        "colab": {
          "base_uri": "https://localhost:8080/",
          "height": 299
        }
      },
      "source": [
        "plot_train_validation(h, \"accuracy\")"
      ],
      "execution_count": 12,
      "outputs": [
        {
          "output_type": "display_data",
          "data": {
            "image/png": "[encoded data removed]",
            "text/plain": [
              "<Figure size 432x288 with 1 Axes>"
            ]
          },
          "metadata": {
            "tags": [],
            "needs_background": "light"
          }
        }
      ]
    },
    {
      "cell_type": "code",
      "metadata": {
        "id": "asc482A-qIiW",
        "outputId": "e93bff72-6979-4247-ef83-62ce22a5c123",
        "colab": {
          "base_uri": "https://localhost:8080/",
          "height": 52
        }
      },
      "source": [
        "# score of the normal model\n",
        "score = model.evaluate(x_test, y_test, verbose=0)\n",
        "\n",
        "print('Test loss:', score[0])\n",
        "print('Test accuracy:', score[1])"
      ],
      "execution_count": 13,
      "outputs": [
        {
          "output_type": "stream",
          "text": [
            "Test loss: 0.20478086173534393\n",
            "Test accuracy: 0.9380999803543091\n"
          ],
          "name": "stdout"
        }
      ]
    },
    {
      "cell_type": "markdown",
      "metadata": {
        "id": "bbFN7bWdNXZ1"
      },
      "source": [
        "## Train and evaluate MC model"
      ]
    },
    {
      "cell_type": "code",
      "metadata": {
        "id": "ifrWtzuOqMsd",
        "outputId": "f8687c8e-410b-4919-d099-ba4398f84011",
        "colab": {
          "base_uri": "https://localhost:8080/",
          "height": 1000
        }
      },
      "source": [
        "h_mc = mc_model.fit(x_train, y_train,\n",
        "                    batch_size=batch_size,\n",
        "                    epochs=epochs,\n",
        "                    verbose=1,\n",
        "                    validation_data=(x_test, y_test))"
      ],
      "execution_count": 14,
      "outputs": [
        {
          "output_type": "stream",
          "text": [
            "Epoch 1/100\n",
            "469/469 [==============================] - 7s 15ms/step - loss: 2.2819 - accuracy: 0.1419 - val_loss: 2.2458 - val_accuracy: 0.2070\n",
            "Epoch 2/100\n",
            "469/469 [==============================] - 7s 14ms/step - loss: 2.2073 - accuracy: 0.2715 - val_loss: 2.1630 - val_accuracy: 0.3373\n",
            "Epoch 3/100\n",
            "469/469 [==============================] - 7s 14ms/step - loss: 2.1127 - accuracy: 0.3879 - val_loss: 2.0518 - val_accuracy: 0.4321\n",
            "Epoch 4/100\n",
            "469/469 [==============================] - 7s 14ms/step - loss: 1.9875 - accuracy: 0.4670 - val_loss: 1.9049 - val_accuracy: 0.5140\n",
            "Epoch 5/100\n",
            "469/469 [==============================] - 7s 14ms/step - loss: 1.8327 - accuracy: 0.5315 - val_loss: 1.7399 - val_accuracy: 0.5629\n",
            "Epoch 6/100\n",
            "469/469 [==============================] - 7s 14ms/step - loss: 1.6559 - accuracy: 0.5792 - val_loss: 1.5443 - val_accuracy: 0.6156\n",
            "Epoch 7/100\n",
            "469/469 [==============================] - 7s 14ms/step - loss: 1.4709 - accuracy: 0.6191 - val_loss: 1.3668 - val_accuracy: 0.6427\n",
            "Epoch 8/100\n",
            "469/469 [==============================] - 7s 14ms/step - loss: 1.3048 - accuracy: 0.6524 - val_loss: 1.2164 - val_accuracy: 0.6730\n",
            "Epoch 9/100\n",
            "469/469 [==============================] - 7s 14ms/step - loss: 1.1739 - accuracy: 0.6742 - val_loss: 1.0929 - val_accuracy: 0.6963\n",
            "Epoch 10/100\n",
            "469/469 [==============================] - 7s 14ms/step - loss: 1.0646 - accuracy: 0.6979 - val_loss: 0.9972 - val_accuracy: 0.7134\n",
            "Epoch 11/100\n",
            "469/469 [==============================] - 7s 14ms/step - loss: 0.9856 - accuracy: 0.7143 - val_loss: 0.9270 - val_accuracy: 0.7329\n",
            "Epoch 12/100\n",
            "469/469 [==============================] - 7s 14ms/step - loss: 0.9174 - accuracy: 0.7299 - val_loss: 0.8716 - val_accuracy: 0.7420\n",
            "Epoch 13/100\n",
            "469/469 [==============================] - 7s 14ms/step - loss: 0.8657 - accuracy: 0.7427 - val_loss: 0.8307 - val_accuracy: 0.7480\n",
            "Epoch 14/100\n",
            "469/469 [==============================] - 7s 14ms/step - loss: 0.8210 - accuracy: 0.7538 - val_loss: 0.7862 - val_accuracy: 0.7637\n",
            "Epoch 15/100\n",
            "469/469 [==============================] - 7s 14ms/step - loss: 0.7822 - accuracy: 0.7650 - val_loss: 0.7416 - val_accuracy: 0.7804\n",
            "Epoch 16/100\n",
            "469/469 [==============================] - 7s 14ms/step - loss: 0.7497 - accuracy: 0.7732 - val_loss: 0.7091 - val_accuracy: 0.7895\n",
            "Epoch 17/100\n",
            "469/469 [==============================] - 7s 15ms/step - loss: 0.7228 - accuracy: 0.7815 - val_loss: 0.6808 - val_accuracy: 0.7930\n",
            "Epoch 18/100\n",
            "469/469 [==============================] - 7s 15ms/step - loss: 0.7000 - accuracy: 0.7878 - val_loss: 0.6586 - val_accuracy: 0.8026\n",
            "Epoch 19/100\n",
            "469/469 [==============================] - 7s 14ms/step - loss: 0.6760 - accuracy: 0.7944 - val_loss: 0.6436 - val_accuracy: 0.8060\n",
            "Epoch 20/100\n",
            "469/469 [==============================] - 7s 15ms/step - loss: 0.6549 - accuracy: 0.8020 - val_loss: 0.6241 - val_accuracy: 0.8122\n",
            "Epoch 21/100\n",
            "469/469 [==============================] - 7s 14ms/step - loss: 0.6370 - accuracy: 0.8071 - val_loss: 0.6112 - val_accuracy: 0.8159\n",
            "Epoch 22/100\n",
            "469/469 [==============================] - 7s 14ms/step - loss: 0.6227 - accuracy: 0.8119 - val_loss: 0.5882 - val_accuracy: 0.8241\n",
            "Epoch 23/100\n",
            "469/469 [==============================] - 7s 14ms/step - loss: 0.6106 - accuracy: 0.8158 - val_loss: 0.5885 - val_accuracy: 0.8196\n",
            "Epoch 24/100\n",
            "469/469 [==============================] - 7s 14ms/step - loss: 0.5947 - accuracy: 0.8200 - val_loss: 0.5639 - val_accuracy: 0.8292\n",
            "Epoch 25/100\n",
            "469/469 [==============================] - 7s 14ms/step - loss: 0.5840 - accuracy: 0.8213 - val_loss: 0.5646 - val_accuracy: 0.8269\n",
            "Epoch 26/100\n",
            "469/469 [==============================] - 7s 14ms/step - loss: 0.5713 - accuracy: 0.8266 - val_loss: 0.5411 - val_accuracy: 0.8371\n",
            "Epoch 27/100\n",
            "469/469 [==============================] - 7s 14ms/step - loss: 0.5661 - accuracy: 0.8271 - val_loss: 0.5417 - val_accuracy: 0.8403\n",
            "Epoch 28/100\n",
            "469/469 [==============================] - 7s 14ms/step - loss: 0.5501 - accuracy: 0.8324 - val_loss: 0.5222 - val_accuracy: 0.8415\n",
            "Epoch 29/100\n",
            "469/469 [==============================] - 7s 14ms/step - loss: 0.5419 - accuracy: 0.8352 - val_loss: 0.5171 - val_accuracy: 0.8444\n",
            "Epoch 30/100\n",
            "469/469 [==============================] - 7s 14ms/step - loss: 0.5380 - accuracy: 0.8362 - val_loss: 0.5195 - val_accuracy: 0.8422\n",
            "Epoch 31/100\n",
            "469/469 [==============================] - 7s 14ms/step - loss: 0.5298 - accuracy: 0.8396 - val_loss: 0.4959 - val_accuracy: 0.8502\n",
            "Epoch 32/100\n",
            "469/469 [==============================] - 7s 14ms/step - loss: 0.5191 - accuracy: 0.8420 - val_loss: 0.5009 - val_accuracy: 0.8524\n",
            "Epoch 33/100\n",
            "469/469 [==============================] - 7s 14ms/step - loss: 0.5117 - accuracy: 0.8444 - val_loss: 0.5001 - val_accuracy: 0.8476\n",
            "Epoch 34/100\n",
            "469/469 [==============================] - 7s 14ms/step - loss: 0.5051 - accuracy: 0.8473 - val_loss: 0.4781 - val_accuracy: 0.8580\n",
            "Epoch 35/100\n",
            "469/469 [==============================] - 7s 14ms/step - loss: 0.4997 - accuracy: 0.8477 - val_loss: 0.4762 - val_accuracy: 0.8578\n",
            "Epoch 36/100\n",
            "469/469 [==============================] - 7s 14ms/step - loss: 0.4964 - accuracy: 0.8483 - val_loss: 0.4793 - val_accuracy: 0.8538\n",
            "Epoch 37/100\n",
            "469/469 [==============================] - 7s 14ms/step - loss: 0.4875 - accuracy: 0.8521 - val_loss: 0.4670 - val_accuracy: 0.8573\n",
            "Epoch 38/100\n",
            "469/469 [==============================] - 7s 14ms/step - loss: 0.4802 - accuracy: 0.8551 - val_loss: 0.4702 - val_accuracy: 0.8583\n",
            "Epoch 39/100\n",
            "469/469 [==============================] - 7s 14ms/step - loss: 0.4764 - accuracy: 0.8563 - val_loss: 0.4575 - val_accuracy: 0.8594\n",
            "Epoch 40/100\n",
            "469/469 [==============================] - 7s 14ms/step - loss: 0.4718 - accuracy: 0.8569 - val_loss: 0.4504 - val_accuracy: 0.8676\n",
            "Epoch 41/100\n",
            "469/469 [==============================] - 7s 14ms/step - loss: 0.4636 - accuracy: 0.8593 - val_loss: 0.4377 - val_accuracy: 0.8690\n",
            "Epoch 42/100\n",
            "469/469 [==============================] - 7s 15ms/step - loss: 0.4606 - accuracy: 0.8602 - val_loss: 0.4415 - val_accuracy: 0.8659\n",
            "Epoch 43/100\n",
            "469/469 [==============================] - 7s 15ms/step - loss: 0.4582 - accuracy: 0.8616 - val_loss: 0.4261 - val_accuracy: 0.8720\n",
            "Epoch 44/100\n",
            "469/469 [==============================] - 7s 15ms/step - loss: 0.4506 - accuracy: 0.8642 - val_loss: 0.4306 - val_accuracy: 0.8730\n",
            "Epoch 45/100\n",
            "469/469 [==============================] - 7s 14ms/step - loss: 0.4465 - accuracy: 0.8640 - val_loss: 0.4268 - val_accuracy: 0.8711\n",
            "Epoch 46/100\n",
            "469/469 [==============================] - 7s 15ms/step - loss: 0.4439 - accuracy: 0.8662 - val_loss: 0.4145 - val_accuracy: 0.8736\n",
            "Epoch 47/100\n",
            "469/469 [==============================] - 7s 14ms/step - loss: 0.4384 - accuracy: 0.8672 - val_loss: 0.4110 - val_accuracy: 0.8763\n",
            "Epoch 48/100\n",
            "469/469 [==============================] - 7s 15ms/step - loss: 0.4379 - accuracy: 0.8690 - val_loss: 0.4183 - val_accuracy: 0.8731\n",
            "Epoch 49/100\n",
            "469/469 [==============================] - 7s 14ms/step - loss: 0.4307 - accuracy: 0.8705 - val_loss: 0.4050 - val_accuracy: 0.8794\n",
            "Epoch 50/100\n",
            "469/469 [==============================] - 7s 14ms/step - loss: 0.4298 - accuracy: 0.8701 - val_loss: 0.4090 - val_accuracy: 0.8753\n",
            "Epoch 51/100\n",
            "469/469 [==============================] - 7s 14ms/step - loss: 0.4218 - accuracy: 0.8726 - val_loss: 0.4004 - val_accuracy: 0.8789\n",
            "Epoch 52/100\n",
            "469/469 [==============================] - 7s 14ms/step - loss: 0.4183 - accuracy: 0.8734 - val_loss: 0.3995 - val_accuracy: 0.8819\n",
            "Epoch 53/100\n",
            "469/469 [==============================] - 7s 14ms/step - loss: 0.4163 - accuracy: 0.8745 - val_loss: 0.3929 - val_accuracy: 0.8835\n",
            "Epoch 54/100\n",
            "469/469 [==============================] - 7s 14ms/step - loss: 0.4117 - accuracy: 0.8766 - val_loss: 0.3914 - val_accuracy: 0.8834\n",
            "Epoch 55/100\n",
            "469/469 [==============================] - 7s 14ms/step - loss: 0.4127 - accuracy: 0.8760 - val_loss: 0.3908 - val_accuracy: 0.8827\n",
            "Epoch 56/100\n",
            "469/469 [==============================] - 7s 14ms/step - loss: 0.4088 - accuracy: 0.8767 - val_loss: 0.3872 - val_accuracy: 0.8869\n",
            "Epoch 57/100\n",
            "469/469 [==============================] - 7s 14ms/step - loss: 0.4077 - accuracy: 0.8777 - val_loss: 0.3824 - val_accuracy: 0.8871\n",
            "Epoch 58/100\n",
            "469/469 [==============================] - 7s 14ms/step - loss: 0.4028 - accuracy: 0.8791 - val_loss: 0.3854 - val_accuracy: 0.8832\n",
            "Epoch 59/100\n",
            "469/469 [==============================] - 7s 14ms/step - loss: 0.3938 - accuracy: 0.8810 - val_loss: 0.3736 - val_accuracy: 0.8880\n",
            "Epoch 60/100\n",
            "469/469 [==============================] - 7s 14ms/step - loss: 0.3946 - accuracy: 0.8803 - val_loss: 0.3789 - val_accuracy: 0.8863\n",
            "Epoch 61/100\n",
            "469/469 [==============================] - 7s 15ms/step - loss: 0.3902 - accuracy: 0.8832 - val_loss: 0.3692 - val_accuracy: 0.8901\n",
            "Epoch 62/100\n",
            "469/469 [==============================] - 7s 14ms/step - loss: 0.3870 - accuracy: 0.8839 - val_loss: 0.3694 - val_accuracy: 0.8942\n",
            "Epoch 63/100\n",
            "469/469 [==============================] - 7s 15ms/step - loss: 0.3834 - accuracy: 0.8836 - val_loss: 0.3631 - val_accuracy: 0.8902\n",
            "Epoch 64/100\n",
            "469/469 [==============================] - 7s 15ms/step - loss: 0.3866 - accuracy: 0.8849 - val_loss: 0.3587 - val_accuracy: 0.8940\n",
            "Epoch 65/100\n",
            "469/469 [==============================] - 7s 15ms/step - loss: 0.3811 - accuracy: 0.8855 - val_loss: 0.3717 - val_accuracy: 0.8861\n",
            "Epoch 66/100\n",
            "469/469 [==============================] - 7s 15ms/step - loss: 0.3775 - accuracy: 0.8868 - val_loss: 0.3602 - val_accuracy: 0.8937\n",
            "Epoch 67/100\n",
            "469/469 [==============================] - 7s 14ms/step - loss: 0.3768 - accuracy: 0.8885 - val_loss: 0.3608 - val_accuracy: 0.8906\n",
            "Epoch 68/100\n",
            "469/469 [==============================] - 7s 15ms/step - loss: 0.3749 - accuracy: 0.8869 - val_loss: 0.3520 - val_accuracy: 0.8935\n",
            "Epoch 69/100\n",
            "469/469 [==============================] - 7s 14ms/step - loss: 0.3713 - accuracy: 0.8889 - val_loss: 0.3517 - val_accuracy: 0.8928\n",
            "Epoch 70/100\n",
            "469/469 [==============================] - 7s 14ms/step - loss: 0.3667 - accuracy: 0.8907 - val_loss: 0.3530 - val_accuracy: 0.8949\n",
            "Epoch 71/100\n",
            "469/469 [==============================] - 7s 15ms/step - loss: 0.3640 - accuracy: 0.8913 - val_loss: 0.3538 - val_accuracy: 0.8966\n",
            "Epoch 72/100\n",
            "469/469 [==============================] - 7s 14ms/step - loss: 0.3637 - accuracy: 0.8922 - val_loss: 0.3442 - val_accuracy: 0.8988\n",
            "Epoch 73/100\n",
            "469/469 [==============================] - 7s 14ms/step - loss: 0.3615 - accuracy: 0.8912 - val_loss: 0.3315 - val_accuracy: 0.9013\n",
            "Epoch 74/100\n",
            "469/469 [==============================] - 7s 14ms/step - loss: 0.3598 - accuracy: 0.8923 - val_loss: 0.3359 - val_accuracy: 0.9011\n",
            "Epoch 75/100\n",
            "469/469 [==============================] - 7s 15ms/step - loss: 0.3568 - accuracy: 0.8921 - val_loss: 0.3416 - val_accuracy: 0.8966\n",
            "Epoch 76/100\n",
            "469/469 [==============================] - 7s 15ms/step - loss: 0.3547 - accuracy: 0.8934 - val_loss: 0.3426 - val_accuracy: 0.8989\n",
            "Epoch 77/100\n",
            "469/469 [==============================] - 7s 14ms/step - loss: 0.3551 - accuracy: 0.8940 - val_loss: 0.3369 - val_accuracy: 0.9006\n",
            "Epoch 78/100\n",
            "469/469 [==============================] - 7s 15ms/step - loss: 0.3510 - accuracy: 0.8924 - val_loss: 0.3348 - val_accuracy: 0.9006\n",
            "Epoch 79/100\n",
            "469/469 [==============================] - 7s 14ms/step - loss: 0.3473 - accuracy: 0.8953 - val_loss: 0.3311 - val_accuracy: 0.9000\n",
            "Epoch 80/100\n",
            "469/469 [==============================] - 7s 14ms/step - loss: 0.3446 - accuracy: 0.8974 - val_loss: 0.3289 - val_accuracy: 0.9018\n",
            "Epoch 81/100\n",
            "469/469 [==============================] - 7s 15ms/step - loss: 0.3461 - accuracy: 0.8957 - val_loss: 0.3324 - val_accuracy: 0.9014\n",
            "Epoch 82/100\n",
            "469/469 [==============================] - 7s 14ms/step - loss: 0.3404 - accuracy: 0.8979 - val_loss: 0.3317 - val_accuracy: 0.8996\n",
            "Epoch 83/100\n",
            "469/469 [==============================] - 7s 14ms/step - loss: 0.3392 - accuracy: 0.8978 - val_loss: 0.3250 - val_accuracy: 0.9032\n",
            "Epoch 84/100\n",
            "469/469 [==============================] - 7s 15ms/step - loss: 0.3388 - accuracy: 0.8983 - val_loss: 0.3203 - val_accuracy: 0.9023\n",
            "Epoch 85/100\n",
            "469/469 [==============================] - 7s 15ms/step - loss: 0.3370 - accuracy: 0.8992 - val_loss: 0.3270 - val_accuracy: 0.9029\n",
            "Epoch 86/100\n",
            "469/469 [==============================] - 7s 14ms/step - loss: 0.3322 - accuracy: 0.8996 - val_loss: 0.3150 - val_accuracy: 0.9071\n",
            "Epoch 87/100\n",
            "469/469 [==============================] - 7s 14ms/step - loss: 0.3328 - accuracy: 0.9003 - val_loss: 0.3099 - val_accuracy: 0.9074\n",
            "Epoch 88/100\n",
            "469/469 [==============================] - 7s 14ms/step - loss: 0.3329 - accuracy: 0.9003 - val_loss: 0.3145 - val_accuracy: 0.9083\n",
            "Epoch 89/100\n",
            "469/469 [==============================] - 7s 14ms/step - loss: 0.3308 - accuracy: 0.9014 - val_loss: 0.3125 - val_accuracy: 0.9106\n",
            "Epoch 90/100\n",
            "469/469 [==============================] - 7s 14ms/step - loss: 0.3277 - accuracy: 0.9020 - val_loss: 0.3087 - val_accuracy: 0.9072\n",
            "Epoch 91/100\n",
            "469/469 [==============================] - 7s 14ms/step - loss: 0.3249 - accuracy: 0.9035 - val_loss: 0.3110 - val_accuracy: 0.9066\n",
            "Epoch 92/100\n",
            "469/469 [==============================] - 7s 14ms/step - loss: 0.3234 - accuracy: 0.9025 - val_loss: 0.3050 - val_accuracy: 0.9092\n",
            "Epoch 93/100\n",
            "469/469 [==============================] - 7s 14ms/step - loss: 0.3216 - accuracy: 0.9041 - val_loss: 0.3010 - val_accuracy: 0.9071\n",
            "Epoch 94/100\n",
            "469/469 [==============================] - 7s 14ms/step - loss: 0.3196 - accuracy: 0.9034 - val_loss: 0.3020 - val_accuracy: 0.9106\n",
            "Epoch 95/100\n",
            "469/469 [==============================] - 7s 14ms/step - loss: 0.3214 - accuracy: 0.9044 - val_loss: 0.2966 - val_accuracy: 0.9128\n",
            "Epoch 96/100\n",
            "469/469 [==============================] - 7s 14ms/step - loss: 0.3153 - accuracy: 0.9058 - val_loss: 0.2950 - val_accuracy: 0.9103\n",
            "Epoch 97/100\n",
            "469/469 [==============================] - 7s 14ms/step - loss: 0.3143 - accuracy: 0.9062 - val_loss: 0.2964 - val_accuracy: 0.9104\n",
            "Epoch 98/100\n",
            "469/469 [==============================] - 7s 14ms/step - loss: 0.3137 - accuracy: 0.9070 - val_loss: 0.2845 - val_accuracy: 0.9154\n",
            "Epoch 99/100\n",
            "469/469 [==============================] - 7s 14ms/step - loss: 0.3118 - accuracy: 0.9062 - val_loss: 0.2974 - val_accuracy: 0.9115\n",
            "Epoch 100/100\n",
            "469/469 [==============================] - 7s 14ms/step - loss: 0.3104 - accuracy: 0.9069 - val_loss: 0.2895 - val_accuracy: 0.9164\n"
          ],
          "name": "stdout"
        }
      ]
    },
    {
      "cell_type": "code",
      "metadata": {
        "id": "uucOvZyatVzc",
        "outputId": "0c33657d-a89c-4f88-e600-aebe5f293f8b",
        "colab": {
          "base_uri": "https://localhost:8080/",
          "height": 299
        }
      },
      "source": [
        "plot_train_validation(h_mc, \"loss\")"
      ],
      "execution_count": 15,
      "outputs": [
        {
          "output_type": "display_data",
          "data": {
            "image/png": "[encoded data removed]",
            "text/plain": [
              "<Figure size 432x288 with 1 Axes>"
            ]
          },
          "metadata": {
            "tags": [],
            "needs_background": "light"
          }
        }
      ]
    },
    {
      "cell_type": "code",
      "metadata": {
        "id": "O1GwBA6ItWVX",
        "outputId": "a0d36be6-b0f8-4260-b5b1-10b229591f45",
        "colab": {
          "base_uri": "https://localhost:8080/",
          "height": 299
        }
      },
      "source": [
        "plot_train_validation(h_mc, \"accuracy\")"
      ],
      "execution_count": 16,
      "outputs": [
        {
          "output_type": "display_data",
          "data": {
            "image/png": "[encoded data removed]",
            "text/plain": [
              "<Figure size 432x288 with 1 Axes>"
            ]
          },
          "metadata": {
            "tags": [],
            "needs_background": "light"
          }
        }
      ]
    },
    {
      "cell_type": "markdown",
      "metadata": {
        "id": "2G2T6WIBNaNx"
      },
      "source": [
        "## Calculate MC Dropout Predictions"
      ]
    },
    {
      "cell_type": "code",
      "metadata": {
        "id": "nkx2TIeIqOGS",
        "outputId": "ab537279-6f13-43f1-dfe3-d5df026c4216",
        "colab": {
          "base_uri": "https://localhost:8080/",
          "height": 34
        }
      },
      "source": [
        "import tqdm\n",
        "\n",
        "mc_predictions = []\n",
        "for i in tqdm.tqdm(range(500)):\n",
        "    y_p = mc_model.predict(x_test, batch_size=1000)\n",
        "    mc_predictions.append(y_p)"
      ],
      "execution_count": 17,
      "outputs": [
        {
          "output_type": "stream",
          "text": [
            "100%|██████████| 500/500 [02:08<00:00,  3.89it/s]\n"
          ],
          "name": "stderr"
        }
      ]
    },
    {
      "cell_type": "code",
      "metadata": {
        "id": "xN2mOrPFqPp9",
        "outputId": "04b33b05-ecc9-4943-84fc-8b8cb1e5c4e5",
        "colab": {
          "base_uri": "https://localhost:8080/",
          "height": 34
        }
      },
      "source": [
        "# score of the mc model\n",
        "accs = []\n",
        "for y_p in mc_predictions:\n",
        "    acc = accuracy_score(y_test.argmax(axis=1), y_p.argmax(axis=1))\n",
        "    accs.append(acc)\n",
        "print(\"MC accuracy: {:.1%}\".format(sum(accs)/len(accs)))"
      ],
      "execution_count": 18,
      "outputs": [
        {
          "output_type": "stream",
          "text": [
            "MC accuracy: 91.2%\n"
          ],
          "name": "stdout"
        }
      ]
    },
    {
      "cell_type": "code",
      "metadata": {
        "id": "bEO-8Wz6qSOJ",
        "outputId": "e0c277ae-8297-4ea9-a904-07f03460c9bc",
        "colab": {
          "base_uri": "https://localhost:8080/",
          "height": 34
        }
      },
      "source": [
        "mc_ensemble_pred = np.array(mc_predictions).mean(axis=0).argmax(axis=1)\n",
        "ensemble_acc = accuracy_score(y_test.argmax(axis=1), mc_ensemble_pred)\n",
        "print(\"MC-ensemble accuracy: {:.1%}\".format(ensemble_acc))"
      ],
      "execution_count": 19,
      "outputs": [
        {
          "output_type": "stream",
          "text": [
            "MC-ensemble accuracy: 94.5%\n"
          ],
          "name": "stdout"
        }
      ]
    },
    {
      "cell_type": "code",
      "metadata": {
        "id": "h6myvS2vqXaO",
        "outputId": "405620df-1e95-40e2-c841-af6ecc3aa44e",
        "colab": {
          "base_uri": "https://localhost:8080/",
          "height": 282
        }
      },
      "source": [
        "plt.hist(accs)\n",
        "plt.axvline(x=ensemble_acc, color=\"b\")"
      ],
      "execution_count": 20,
      "outputs": [
        {
          "output_type": "execute_result",
          "data": {
            "text/plain": [
              "<matplotlib.lines.Line2D at 0x7f7eba2c94e0>"
            ]
          },
          "metadata": {
            "tags": []
          },
          "execution_count": 20
        },
        {
          "output_type": "display_data",
          "data": {
            "image/png": "[encoded data removed]",
            "text/plain": [
              "<Figure size 432x288 with 1 Axes>"
            ]
          },
          "metadata": {
            "tags": [],
            "needs_background": "light"
          }
        }
      ]
    },
    {
      "cell_type": "markdown",
      "metadata": {
        "id": "1fXpaObLNhT_"
      },
      "source": [
        "## Test MC Dropout results"
      ]
    },
    {
      "cell_type": "code",
      "metadata": {
        "id": "oHpqlqxwqcGI",
        "outputId": "1425665f-8195-48d1-ec27-081667fdedc0",
        "colab": {
          "base_uri": "https://localhost:8080/",
          "height": 282
        }
      },
      "source": [
        "idx = 240\n",
        "plt.imshow(x_test[idx][:,:,0])"
      ],
      "execution_count": 21,
      "outputs": [
        {
          "output_type": "execute_result",
          "data": {
            "text/plain": [
              "<matplotlib.image.AxesImage at 0x7f7eba34eef0>"
            ]
          },
          "metadata": {
            "tags": []
          },
          "execution_count": 21
        },
        {
          "output_type": "display_data",
          "data": {
            "image/png": "[encoded data removed]",
            "text/plain": [
              "<Figure size 432x288 with 1 Axes>"
            ]
          },
          "metadata": {
            "tags": [],
            "needs_background": "light"
          }
        }
      ]
    },
    {
      "cell_type": "code",
      "metadata": {
        "id": "vfnyFLHDqd7b",
        "outputId": "ee458605-0fb7-4330-bc75-72ac7b3fa723",
        "colab": {
          "base_uri": "https://localhost:8080/",
          "height": 244
        }
      },
      "source": [
        "p0 = np.array([p[idx] for p in mc_predictions])\n",
        "print(\"posterior mean: {}\".format(p0.mean(axis=0).argmax()))\n",
        "print(\"true label: {}\".format(y_test[idx].argmax()))\n",
        "print()\n",
        "# probability + variance\n",
        "for i, (prob, var) in enumerate(zip(p0.mean(axis=0), p0.std(axis=0))):\n",
        "    print(\"class: {}; proba: {:.1%}; var: {:.2%} \".format(i, prob, var))"
      ],
      "execution_count": 22,
      "outputs": [
        {
          "output_type": "stream",
          "text": [
            "posterior mean: 5\n",
            "true label: 5\n",
            "\n",
            "class: 0; proba: 0.1%; var: 0.26% \n",
            "class: 1; proba: 0.0%; var: 0.29% \n",
            "class: 2; proba: 0.2%; var: 0.93% \n",
            "class: 3; proba: 3.2%; var: 7.46% \n",
            "class: 4; proba: 0.0%; var: 0.14% \n",
            "class: 5; proba: 90.0%; var: 15.24% \n",
            "class: 6; proba: 0.3%; var: 1.10% \n",
            "class: 7; proba: 0.0%; var: 0.02% \n",
            "class: 8; proba: 5.9%; var: 12.32% \n",
            "class: 9; proba: 0.3%; var: 1.12% \n"
          ],
          "name": "stdout"
        }
      ]
    },
    {
      "cell_type": "code",
      "metadata": {
        "id": "iaGEw6nlqgk0",
        "outputId": "dabde9ac-c363-4668-bd5b-faaec03bc57c",
        "colab": {
          "base_uri": "https://localhost:8080/",
          "height": 282
        }
      },
      "source": [
        "x, y = list(range(len(p0.mean(axis=0)))), p0.mean(axis=0)\n",
        "plt.plot(x, y)"
      ],
      "execution_count": 23,
      "outputs": [
        {
          "output_type": "execute_result",
          "data": {
            "text/plain": [
              "[<matplotlib.lines.Line2D at 0x7f7eba3087b8>]"
            ]
          },
          "metadata": {
            "tags": []
          },
          "execution_count": 23
        },
        {
          "output_type": "display_data",
          "data": {
            "image/png": "[encoded data removed]",
            "text/plain": [
              "<Figure size 432x288 with 1 Axes>"
            ]
          },
          "metadata": {
            "tags": [],
            "needs_background": "light"
          }
        }
      ]
    },
    {
      "cell_type": "code",
      "metadata": {
        "id": "sGZt_b1TqiQh",
        "outputId": "f9f9a3e8-013e-48f9-8593-ee633185d56f",
        "colab": {
          "base_uri": "https://localhost:8080/",
          "height": 717
        }
      },
      "source": [
        "fig, axes = plt.subplots(5, 2, figsize=(12,12))\n",
        "\n",
        "for i, ax in enumerate(fig.get_axes()):\n",
        "    ax.hist(p0[:,i], bins=100, range=(0,1))\n",
        "    ax.set_title(f\"class {i}\")\n",
        "    ax.label_outer()"
      ],
      "execution_count": 24,
      "outputs": [
        {
          "output_type": "display_data",
          "data": {
            "image/png": "[encoded data removed]",
            "text/plain": [
              "<Figure size 864x864 with 10 Axes>"
            ]
          },
          "metadata": {
            "tags": [],
            "needs_background": "light"
          }
        }
      ]
    },
    {
      "cell_type": "markdown",
      "metadata": {
        "id": "NgPGsgHjNoEz"
      },
      "source": [
        "## View images with lowest probability"
      ]
    },
    {
      "cell_type": "code",
      "metadata": {
        "id": "UebGG4FFqkTs"
      },
      "source": [
        "max_means = []\n",
        "preds = []\n",
        "for idx in range(len(mc_predictions)):\n",
        "    px = np.array([p[idx] for p in mc_predictions])\n",
        "    preds.append(px.mean(axis=0).argmax())\n",
        "    max_means.append(px.mean(axis=0).max())"
      ],
      "execution_count": 25,
      "outputs": []
    },
    {
      "cell_type": "code",
      "metadata": {
        "id": "9HKmuXlcqmcn",
        "outputId": "fb2ad098-0d25-4c15-ec21-802255193c84",
        "colab": {
          "base_uri": "https://localhost:8080/",
          "height": 34
        }
      },
      "source": [
        "(np.array(max_means)).argsort()[:10]"
      ],
      "execution_count": 26,
      "outputs": [
        {
          "output_type": "execute_result",
          "data": {
            "text/plain": [
              "array([193,  33, 195, 406, 300, 495, 151, 403, 149, 325])"
            ]
          },
          "metadata": {
            "tags": []
          },
          "execution_count": 26
        }
      ]
    },
    {
      "cell_type": "code",
      "metadata": {
        "id": "nKKXAC8iqnbD",
        "outputId": "3314b6c5-5c4f-4cbe-dcd3-dc581c983cf5",
        "colab": {
          "base_uri": "https://localhost:8080/",
          "height": 282
        }
      },
      "source": [
        "plt.imshow(x_test[96][:,:,0])"
      ],
      "execution_count": 27,
      "outputs": [
        {
          "output_type": "execute_result",
          "data": {
            "text/plain": [
              "<matplotlib.image.AxesImage at 0x7f7eb7d3a940>"
            ]
          },
          "metadata": {
            "tags": []
          },
          "execution_count": 27
        },
        {
          "output_type": "display_data",
          "data": {
            "image/png": "[encoded data removed]",
            "text/plain": [
              "<Figure size 432x288 with 1 Axes>"
            ]
          },
          "metadata": {
            "tags": [],
            "needs_background": "light"
          }
        }
      ]
    },
    {
      "cell_type": "markdown",
      "metadata": {
        "id": "RZKWSguSN71-"
      },
      "source": [
        "## View images with highest variance"
      ]
    },
    {
      "cell_type": "code",
      "metadata": {
        "id": "RSLwrUjHqpoA"
      },
      "source": [
        "max_vars = []\n",
        "for idx in range(len(mc_predictions)):\n",
        "    px = np.array([p[idx] for p in mc_predictions])\n",
        "    max_vars.append(px.std(axis=0)[px.mean(axis=0).argmax()])"
      ],
      "execution_count": 28,
      "outputs": []
    },
    {
      "cell_type": "code",
      "metadata": {
        "id": "Vq14yMjSqrWk",
        "outputId": "c123ad65-47dd-463b-a685-3338f978575a",
        "colab": {
          "base_uri": "https://localhost:8080/",
          "height": 34
        }
      },
      "source": [
        "(-np.array(max_vars)).argsort()[:10]"
      ],
      "execution_count": 29,
      "outputs": [
        {
          "output_type": "execute_result",
          "data": {
            "text/plain": [
              "array([412, 233, 449, 362, 139, 359, 126, 349,  63, 352])"
            ]
          },
          "metadata": {
            "tags": []
          },
          "execution_count": 29
        }
      ]
    },
    {
      "cell_type": "code",
      "metadata": {
        "id": "FOqasRD5qsv3",
        "outputId": "28d3f52e-55c6-4aa9-e8bb-02161227dcb5",
        "colab": {
          "base_uri": "https://localhost:8080/",
          "height": 282
        }
      },
      "source": [
        "plt.imshow(x_test[222][:,:,0])"
      ],
      "execution_count": 30,
      "outputs": [
        {
          "output_type": "execute_result",
          "data": {
            "text/plain": [
              "<matplotlib.image.AxesImage at 0x7f7eb7bd2668>"
            ]
          },
          "metadata": {
            "tags": []
          },
          "execution_count": 30
        },
        {
          "output_type": "display_data",
          "data": {
            "image/png": "[encoded data removed]",
            "text/plain": [
              "<Figure size 432x288 with 1 Axes>"
            ]
          },
          "metadata": {
            "tags": [],
            "needs_background": "light"
          }
        }
      ]
    },
    {
      "cell_type": "markdown",
      "metadata": {
        "id": "fkam-qHaOBpb"
      },
      "source": [
        "## Test MC dropout on random image"
      ]
    },
    {
      "cell_type": "code",
      "metadata": {
        "id": "Cta7v7U3qu7t"
      },
      "source": [
        "random_img = np.random.random(input_shape)"
      ],
      "execution_count": 31,
      "outputs": []
    },
    {
      "cell_type": "code",
      "metadata": {
        "id": "Khz_b4buq5FV",
        "outputId": "aa06751e-a154-4bdb-fa20-9acbf6a4e3a1",
        "colab": {
          "base_uri": "https://localhost:8080/",
          "height": 265
        }
      },
      "source": [
        "plt.imshow(random_img[:,:,0]);"
      ],
      "execution_count": 32,
      "outputs": [
        {
          "output_type": "display_data",
          "data": {
            "image/png": "[encoded data removed]",
            "text/plain": [
              "<Figure size 432x288 with 1 Axes>"
            ]
          },
          "metadata": {
            "tags": [],
            "needs_background": "light"
          }
        }
      ]
    },
    {
      "cell_type": "code",
      "metadata": {
        "id": "-Ofqa1h6q6CU",
        "outputId": "d9c672fe-859f-4150-9a5d-6d73fdb68cf7",
        "colab": {
          "base_uri": "https://localhost:8080/",
          "height": 34
        }
      },
      "source": [
        "random_predictions = []\n",
        "for i in tqdm.tqdm(range(500)):\n",
        "    y_p = mc_model.predict(np.array([random_img]))\n",
        "    random_predictions.append(y_p)"
      ],
      "execution_count": 33,
      "outputs": [
        {
          "output_type": "stream",
          "text": [
            "100%|██████████| 500/500 [00:20<00:00, 24.70it/s]\n"
          ],
          "name": "stderr"
        }
      ]
    },
    {
      "cell_type": "code",
      "metadata": {
        "id": "GcxDanEjq7fx",
        "outputId": "fe1be9d5-b939-4c43-e174-704787a91a0f",
        "colab": {
          "base_uri": "https://localhost:8080/",
          "height": 226
        }
      },
      "source": [
        "p0 = np.array([p[0] for p in random_predictions])\n",
        "print(\"posterior mean: {}\".format(p0.mean(axis=0).argmax()))\n",
        "print()\n",
        "# probability + variance\n",
        "for i, (prob, var) in enumerate(zip(p0.mean(axis=0), p0.std(axis=0))):\n",
        "    print(\"class: {}; proba: {:.1%}; var: {:.2%} \".format(i, prob, var))"
      ],
      "execution_count": 34,
      "outputs": [
        {
          "output_type": "stream",
          "text": [
            "posterior mean: 3\n",
            "\n",
            "class: 0; proba: 2.2%; var: 3.52% \n",
            "class: 1; proba: 1.1%; var: 1.66% \n",
            "class: 2; proba: 7.5%; var: 8.69% \n",
            "class: 3; proba: 59.0%; var: 23.47% \n",
            "class: 4; proba: 0.8%; var: 1.56% \n",
            "class: 5; proba: 14.0%; var: 11.80% \n",
            "class: 6; proba: 4.2%; var: 6.96% \n",
            "class: 7; proba: 2.1%; var: 4.63% \n",
            "class: 8; proba: 9.1%; var: 10.27% \n",
            "class: 9; proba: 0.1%; var: 0.25% \n"
          ],
          "name": "stdout"
        }
      ]
    },
    {
      "cell_type": "code",
      "metadata": {
        "id": "rjzCDeMLq82Y",
        "outputId": "fca01098-ff65-4c16-fd15-db91631bee41",
        "colab": {
          "base_uri": "https://localhost:8080/",
          "height": 282
        }
      },
      "source": [
        "x, y = list(range(len(p0.mean(axis=0)))), p0.mean(axis=0)\n",
        "plt.plot(x, y)"
      ],
      "execution_count": 35,
      "outputs": [
        {
          "output_type": "execute_result",
          "data": {
            "text/plain": [
              "[<matplotlib.lines.Line2D at 0x7f7eb661aa58>]"
            ]
          },
          "metadata": {
            "tags": []
          },
          "execution_count": 35
        },
        {
          "output_type": "display_data",
          "data": {
            "image/png": "[encoded data removed]",
            "text/plain": [
              "<Figure size 432x288 with 1 Axes>"
            ]
          },
          "metadata": {
            "tags": [],
            "needs_background": "light"
          }
        }
      ]
    },
    {
      "cell_type": "code",
      "metadata": {
        "id": "H8JGSP8Qq-oX",
        "outputId": "3d5886f8-b76d-47de-df80-7b8e1a84c793",
        "colab": {
          "base_uri": "https://localhost:8080/",
          "height": 717
        }
      },
      "source": [
        "fig, axes = plt.subplots(5, 2, figsize=(12,12))\n",
        "\n",
        "for i, ax in enumerate(fig.get_axes()):\n",
        "    ax.hist(p0[:,i], bins=100, range=(0,1))\n",
        "    ax.set_title(f\"class {i}\")\n",
        "    ax.label_outer()"
      ],
      "execution_count": 36,
      "outputs": [
        {
          "output_type": "display_data",
          "data": {
            "image/png": "[encoded data removed]",
            "text/plain": [
              "<Figure size 864x864 with 10 Axes>"
            ]
          },
          "metadata": {
            "tags": [],
            "needs_background": "light"
          }
        }
      ]
    },
    {
      "cell_type": "markdown",
      "metadata": {
        "id": "nsCJdDOjzq5a"
      },
      "source": [
        "## Convert trained regular model into a MC model"
      ]
    },
    {
      "cell_type": "code",
      "metadata": {
        "id": "J6RrEZxA1Nli",
        "outputId": "8aa8b152-25a5-40c9-b942-14da1ec38e00",
        "colab": {
          "base_uri": "https://localhost:8080/",
          "height": 72
        }
      },
      "source": [
        "layers = [l for l in model.layers]\n",
        "x = layers[0].output\n",
        "for i in range(1, len(layers)):\n",
        "    # Replace dropout layers with MC dropout layers\n",
        "    if isinstance(layers[i], Dropout):\n",
        "        x = Dropout(0.2)(x, training=True)\n",
        "    else:\n",
        "        x = layers[i](x)\n",
        "        \n",
        "mc_model2 = Model(inputs=layers[0].input, outputs=x)\n",
        "mc_model2.set_weights(model.get_weights())\n",
        "mc_model2.predict(np.expand_dims(x_test[222], axis=0), batch_size=1).argmax()"
      ],
      "execution_count": 49,
      "outputs": [
        {
          "output_type": "stream",
          "text": [
            "WARNING:tensorflow:6 out of the last 11 calls to <function Model.make_predict_function.<locals>.predict_function at 0x7f7eb65be158> triggered tf.function retracing. Tracing is expensive and the excessive number of tracings could be due to (1) creating @tf.function repeatedly in a loop, (2) passing tensors with different shapes, (3) passing Python objects instead of tensors. For (1), please define your @tf.function outside of the loop. For (2), @tf.function has experimental_relax_shapes=True option that relaxes argument shapes that can avoid unnecessary retracing. For (3), please refer to https://www.tensorflow.org/tutorials/customization/performance#python_or_tensor_args and https://www.tensorflow.org/api_docs/python/tf/function for  more details.\n"
          ],
          "name": "stdout"
        },
        {
          "output_type": "execute_result",
          "data": {
            "text/plain": [
              "2"
            ]
          },
          "metadata": {
            "tags": []
          },
          "execution_count": 49
        }
      ]
    },
    {
      "cell_type": "code",
      "metadata": {
        "id": "SImMCSqLOxqs",
        "outputId": "b2dbf046-8d9c-4393-f00c-4f24e36ceb92",
        "colab": {
          "base_uri": "https://localhost:8080/",
          "height": 282
        }
      },
      "source": [
        "idx = 222\n",
        "plt.imshow(x_test[idx][:,:,0])"
      ],
      "execution_count": 50,
      "outputs": [
        {
          "output_type": "execute_result",
          "data": {
            "text/plain": [
              "<matplotlib.image.AxesImage at 0x7f7eb63f1908>"
            ]
          },
          "metadata": {
            "tags": []
          },
          "execution_count": 50
        },
        {
          "output_type": "display_data",
          "data": {
            "image/png": "[encoded data removed]",
            "text/plain": [
              "<Figure size 432x288 with 1 Axes>"
            ]
          },
          "metadata": {
            "tags": [],
            "needs_background": "light"
          }
        }
      ]
    },
    {
      "cell_type": "code",
      "metadata": {
        "id": "sDns_tB51qbt",
        "outputId": "5282105c-3476-4c7b-c359-51e3328af87a",
        "colab": {
          "base_uri": "https://localhost:8080/",
          "height": 209
        }
      },
      "source": [
        "print(f\"Ground truth is {y_test[idx].argmax()}\")\n",
        "for i in range(10):\n",
        "  print(f\"Prediction {i} = {mc_model2.predict(np.expand_dims(x_test[idx], axis=0), batch_size=1).argmax()}\")"
      ],
      "execution_count": 51,
      "outputs": [
        {
          "output_type": "stream",
          "text": [
            "Ground truth is 2\n",
            "Prediction 0 = 2\n",
            "Prediction 1 = 2\n",
            "Prediction 2 = 2\n",
            "Prediction 3 = 2\n",
            "Prediction 4 = 2\n",
            "Prediction 5 = 2\n",
            "Prediction 6 = 2\n",
            "Prediction 7 = 2\n",
            "Prediction 8 = 2\n",
            "Prediction 9 = 2\n"
          ],
          "name": "stdout"
        }
      ]
    },
    {
      "cell_type": "markdown",
      "metadata": {
        "id": "VO0YXDHqPCGT"
      },
      "source": [
        "## Test accuracy of new mc model"
      ]
    },
    {
      "cell_type": "code",
      "metadata": {
        "id": "i-MkJ2zx6L07",
        "outputId": "0af0a9ba-5ed9-4f99-fc8d-cda87eba66a7",
        "colab": {
          "base_uri": "https://localhost:8080/",
          "height": 34
        }
      },
      "source": [
        "import tqdm\n",
        "\n",
        "mc_predictions2 = []\n",
        "for i in tqdm.tqdm(range(500)):\n",
        "    y_p = mc_model2.predict(x_test, batch_size=1000)\n",
        "    mc_predictions2.append(y_p)"
      ],
      "execution_count": 52,
      "outputs": [
        {
          "output_type": "stream",
          "text": [
            "100%|██████████| 500/500 [02:09<00:00,  3.86it/s]\n"
          ],
          "name": "stderr"
        }
      ]
    },
    {
      "cell_type": "code",
      "metadata": {
        "id": "WFzyPY4M6VK8",
        "outputId": "728ca380-b83f-48ca-c0eb-bdb02b0e737c",
        "colab": {
          "base_uri": "https://localhost:8080/",
          "height": 34
        }
      },
      "source": [
        "# score of the mc model\n",
        "accs = []\n",
        "for y_p in mc_predictions2:\n",
        "    acc = accuracy_score(y_test.argmax(axis=1), y_p.argmax(axis=1))\n",
        "    accs.append(acc)\n",
        "print(\"MC accuracy: {:.1%}\".format(sum(accs)/len(accs)))"
      ],
      "execution_count": 53,
      "outputs": [
        {
          "output_type": "stream",
          "text": [
            "MC accuracy: 92.9%\n"
          ],
          "name": "stdout"
        }
      ]
    },
    {
      "cell_type": "code",
      "metadata": {
        "id": "jzd__QxH6U3i",
        "outputId": "e73c8b04-7634-40bb-a11a-1e91f7c2cc61",
        "colab": {
          "base_uri": "https://localhost:8080/",
          "height": 34
        }
      },
      "source": [
        "mc_ensemble_pred = np.array(mc_predictions2).mean(axis=0).argmax(axis=1)\n",
        "ensemble_acc = accuracy_score(y_test.argmax(axis=1), mc_ensemble_pred)\n",
        "print(\"MC-ensemble accuracy: {:.1%}\".format(ensemble_acc))"
      ],
      "execution_count": 54,
      "outputs": [
        {
          "output_type": "stream",
          "text": [
            "MC-ensemble accuracy: 93.7%\n"
          ],
          "name": "stdout"
        }
      ]
    },
    {
      "cell_type": "markdown",
      "metadata": {
        "id": "uWtiwD0YPVEn"
      },
      "source": [
        "## Create ensemble of models"
      ]
    },
    {
      "cell_type": "code",
      "metadata": {
        "id": "0O1szSGe74ok"
      },
      "source": [
        "models = [get_model(mc=False, act=\"relu\") for x in range(5)]"
      ],
      "execution_count": 43,
      "outputs": []
    },
    {
      "cell_type": "code",
      "metadata": {
        "id": "ktm0BRA87-nd",
        "outputId": "03e5ff31-caf6-4372-99c2-acf998cb4d2b",
        "colab": {
          "base_uri": "https://localhost:8080/",
          "height": 1000
        }
      },
      "source": [
        "histories = [m.fit(x_train, y_train,\n",
        "                       batch_size=batch_size,\n",
        "                       epochs=epochs,\n",
        "                       verbose=1,\n",
        "                       validation_data=(x_test, y_test)) for m in models]"
      ],
      "execution_count": 44,
      "outputs": [
        {
          "output_type": "stream",
          "text": [
            "Epoch 1/100\n",
            "469/469 [==============================] - 7s 15ms/step - loss: 2.2720 - accuracy: 0.1534 - val_loss: 2.2124 - val_accuracy: 0.3536\n",
            "Epoch 2/100\n",
            "469/469 [==============================] - 7s 14ms/step - loss: 2.1802 - accuracy: 0.2856 - val_loss: 2.0990 - val_accuracy: 0.5331\n",
            "Epoch 3/100\n",
            "469/469 [==============================] - 7s 14ms/step - loss: 2.0637 - accuracy: 0.4040 - val_loss: 1.9523 - val_accuracy: 0.6460\n",
            "Epoch 4/100\n",
            "469/469 [==============================] - 7s 14ms/step - loss: 1.9179 - accuracy: 0.4880 - val_loss: 1.7704 - val_accuracy: 0.7096\n",
            "Epoch 5/100\n",
            "469/469 [==============================] - 7s 14ms/step - loss: 1.7430 - accuracy: 0.5525 - val_loss: 1.5578 - val_accuracy: 0.7503\n",
            "Epoch 6/100\n",
            "469/469 [==============================] - 7s 14ms/step - loss: 1.5602 - accuracy: 0.5968 - val_loss: 1.3441 - val_accuracy: 0.7807\n",
            "Epoch 7/100\n",
            "469/469 [==============================] - 7s 14ms/step - loss: 1.3898 - accuracy: 0.6321 - val_loss: 1.1536 - val_accuracy: 0.8009\n",
            "Epoch 8/100\n",
            "469/469 [==============================] - 7s 14ms/step - loss: 1.2439 - accuracy: 0.6603 - val_loss: 0.9972 - val_accuracy: 0.8169\n",
            "Epoch 9/100\n",
            "469/469 [==============================] - 7s 14ms/step - loss: 1.1332 - accuracy: 0.6815 - val_loss: 0.8776 - val_accuracy: 0.8303\n",
            "Epoch 10/100\n",
            "469/469 [==============================] - 7s 14ms/step - loss: 1.0367 - accuracy: 0.7000 - val_loss: 0.7845 - val_accuracy: 0.8416\n",
            "Epoch 11/100\n",
            "469/469 [==============================] - 7s 14ms/step - loss: 0.9632 - accuracy: 0.7163 - val_loss: 0.7128 - val_accuracy: 0.8515\n",
            "Epoch 12/100\n",
            "469/469 [==============================] - 7s 15ms/step - loss: 0.9038 - accuracy: 0.7312 - val_loss: 0.6567 - val_accuracy: 0.8578\n",
            "Epoch 13/100\n",
            "469/469 [==============================] - 7s 15ms/step - loss: 0.8549 - accuracy: 0.7426 - val_loss: 0.6120 - val_accuracy: 0.8621\n",
            "Epoch 14/100\n",
            "469/469 [==============================] - 7s 14ms/step - loss: 0.8140 - accuracy: 0.7526 - val_loss: 0.5758 - val_accuracy: 0.8673\n",
            "Epoch 15/100\n",
            "469/469 [==============================] - 7s 14ms/step - loss: 0.7769 - accuracy: 0.7633 - val_loss: 0.5456 - val_accuracy: 0.8730\n",
            "Epoch 16/100\n",
            "469/469 [==============================] - 7s 14ms/step - loss: 0.7453 - accuracy: 0.7724 - val_loss: 0.5197 - val_accuracy: 0.8759\n",
            "Epoch 17/100\n",
            "469/469 [==============================] - 7s 15ms/step - loss: 0.7215 - accuracy: 0.7802 - val_loss: 0.4982 - val_accuracy: 0.8788\n",
            "Epoch 18/100\n",
            "469/469 [==============================] - 7s 15ms/step - loss: 0.6981 - accuracy: 0.7858 - val_loss: 0.4798 - val_accuracy: 0.8821\n",
            "Epoch 19/100\n",
            "469/469 [==============================] - 7s 14ms/step - loss: 0.6795 - accuracy: 0.7918 - val_loss: 0.4633 - val_accuracy: 0.8850\n",
            "Epoch 20/100\n",
            "469/469 [==============================] - 7s 14ms/step - loss: 0.6573 - accuracy: 0.7972 - val_loss: 0.4482 - val_accuracy: 0.8866\n",
            "Epoch 21/100\n",
            "469/469 [==============================] - 7s 14ms/step - loss: 0.6429 - accuracy: 0.8028 - val_loss: 0.4357 - val_accuracy: 0.8879\n",
            "Epoch 22/100\n",
            "469/469 [==============================] - 7s 14ms/step - loss: 0.6273 - accuracy: 0.8056 - val_loss: 0.4246 - val_accuracy: 0.8902\n",
            "Epoch 23/100\n",
            "469/469 [==============================] - 7s 14ms/step - loss: 0.6139 - accuracy: 0.8116 - val_loss: 0.4143 - val_accuracy: 0.8919\n",
            "Epoch 24/100\n",
            "469/469 [==============================] - 7s 14ms/step - loss: 0.6041 - accuracy: 0.8141 - val_loss: 0.4051 - val_accuracy: 0.8940\n",
            "Epoch 25/100\n",
            "469/469 [==============================] - 7s 14ms/step - loss: 0.5903 - accuracy: 0.8200 - val_loss: 0.3964 - val_accuracy: 0.8955\n",
            "Epoch 26/100\n",
            "469/469 [==============================] - 7s 14ms/step - loss: 0.5815 - accuracy: 0.8204 - val_loss: 0.3884 - val_accuracy: 0.8974\n",
            "Epoch 27/100\n",
            "469/469 [==============================] - 7s 14ms/step - loss: 0.5712 - accuracy: 0.8246 - val_loss: 0.3813 - val_accuracy: 0.8980\n",
            "Epoch 28/100\n",
            "469/469 [==============================] - 7s 14ms/step - loss: 0.5622 - accuracy: 0.8273 - val_loss: 0.3745 - val_accuracy: 0.8992\n",
            "Epoch 29/100\n",
            "469/469 [==============================] - 7s 14ms/step - loss: 0.5505 - accuracy: 0.8316 - val_loss: 0.3684 - val_accuracy: 0.8997\n",
            "Epoch 30/100\n",
            "469/469 [==============================] - 7s 14ms/step - loss: 0.5391 - accuracy: 0.8363 - val_loss: 0.3620 - val_accuracy: 0.9006\n",
            "Epoch 31/100\n",
            "469/469 [==============================] - 7s 14ms/step - loss: 0.5391 - accuracy: 0.8349 - val_loss: 0.3566 - val_accuracy: 0.9017\n",
            "Epoch 32/100\n",
            "469/469 [==============================] - 7s 14ms/step - loss: 0.5359 - accuracy: 0.8345 - val_loss: 0.3516 - val_accuracy: 0.9028\n",
            "Epoch 33/100\n",
            "469/469 [==============================] - 7s 14ms/step - loss: 0.5227 - accuracy: 0.8383 - val_loss: 0.3467 - val_accuracy: 0.9041\n",
            "Epoch 34/100\n",
            "469/469 [==============================] - 7s 14ms/step - loss: 0.5161 - accuracy: 0.8419 - val_loss: 0.3420 - val_accuracy: 0.9060\n",
            "Epoch 35/100\n",
            "469/469 [==============================] - 7s 14ms/step - loss: 0.5103 - accuracy: 0.8432 - val_loss: 0.3377 - val_accuracy: 0.9062\n",
            "Epoch 36/100\n",
            "469/469 [==============================] - 7s 14ms/step - loss: 0.5079 - accuracy: 0.8444 - val_loss: 0.3335 - val_accuracy: 0.9075\n",
            "Epoch 37/100\n",
            "469/469 [==============================] - 7s 14ms/step - loss: 0.5013 - accuracy: 0.8458 - val_loss: 0.3300 - val_accuracy: 0.9085\n",
            "Epoch 38/100\n",
            "469/469 [==============================] - 7s 14ms/step - loss: 0.4991 - accuracy: 0.8488 - val_loss: 0.3260 - val_accuracy: 0.9091\n",
            "Epoch 39/100\n",
            "469/469 [==============================] - 7s 14ms/step - loss: 0.4907 - accuracy: 0.8487 - val_loss: 0.3225 - val_accuracy: 0.9095\n",
            "Epoch 40/100\n",
            "469/469 [==============================] - 7s 14ms/step - loss: 0.4823 - accuracy: 0.8540 - val_loss: 0.3185 - val_accuracy: 0.9106\n",
            "Epoch 41/100\n",
            "469/469 [==============================] - 7s 14ms/step - loss: 0.4811 - accuracy: 0.8522 - val_loss: 0.3154 - val_accuracy: 0.9111\n",
            "Epoch 42/100\n",
            "469/469 [==============================] - 7s 14ms/step - loss: 0.4726 - accuracy: 0.8546 - val_loss: 0.3122 - val_accuracy: 0.9116\n",
            "Epoch 43/100\n",
            "469/469 [==============================] - 7s 14ms/step - loss: 0.4724 - accuracy: 0.8554 - val_loss: 0.3087 - val_accuracy: 0.9122\n",
            "Epoch 44/100\n",
            "469/469 [==============================] - 7s 14ms/step - loss: 0.4657 - accuracy: 0.8584 - val_loss: 0.3056 - val_accuracy: 0.9127\n",
            "Epoch 45/100\n",
            "469/469 [==============================] - 7s 14ms/step - loss: 0.4647 - accuracy: 0.8586 - val_loss: 0.3031 - val_accuracy: 0.9128\n",
            "Epoch 46/100\n",
            "469/469 [==============================] - 7s 14ms/step - loss: 0.4592 - accuracy: 0.8599 - val_loss: 0.3000 - val_accuracy: 0.9137\n",
            "Epoch 47/100\n",
            "469/469 [==============================] - 7s 14ms/step - loss: 0.4530 - accuracy: 0.8621 - val_loss: 0.2972 - val_accuracy: 0.9140\n",
            "Epoch 48/100\n",
            "469/469 [==============================] - 7s 14ms/step - loss: 0.4477 - accuracy: 0.8632 - val_loss: 0.2947 - val_accuracy: 0.9145\n",
            "Epoch 49/100\n",
            "469/469 [==============================] - 7s 14ms/step - loss: 0.4476 - accuracy: 0.8646 - val_loss: 0.2921 - val_accuracy: 0.9149\n",
            "Epoch 50/100\n",
            "469/469 [==============================] - 7s 14ms/step - loss: 0.4474 - accuracy: 0.8629 - val_loss: 0.2900 - val_accuracy: 0.9155\n",
            "Epoch 51/100\n",
            "469/469 [==============================] - 7s 14ms/step - loss: 0.4448 - accuracy: 0.8632 - val_loss: 0.2875 - val_accuracy: 0.9173\n",
            "Epoch 52/100\n",
            "469/469 [==============================] - 7s 14ms/step - loss: 0.4384 - accuracy: 0.8650 - val_loss: 0.2851 - val_accuracy: 0.9182\n",
            "Epoch 53/100\n",
            "469/469 [==============================] - 7s 14ms/step - loss: 0.4366 - accuracy: 0.8673 - val_loss: 0.2825 - val_accuracy: 0.9183\n",
            "Epoch 54/100\n",
            "469/469 [==============================] - 7s 14ms/step - loss: 0.4341 - accuracy: 0.8679 - val_loss: 0.2807 - val_accuracy: 0.9188\n",
            "Epoch 55/100\n",
            "469/469 [==============================] - 7s 14ms/step - loss: 0.4332 - accuracy: 0.8692 - val_loss: 0.2788 - val_accuracy: 0.9196\n",
            "Epoch 56/100\n",
            "469/469 [==============================] - 7s 14ms/step - loss: 0.4272 - accuracy: 0.8706 - val_loss: 0.2764 - val_accuracy: 0.9204\n",
            "Epoch 57/100\n",
            "469/469 [==============================] - 7s 14ms/step - loss: 0.4232 - accuracy: 0.8712 - val_loss: 0.2744 - val_accuracy: 0.9205\n",
            "Epoch 58/100\n",
            "469/469 [==============================] - 7s 15ms/step - loss: 0.4189 - accuracy: 0.8727 - val_loss: 0.2723 - val_accuracy: 0.9205\n",
            "Epoch 59/100\n",
            "469/469 [==============================] - 7s 15ms/step - loss: 0.4188 - accuracy: 0.8728 - val_loss: 0.2702 - val_accuracy: 0.9211\n",
            "Epoch 60/100\n",
            "469/469 [==============================] - 7s 14ms/step - loss: 0.4179 - accuracy: 0.8721 - val_loss: 0.2685 - val_accuracy: 0.9215\n",
            "Epoch 61/100\n",
            "469/469 [==============================] - 7s 14ms/step - loss: 0.4154 - accuracy: 0.8741 - val_loss: 0.2669 - val_accuracy: 0.9229\n",
            "Epoch 62/100\n",
            "469/469 [==============================] - 7s 14ms/step - loss: 0.4133 - accuracy: 0.8762 - val_loss: 0.2652 - val_accuracy: 0.9230\n",
            "Epoch 63/100\n",
            "469/469 [==============================] - 7s 14ms/step - loss: 0.4054 - accuracy: 0.8774 - val_loss: 0.2630 - val_accuracy: 0.9233\n",
            "Epoch 64/100\n",
            "469/469 [==============================] - 7s 14ms/step - loss: 0.4075 - accuracy: 0.8753 - val_loss: 0.2615 - val_accuracy: 0.9240\n",
            "Epoch 65/100\n",
            "469/469 [==============================] - 7s 14ms/step - loss: 0.4019 - accuracy: 0.8775 - val_loss: 0.2596 - val_accuracy: 0.9251\n",
            "Epoch 66/100\n",
            "469/469 [==============================] - 7s 14ms/step - loss: 0.4042 - accuracy: 0.8778 - val_loss: 0.2580 - val_accuracy: 0.9252\n",
            "Epoch 67/100\n",
            "469/469 [==============================] - 7s 14ms/step - loss: 0.4012 - accuracy: 0.8784 - val_loss: 0.2568 - val_accuracy: 0.9261\n",
            "Epoch 68/100\n",
            "469/469 [==============================] - 7s 14ms/step - loss: 0.3989 - accuracy: 0.8800 - val_loss: 0.2549 - val_accuracy: 0.9260\n",
            "Epoch 69/100\n",
            "469/469 [==============================] - 7s 14ms/step - loss: 0.3961 - accuracy: 0.8813 - val_loss: 0.2532 - val_accuracy: 0.9262\n",
            "Epoch 70/100\n",
            "469/469 [==============================] - 7s 14ms/step - loss: 0.3925 - accuracy: 0.8800 - val_loss: 0.2516 - val_accuracy: 0.9269\n",
            "Epoch 71/100\n",
            "469/469 [==============================] - 7s 14ms/step - loss: 0.3909 - accuracy: 0.8826 - val_loss: 0.2502 - val_accuracy: 0.9274\n",
            "Epoch 72/100\n",
            "469/469 [==============================] - 7s 14ms/step - loss: 0.3871 - accuracy: 0.8841 - val_loss: 0.2485 - val_accuracy: 0.9268\n",
            "Epoch 73/100\n",
            "469/469 [==============================] - 7s 14ms/step - loss: 0.3886 - accuracy: 0.8825 - val_loss: 0.2472 - val_accuracy: 0.9277\n",
            "Epoch 74/100\n",
            "469/469 [==============================] - 7s 14ms/step - loss: 0.3838 - accuracy: 0.8841 - val_loss: 0.2454 - val_accuracy: 0.9278\n",
            "Epoch 75/100\n",
            "469/469 [==============================] - 7s 14ms/step - loss: 0.3828 - accuracy: 0.8849 - val_loss: 0.2439 - val_accuracy: 0.9285\n",
            "Epoch 76/100\n",
            "469/469 [==============================] - 7s 14ms/step - loss: 0.3816 - accuracy: 0.8844 - val_loss: 0.2427 - val_accuracy: 0.9290\n",
            "Epoch 77/100\n",
            "469/469 [==============================] - 7s 14ms/step - loss: 0.3833 - accuracy: 0.8859 - val_loss: 0.2417 - val_accuracy: 0.9292\n",
            "Epoch 78/100\n",
            "469/469 [==============================] - 7s 14ms/step - loss: 0.3795 - accuracy: 0.8844 - val_loss: 0.2401 - val_accuracy: 0.9295\n",
            "Epoch 79/100\n",
            "469/469 [==============================] - 7s 14ms/step - loss: 0.3770 - accuracy: 0.8876 - val_loss: 0.2388 - val_accuracy: 0.9299\n",
            "Epoch 80/100\n",
            "469/469 [==============================] - 7s 14ms/step - loss: 0.3730 - accuracy: 0.8876 - val_loss: 0.2377 - val_accuracy: 0.9306\n",
            "Epoch 81/100\n",
            "469/469 [==============================] - 7s 14ms/step - loss: 0.3702 - accuracy: 0.8882 - val_loss: 0.2365 - val_accuracy: 0.9310\n",
            "Epoch 82/100\n",
            "469/469 [==============================] - 7s 14ms/step - loss: 0.3719 - accuracy: 0.8891 - val_loss: 0.2354 - val_accuracy: 0.9313\n",
            "Epoch 83/100\n",
            "469/469 [==============================] - 7s 14ms/step - loss: 0.3699 - accuracy: 0.8865 - val_loss: 0.2340 - val_accuracy: 0.9309\n",
            "Epoch 84/100\n",
            "469/469 [==============================] - 7s 14ms/step - loss: 0.3674 - accuracy: 0.8886 - val_loss: 0.2328 - val_accuracy: 0.9312\n",
            "Epoch 85/100\n",
            "469/469 [==============================] - 7s 14ms/step - loss: 0.3649 - accuracy: 0.8903 - val_loss: 0.2317 - val_accuracy: 0.9317\n",
            "Epoch 86/100\n",
            "469/469 [==============================] - 7s 14ms/step - loss: 0.3658 - accuracy: 0.8889 - val_loss: 0.2305 - val_accuracy: 0.9321\n",
            "Epoch 87/100\n",
            "469/469 [==============================] - 7s 14ms/step - loss: 0.3638 - accuracy: 0.8896 - val_loss: 0.2289 - val_accuracy: 0.9321\n",
            "Epoch 88/100\n",
            "469/469 [==============================] - 7s 14ms/step - loss: 0.3626 - accuracy: 0.8902 - val_loss: 0.2279 - val_accuracy: 0.9322\n",
            "Epoch 89/100\n",
            "469/469 [==============================] - 7s 14ms/step - loss: 0.3609 - accuracy: 0.8916 - val_loss: 0.2267 - val_accuracy: 0.9328\n",
            "Epoch 90/100\n",
            "469/469 [==============================] - 7s 14ms/step - loss: 0.3624 - accuracy: 0.8915 - val_loss: 0.2258 - val_accuracy: 0.9323\n",
            "Epoch 91/100\n",
            "469/469 [==============================] - 7s 14ms/step - loss: 0.3565 - accuracy: 0.8913 - val_loss: 0.2248 - val_accuracy: 0.9329\n",
            "Epoch 92/100\n",
            "469/469 [==============================] - 7s 14ms/step - loss: 0.3549 - accuracy: 0.8926 - val_loss: 0.2235 - val_accuracy: 0.9332\n",
            "Epoch 93/100\n",
            "469/469 [==============================] - 7s 14ms/step - loss: 0.3546 - accuracy: 0.8935 - val_loss: 0.2223 - val_accuracy: 0.9339\n",
            "Epoch 94/100\n",
            "469/469 [==============================] - 7s 14ms/step - loss: 0.3532 - accuracy: 0.8945 - val_loss: 0.2214 - val_accuracy: 0.9339\n",
            "Epoch 95/100\n",
            "469/469 [==============================] - 7s 14ms/step - loss: 0.3512 - accuracy: 0.8939 - val_loss: 0.2205 - val_accuracy: 0.9342\n",
            "Epoch 96/100\n",
            "469/469 [==============================] - 7s 14ms/step - loss: 0.3523 - accuracy: 0.8936 - val_loss: 0.2194 - val_accuracy: 0.9350\n",
            "Epoch 97/100\n",
            "469/469 [==============================] - 7s 14ms/step - loss: 0.3490 - accuracy: 0.8961 - val_loss: 0.2182 - val_accuracy: 0.9350\n",
            "Epoch 98/100\n",
            "469/469 [==============================] - 7s 14ms/step - loss: 0.3475 - accuracy: 0.8945 - val_loss: 0.2175 - val_accuracy: 0.9353\n",
            "Epoch 99/100\n",
            "469/469 [==============================] - 7s 14ms/step - loss: 0.3488 - accuracy: 0.8937 - val_loss: 0.2169 - val_accuracy: 0.9360\n",
            "Epoch 100/100\n",
            "469/469 [==============================] - 7s 14ms/step - loss: 0.3436 - accuracy: 0.8973 - val_loss: 0.2156 - val_accuracy: 0.9363\n",
            "Epoch 1/100\n",
            "469/469 [==============================] - 7s 15ms/step - loss: 2.2778 - accuracy: 0.1636 - val_loss: 2.2450 - val_accuracy: 0.3752\n",
            "Epoch 2/100\n",
            "469/469 [==============================] - 7s 14ms/step - loss: 2.2261 - accuracy: 0.2846 - val_loss: 2.1825 - val_accuracy: 0.5630\n",
            "Epoch 3/100\n",
            "469/469 [==============================] - 7s 15ms/step - loss: 2.1620 - accuracy: 0.3859 - val_loss: 2.1003 - val_accuracy: 0.6263\n",
            "Epoch 4/100\n",
            "469/469 [==============================] - 7s 15ms/step - loss: 2.0748 - accuracy: 0.4574 - val_loss: 1.9895 - val_accuracy: 0.6547\n",
            "Epoch 5/100\n",
            "469/469 [==============================] - 7s 15ms/step - loss: 1.9612 - accuracy: 0.5050 - val_loss: 1.8439 - val_accuracy: 0.6830\n",
            "Epoch 6/100\n",
            "469/469 [==============================] - 7s 14ms/step - loss: 1.8175 - accuracy: 0.5433 - val_loss: 1.6640 - val_accuracy: 0.7154\n",
            "Epoch 7/100\n",
            "469/469 [==============================] - 7s 14ms/step - loss: 1.6522 - accuracy: 0.5828 - val_loss: 1.4629 - val_accuracy: 0.7438\n",
            "Epoch 8/100\n",
            "469/469 [==============================] - 7s 14ms/step - loss: 1.4850 - accuracy: 0.6133 - val_loss: 1.2679 - val_accuracy: 0.7674\n",
            "Epoch 9/100\n",
            "469/469 [==============================] - 7s 14ms/step - loss: 1.3354 - accuracy: 0.6407 - val_loss: 1.0987 - val_accuracy: 0.7869\n",
            "Epoch 10/100\n",
            "469/469 [==============================] - 7s 14ms/step - loss: 1.2068 - accuracy: 0.6610 - val_loss: 0.9618 - val_accuracy: 0.8035\n",
            "Epoch 11/100\n",
            "469/469 [==============================] - 7s 14ms/step - loss: 1.1015 - accuracy: 0.6839 - val_loss: 0.8546 - val_accuracy: 0.8148\n",
            "Epoch 12/100\n",
            "469/469 [==============================] - 7s 14ms/step - loss: 1.0203 - accuracy: 0.7015 - val_loss: 0.7722 - val_accuracy: 0.8252\n",
            "Epoch 13/100\n",
            "469/469 [==============================] - 7s 14ms/step - loss: 0.9559 - accuracy: 0.7153 - val_loss: 0.7076 - val_accuracy: 0.8347\n",
            "Epoch 14/100\n",
            "469/469 [==============================] - 7s 14ms/step - loss: 0.8983 - accuracy: 0.7294 - val_loss: 0.6563 - val_accuracy: 0.8453\n",
            "Epoch 15/100\n",
            "469/469 [==============================] - 7s 14ms/step - loss: 0.8492 - accuracy: 0.7436 - val_loss: 0.6146 - val_accuracy: 0.8494\n",
            "Epoch 16/100\n",
            "469/469 [==============================] - 7s 14ms/step - loss: 0.8129 - accuracy: 0.7519 - val_loss: 0.5798 - val_accuracy: 0.8548\n",
            "Epoch 17/100\n",
            "469/469 [==============================] - 7s 14ms/step - loss: 0.7756 - accuracy: 0.7627 - val_loss: 0.5502 - val_accuracy: 0.8606\n",
            "Epoch 18/100\n",
            "469/469 [==============================] - 7s 14ms/step - loss: 0.7532 - accuracy: 0.7682 - val_loss: 0.5261 - val_accuracy: 0.8650\n",
            "Epoch 19/100\n",
            "469/469 [==============================] - 7s 14ms/step - loss: 0.7272 - accuracy: 0.7751 - val_loss: 0.5055 - val_accuracy: 0.8684\n",
            "Epoch 20/100\n",
            "469/469 [==============================] - 7s 14ms/step - loss: 0.7035 - accuracy: 0.7831 - val_loss: 0.4864 - val_accuracy: 0.8731\n",
            "Epoch 21/100\n",
            "469/469 [==============================] - 7s 14ms/step - loss: 0.6814 - accuracy: 0.7904 - val_loss: 0.4695 - val_accuracy: 0.8782\n",
            "Epoch 22/100\n",
            "469/469 [==============================] - 7s 14ms/step - loss: 0.6653 - accuracy: 0.7950 - val_loss: 0.4551 - val_accuracy: 0.8805\n",
            "Epoch 23/100\n",
            "469/469 [==============================] - 7s 14ms/step - loss: 0.6452 - accuracy: 0.7997 - val_loss: 0.4414 - val_accuracy: 0.8821\n",
            "Epoch 24/100\n",
            "469/469 [==============================] - 7s 14ms/step - loss: 0.6334 - accuracy: 0.8044 - val_loss: 0.4297 - val_accuracy: 0.8835\n",
            "Epoch 25/100\n",
            "469/469 [==============================] - 7s 14ms/step - loss: 0.6209 - accuracy: 0.8079 - val_loss: 0.4193 - val_accuracy: 0.8850\n",
            "Epoch 26/100\n",
            "469/469 [==============================] - 7s 14ms/step - loss: 0.6043 - accuracy: 0.8134 - val_loss: 0.4094 - val_accuracy: 0.8880\n",
            "Epoch 27/100\n",
            "469/469 [==============================] - 7s 14ms/step - loss: 0.5964 - accuracy: 0.8166 - val_loss: 0.4005 - val_accuracy: 0.8908\n",
            "Epoch 28/100\n",
            "469/469 [==============================] - 7s 14ms/step - loss: 0.5831 - accuracy: 0.8195 - val_loss: 0.3920 - val_accuracy: 0.8921\n",
            "Epoch 29/100\n",
            "469/469 [==============================] - 7s 14ms/step - loss: 0.5718 - accuracy: 0.8251 - val_loss: 0.3841 - val_accuracy: 0.8941\n",
            "Epoch 30/100\n",
            "469/469 [==============================] - 7s 14ms/step - loss: 0.5628 - accuracy: 0.8272 - val_loss: 0.3768 - val_accuracy: 0.8954\n",
            "Epoch 31/100\n",
            "469/469 [==============================] - 7s 14ms/step - loss: 0.5541 - accuracy: 0.8301 - val_loss: 0.3700 - val_accuracy: 0.8975\n",
            "Epoch 32/100\n",
            "469/469 [==============================] - 7s 14ms/step - loss: 0.5454 - accuracy: 0.8323 - val_loss: 0.3636 - val_accuracy: 0.8988\n",
            "Epoch 33/100\n",
            "469/469 [==============================] - 7s 14ms/step - loss: 0.5390 - accuracy: 0.8342 - val_loss: 0.3579 - val_accuracy: 0.9001\n",
            "Epoch 34/100\n",
            "469/469 [==============================] - 7s 14ms/step - loss: 0.5297 - accuracy: 0.8371 - val_loss: 0.3519 - val_accuracy: 0.9021\n",
            "Epoch 35/100\n",
            "469/469 [==============================] - 7s 14ms/step - loss: 0.5176 - accuracy: 0.8432 - val_loss: 0.3465 - val_accuracy: 0.9037\n",
            "Epoch 36/100\n",
            "469/469 [==============================] - 7s 14ms/step - loss: 0.5178 - accuracy: 0.8419 - val_loss: 0.3420 - val_accuracy: 0.9038\n",
            "Epoch 37/100\n",
            "469/469 [==============================] - 7s 14ms/step - loss: 0.5090 - accuracy: 0.8456 - val_loss: 0.3371 - val_accuracy: 0.9058\n",
            "Epoch 38/100\n",
            "469/469 [==============================] - 7s 14ms/step - loss: 0.5033 - accuracy: 0.8468 - val_loss: 0.3325 - val_accuracy: 0.9066\n",
            "Epoch 39/100\n",
            "469/469 [==============================] - 7s 14ms/step - loss: 0.4968 - accuracy: 0.8479 - val_loss: 0.3284 - val_accuracy: 0.9074\n",
            "Epoch 40/100\n",
            "469/469 [==============================] - 7s 14ms/step - loss: 0.4923 - accuracy: 0.8506 - val_loss: 0.3246 - val_accuracy: 0.9091\n",
            "Epoch 41/100\n",
            "469/469 [==============================] - 7s 14ms/step - loss: 0.4870 - accuracy: 0.8520 - val_loss: 0.3203 - val_accuracy: 0.9094\n",
            "Epoch 42/100\n",
            "469/469 [==============================] - 7s 15ms/step - loss: 0.4776 - accuracy: 0.8551 - val_loss: 0.3161 - val_accuracy: 0.9114\n",
            "Epoch 43/100\n",
            "469/469 [==============================] - 7s 15ms/step - loss: 0.4744 - accuracy: 0.8566 - val_loss: 0.3124 - val_accuracy: 0.9120\n",
            "Epoch 44/100\n",
            "469/469 [==============================] - 7s 14ms/step - loss: 0.4678 - accuracy: 0.8563 - val_loss: 0.3088 - val_accuracy: 0.9129\n",
            "Epoch 45/100\n",
            "469/469 [==============================] - 7s 14ms/step - loss: 0.4671 - accuracy: 0.8587 - val_loss: 0.3057 - val_accuracy: 0.9138\n",
            "Epoch 46/100\n",
            "469/469 [==============================] - 7s 14ms/step - loss: 0.4613 - accuracy: 0.8602 - val_loss: 0.3025 - val_accuracy: 0.9145\n",
            "Epoch 47/100\n",
            "469/469 [==============================] - 7s 14ms/step - loss: 0.4577 - accuracy: 0.8594 - val_loss: 0.2994 - val_accuracy: 0.9164\n",
            "Epoch 48/100\n",
            "469/469 [==============================] - 7s 15ms/step - loss: 0.4531 - accuracy: 0.8632 - val_loss: 0.2968 - val_accuracy: 0.9168\n",
            "Epoch 49/100\n",
            "469/469 [==============================] - 7s 14ms/step - loss: 0.4498 - accuracy: 0.8638 - val_loss: 0.2933 - val_accuracy: 0.9178\n",
            "Epoch 50/100\n",
            "469/469 [==============================] - 7s 15ms/step - loss: 0.4417 - accuracy: 0.8670 - val_loss: 0.2906 - val_accuracy: 0.9188\n",
            "Epoch 51/100\n",
            "469/469 [==============================] - 7s 15ms/step - loss: 0.4397 - accuracy: 0.8667 - val_loss: 0.2878 - val_accuracy: 0.9191\n",
            "Epoch 52/100\n",
            "469/469 [==============================] - 7s 14ms/step - loss: 0.4370 - accuracy: 0.8680 - val_loss: 0.2850 - val_accuracy: 0.9201\n",
            "Epoch 53/100\n",
            "469/469 [==============================] - 7s 14ms/step - loss: 0.4348 - accuracy: 0.8679 - val_loss: 0.2823 - val_accuracy: 0.9206\n",
            "Epoch 54/100\n",
            "469/469 [==============================] - 7s 14ms/step - loss: 0.4305 - accuracy: 0.8693 - val_loss: 0.2800 - val_accuracy: 0.9215\n",
            "Epoch 55/100\n",
            "469/469 [==============================] - 7s 14ms/step - loss: 0.4249 - accuracy: 0.8715 - val_loss: 0.2775 - val_accuracy: 0.9221\n",
            "Epoch 56/100\n",
            "469/469 [==============================] - 7s 14ms/step - loss: 0.4215 - accuracy: 0.8726 - val_loss: 0.2750 - val_accuracy: 0.9222\n",
            "Epoch 57/100\n",
            "469/469 [==============================] - 7s 14ms/step - loss: 0.4192 - accuracy: 0.8725 - val_loss: 0.2726 - val_accuracy: 0.9237\n",
            "Epoch 58/100\n",
            "469/469 [==============================] - 7s 14ms/step - loss: 0.4151 - accuracy: 0.8749 - val_loss: 0.2700 - val_accuracy: 0.9241\n",
            "Epoch 59/100\n",
            "469/469 [==============================] - 7s 14ms/step - loss: 0.4141 - accuracy: 0.8734 - val_loss: 0.2678 - val_accuracy: 0.9246\n",
            "Epoch 60/100\n",
            "469/469 [==============================] - 7s 14ms/step - loss: 0.4112 - accuracy: 0.8762 - val_loss: 0.2658 - val_accuracy: 0.9245\n",
            "Epoch 61/100\n",
            "469/469 [==============================] - 7s 14ms/step - loss: 0.4118 - accuracy: 0.8754 - val_loss: 0.2639 - val_accuracy: 0.9255\n",
            "Epoch 62/100\n",
            "469/469 [==============================] - 7s 14ms/step - loss: 0.4042 - accuracy: 0.8771 - val_loss: 0.2620 - val_accuracy: 0.9258\n",
            "Epoch 63/100\n",
            "469/469 [==============================] - 7s 14ms/step - loss: 0.4013 - accuracy: 0.8781 - val_loss: 0.2595 - val_accuracy: 0.9259\n",
            "Epoch 64/100\n",
            "469/469 [==============================] - 7s 14ms/step - loss: 0.3936 - accuracy: 0.8801 - val_loss: 0.2576 - val_accuracy: 0.9262\n",
            "Epoch 65/100\n",
            "469/469 [==============================] - 7s 14ms/step - loss: 0.3933 - accuracy: 0.8808 - val_loss: 0.2554 - val_accuracy: 0.9266\n",
            "Epoch 66/100\n",
            "469/469 [==============================] - 7s 14ms/step - loss: 0.3900 - accuracy: 0.8819 - val_loss: 0.2531 - val_accuracy: 0.9268\n",
            "Epoch 67/100\n",
            "469/469 [==============================] - 7s 14ms/step - loss: 0.3904 - accuracy: 0.8819 - val_loss: 0.2512 - val_accuracy: 0.9273\n",
            "Epoch 68/100\n",
            "469/469 [==============================] - 7s 14ms/step - loss: 0.3879 - accuracy: 0.8832 - val_loss: 0.2494 - val_accuracy: 0.9277\n",
            "Epoch 69/100\n",
            "469/469 [==============================] - 7s 14ms/step - loss: 0.3838 - accuracy: 0.8842 - val_loss: 0.2474 - val_accuracy: 0.9278\n",
            "Epoch 70/100\n",
            "469/469 [==============================] - 7s 14ms/step - loss: 0.3834 - accuracy: 0.8854 - val_loss: 0.2461 - val_accuracy: 0.9282\n",
            "Epoch 71/100\n",
            "469/469 [==============================] - 7s 14ms/step - loss: 0.3789 - accuracy: 0.8871 - val_loss: 0.2440 - val_accuracy: 0.9283\n",
            "Epoch 72/100\n",
            "469/469 [==============================] - 7s 14ms/step - loss: 0.3791 - accuracy: 0.8845 - val_loss: 0.2423 - val_accuracy: 0.9293\n",
            "Epoch 73/100\n",
            "469/469 [==============================] - 7s 14ms/step - loss: 0.3768 - accuracy: 0.8863 - val_loss: 0.2408 - val_accuracy: 0.9296\n",
            "Epoch 74/100\n",
            "469/469 [==============================] - 7s 14ms/step - loss: 0.3738 - accuracy: 0.8873 - val_loss: 0.2389 - val_accuracy: 0.9302\n",
            "Epoch 75/100\n",
            "469/469 [==============================] - 7s 14ms/step - loss: 0.3711 - accuracy: 0.8894 - val_loss: 0.2372 - val_accuracy: 0.9305\n",
            "Epoch 76/100\n",
            "469/469 [==============================] - 7s 14ms/step - loss: 0.3659 - accuracy: 0.8900 - val_loss: 0.2354 - val_accuracy: 0.9310\n",
            "Epoch 77/100\n",
            "469/469 [==============================] - 7s 14ms/step - loss: 0.3664 - accuracy: 0.8898 - val_loss: 0.2339 - val_accuracy: 0.9311\n",
            "Epoch 78/100\n",
            "469/469 [==============================] - 7s 14ms/step - loss: 0.3640 - accuracy: 0.8918 - val_loss: 0.2324 - val_accuracy: 0.9312\n",
            "Epoch 79/100\n",
            "469/469 [==============================] - 7s 14ms/step - loss: 0.3664 - accuracy: 0.8901 - val_loss: 0.2310 - val_accuracy: 0.9316\n",
            "Epoch 80/100\n",
            "469/469 [==============================] - 7s 14ms/step - loss: 0.3633 - accuracy: 0.8888 - val_loss: 0.2297 - val_accuracy: 0.9319\n",
            "Epoch 81/100\n",
            "469/469 [==============================] - 7s 14ms/step - loss: 0.3598 - accuracy: 0.8919 - val_loss: 0.2280 - val_accuracy: 0.9320\n",
            "Epoch 82/100\n",
            "469/469 [==============================] - 7s 14ms/step - loss: 0.3560 - accuracy: 0.8924 - val_loss: 0.2264 - val_accuracy: 0.9324\n",
            "Epoch 83/100\n",
            "469/469 [==============================] - 7s 15ms/step - loss: 0.3542 - accuracy: 0.8931 - val_loss: 0.2251 - val_accuracy: 0.9328\n",
            "Epoch 84/100\n",
            "469/469 [==============================] - 7s 15ms/step - loss: 0.3537 - accuracy: 0.8945 - val_loss: 0.2237 - val_accuracy: 0.9335\n",
            "Epoch 85/100\n",
            "469/469 [==============================] - 7s 15ms/step - loss: 0.3519 - accuracy: 0.8964 - val_loss: 0.2218 - val_accuracy: 0.9332\n",
            "Epoch 86/100\n",
            "469/469 [==============================] - 7s 14ms/step - loss: 0.3481 - accuracy: 0.8948 - val_loss: 0.2205 - val_accuracy: 0.9334\n",
            "Epoch 87/100\n",
            "469/469 [==============================] - 7s 14ms/step - loss: 0.3481 - accuracy: 0.8947 - val_loss: 0.2197 - val_accuracy: 0.9348\n",
            "Epoch 88/100\n",
            "469/469 [==============================] - 7s 14ms/step - loss: 0.3447 - accuracy: 0.8976 - val_loss: 0.2181 - val_accuracy: 0.9346\n",
            "Epoch 89/100\n",
            "469/469 [==============================] - 7s 14ms/step - loss: 0.3413 - accuracy: 0.8982 - val_loss: 0.2167 - val_accuracy: 0.9359\n",
            "Epoch 90/100\n",
            "469/469 [==============================] - 7s 14ms/step - loss: 0.3427 - accuracy: 0.8975 - val_loss: 0.2152 - val_accuracy: 0.9365\n",
            "Epoch 91/100\n",
            "469/469 [==============================] - 7s 14ms/step - loss: 0.3422 - accuracy: 0.8967 - val_loss: 0.2144 - val_accuracy: 0.9368\n",
            "Epoch 92/100\n",
            "469/469 [==============================] - 7s 14ms/step - loss: 0.3381 - accuracy: 0.8986 - val_loss: 0.2129 - val_accuracy: 0.9362\n",
            "Epoch 93/100\n",
            "469/469 [==============================] - 7s 15ms/step - loss: 0.3349 - accuracy: 0.8996 - val_loss: 0.2116 - val_accuracy: 0.9376\n",
            "Epoch 94/100\n",
            "469/469 [==============================] - 7s 14ms/step - loss: 0.3368 - accuracy: 0.8988 - val_loss: 0.2105 - val_accuracy: 0.9376\n",
            "Epoch 95/100\n",
            "469/469 [==============================] - 7s 14ms/step - loss: 0.3325 - accuracy: 0.9008 - val_loss: 0.2091 - val_accuracy: 0.9384\n",
            "Epoch 96/100\n",
            "469/469 [==============================] - 7s 15ms/step - loss: 0.3315 - accuracy: 0.9011 - val_loss: 0.2076 - val_accuracy: 0.9392\n",
            "Epoch 97/100\n",
            "469/469 [==============================] - 7s 15ms/step - loss: 0.3278 - accuracy: 0.9022 - val_loss: 0.2066 - val_accuracy: 0.9391\n",
            "Epoch 98/100\n",
            "469/469 [==============================] - 7s 14ms/step - loss: 0.3293 - accuracy: 0.9010 - val_loss: 0.2054 - val_accuracy: 0.9397\n",
            "Epoch 99/100\n",
            "469/469 [==============================] - 7s 14ms/step - loss: 0.3252 - accuracy: 0.9027 - val_loss: 0.2044 - val_accuracy: 0.9398\n",
            "Epoch 100/100\n",
            "469/469 [==============================] - 7s 14ms/step - loss: 0.3272 - accuracy: 0.9023 - val_loss: 0.2032 - val_accuracy: 0.9401\n",
            "Epoch 1/100\n",
            "469/469 [==============================] - 7s 15ms/step - loss: 2.2883 - accuracy: 0.1418 - val_loss: 2.2324 - val_accuracy: 0.2889\n",
            "Epoch 2/100\n",
            "469/469 [==============================] - 7s 14ms/step - loss: 2.2052 - accuracy: 0.2603 - val_loss: 2.1337 - val_accuracy: 0.4625\n",
            "Epoch 3/100\n",
            "469/469 [==============================] - 7s 14ms/step - loss: 2.1028 - accuracy: 0.3646 - val_loss: 2.0041 - val_accuracy: 0.5715\n",
            "Epoch 4/100\n",
            "469/469 [==============================] - 7s 14ms/step - loss: 1.9684 - accuracy: 0.4553 - val_loss: 1.8354 - val_accuracy: 0.6347\n",
            "Epoch 5/100\n",
            "469/469 [==============================] - 7s 14ms/step - loss: 1.8086 - accuracy: 0.5197 - val_loss: 1.6367 - val_accuracy: 0.6779\n",
            "Epoch 6/100\n",
            "469/469 [==============================] - 7s 14ms/step - loss: 1.6324 - accuracy: 0.5679 - val_loss: 1.4266 - val_accuracy: 0.7197\n",
            "Epoch 7/100\n",
            "469/469 [==============================] - 7s 14ms/step - loss: 1.4603 - accuracy: 0.6050 - val_loss: 1.2308 - val_accuracy: 0.7546\n",
            "Epoch 8/100\n",
            "469/469 [==============================] - 7s 14ms/step - loss: 1.3106 - accuracy: 0.6352 - val_loss: 1.0641 - val_accuracy: 0.7854\n",
            "Epoch 9/100\n",
            "469/469 [==============================] - 7s 14ms/step - loss: 1.1875 - accuracy: 0.6600 - val_loss: 0.9329 - val_accuracy: 0.8047\n",
            "Epoch 10/100\n",
            "469/469 [==============================] - 7s 14ms/step - loss: 1.0888 - accuracy: 0.6812 - val_loss: 0.8314 - val_accuracy: 0.8194\n",
            "Epoch 11/100\n",
            "469/469 [==============================] - 7s 14ms/step - loss: 1.0098 - accuracy: 0.6979 - val_loss: 0.7521 - val_accuracy: 0.8327\n",
            "Epoch 12/100\n",
            "469/469 [==============================] - 7s 14ms/step - loss: 0.9416 - accuracy: 0.7162 - val_loss: 0.6898 - val_accuracy: 0.8428\n",
            "Epoch 13/100\n",
            "469/469 [==============================] - 7s 14ms/step - loss: 0.8927 - accuracy: 0.7284 - val_loss: 0.6403 - val_accuracy: 0.8501\n",
            "Epoch 14/100\n",
            "469/469 [==============================] - 7s 14ms/step - loss: 0.8454 - accuracy: 0.7420 - val_loss: 0.5997 - val_accuracy: 0.8571\n",
            "Epoch 15/100\n",
            "469/469 [==============================] - 7s 14ms/step - loss: 0.8073 - accuracy: 0.7507 - val_loss: 0.5666 - val_accuracy: 0.8619\n",
            "Epoch 16/100\n",
            "469/469 [==============================] - 7s 14ms/step - loss: 0.7770 - accuracy: 0.7611 - val_loss: 0.5385 - val_accuracy: 0.8681\n",
            "Epoch 17/100\n",
            "469/469 [==============================] - 7s 14ms/step - loss: 0.7502 - accuracy: 0.7675 - val_loss: 0.5150 - val_accuracy: 0.8726\n",
            "Epoch 18/100\n",
            "469/469 [==============================] - 7s 14ms/step - loss: 0.7199 - accuracy: 0.7783 - val_loss: 0.4940 - val_accuracy: 0.8765\n",
            "Epoch 19/100\n",
            "469/469 [==============================] - 7s 14ms/step - loss: 0.7038 - accuracy: 0.7830 - val_loss: 0.4764 - val_accuracy: 0.8787\n",
            "Epoch 20/100\n",
            "469/469 [==============================] - 7s 14ms/step - loss: 0.6848 - accuracy: 0.7887 - val_loss: 0.4607 - val_accuracy: 0.8810\n",
            "Epoch 21/100\n",
            "469/469 [==============================] - 7s 14ms/step - loss: 0.6649 - accuracy: 0.7948 - val_loss: 0.4469 - val_accuracy: 0.8847\n",
            "Epoch 22/100\n",
            "469/469 [==============================] - 7s 14ms/step - loss: 0.6518 - accuracy: 0.7984 - val_loss: 0.4343 - val_accuracy: 0.8861\n",
            "Epoch 23/100\n",
            "469/469 [==============================] - 7s 14ms/step - loss: 0.6359 - accuracy: 0.8042 - val_loss: 0.4225 - val_accuracy: 0.8888\n",
            "Epoch 24/100\n",
            "469/469 [==============================] - 7s 14ms/step - loss: 0.6182 - accuracy: 0.8095 - val_loss: 0.4119 - val_accuracy: 0.8905\n",
            "Epoch 25/100\n",
            "469/469 [==============================] - 7s 14ms/step - loss: 0.6093 - accuracy: 0.8131 - val_loss: 0.4020 - val_accuracy: 0.8927\n",
            "Epoch 26/100\n",
            "469/469 [==============================] - 7s 14ms/step - loss: 0.6048 - accuracy: 0.8129 - val_loss: 0.3941 - val_accuracy: 0.8943\n",
            "Epoch 27/100\n",
            "469/469 [==============================] - 7s 14ms/step - loss: 0.5882 - accuracy: 0.8203 - val_loss: 0.3866 - val_accuracy: 0.8954\n",
            "Epoch 28/100\n",
            "469/469 [==============================] - 7s 14ms/step - loss: 0.5793 - accuracy: 0.8213 - val_loss: 0.3792 - val_accuracy: 0.8977\n",
            "Epoch 29/100\n",
            "469/469 [==============================] - 7s 14ms/step - loss: 0.5706 - accuracy: 0.8263 - val_loss: 0.3724 - val_accuracy: 0.8993\n",
            "Epoch 30/100\n",
            "469/469 [==============================] - 7s 14ms/step - loss: 0.5585 - accuracy: 0.8283 - val_loss: 0.3654 - val_accuracy: 0.9016\n",
            "Epoch 31/100\n",
            "469/469 [==============================] - 7s 14ms/step - loss: 0.5509 - accuracy: 0.8302 - val_loss: 0.3599 - val_accuracy: 0.9029\n",
            "Epoch 32/100\n",
            "469/469 [==============================] - 7s 14ms/step - loss: 0.5452 - accuracy: 0.8332 - val_loss: 0.3540 - val_accuracy: 0.9043\n",
            "Epoch 33/100\n",
            "469/469 [==============================] - 7s 14ms/step - loss: 0.5374 - accuracy: 0.8341 - val_loss: 0.3489 - val_accuracy: 0.9044\n",
            "Epoch 34/100\n",
            "469/469 [==============================] - 7s 14ms/step - loss: 0.5329 - accuracy: 0.8359 - val_loss: 0.3437 - val_accuracy: 0.9063\n",
            "Epoch 35/100\n",
            "469/469 [==============================] - 7s 14ms/step - loss: 0.5258 - accuracy: 0.8393 - val_loss: 0.3391 - val_accuracy: 0.9075\n",
            "Epoch 36/100\n",
            "469/469 [==============================] - 7s 14ms/step - loss: 0.5176 - accuracy: 0.8416 - val_loss: 0.3347 - val_accuracy: 0.9080\n",
            "Epoch 37/100\n",
            "469/469 [==============================] - 7s 14ms/step - loss: 0.5123 - accuracy: 0.8442 - val_loss: 0.3303 - val_accuracy: 0.9099\n",
            "Epoch 38/100\n",
            "469/469 [==============================] - 7s 15ms/step - loss: 0.5038 - accuracy: 0.8461 - val_loss: 0.3257 - val_accuracy: 0.9110\n",
            "Epoch 39/100\n",
            "469/469 [==============================] - 7s 15ms/step - loss: 0.5010 - accuracy: 0.8474 - val_loss: 0.3217 - val_accuracy: 0.9117\n",
            "Epoch 40/100\n",
            "469/469 [==============================] - 7s 14ms/step - loss: 0.4951 - accuracy: 0.8513 - val_loss: 0.3178 - val_accuracy: 0.9125\n",
            "Epoch 41/100\n",
            "469/469 [==============================] - 7s 14ms/step - loss: 0.4887 - accuracy: 0.8507 - val_loss: 0.3141 - val_accuracy: 0.9140\n",
            "Epoch 42/100\n",
            "469/469 [==============================] - 7s 15ms/step - loss: 0.4841 - accuracy: 0.8519 - val_loss: 0.3105 - val_accuracy: 0.9146\n",
            "Epoch 43/100\n",
            "469/469 [==============================] - 7s 15ms/step - loss: 0.4819 - accuracy: 0.8531 - val_loss: 0.3070 - val_accuracy: 0.9153\n",
            "Epoch 44/100\n",
            "469/469 [==============================] - 7s 14ms/step - loss: 0.4747 - accuracy: 0.8539 - val_loss: 0.3033 - val_accuracy: 0.9161\n",
            "Epoch 45/100\n",
            "469/469 [==============================] - 7s 14ms/step - loss: 0.4716 - accuracy: 0.8555 - val_loss: 0.3005 - val_accuracy: 0.9162\n",
            "Epoch 46/100\n",
            "469/469 [==============================] - 7s 14ms/step - loss: 0.4687 - accuracy: 0.8575 - val_loss: 0.2973 - val_accuracy: 0.9166\n",
            "Epoch 47/100\n",
            "469/469 [==============================] - 7s 14ms/step - loss: 0.4632 - accuracy: 0.8588 - val_loss: 0.2941 - val_accuracy: 0.9177\n",
            "Epoch 48/100\n",
            "469/469 [==============================] - 7s 14ms/step - loss: 0.4598 - accuracy: 0.8605 - val_loss: 0.2914 - val_accuracy: 0.9180\n",
            "Epoch 49/100\n",
            "469/469 [==============================] - 7s 14ms/step - loss: 0.4547 - accuracy: 0.8626 - val_loss: 0.2886 - val_accuracy: 0.9176\n",
            "Epoch 50/100\n",
            "469/469 [==============================] - 7s 14ms/step - loss: 0.4513 - accuracy: 0.8620 - val_loss: 0.2861 - val_accuracy: 0.9184\n",
            "Epoch 51/100\n",
            "469/469 [==============================] - 7s 14ms/step - loss: 0.4474 - accuracy: 0.8646 - val_loss: 0.2833 - val_accuracy: 0.9196\n",
            "Epoch 52/100\n",
            "469/469 [==============================] - 7s 14ms/step - loss: 0.4420 - accuracy: 0.8674 - val_loss: 0.2806 - val_accuracy: 0.9200\n",
            "Epoch 53/100\n",
            "469/469 [==============================] - 7s 14ms/step - loss: 0.4363 - accuracy: 0.8672 - val_loss: 0.2783 - val_accuracy: 0.9203\n",
            "Epoch 54/100\n",
            "469/469 [==============================] - 7s 14ms/step - loss: 0.4389 - accuracy: 0.8675 - val_loss: 0.2758 - val_accuracy: 0.9209\n",
            "Epoch 55/100\n",
            "469/469 [==============================] - 7s 14ms/step - loss: 0.4307 - accuracy: 0.8701 - val_loss: 0.2730 - val_accuracy: 0.9219\n",
            "Epoch 56/100\n",
            "469/469 [==============================] - 7s 14ms/step - loss: 0.4362 - accuracy: 0.8683 - val_loss: 0.2711 - val_accuracy: 0.9220\n",
            "Epoch 57/100\n",
            "469/469 [==============================] - 7s 14ms/step - loss: 0.4256 - accuracy: 0.8706 - val_loss: 0.2685 - val_accuracy: 0.9234\n",
            "Epoch 58/100\n",
            "469/469 [==============================] - 7s 14ms/step - loss: 0.4205 - accuracy: 0.8733 - val_loss: 0.2660 - val_accuracy: 0.9240\n",
            "Epoch 59/100\n",
            "469/469 [==============================] - 7s 15ms/step - loss: 0.4183 - accuracy: 0.8751 - val_loss: 0.2641 - val_accuracy: 0.9251\n",
            "Epoch 60/100\n",
            "469/469 [==============================] - 7s 15ms/step - loss: 0.4182 - accuracy: 0.8742 - val_loss: 0.2620 - val_accuracy: 0.9250\n",
            "Epoch 61/100\n",
            "469/469 [==============================] - 7s 14ms/step - loss: 0.4132 - accuracy: 0.8753 - val_loss: 0.2600 - val_accuracy: 0.9257\n",
            "Epoch 62/100\n",
            "469/469 [==============================] - 7s 14ms/step - loss: 0.4117 - accuracy: 0.8764 - val_loss: 0.2578 - val_accuracy: 0.9261\n",
            "Epoch 63/100\n",
            "469/469 [==============================] - 7s 14ms/step - loss: 0.4068 - accuracy: 0.8767 - val_loss: 0.2557 - val_accuracy: 0.9267\n",
            "Epoch 64/100\n",
            "469/469 [==============================] - 7s 14ms/step - loss: 0.4048 - accuracy: 0.8766 - val_loss: 0.2540 - val_accuracy: 0.9276\n",
            "Epoch 65/100\n",
            "469/469 [==============================] - 7s 14ms/step - loss: 0.4013 - accuracy: 0.8787 - val_loss: 0.2520 - val_accuracy: 0.9278\n",
            "Epoch 66/100\n",
            "469/469 [==============================] - 7s 14ms/step - loss: 0.4043 - accuracy: 0.8785 - val_loss: 0.2499 - val_accuracy: 0.9282\n",
            "Epoch 67/100\n",
            "469/469 [==============================] - 7s 14ms/step - loss: 0.3984 - accuracy: 0.8788 - val_loss: 0.2480 - val_accuracy: 0.9293\n",
            "Epoch 68/100\n",
            "469/469 [==============================] - 7s 14ms/step - loss: 0.3926 - accuracy: 0.8803 - val_loss: 0.2462 - val_accuracy: 0.9293\n",
            "Epoch 69/100\n",
            "469/469 [==============================] - 7s 14ms/step - loss: 0.3899 - accuracy: 0.8832 - val_loss: 0.2443 - val_accuracy: 0.9300\n",
            "Epoch 70/100\n",
            "469/469 [==============================] - 7s 14ms/step - loss: 0.3896 - accuracy: 0.8826 - val_loss: 0.2426 - val_accuracy: 0.9305\n",
            "Epoch 71/100\n",
            "469/469 [==============================] - 7s 14ms/step - loss: 0.3915 - accuracy: 0.8807 - val_loss: 0.2415 - val_accuracy: 0.9306\n",
            "Epoch 72/100\n",
            "469/469 [==============================] - 7s 14ms/step - loss: 0.3850 - accuracy: 0.8845 - val_loss: 0.2399 - val_accuracy: 0.9310\n",
            "Epoch 73/100\n",
            "469/469 [==============================] - 7s 14ms/step - loss: 0.3859 - accuracy: 0.8834 - val_loss: 0.2379 - val_accuracy: 0.9314\n",
            "Epoch 74/100\n",
            "469/469 [==============================] - 7s 14ms/step - loss: 0.3827 - accuracy: 0.8847 - val_loss: 0.2367 - val_accuracy: 0.9318\n",
            "Epoch 75/100\n",
            "469/469 [==============================] - 7s 14ms/step - loss: 0.3828 - accuracy: 0.8845 - val_loss: 0.2348 - val_accuracy: 0.9318\n",
            "Epoch 76/100\n",
            "469/469 [==============================] - 7s 14ms/step - loss: 0.3825 - accuracy: 0.8838 - val_loss: 0.2333 - val_accuracy: 0.9321\n",
            "Epoch 77/100\n",
            "469/469 [==============================] - 7s 14ms/step - loss: 0.3760 - accuracy: 0.8864 - val_loss: 0.2316 - val_accuracy: 0.9332\n",
            "Epoch 78/100\n",
            "469/469 [==============================] - 7s 14ms/step - loss: 0.3738 - accuracy: 0.8869 - val_loss: 0.2301 - val_accuracy: 0.9333\n",
            "Epoch 79/100\n",
            "469/469 [==============================] - 7s 14ms/step - loss: 0.3713 - accuracy: 0.8874 - val_loss: 0.2286 - val_accuracy: 0.9335\n",
            "Epoch 80/100\n",
            "469/469 [==============================] - 7s 14ms/step - loss: 0.3686 - accuracy: 0.8871 - val_loss: 0.2276 - val_accuracy: 0.9334\n",
            "Epoch 81/100\n",
            "469/469 [==============================] - 7s 14ms/step - loss: 0.3663 - accuracy: 0.8888 - val_loss: 0.2257 - val_accuracy: 0.9341\n",
            "Epoch 82/100\n",
            "469/469 [==============================] - 7s 14ms/step - loss: 0.3655 - accuracy: 0.8894 - val_loss: 0.2245 - val_accuracy: 0.9339\n",
            "Epoch 83/100\n",
            "469/469 [==============================] - 7s 15ms/step - loss: 0.3618 - accuracy: 0.8934 - val_loss: 0.2229 - val_accuracy: 0.9344\n",
            "Epoch 84/100\n",
            "469/469 [==============================] - 7s 15ms/step - loss: 0.3620 - accuracy: 0.8921 - val_loss: 0.2218 - val_accuracy: 0.9350\n",
            "Epoch 85/100\n",
            "469/469 [==============================] - 7s 14ms/step - loss: 0.3603 - accuracy: 0.8916 - val_loss: 0.2206 - val_accuracy: 0.9354\n",
            "Epoch 86/100\n",
            "469/469 [==============================] - 7s 14ms/step - loss: 0.3596 - accuracy: 0.8915 - val_loss: 0.2191 - val_accuracy: 0.9356\n",
            "Epoch 87/100\n",
            "469/469 [==============================] - 7s 14ms/step - loss: 0.3540 - accuracy: 0.8931 - val_loss: 0.2177 - val_accuracy: 0.9364\n",
            "Epoch 88/100\n",
            "469/469 [==============================] - 7s 15ms/step - loss: 0.3558 - accuracy: 0.8927 - val_loss: 0.2166 - val_accuracy: 0.9364\n",
            "Epoch 89/100\n",
            "469/469 [==============================] - 7s 15ms/step - loss: 0.3536 - accuracy: 0.8935 - val_loss: 0.2152 - val_accuracy: 0.9368\n",
            "Epoch 90/100\n",
            "469/469 [==============================] - 7s 14ms/step - loss: 0.3525 - accuracy: 0.8934 - val_loss: 0.2140 - val_accuracy: 0.9373\n",
            "Epoch 91/100\n",
            "469/469 [==============================] - 7s 14ms/step - loss: 0.3482 - accuracy: 0.8955 - val_loss: 0.2127 - val_accuracy: 0.9375\n",
            "Epoch 92/100\n",
            "469/469 [==============================] - 7s 14ms/step - loss: 0.3486 - accuracy: 0.8960 - val_loss: 0.2112 - val_accuracy: 0.9378\n",
            "Epoch 93/100\n",
            "469/469 [==============================] - 7s 14ms/step - loss: 0.3470 - accuracy: 0.8962 - val_loss: 0.2105 - val_accuracy: 0.9387\n",
            "Epoch 94/100\n",
            "469/469 [==============================] - 7s 14ms/step - loss: 0.3437 - accuracy: 0.8970 - val_loss: 0.2095 - val_accuracy: 0.9381\n",
            "Epoch 95/100\n",
            "469/469 [==============================] - 7s 14ms/step - loss: 0.3435 - accuracy: 0.8970 - val_loss: 0.2082 - val_accuracy: 0.9388\n",
            "Epoch 96/100\n",
            "469/469 [==============================] - 7s 14ms/step - loss: 0.3396 - accuracy: 0.8983 - val_loss: 0.2071 - val_accuracy: 0.9393\n",
            "Epoch 97/100\n",
            "469/469 [==============================] - 7s 14ms/step - loss: 0.3402 - accuracy: 0.8978 - val_loss: 0.2059 - val_accuracy: 0.9396\n",
            "Epoch 98/100\n",
            "469/469 [==============================] - 7s 14ms/step - loss: 0.3370 - accuracy: 0.9000 - val_loss: 0.2045 - val_accuracy: 0.9402\n",
            "Epoch 99/100\n",
            "469/469 [==============================] - 7s 14ms/step - loss: 0.3364 - accuracy: 0.8988 - val_loss: 0.2038 - val_accuracy: 0.9406\n",
            "Epoch 100/100\n",
            "469/469 [==============================] - 7s 14ms/step - loss: 0.3352 - accuracy: 0.8978 - val_loss: 0.2029 - val_accuracy: 0.9406\n",
            "Epoch 1/100\n",
            "469/469 [==============================] - 7s 15ms/step - loss: 2.2886 - accuracy: 0.1311 - val_loss: 2.2501 - val_accuracy: 0.2482\n",
            "Epoch 2/100\n",
            "469/469 [==============================] - 7s 14ms/step - loss: 2.2302 - accuracy: 0.2385 - val_loss: 2.1802 - val_accuracy: 0.5227\n",
            "Epoch 3/100\n",
            "469/469 [==============================] - 7s 14ms/step - loss: 2.1586 - accuracy: 0.3472 - val_loss: 2.0899 - val_accuracy: 0.6576\n",
            "Epoch 4/100\n",
            "469/469 [==============================] - 7s 14ms/step - loss: 2.0658 - accuracy: 0.4320 - val_loss: 1.9706 - val_accuracy: 0.7053\n",
            "Epoch 5/100\n",
            "469/469 [==============================] - 7s 14ms/step - loss: 1.9453 - accuracy: 0.4928 - val_loss: 1.8147 - val_accuracy: 0.7261\n",
            "Epoch 6/100\n",
            "469/469 [==============================] - 7s 14ms/step - loss: 1.7932 - accuracy: 0.5451 - val_loss: 1.6252 - val_accuracy: 0.7447\n",
            "Epoch 7/100\n",
            "469/469 [==============================] - 7s 14ms/step - loss: 1.6263 - accuracy: 0.5818 - val_loss: 1.4242 - val_accuracy: 0.7678\n",
            "Epoch 8/100\n",
            "469/469 [==============================] - 7s 14ms/step - loss: 1.4611 - accuracy: 0.6123 - val_loss: 1.2351 - val_accuracy: 0.7877\n",
            "Epoch 9/100\n",
            "469/469 [==============================] - 7s 14ms/step - loss: 1.3176 - accuracy: 0.6344 - val_loss: 1.0743 - val_accuracy: 0.8019\n",
            "Epoch 10/100\n",
            "469/469 [==============================] - 7s 14ms/step - loss: 1.1988 - accuracy: 0.6573 - val_loss: 0.9464 - val_accuracy: 0.8141\n",
            "Epoch 11/100\n",
            "469/469 [==============================] - 7s 14ms/step - loss: 1.1025 - accuracy: 0.6750 - val_loss: 0.8461 - val_accuracy: 0.8253\n",
            "Epoch 12/100\n",
            "469/469 [==============================] - 7s 14ms/step - loss: 1.0249 - accuracy: 0.6925 - val_loss: 0.7678 - val_accuracy: 0.8373\n",
            "Epoch 13/100\n",
            "469/469 [==============================] - 7s 14ms/step - loss: 0.9570 - accuracy: 0.7121 - val_loss: 0.7051 - val_accuracy: 0.8458\n",
            "Epoch 14/100\n",
            "469/469 [==============================] - 7s 14ms/step - loss: 0.9035 - accuracy: 0.7267 - val_loss: 0.6553 - val_accuracy: 0.8522\n",
            "Epoch 15/100\n",
            "469/469 [==============================] - 7s 14ms/step - loss: 0.8612 - accuracy: 0.7366 - val_loss: 0.6155 - val_accuracy: 0.8563\n",
            "Epoch 16/100\n",
            "469/469 [==============================] - 7s 14ms/step - loss: 0.8271 - accuracy: 0.7466 - val_loss: 0.5815 - val_accuracy: 0.8627\n",
            "Epoch 17/100\n",
            "469/469 [==============================] - 7s 14ms/step - loss: 0.7882 - accuracy: 0.7559 - val_loss: 0.5524 - val_accuracy: 0.8664\n",
            "Epoch 18/100\n",
            "469/469 [==============================] - 7s 14ms/step - loss: 0.7647 - accuracy: 0.7650 - val_loss: 0.5281 - val_accuracy: 0.8702\n",
            "Epoch 19/100\n",
            "469/469 [==============================] - 7s 14ms/step - loss: 0.7391 - accuracy: 0.7726 - val_loss: 0.5070 - val_accuracy: 0.8733\n",
            "Epoch 20/100\n",
            "469/469 [==============================] - 7s 14ms/step - loss: 0.7170 - accuracy: 0.7777 - val_loss: 0.4886 - val_accuracy: 0.8752\n",
            "Epoch 21/100\n",
            "469/469 [==============================] - 7s 14ms/step - loss: 0.6957 - accuracy: 0.7858 - val_loss: 0.4723 - val_accuracy: 0.8779\n",
            "Epoch 22/100\n",
            "469/469 [==============================] - 7s 14ms/step - loss: 0.6803 - accuracy: 0.7906 - val_loss: 0.4581 - val_accuracy: 0.8801\n",
            "Epoch 23/100\n",
            "469/469 [==============================] - 7s 14ms/step - loss: 0.6606 - accuracy: 0.7967 - val_loss: 0.4449 - val_accuracy: 0.8819\n",
            "Epoch 24/100\n",
            "469/469 [==============================] - 7s 14ms/step - loss: 0.6480 - accuracy: 0.7992 - val_loss: 0.4334 - val_accuracy: 0.8841\n",
            "Epoch 25/100\n",
            "469/469 [==============================] - 7s 14ms/step - loss: 0.6362 - accuracy: 0.8049 - val_loss: 0.4233 - val_accuracy: 0.8856\n",
            "Epoch 26/100\n",
            "469/469 [==============================] - 7s 14ms/step - loss: 0.6217 - accuracy: 0.8081 - val_loss: 0.4138 - val_accuracy: 0.8869\n",
            "Epoch 27/100\n",
            "469/469 [==============================] - 7s 14ms/step - loss: 0.6086 - accuracy: 0.8125 - val_loss: 0.4049 - val_accuracy: 0.8887\n",
            "Epoch 28/100\n",
            "469/469 [==============================] - 7s 14ms/step - loss: 0.5991 - accuracy: 0.8154 - val_loss: 0.3970 - val_accuracy: 0.8889\n",
            "Epoch 29/100\n",
            "469/469 [==============================] - 7s 15ms/step - loss: 0.5875 - accuracy: 0.8194 - val_loss: 0.3888 - val_accuracy: 0.8913\n",
            "Epoch 30/100\n",
            "469/469 [==============================] - 7s 14ms/step - loss: 0.5785 - accuracy: 0.8212 - val_loss: 0.3818 - val_accuracy: 0.8934\n",
            "Epoch 31/100\n",
            "469/469 [==============================] - 7s 14ms/step - loss: 0.5679 - accuracy: 0.8250 - val_loss: 0.3759 - val_accuracy: 0.8948\n",
            "Epoch 32/100\n",
            "469/469 [==============================] - 7s 14ms/step - loss: 0.5623 - accuracy: 0.8271 - val_loss: 0.3698 - val_accuracy: 0.8964\n",
            "Epoch 33/100\n",
            "469/469 [==============================] - 7s 14ms/step - loss: 0.5504 - accuracy: 0.8312 - val_loss: 0.3642 - val_accuracy: 0.8984\n",
            "Epoch 34/100\n",
            "469/469 [==============================] - 7s 15ms/step - loss: 0.5430 - accuracy: 0.8327 - val_loss: 0.3584 - val_accuracy: 0.8991\n",
            "Epoch 35/100\n",
            "469/469 [==============================] - 7s 15ms/step - loss: 0.5402 - accuracy: 0.8338 - val_loss: 0.3535 - val_accuracy: 0.9007\n",
            "Epoch 36/100\n",
            "469/469 [==============================] - 7s 14ms/step - loss: 0.5354 - accuracy: 0.8365 - val_loss: 0.3492 - val_accuracy: 0.9022\n",
            "Epoch 37/100\n",
            "469/469 [==============================] - 7s 14ms/step - loss: 0.5254 - accuracy: 0.8372 - val_loss: 0.3441 - val_accuracy: 0.9035\n",
            "Epoch 38/100\n",
            "469/469 [==============================] - 7s 14ms/step - loss: 0.5217 - accuracy: 0.8397 - val_loss: 0.3401 - val_accuracy: 0.9044\n",
            "Epoch 39/100\n",
            "469/469 [==============================] - 7s 14ms/step - loss: 0.5117 - accuracy: 0.8418 - val_loss: 0.3356 - val_accuracy: 0.9054\n",
            "Epoch 40/100\n",
            "469/469 [==============================] - 7s 14ms/step - loss: 0.5082 - accuracy: 0.8453 - val_loss: 0.3315 - val_accuracy: 0.9061\n",
            "Epoch 41/100\n",
            "469/469 [==============================] - 7s 14ms/step - loss: 0.5035 - accuracy: 0.8464 - val_loss: 0.3279 - val_accuracy: 0.9085\n",
            "Epoch 42/100\n",
            "469/469 [==============================] - 7s 14ms/step - loss: 0.4970 - accuracy: 0.8488 - val_loss: 0.3239 - val_accuracy: 0.9082\n",
            "Epoch 43/100\n",
            "469/469 [==============================] - 7s 14ms/step - loss: 0.4941 - accuracy: 0.8498 - val_loss: 0.3205 - val_accuracy: 0.9100\n",
            "Epoch 44/100\n",
            "469/469 [==============================] - 7s 14ms/step - loss: 0.4917 - accuracy: 0.8490 - val_loss: 0.3174 - val_accuracy: 0.9111\n",
            "Epoch 45/100\n",
            "469/469 [==============================] - 7s 14ms/step - loss: 0.4844 - accuracy: 0.8520 - val_loss: 0.3145 - val_accuracy: 0.9113\n",
            "Epoch 46/100\n",
            "469/469 [==============================] - 7s 14ms/step - loss: 0.4801 - accuracy: 0.8554 - val_loss: 0.3110 - val_accuracy: 0.9116\n",
            "Epoch 47/100\n",
            "469/469 [==============================] - 7s 14ms/step - loss: 0.4796 - accuracy: 0.8537 - val_loss: 0.3083 - val_accuracy: 0.9126\n",
            "Epoch 48/100\n",
            "469/469 [==============================] - 7s 14ms/step - loss: 0.4741 - accuracy: 0.8560 - val_loss: 0.3056 - val_accuracy: 0.9138\n",
            "Epoch 49/100\n",
            "469/469 [==============================] - 7s 14ms/step - loss: 0.4678 - accuracy: 0.8579 - val_loss: 0.3023 - val_accuracy: 0.9145\n",
            "Epoch 50/100\n",
            "469/469 [==============================] - 7s 14ms/step - loss: 0.4641 - accuracy: 0.8592 - val_loss: 0.2994 - val_accuracy: 0.9148\n",
            "Epoch 51/100\n",
            "469/469 [==============================] - 7s 14ms/step - loss: 0.4581 - accuracy: 0.8609 - val_loss: 0.2968 - val_accuracy: 0.9155\n",
            "Epoch 52/100\n",
            "469/469 [==============================] - 7s 14ms/step - loss: 0.4577 - accuracy: 0.8617 - val_loss: 0.2942 - val_accuracy: 0.9162\n",
            "Epoch 53/100\n",
            "469/469 [==============================] - 7s 14ms/step - loss: 0.4517 - accuracy: 0.8630 - val_loss: 0.2919 - val_accuracy: 0.9173\n",
            "Epoch 54/100\n",
            "469/469 [==============================] - 7s 14ms/step - loss: 0.4492 - accuracy: 0.8648 - val_loss: 0.2891 - val_accuracy: 0.9178\n",
            "Epoch 55/100\n",
            "469/469 [==============================] - 7s 14ms/step - loss: 0.4446 - accuracy: 0.8650 - val_loss: 0.2867 - val_accuracy: 0.9183\n",
            "Epoch 56/100\n",
            "469/469 [==============================] - 7s 14ms/step - loss: 0.4437 - accuracy: 0.8657 - val_loss: 0.2845 - val_accuracy: 0.9188\n",
            "Epoch 57/100\n",
            "469/469 [==============================] - 7s 14ms/step - loss: 0.4420 - accuracy: 0.8662 - val_loss: 0.2822 - val_accuracy: 0.9194\n",
            "Epoch 58/100\n",
            "469/469 [==============================] - 7s 14ms/step - loss: 0.4369 - accuracy: 0.8669 - val_loss: 0.2798 - val_accuracy: 0.9192\n",
            "Epoch 59/100\n",
            "469/469 [==============================] - 7s 14ms/step - loss: 0.4363 - accuracy: 0.8685 - val_loss: 0.2780 - val_accuracy: 0.9202\n",
            "Epoch 60/100\n",
            "469/469 [==============================] - 7s 14ms/step - loss: 0.4340 - accuracy: 0.8677 - val_loss: 0.2761 - val_accuracy: 0.9209\n",
            "Epoch 61/100\n",
            "469/469 [==============================] - 7s 14ms/step - loss: 0.4275 - accuracy: 0.8701 - val_loss: 0.2738 - val_accuracy: 0.9211\n",
            "Epoch 62/100\n",
            "469/469 [==============================] - 7s 14ms/step - loss: 0.4223 - accuracy: 0.8732 - val_loss: 0.2717 - val_accuracy: 0.9212\n",
            "Epoch 63/100\n",
            "469/469 [==============================] - 7s 14ms/step - loss: 0.4230 - accuracy: 0.8702 - val_loss: 0.2699 - val_accuracy: 0.9225\n",
            "Epoch 64/100\n",
            "469/469 [==============================] - 7s 14ms/step - loss: 0.4214 - accuracy: 0.8738 - val_loss: 0.2680 - val_accuracy: 0.9230\n",
            "Epoch 65/100\n",
            "469/469 [==============================] - 7s 14ms/step - loss: 0.4194 - accuracy: 0.8737 - val_loss: 0.2660 - val_accuracy: 0.9232\n",
            "Epoch 66/100\n",
            "469/469 [==============================] - 7s 14ms/step - loss: 0.4149 - accuracy: 0.8747 - val_loss: 0.2643 - val_accuracy: 0.9232\n",
            "Epoch 67/100\n",
            "469/469 [==============================] - 7s 14ms/step - loss: 0.4146 - accuracy: 0.8755 - val_loss: 0.2627 - val_accuracy: 0.9241\n",
            "Epoch 68/100\n",
            "469/469 [==============================] - 7s 14ms/step - loss: 0.4110 - accuracy: 0.8752 - val_loss: 0.2606 - val_accuracy: 0.9249\n",
            "Epoch 69/100\n",
            "469/469 [==============================] - 7s 14ms/step - loss: 0.4087 - accuracy: 0.8756 - val_loss: 0.2589 - val_accuracy: 0.9251\n",
            "Epoch 70/100\n",
            "469/469 [==============================] - 7s 14ms/step - loss: 0.4051 - accuracy: 0.8761 - val_loss: 0.2572 - val_accuracy: 0.9255\n",
            "Epoch 71/100\n",
            "469/469 [==============================] - 7s 14ms/step - loss: 0.4071 - accuracy: 0.8762 - val_loss: 0.2557 - val_accuracy: 0.9252\n",
            "Epoch 72/100\n",
            "469/469 [==============================] - 7s 14ms/step - loss: 0.4006 - accuracy: 0.8802 - val_loss: 0.2538 - val_accuracy: 0.9255\n",
            "Epoch 73/100\n",
            "469/469 [==============================] - 7s 14ms/step - loss: 0.3953 - accuracy: 0.8804 - val_loss: 0.2522 - val_accuracy: 0.9262\n",
            "Epoch 74/100\n",
            "469/469 [==============================] - 7s 15ms/step - loss: 0.3991 - accuracy: 0.8793 - val_loss: 0.2506 - val_accuracy: 0.9267\n",
            "Epoch 75/100\n",
            "469/469 [==============================] - 7s 14ms/step - loss: 0.3929 - accuracy: 0.8802 - val_loss: 0.2491 - val_accuracy: 0.9277\n",
            "Epoch 76/100\n",
            "469/469 [==============================] - 7s 14ms/step - loss: 0.3921 - accuracy: 0.8835 - val_loss: 0.2477 - val_accuracy: 0.9278\n",
            "Epoch 77/100\n",
            "469/469 [==============================] - 7s 14ms/step - loss: 0.3896 - accuracy: 0.8829 - val_loss: 0.2459 - val_accuracy: 0.9288\n",
            "Epoch 78/100\n",
            "469/469 [==============================] - 7s 14ms/step - loss: 0.3861 - accuracy: 0.8833 - val_loss: 0.2442 - val_accuracy: 0.9293\n",
            "Epoch 79/100\n",
            "469/469 [==============================] - 7s 14ms/step - loss: 0.3843 - accuracy: 0.8842 - val_loss: 0.2429 - val_accuracy: 0.9297\n",
            "Epoch 80/100\n",
            "469/469 [==============================] - 7s 15ms/step - loss: 0.3845 - accuracy: 0.8832 - val_loss: 0.2414 - val_accuracy: 0.9301\n",
            "Epoch 81/100\n",
            "469/469 [==============================] - 7s 15ms/step - loss: 0.3823 - accuracy: 0.8840 - val_loss: 0.2396 - val_accuracy: 0.9306\n",
            "Epoch 82/100\n",
            "469/469 [==============================] - 7s 14ms/step - loss: 0.3796 - accuracy: 0.8856 - val_loss: 0.2383 - val_accuracy: 0.9307\n",
            "Epoch 83/100\n",
            "469/469 [==============================] - 7s 14ms/step - loss: 0.3784 - accuracy: 0.8855 - val_loss: 0.2368 - val_accuracy: 0.9313\n",
            "Epoch 84/100\n",
            "469/469 [==============================] - 7s 14ms/step - loss: 0.3762 - accuracy: 0.8864 - val_loss: 0.2357 - val_accuracy: 0.9314\n",
            "Epoch 85/100\n",
            "469/469 [==============================] - 7s 14ms/step - loss: 0.3742 - accuracy: 0.8871 - val_loss: 0.2343 - val_accuracy: 0.9316\n",
            "Epoch 86/100\n",
            "469/469 [==============================] - 7s 14ms/step - loss: 0.3721 - accuracy: 0.8873 - val_loss: 0.2331 - val_accuracy: 0.9321\n",
            "Epoch 87/100\n",
            "469/469 [==============================] - 7s 14ms/step - loss: 0.3684 - accuracy: 0.8882 - val_loss: 0.2320 - val_accuracy: 0.9327\n",
            "Epoch 88/100\n",
            "469/469 [==============================] - 7s 14ms/step - loss: 0.3674 - accuracy: 0.8892 - val_loss: 0.2303 - val_accuracy: 0.9322\n",
            "Epoch 89/100\n",
            "469/469 [==============================] - 7s 14ms/step - loss: 0.3719 - accuracy: 0.8880 - val_loss: 0.2292 - val_accuracy: 0.9334\n",
            "Epoch 90/100\n",
            "469/469 [==============================] - 7s 14ms/step - loss: 0.3657 - accuracy: 0.8905 - val_loss: 0.2277 - val_accuracy: 0.9329\n",
            "Epoch 91/100\n",
            "469/469 [==============================] - 7s 14ms/step - loss: 0.3619 - accuracy: 0.8910 - val_loss: 0.2264 - val_accuracy: 0.9334\n",
            "Epoch 92/100\n",
            "469/469 [==============================] - 7s 14ms/step - loss: 0.3618 - accuracy: 0.8910 - val_loss: 0.2252 - val_accuracy: 0.9338\n",
            "Epoch 93/100\n",
            "469/469 [==============================] - 7s 14ms/step - loss: 0.3632 - accuracy: 0.8905 - val_loss: 0.2240 - val_accuracy: 0.9340\n",
            "Epoch 94/100\n",
            "469/469 [==============================] - 7s 14ms/step - loss: 0.3589 - accuracy: 0.8922 - val_loss: 0.2227 - val_accuracy: 0.9346\n",
            "Epoch 95/100\n",
            "469/469 [==============================] - 7s 14ms/step - loss: 0.3572 - accuracy: 0.8934 - val_loss: 0.2216 - val_accuracy: 0.9349\n",
            "Epoch 96/100\n",
            "469/469 [==============================] - 7s 14ms/step - loss: 0.3551 - accuracy: 0.8925 - val_loss: 0.2204 - val_accuracy: 0.9354\n",
            "Epoch 97/100\n",
            "469/469 [==============================] - 7s 14ms/step - loss: 0.3545 - accuracy: 0.8941 - val_loss: 0.2192 - val_accuracy: 0.9357\n",
            "Epoch 98/100\n",
            "469/469 [==============================] - 7s 14ms/step - loss: 0.3553 - accuracy: 0.8933 - val_loss: 0.2182 - val_accuracy: 0.9360\n",
            "Epoch 99/100\n",
            "469/469 [==============================] - 7s 14ms/step - loss: 0.3525 - accuracy: 0.8941 - val_loss: 0.2173 - val_accuracy: 0.9366\n",
            "Epoch 100/100\n",
            "469/469 [==============================] - 7s 14ms/step - loss: 0.3539 - accuracy: 0.8942 - val_loss: 0.2158 - val_accuracy: 0.9371\n",
            "Epoch 1/100\n",
            "469/469 [==============================] - 7s 15ms/step - loss: 2.2778 - accuracy: 0.1542 - val_loss: 2.2385 - val_accuracy: 0.3120\n",
            "Epoch 2/100\n",
            "469/469 [==============================] - 7s 14ms/step - loss: 2.2113 - accuracy: 0.2702 - val_loss: 2.1550 - val_accuracy: 0.4695\n",
            "Epoch 3/100\n",
            "469/469 [==============================] - 7s 14ms/step - loss: 2.1235 - accuracy: 0.3614 - val_loss: 2.0415 - val_accuracy: 0.6243\n",
            "Epoch 4/100\n",
            "469/469 [==============================] - 7s 14ms/step - loss: 2.0066 - accuracy: 0.4452 - val_loss: 1.8912 - val_accuracy: 0.7116\n",
            "Epoch 5/100\n",
            "469/469 [==============================] - 7s 14ms/step - loss: 1.8589 - accuracy: 0.5173 - val_loss: 1.7045 - val_accuracy: 0.7553\n",
            "Epoch 6/100\n",
            "469/469 [==============================] - 7s 14ms/step - loss: 1.6863 - accuracy: 0.5729 - val_loss: 1.4950 - val_accuracy: 0.7869\n",
            "Epoch 7/100\n",
            "469/469 [==============================] - 7s 14ms/step - loss: 1.5082 - accuracy: 0.6112 - val_loss: 1.2845 - val_accuracy: 0.8076\n",
            "Epoch 8/100\n",
            "469/469 [==============================] - 7s 14ms/step - loss: 1.3445 - accuracy: 0.6432 - val_loss: 1.0973 - val_accuracy: 0.8209\n",
            "Epoch 9/100\n",
            "469/469 [==============================] - 7s 14ms/step - loss: 1.2002 - accuracy: 0.6735 - val_loss: 0.9446 - val_accuracy: 0.8336\n",
            "Epoch 10/100\n",
            "469/469 [==============================] - 7s 14ms/step - loss: 1.0925 - accuracy: 0.6914 - val_loss: 0.8290 - val_accuracy: 0.8407\n",
            "Epoch 11/100\n",
            "469/469 [==============================] - 7s 14ms/step - loss: 1.0063 - accuracy: 0.7102 - val_loss: 0.7415 - val_accuracy: 0.8485\n",
            "Epoch 12/100\n",
            "469/469 [==============================] - 7s 14ms/step - loss: 0.9345 - accuracy: 0.7280 - val_loss: 0.6740 - val_accuracy: 0.8552\n",
            "Epoch 13/100\n",
            "469/469 [==============================] - 7s 14ms/step - loss: 0.8762 - accuracy: 0.7421 - val_loss: 0.6214 - val_accuracy: 0.8618\n",
            "Epoch 14/100\n",
            "469/469 [==============================] - 7s 14ms/step - loss: 0.8310 - accuracy: 0.7526 - val_loss: 0.5800 - val_accuracy: 0.8656\n",
            "Epoch 15/100\n",
            "469/469 [==============================] - 7s 14ms/step - loss: 0.7914 - accuracy: 0.7624 - val_loss: 0.5464 - val_accuracy: 0.8684\n",
            "Epoch 16/100\n",
            "469/469 [==============================] - 7s 14ms/step - loss: 0.7615 - accuracy: 0.7720 - val_loss: 0.5191 - val_accuracy: 0.8716\n",
            "Epoch 17/100\n",
            "469/469 [==============================] - 7s 14ms/step - loss: 0.7330 - accuracy: 0.7785 - val_loss: 0.4963 - val_accuracy: 0.8757\n",
            "Epoch 18/100\n",
            "469/469 [==============================] - 7s 14ms/step - loss: 0.7109 - accuracy: 0.7848 - val_loss: 0.4772 - val_accuracy: 0.8787\n",
            "Epoch 19/100\n",
            "469/469 [==============================] - 7s 15ms/step - loss: 0.6856 - accuracy: 0.7927 - val_loss: 0.4602 - val_accuracy: 0.8819\n",
            "Epoch 20/100\n",
            "469/469 [==============================] - 7s 14ms/step - loss: 0.6686 - accuracy: 0.7956 - val_loss: 0.4458 - val_accuracy: 0.8845\n",
            "Epoch 21/100\n",
            "469/469 [==============================] - 7s 14ms/step - loss: 0.6518 - accuracy: 0.8028 - val_loss: 0.4330 - val_accuracy: 0.8863\n",
            "Epoch 22/100\n",
            "469/469 [==============================] - 7s 14ms/step - loss: 0.6335 - accuracy: 0.8068 - val_loss: 0.4211 - val_accuracy: 0.8891\n",
            "Epoch 23/100\n",
            "469/469 [==============================] - 7s 14ms/step - loss: 0.6245 - accuracy: 0.8110 - val_loss: 0.4116 - val_accuracy: 0.8895\n",
            "Epoch 24/100\n",
            "469/469 [==============================] - 7s 14ms/step - loss: 0.6128 - accuracy: 0.8144 - val_loss: 0.4029 - val_accuracy: 0.8912\n",
            "Epoch 25/100\n",
            "469/469 [==============================] - 7s 14ms/step - loss: 0.6023 - accuracy: 0.8149 - val_loss: 0.3941 - val_accuracy: 0.8931\n",
            "Epoch 26/100\n",
            "469/469 [==============================] - 7s 15ms/step - loss: 0.5894 - accuracy: 0.8201 - val_loss: 0.3865 - val_accuracy: 0.8944\n",
            "Epoch 27/100\n",
            "469/469 [==============================] - 7s 15ms/step - loss: 0.5774 - accuracy: 0.8264 - val_loss: 0.3792 - val_accuracy: 0.8959\n",
            "Epoch 28/100\n",
            "469/469 [==============================] - 7s 14ms/step - loss: 0.5690 - accuracy: 0.8272 - val_loss: 0.3727 - val_accuracy: 0.8975\n",
            "Epoch 29/100\n",
            "469/469 [==============================] - 7s 14ms/step - loss: 0.5607 - accuracy: 0.8294 - val_loss: 0.3667 - val_accuracy: 0.8986\n",
            "Epoch 30/100\n",
            "469/469 [==============================] - 7s 14ms/step - loss: 0.5547 - accuracy: 0.8312 - val_loss: 0.3612 - val_accuracy: 0.8999\n",
            "Epoch 31/100\n",
            "469/469 [==============================] - 7s 14ms/step - loss: 0.5454 - accuracy: 0.8326 - val_loss: 0.3560 - val_accuracy: 0.9005\n",
            "Epoch 32/100\n",
            "469/469 [==============================] - 7s 14ms/step - loss: 0.5367 - accuracy: 0.8375 - val_loss: 0.3508 - val_accuracy: 0.9024\n",
            "Epoch 33/100\n",
            "469/469 [==============================] - 7s 14ms/step - loss: 0.5300 - accuracy: 0.8387 - val_loss: 0.3460 - val_accuracy: 0.9039\n",
            "Epoch 34/100\n",
            "469/469 [==============================] - 7s 14ms/step - loss: 0.5223 - accuracy: 0.8393 - val_loss: 0.3421 - val_accuracy: 0.9041\n",
            "Epoch 35/100\n",
            "469/469 [==============================] - 7s 15ms/step - loss: 0.5186 - accuracy: 0.8415 - val_loss: 0.3377 - val_accuracy: 0.9051\n",
            "Epoch 36/100\n",
            "469/469 [==============================] - 7s 15ms/step - loss: 0.5120 - accuracy: 0.8454 - val_loss: 0.3338 - val_accuracy: 0.9055\n",
            "Epoch 37/100\n",
            "469/469 [==============================] - 7s 15ms/step - loss: 0.5102 - accuracy: 0.8449 - val_loss: 0.3300 - val_accuracy: 0.9067\n",
            "Epoch 38/100\n",
            "469/469 [==============================] - 7s 14ms/step - loss: 0.5046 - accuracy: 0.8481 - val_loss: 0.3268 - val_accuracy: 0.9077\n",
            "Epoch 39/100\n",
            "469/469 [==============================] - 7s 14ms/step - loss: 0.4998 - accuracy: 0.8491 - val_loss: 0.3231 - val_accuracy: 0.9092\n",
            "Epoch 40/100\n",
            "469/469 [==============================] - 7s 14ms/step - loss: 0.4903 - accuracy: 0.8507 - val_loss: 0.3197 - val_accuracy: 0.9094\n",
            "Epoch 41/100\n",
            "469/469 [==============================] - 7s 14ms/step - loss: 0.4901 - accuracy: 0.8513 - val_loss: 0.3157 - val_accuracy: 0.9106\n",
            "Epoch 42/100\n",
            "469/469 [==============================] - 7s 14ms/step - loss: 0.4856 - accuracy: 0.8532 - val_loss: 0.3124 - val_accuracy: 0.9121\n",
            "Epoch 43/100\n",
            "469/469 [==============================] - 7s 14ms/step - loss: 0.4788 - accuracy: 0.8542 - val_loss: 0.3096 - val_accuracy: 0.9129\n",
            "Epoch 44/100\n",
            "469/469 [==============================] - 7s 14ms/step - loss: 0.4757 - accuracy: 0.8557 - val_loss: 0.3066 - val_accuracy: 0.9140\n",
            "Epoch 45/100\n",
            "469/469 [==============================] - 7s 14ms/step - loss: 0.4713 - accuracy: 0.8581 - val_loss: 0.3041 - val_accuracy: 0.9143\n",
            "Epoch 46/100\n",
            "469/469 [==============================] - 7s 14ms/step - loss: 0.4673 - accuracy: 0.8581 - val_loss: 0.3008 - val_accuracy: 0.9152\n",
            "Epoch 47/100\n",
            "469/469 [==============================] - 7s 14ms/step - loss: 0.4659 - accuracy: 0.8609 - val_loss: 0.2985 - val_accuracy: 0.9160\n",
            "Epoch 48/100\n",
            "469/469 [==============================] - 7s 14ms/step - loss: 0.4593 - accuracy: 0.8611 - val_loss: 0.2960 - val_accuracy: 0.9165\n",
            "Epoch 49/100\n",
            "469/469 [==============================] - 7s 14ms/step - loss: 0.4552 - accuracy: 0.8623 - val_loss: 0.2930 - val_accuracy: 0.9165\n",
            "Epoch 50/100\n",
            "469/469 [==============================] - 7s 14ms/step - loss: 0.4528 - accuracy: 0.8615 - val_loss: 0.2907 - val_accuracy: 0.9164\n",
            "Epoch 51/100\n",
            "469/469 [==============================] - 7s 14ms/step - loss: 0.4511 - accuracy: 0.8630 - val_loss: 0.2884 - val_accuracy: 0.9171\n",
            "Epoch 52/100\n",
            "469/469 [==============================] - 7s 14ms/step - loss: 0.4486 - accuracy: 0.8638 - val_loss: 0.2861 - val_accuracy: 0.9170\n",
            "Epoch 53/100\n",
            "469/469 [==============================] - 7s 14ms/step - loss: 0.4465 - accuracy: 0.8632 - val_loss: 0.2839 - val_accuracy: 0.9174\n",
            "Epoch 54/100\n",
            "469/469 [==============================] - 7s 14ms/step - loss: 0.4428 - accuracy: 0.8652 - val_loss: 0.2820 - val_accuracy: 0.9181\n",
            "Epoch 55/100\n",
            "469/469 [==============================] - 7s 14ms/step - loss: 0.4377 - accuracy: 0.8680 - val_loss: 0.2795 - val_accuracy: 0.9184\n",
            "Epoch 56/100\n",
            "469/469 [==============================] - 7s 14ms/step - loss: 0.4336 - accuracy: 0.8695 - val_loss: 0.2772 - val_accuracy: 0.9196\n",
            "Epoch 57/100\n",
            "469/469 [==============================] - 7s 14ms/step - loss: 0.4330 - accuracy: 0.8697 - val_loss: 0.2752 - val_accuracy: 0.9191\n",
            "Epoch 58/100\n",
            "469/469 [==============================] - 7s 14ms/step - loss: 0.4289 - accuracy: 0.8712 - val_loss: 0.2730 - val_accuracy: 0.9205\n",
            "Epoch 59/100\n",
            "469/469 [==============================] - 7s 14ms/step - loss: 0.4298 - accuracy: 0.8708 - val_loss: 0.2712 - val_accuracy: 0.9206\n",
            "Epoch 60/100\n",
            "469/469 [==============================] - 7s 14ms/step - loss: 0.4221 - accuracy: 0.8735 - val_loss: 0.2691 - val_accuracy: 0.9213\n",
            "Epoch 61/100\n",
            "469/469 [==============================] - 7s 14ms/step - loss: 0.4202 - accuracy: 0.8730 - val_loss: 0.2672 - val_accuracy: 0.9215\n",
            "Epoch 62/100\n",
            "469/469 [==============================] - 7s 14ms/step - loss: 0.4167 - accuracy: 0.8745 - val_loss: 0.2649 - val_accuracy: 0.9221\n",
            "Epoch 63/100\n",
            "469/469 [==============================] - 7s 14ms/step - loss: 0.4167 - accuracy: 0.8758 - val_loss: 0.2635 - val_accuracy: 0.9220\n",
            "Epoch 64/100\n",
            "469/469 [==============================] - 7s 15ms/step - loss: 0.4130 - accuracy: 0.8762 - val_loss: 0.2615 - val_accuracy: 0.9228\n",
            "Epoch 65/100\n",
            "469/469 [==============================] - 7s 14ms/step - loss: 0.4098 - accuracy: 0.8780 - val_loss: 0.2597 - val_accuracy: 0.9238\n",
            "Epoch 66/100\n",
            "469/469 [==============================] - 7s 14ms/step - loss: 0.4108 - accuracy: 0.8761 - val_loss: 0.2578 - val_accuracy: 0.9243\n",
            "Epoch 67/100\n",
            "469/469 [==============================] - 7s 14ms/step - loss: 0.4082 - accuracy: 0.8766 - val_loss: 0.2564 - val_accuracy: 0.9248\n",
            "Epoch 68/100\n",
            "469/469 [==============================] - 7s 14ms/step - loss: 0.4019 - accuracy: 0.8784 - val_loss: 0.2544 - val_accuracy: 0.9254\n",
            "Epoch 69/100\n",
            "469/469 [==============================] - 7s 14ms/step - loss: 0.4039 - accuracy: 0.8761 - val_loss: 0.2530 - val_accuracy: 0.9253\n",
            "Epoch 70/100\n",
            "469/469 [==============================] - 7s 14ms/step - loss: 0.4008 - accuracy: 0.8797 - val_loss: 0.2515 - val_accuracy: 0.9256\n",
            "Epoch 71/100\n",
            "469/469 [==============================] - 7s 14ms/step - loss: 0.3991 - accuracy: 0.8789 - val_loss: 0.2493 - val_accuracy: 0.9263\n",
            "Epoch 72/100\n",
            "469/469 [==============================] - 7s 15ms/step - loss: 0.3942 - accuracy: 0.8826 - val_loss: 0.2479 - val_accuracy: 0.9269\n",
            "Epoch 73/100\n",
            "469/469 [==============================] - 7s 15ms/step - loss: 0.3910 - accuracy: 0.8821 - val_loss: 0.2463 - val_accuracy: 0.9274\n",
            "Epoch 74/100\n",
            "469/469 [==============================] - 7s 14ms/step - loss: 0.3931 - accuracy: 0.8813 - val_loss: 0.2451 - val_accuracy: 0.9276\n",
            "Epoch 75/100\n",
            "469/469 [==============================] - 7s 14ms/step - loss: 0.3897 - accuracy: 0.8829 - val_loss: 0.2435 - val_accuracy: 0.9281\n",
            "Epoch 76/100\n",
            "469/469 [==============================] - 7s 14ms/step - loss: 0.3866 - accuracy: 0.8838 - val_loss: 0.2421 - val_accuracy: 0.9290\n",
            "Epoch 77/100\n",
            "469/469 [==============================] - 7s 14ms/step - loss: 0.3875 - accuracy: 0.8832 - val_loss: 0.2408 - val_accuracy: 0.9287\n",
            "Epoch 78/100\n",
            "469/469 [==============================] - 7s 14ms/step - loss: 0.3831 - accuracy: 0.8849 - val_loss: 0.2393 - val_accuracy: 0.9300\n",
            "Epoch 79/100\n",
            "469/469 [==============================] - 7s 14ms/step - loss: 0.3808 - accuracy: 0.8856 - val_loss: 0.2379 - val_accuracy: 0.9300\n",
            "Epoch 80/100\n",
            "469/469 [==============================] - 7s 14ms/step - loss: 0.3776 - accuracy: 0.8866 - val_loss: 0.2364 - val_accuracy: 0.9313\n",
            "Epoch 81/100\n",
            "469/469 [==============================] - 7s 14ms/step - loss: 0.3769 - accuracy: 0.8861 - val_loss: 0.2353 - val_accuracy: 0.9309\n",
            "Epoch 82/100\n",
            "469/469 [==============================] - 7s 14ms/step - loss: 0.3765 - accuracy: 0.8860 - val_loss: 0.2339 - val_accuracy: 0.9314\n",
            "Epoch 83/100\n",
            "469/469 [==============================] - 7s 14ms/step - loss: 0.3719 - accuracy: 0.8876 - val_loss: 0.2323 - val_accuracy: 0.9321\n",
            "Epoch 84/100\n",
            "469/469 [==============================] - 7s 14ms/step - loss: 0.3751 - accuracy: 0.8874 - val_loss: 0.2316 - val_accuracy: 0.9319\n",
            "Epoch 85/100\n",
            "469/469 [==============================] - 7s 14ms/step - loss: 0.3695 - accuracy: 0.8889 - val_loss: 0.2297 - val_accuracy: 0.9329\n",
            "Epoch 86/100\n",
            "469/469 [==============================] - 7s 14ms/step - loss: 0.3689 - accuracy: 0.8889 - val_loss: 0.2286 - val_accuracy: 0.9325\n",
            "Epoch 87/100\n",
            "469/469 [==============================] - 7s 14ms/step - loss: 0.3670 - accuracy: 0.8907 - val_loss: 0.2277 - val_accuracy: 0.9330\n",
            "Epoch 88/100\n",
            "469/469 [==============================] - 7s 14ms/step - loss: 0.3643 - accuracy: 0.8906 - val_loss: 0.2262 - val_accuracy: 0.9332\n",
            "Epoch 89/100\n",
            "469/469 [==============================] - 7s 14ms/step - loss: 0.3633 - accuracy: 0.8902 - val_loss: 0.2249 - val_accuracy: 0.9332\n",
            "Epoch 90/100\n",
            "469/469 [==============================] - 7s 14ms/step - loss: 0.3606 - accuracy: 0.8927 - val_loss: 0.2238 - val_accuracy: 0.9337\n",
            "Epoch 91/100\n",
            "469/469 [==============================] - 7s 14ms/step - loss: 0.3630 - accuracy: 0.8905 - val_loss: 0.2226 - val_accuracy: 0.9343\n",
            "Epoch 92/100\n",
            "469/469 [==============================] - 7s 14ms/step - loss: 0.3587 - accuracy: 0.8922 - val_loss: 0.2214 - val_accuracy: 0.9349\n",
            "Epoch 93/100\n",
            "469/469 [==============================] - 7s 14ms/step - loss: 0.3560 - accuracy: 0.8935 - val_loss: 0.2200 - val_accuracy: 0.9356\n",
            "Epoch 94/100\n",
            "469/469 [==============================] - 7s 14ms/step - loss: 0.3561 - accuracy: 0.8926 - val_loss: 0.2192 - val_accuracy: 0.9356\n",
            "Epoch 95/100\n",
            "469/469 [==============================] - 7s 14ms/step - loss: 0.3524 - accuracy: 0.8927 - val_loss: 0.2180 - val_accuracy: 0.9359\n",
            "Epoch 96/100\n",
            "469/469 [==============================] - 7s 14ms/step - loss: 0.3524 - accuracy: 0.8933 - val_loss: 0.2165 - val_accuracy: 0.9360\n",
            "Epoch 97/100\n",
            "469/469 [==============================] - 7s 14ms/step - loss: 0.3526 - accuracy: 0.8947 - val_loss: 0.2158 - val_accuracy: 0.9368\n",
            "Epoch 98/100\n",
            "469/469 [==============================] - 7s 14ms/step - loss: 0.3486 - accuracy: 0.8953 - val_loss: 0.2144 - val_accuracy: 0.9370\n",
            "Epoch 99/100\n",
            "469/469 [==============================] - 7s 14ms/step - loss: 0.3510 - accuracy: 0.8952 - val_loss: 0.2134 - val_accuracy: 0.9374\n",
            "Epoch 100/100\n",
            "469/469 [==============================] - 7s 14ms/step - loss: 0.3479 - accuracy: 0.8955 - val_loss: 0.2128 - val_accuracy: 0.9377\n"
          ],
          "name": "stdout"
        }
      ]
    },
    {
      "cell_type": "markdown",
      "metadata": {
        "id": "1kkzI__xZg79"
      },
      "source": [
        "## Compare ensemble and MC methods"
      ]
    },
    {
      "cell_type": "code",
      "metadata": {
        "id": "OGQTQgFDS4rX",
        "outputId": "54c4328f-5b1c-434d-c917-5f917938fc72",
        "colab": {
          "base_uri": "https://localhost:8080/",
          "height": 282
        }
      },
      "source": [
        "idx = 195\n",
        "plt.imshow(x_test[idx][:,:,0])"
      ],
      "execution_count": 45,
      "outputs": [
        {
          "output_type": "execute_result",
          "data": {
            "text/plain": [
              "<matplotlib.image.AxesImage at 0x7f7eb7d25320>"
            ]
          },
          "metadata": {
            "tags": []
          },
          "execution_count": 45
        },
        {
          "output_type": "display_data",
          "data": {
            "image/png": "[encoded data removed]",
            "text/plain": [
              "<Figure size 432x288 with 1 Axes>"
            ]
          },
          "metadata": {
            "tags": [],
            "needs_background": "light"
          }
        }
      ]
    },
    {
      "cell_type": "code",
      "metadata": {
        "id": "osW1ZF1VSZBw",
        "outputId": "088d9f1b-9d16-4bd9-ff3f-0ac3297cce68",
        "colab": {
          "base_uri": "https://localhost:8080/",
          "height": 124
        }
      },
      "source": [
        "def average(nums):\n",
        "    return sum(nums) / len(nums)\n",
        "\n",
        "def argmax(lst):\n",
        "    return lst.index(max(lst))\n",
        "\n",
        "print(f\"Ground truth is {y_test[idx].argmax()}\")\n",
        "\n",
        "my_predictions = []\n",
        "for m in models:\n",
        "    my_predictions.append(np.squeeze(m.predict(np.expand_dims(x_test[idx], axis=0), batch_size=1)))\n",
        "\n",
        "final_predictions = []\n",
        "for i in range(len(my_predictions[0])):\n",
        "    predictions_i = [p[i] for p in my_predictions]\n",
        "    final_predictions.append(average(predictions_i))\n",
        "print(f\"Ensemble Prediction = {argmax(final_predictions)}\")\n",
        "print(f\"Average ensemble predictions = {final_predictions}\")"
      ],
      "execution_count": 46,
      "outputs": [
        {
          "output_type": "stream",
          "text": [
            "Ground truth is 3\n",
            "WARNING:tensorflow:5 out of the last 5004 calls to <function Model.make_predict_function.<locals>.predict_function at 0x7f7eb608b1e0> triggered tf.function retracing. Tracing is expensive and the excessive number of tracings could be due to (1) creating @tf.function repeatedly in a loop, (2) passing tensors with different shapes, (3) passing Python objects instead of tensors. For (1), please define your @tf.function outside of the loop. For (2), @tf.function has experimental_relax_shapes=True option that relaxes argument shapes that can avoid unnecessary retracing. For (3), please refer to https://www.tensorflow.org/tutorials/customization/performance#python_or_tensor_args and https://www.tensorflow.org/api_docs/python/tf/function for  more details.\n",
            "WARNING:tensorflow:6 out of the last 5005 calls to <function Model.make_predict_function.<locals>.predict_function at 0x7f7eb64ba950> triggered tf.function retracing. Tracing is expensive and the excessive number of tracings could be due to (1) creating @tf.function repeatedly in a loop, (2) passing tensors with different shapes, (3) passing Python objects instead of tensors. For (1), please define your @tf.function outside of the loop. For (2), @tf.function has experimental_relax_shapes=True option that relaxes argument shapes that can avoid unnecessary retracing. For (3), please refer to https://www.tensorflow.org/tutorials/customization/performance#python_or_tensor_args and https://www.tensorflow.org/api_docs/python/tf/function for  more details.\n",
            "Ensemble Prediction = 8\n",
            "Average ensemble predictions = [0.0014834945090115071, 0.053206104785203934, 0.16325858384370803, 0.2395269066095352, 0.05325069651007652, 0.10035540610551834, 0.014455706439912319, 0.019183947704732418, 0.3242728114128113, 0.031006322428584098]\n"
          ],
          "name": "stdout"
        }
      ]
    },
    {
      "cell_type": "code",
      "metadata": {
        "id": "ujbwBMb3Yb6N",
        "outputId": "755f7057-a835-4b5b-f1ad-899a5077d712",
        "colab": {
          "base_uri": "https://localhost:8080/",
          "height": 72
        }
      },
      "source": [
        "my_mc_predictions = []\n",
        "for m in models:\n",
        "    my_mc_predictions.append(np.squeeze(mc_model.predict(np.expand_dims(x_test[idx], axis=0), batch_size=1)))\n",
        "\n",
        "final_mc_predictions = []\n",
        "for i in range(len(my_mc_predictions[0])):\n",
        "    predictions_i = [p[i] for p in my_mc_predictions]\n",
        "    final_mc_predictions.append(average(predictions_i)) \n",
        "print(f\"MC Prediction = {argmax(final_mc_predictions)}\")\n",
        "print(f\"Average MC predictions = {final_mc_predictions}\")"
      ],
      "execution_count": 47,
      "outputs": [
        {
          "output_type": "stream",
          "text": [
            "MC Prediction = 8\n",
            "Average MC predictions = [0.005777648673392833, 0.060135442018508914, 0.17206308692693711, 0.23078564256429673, 0.07638834379613399, 0.1323995918035507, 0.020598776824772357, 0.01346166655421257, 0.2508012741804123, 0.03758852761238814]\n"
          ],
          "name": "stdout"
        }
      ]
    },
    {
      "cell_type": "code",
      "metadata": {
        "id": "4p_Te--SWZNQ",
        "outputId": "a9ea52c0-0287-4afd-9d2d-d368636cd9d2",
        "colab": {
          "base_uri": "https://localhost:8080/",
          "height": 72
        }
      },
      "source": [
        "my_mc_predictions2 = []\n",
        "for m in models:\n",
        "    my_mc_predictions2.append(np.squeeze(mc_model2.predict(np.expand_dims(x_test[idx], axis=0), batch_size=1)))\n",
        "\n",
        "final_mc_predictions2 = []\n",
        "for i in range(len(my_mc_predictions2[0])):\n",
        "    predictions_i = [p[i] for p in my_mc_predictions2]\n",
        "    final_mc_predictions2.append(average(predictions_i)) \n",
        "print(f\"MC Prediction = {argmax(final_mc_predictions2)}\")\n",
        "print(f\"Average MC predictions = {final_mc_predictions2}\")"
      ],
      "execution_count": 59,
      "outputs": [
        {
          "output_type": "stream",
          "text": [
            "MC Prediction = 2\n",
            "Average MC predictions = [0.0029442126397043467, 9.554332058314685e-06, 0.9775832533836365, 0.000979401982476702, 0.0011873565264977515, 0.00022655678294540847, 0.01044643521308899, 0.00044075006844650487, 0.005775883281603456, 0.0004066247354785446]\n"
          ],
          "name": "stdout"
        }
      ]
    },
    {
      "cell_type": "markdown",
      "metadata": {
        "id": "2xTASYxVWHF7"
      },
      "source": [
        "\"In deep learning, practitioners set dropout rates between 20% and 50% range, meaning that up to half of the connections of a certain layer will be set to zero during inference.\""
      ]
    },
    {
      "cell_type": "markdown",
      "metadata": {
        "id": "gwtSj3EDPb4C"
      },
      "source": [
        "## High level plan for aleatoric uncertainty model"
      ]
    },
    {
      "cell_type": "code",
      "metadata": {
        "id": "DPsWAnFN8MwM"
      },
      "source": [
        "# def get_model(mc=False, act=\"relu\"):\n",
        "#     inp = Input(input_shape)\n",
        "#     x = Conv2D(32, kernel_size=(3, 3), activation=act)(inp)\n",
        "#     x = Conv2D(64, kernel_size=(3, 3), activation=act)(x)\n",
        "#     x = MaxPooling2D(pool_size=(2, 2))(x)\n",
        "#     x = get_dropout(x, p=0.25, mc=mc)\n",
        "#     x = Flatten()(x)\n",
        "#     x = Dense(128, activation=act)(x)\n",
        "#     x = get_dropout(x, p=0.5, mc=mc)\n",
        "#     out = Dense(num_classes, activation='softmax')(x)\n",
        "#     # out2 = Dense(num_classes, activation='softplus')(x)  Or relu\n",
        "#     # For classificiation, can either be 1 or num_classes for aleatoric uncertainty\n",
        "#     # Probably num_classes, then for each prediction, looking at the sigma of the prediction\n",
        "#     model = Model(inputs=inp, outputs=[out, out2])\n",
        "\n",
        "#     model.compile(loss=keras.losses.categorical_crossentropy, # Replace with custom loss\n",
        "#                   optimizer=keras.optimizers.Adadelta(),\n",
        "#                   metrics=['accuracy'])\n",
        "#     return model"
      ],
      "execution_count": 48,
      "outputs": []
    }
  ]
}