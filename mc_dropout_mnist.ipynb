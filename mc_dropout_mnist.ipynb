{
  "nbformat": 4,
  "nbformat_minor": 0,
  "metadata": {
    "colab": {
      "name": "mc_dropout_mnist.ipynb",
      "provenance": [],
      "authorship_tag": "ABX9TyPQ54nm7rA8T6VlFC58QEGh",
      "include_colab_link": true
    },
    "kernelspec": {
      "name": "python3",
      "display_name": "Python 3"
    },
    "accelerator": "GPU"
  },
  "cells": [
    {
      "cell_type": "markdown",
      "metadata": {
        "id": "view-in-github",
        "colab_type": "text"
      },
      "source": [
        "<a href=\"https://colab.research.google.com/github/tylerlum/deep_learning_monte_carlo_dropout/blob/main/mc_dropout_mnist.ipynb\" target=\"_parent\"><img src=\"https://colab.research.google.com/assets/colab-badge.svg\" alt=\"Open In Colab\"/></a>"
      ]
    },
    {
      "cell_type": "markdown",
      "metadata": {
        "id": "BbtlTbE4xpW6"
      },
      "source": [
        "# Monte Carlo Dropout on MNIST\n",
        "\n",
        "Reference:\n",
        "https://www.depends-on-the-definition.com/model-uncertainty-in-deep-learning-with-monte-carlo-dropout/#2-selection-by-variance"
      ]
    },
    {
      "cell_type": "code",
      "metadata": {
        "id": "FRSSPjyypg5z"
      },
      "source": [
        "from __future__ import print_function\n",
        "import keras\n",
        "from keras.datasets import mnist\n",
        "from keras.models import Sequential, Model, Input\n",
        "from keras.layers import Dense, Dropout, Flatten, SpatialDropout2D, SpatialDropout1D, AlphaDropout\n",
        "from keras.layers import Conv2D, MaxPooling2D\n",
        "from keras import backend as K\n",
        "\n",
        "import numpy as np\n",
        "import pandas as pd\n",
        "from sklearn.metrics import accuracy_score\n",
        "\n",
        "import matplotlib.pyplot as plt\n",
        "plt.style.use(\"ggplot\")\n",
        "%matplotlib inline"
      ],
      "execution_count": 1,
      "outputs": []
    },
    {
      "cell_type": "markdown",
      "metadata": {
        "id": "uKP2iNUGMyId"
      },
      "source": [
        "## Setup train/test datasets"
      ]
    },
    {
      "cell_type": "code",
      "metadata": {
        "id": "DL7Nx2ALplZz"
      },
      "source": [
        "batch_size = 128\n",
        "num_classes = 10\n",
        "epochs = 20\n",
        "\n",
        "# input image dimensions\n",
        "img_rows, img_cols = 28, 28"
      ],
      "execution_count": 2,
      "outputs": []
    },
    {
      "cell_type": "code",
      "metadata": {
        "id": "8IcmK8-Rp6vm",
        "outputId": "a1466c12-0037-4edc-dd20-ca53c013c936",
        "colab": {
          "base_uri": "https://localhost:8080/",
          "height": 52
        }
      },
      "source": [
        "# the data, split between train and test sets\n",
        "(x_train, y_train), (x_test, y_test) = mnist.load_data()"
      ],
      "execution_count": 3,
      "outputs": [
        {
          "output_type": "stream",
          "text": [
            "Downloading data from https://storage.googleapis.com/tensorflow/tf-keras-datasets/mnist.npz\n",
            "11493376/11490434 [==============================] - 0s 0us/step\n"
          ],
          "name": "stdout"
        }
      ]
    },
    {
      "cell_type": "code",
      "metadata": {
        "id": "pVkUNnhRp8PD"
      },
      "source": [
        "if K.image_data_format() == 'channels_first':\n",
        "    x_train = x_train.reshape(x_train.shape[0], 1, img_rows, img_cols)\n",
        "    x_test = x_test.reshape(x_test.shape[0], 1, img_rows, img_cols)\n",
        "    input_shape = (1, img_rows, img_cols)\n",
        "else:\n",
        "    x_train = x_train.reshape(x_train.shape[0], img_rows, img_cols, 1)\n",
        "    x_test = x_test.reshape(x_test.shape[0], img_rows, img_cols, 1)\n",
        "    input_shape = (img_rows, img_cols, 1)"
      ],
      "execution_count": 4,
      "outputs": []
    },
    {
      "cell_type": "code",
      "metadata": {
        "id": "c0rDhZOOp9w6",
        "outputId": "dd561374-35ad-46af-a69c-bc46b432d84d",
        "colab": {
          "base_uri": "https://localhost:8080/",
          "height": 69
        }
      },
      "source": [
        "x_train = x_train.astype('float32')\n",
        "x_test = x_test.astype('float32')\n",
        "x_train /= 255\n",
        "x_test /= 255\n",
        "print('x_train shape:', x_train.shape)\n",
        "print(x_train.shape[0], 'train samples')\n",
        "print(x_test.shape[0], 'test samples')"
      ],
      "execution_count": 5,
      "outputs": [
        {
          "output_type": "stream",
          "text": [
            "x_train shape: (60000, 28, 28, 1)\n",
            "60000 train samples\n",
            "10000 test samples\n"
          ],
          "name": "stdout"
        }
      ]
    },
    {
      "cell_type": "code",
      "metadata": {
        "id": "evEfJ7PBqAbP"
      },
      "source": [
        "# convert class vectors to binary class matrices\n",
        "y_train = keras.utils.to_categorical(y_train, num_classes)\n",
        "y_test = keras.utils.to_categorical(y_test, num_classes)"
      ],
      "execution_count": 6,
      "outputs": []
    },
    {
      "cell_type": "markdown",
      "metadata": {
        "id": "0t2GqzzoM5Iz"
      },
      "source": [
        "## Setup regular model and MC model"
      ]
    },
    {
      "cell_type": "code",
      "metadata": {
        "id": "zNC4-tjlqCZd"
      },
      "source": [
        "def get_dropout(input_tensor, p=0.5, mc=False):\n",
        "    if mc:\n",
        "        return Dropout(p)(input_tensor, training=True)\n",
        "    else:\n",
        "        return Dropout(p)(input_tensor)\n",
        "\n",
        "\n",
        "def get_model(mc=False, act=\"relu\"):\n",
        "    inp = Input(input_shape)\n",
        "    x = Conv2D(32, kernel_size=(3, 3), activation=act)(inp)\n",
        "    x = Conv2D(64, kernel_size=(3, 3), activation=act)(x)\n",
        "    x = MaxPooling2D(pool_size=(2, 2))(x)\n",
        "    x = get_dropout(x, p=0.25, mc=mc)\n",
        "    x = Flatten()(x)\n",
        "    x = Dense(128, activation=act)(x)\n",
        "    x = get_dropout(x, p=0.5, mc=mc)\n",
        "    out = Dense(num_classes, activation='softmax')(x)\n",
        "    model = Model(inputs=inp, outputs=out)\n",
        "\n",
        "    model.compile(loss=keras.losses.categorical_crossentropy,\n",
        "                  optimizer=keras.optimizers.Adadelta(),\n",
        "                  metrics=['accuracy'])\n",
        "    return model"
      ],
      "execution_count": 7,
      "outputs": []
    },
    {
      "cell_type": "code",
      "metadata": {
        "id": "18gwCGvkqDbL"
      },
      "source": [
        "model = get_model(mc=False, act=\"relu\")\n",
        "mc_model = get_model(mc=True, act=\"relu\")"
      ],
      "execution_count": 8,
      "outputs": []
    },
    {
      "cell_type": "markdown",
      "metadata": {
        "id": "X-a9BLesNNpl"
      },
      "source": [
        "## Train and evaluate regular model"
      ]
    },
    {
      "cell_type": "code",
      "metadata": {
        "id": "abq84XFEqGpY",
        "outputId": "ce0c03e6-b83e-4896-f795-95da40f39a25",
        "colab": {
          "base_uri": "https://localhost:8080/",
          "height": 715
        }
      },
      "source": [
        "h = model.fit(x_train, y_train,\n",
        "              batch_size=batch_size,\n",
        "              epochs=epochs,\n",
        "              verbose=1,\n",
        "              validation_data=(x_test, y_test))"
      ],
      "execution_count": 9,
      "outputs": [
        {
          "output_type": "stream",
          "text": [
            "Epoch 1/20\n",
            "469/469 [==============================] - 7s 15ms/step - loss: 2.2825 - accuracy: 0.1459 - val_loss: 2.2496 - val_accuracy: 0.3351\n",
            "Epoch 2/20\n",
            "469/469 [==============================] - 7s 15ms/step - loss: 2.2277 - accuracy: 0.2634 - val_loss: 2.1813 - val_accuracy: 0.5889\n",
            "Epoch 3/20\n",
            "469/469 [==============================] - 7s 14ms/step - loss: 2.1573 - accuracy: 0.3751 - val_loss: 2.0921 - val_accuracy: 0.6319\n",
            "Epoch 4/20\n",
            "469/469 [==============================] - 7s 14ms/step - loss: 2.0632 - accuracy: 0.4560 - val_loss: 1.9706 - val_accuracy: 0.6743\n",
            "Epoch 5/20\n",
            "469/469 [==============================] - 7s 14ms/step - loss: 1.9370 - accuracy: 0.5149 - val_loss: 1.8096 - val_accuracy: 0.7236\n",
            "Epoch 6/20\n",
            "469/469 [==============================] - 7s 14ms/step - loss: 1.7804 - accuracy: 0.5589 - val_loss: 1.6139 - val_accuracy: 0.7624\n",
            "Epoch 7/20\n",
            "469/469 [==============================] - 7s 14ms/step - loss: 1.6020 - accuracy: 0.5966 - val_loss: 1.4023 - val_accuracy: 0.7912\n",
            "Epoch 8/20\n",
            "469/469 [==============================] - 7s 14ms/step - loss: 1.4297 - accuracy: 0.6263 - val_loss: 1.2023 - val_accuracy: 0.8069\n",
            "Epoch 9/20\n",
            "469/469 [==============================] - 7s 14ms/step - loss: 1.2777 - accuracy: 0.6494 - val_loss: 1.0345 - val_accuracy: 0.8183\n",
            "Epoch 10/20\n",
            "469/469 [==============================] - 7s 14ms/step - loss: 1.1527 - accuracy: 0.6715 - val_loss: 0.9036 - val_accuracy: 0.8286\n",
            "Epoch 11/20\n",
            "469/469 [==============================] - 7s 14ms/step - loss: 1.0520 - accuracy: 0.6951 - val_loss: 0.8032 - val_accuracy: 0.8365\n",
            "Epoch 12/20\n",
            "469/469 [==============================] - 7s 14ms/step - loss: 0.9761 - accuracy: 0.7104 - val_loss: 0.7268 - val_accuracy: 0.8455\n",
            "Epoch 13/20\n",
            "469/469 [==============================] - 7s 14ms/step - loss: 0.9129 - accuracy: 0.7269 - val_loss: 0.6682 - val_accuracy: 0.8524\n",
            "Epoch 14/20\n",
            "469/469 [==============================] - 7s 14ms/step - loss: 0.8638 - accuracy: 0.7383 - val_loss: 0.6211 - val_accuracy: 0.8579\n",
            "Epoch 15/20\n",
            "469/469 [==============================] - 7s 14ms/step - loss: 0.8178 - accuracy: 0.7499 - val_loss: 0.5832 - val_accuracy: 0.8633\n",
            "Epoch 16/20\n",
            "469/469 [==============================] - 7s 14ms/step - loss: 0.7829 - accuracy: 0.7596 - val_loss: 0.5520 - val_accuracy: 0.8671\n",
            "Epoch 17/20\n",
            "469/469 [==============================] - 7s 14ms/step - loss: 0.7537 - accuracy: 0.7689 - val_loss: 0.5261 - val_accuracy: 0.8719\n",
            "Epoch 18/20\n",
            "469/469 [==============================] - 7s 14ms/step - loss: 0.7288 - accuracy: 0.7754 - val_loss: 0.5039 - val_accuracy: 0.8775\n",
            "Epoch 19/20\n",
            "469/469 [==============================] - 7s 14ms/step - loss: 0.7031 - accuracy: 0.7814 - val_loss: 0.4845 - val_accuracy: 0.8805\n",
            "Epoch 20/20\n",
            "469/469 [==============================] - 7s 14ms/step - loss: 0.6808 - accuracy: 0.7907 - val_loss: 0.4678 - val_accuracy: 0.8824\n"
          ],
          "name": "stdout"
        }
      ]
    },
    {
      "cell_type": "code",
      "metadata": {
        "id": "VBJ0-kissiMm"
      },
      "source": [
        "def plot_train_validation(history, plot_type):\n",
        "  plt.plot(h.history[plot_type])\n",
        "  plt.plot(h.history[f'val_{plot_type}'])\n",
        "  plt.title(f'model {plot_type}')\n",
        "  plt.ylabel(plot_type)\n",
        "  plt.xlabel('epoch')\n",
        "  plt.legend(['train', 'val'], loc='upper left')\n",
        "  plt.show()"
      ],
      "execution_count": 10,
      "outputs": []
    },
    {
      "cell_type": "code",
      "metadata": {
        "id": "HxTLKUUntP8H",
        "outputId": "074164b9-df84-4b02-93c0-fd271c0c47b3",
        "colab": {
          "base_uri": "https://localhost:8080/",
          "height": 299
        }
      },
      "source": [
        "plot_train_validation(h, \"loss\")"
      ],
      "execution_count": 11,
      "outputs": [
        {
          "output_type": "display_data",
          "data": {
            "image/png": "[encoded data removed]",
            "text/plain": [
              "<Figure size 432x288 with 1 Axes>"
            ]
          },
          "metadata": {
            "tags": [],
            "needs_background": "light"
          }
        }
      ]
    },
    {
      "cell_type": "code",
      "metadata": {
        "id": "orqB7hX9tSW-",
        "outputId": "94c9821b-0206-4cb5-ed05-7f5dfc364d8f",
        "colab": {
          "base_uri": "https://localhost:8080/",
          "height": 299
        }
      },
      "source": [
        "plot_train_validation(h, \"accuracy\")"
      ],
      "execution_count": 12,
      "outputs": [
        {
          "output_type": "display_data",
          "data": {
            "image/png": "[encoded data removed]",
            "text/plain": [
              "<Figure size 432x288 with 1 Axes>"
            ]
          },
          "metadata": {
            "tags": [],
            "needs_background": "light"
          }
        }
      ]
    },
    {
      "cell_type": "code",
      "metadata": {
        "id": "asc482A-qIiW",
        "outputId": "5ba74b35-4606-4d55-8869-1461e7871baa",
        "colab": {
          "base_uri": "https://localhost:8080/",
          "height": 52
        }
      },
      "source": [
        "# score of the normal model\n",
        "score = model.evaluate(x_test, y_test, verbose=0)\n",
        "\n",
        "print('Test loss:', score[0])\n",
        "print('Test accuracy:', score[1])"
      ],
      "execution_count": 13,
      "outputs": [
        {
          "output_type": "stream",
          "text": [
            "Test loss: 0.4678359031677246\n",
            "Test accuracy: 0.8823999762535095\n"
          ],
          "name": "stdout"
        }
      ]
    },
    {
      "cell_type": "markdown",
      "metadata": {
        "id": "bbFN7bWdNXZ1"
      },
      "source": [
        "## Train and evaluate MC model"
      ]
    },
    {
      "cell_type": "code",
      "metadata": {
        "id": "ifrWtzuOqMsd",
        "outputId": "de6bb5e9-8d79-4b9a-c44a-d6b5640c6db3",
        "colab": {
          "base_uri": "https://localhost:8080/",
          "height": 715
        }
      },
      "source": [
        "h_mc = mc_model.fit(x_train, y_train,\n",
        "                    batch_size=batch_size,\n",
        "                    epochs=epochs,\n",
        "                    verbose=1,\n",
        "                    validation_data=(x_test, y_test))"
      ],
      "execution_count": 14,
      "outputs": [
        {
          "output_type": "stream",
          "text": [
            "Epoch 1/20\n",
            "469/469 [==============================] - 7s 15ms/step - loss: 2.2888 - accuracy: 0.1298 - val_loss: 2.2629 - val_accuracy: 0.1799\n",
            "Epoch 2/20\n",
            "469/469 [==============================] - 7s 14ms/step - loss: 2.2368 - accuracy: 0.2284 - val_loss: 2.2033 - val_accuracy: 0.2840\n",
            "Epoch 3/20\n",
            "469/469 [==============================] - 7s 14ms/step - loss: 2.1681 - accuracy: 0.3200 - val_loss: 2.1235 - val_accuracy: 0.3806\n",
            "Epoch 4/20\n",
            "469/469 [==============================] - 7s 14ms/step - loss: 2.0745 - accuracy: 0.4098 - val_loss: 2.0139 - val_accuracy: 0.4537\n",
            "Epoch 5/20\n",
            "469/469 [==============================] - 7s 14ms/step - loss: 1.9510 - accuracy: 0.4811 - val_loss: 1.8751 - val_accuracy: 0.5222\n",
            "Epoch 6/20\n",
            "469/469 [==============================] - 7s 14ms/step - loss: 1.8009 - accuracy: 0.5373 - val_loss: 1.7055 - val_accuracy: 0.5776\n",
            "Epoch 7/20\n",
            "469/469 [==============================] - 7s 14ms/step - loss: 1.6329 - accuracy: 0.5825 - val_loss: 1.5410 - val_accuracy: 0.6137\n",
            "Epoch 8/20\n",
            "469/469 [==============================] - 7s 14ms/step - loss: 1.4665 - accuracy: 0.6164 - val_loss: 1.3755 - val_accuracy: 0.6370\n",
            "Epoch 9/20\n",
            "469/469 [==============================] - 7s 14ms/step - loss: 1.3157 - accuracy: 0.6485 - val_loss: 1.2255 - val_accuracy: 0.6735\n",
            "Epoch 10/20\n",
            "469/469 [==============================] - 7s 14ms/step - loss: 1.1884 - accuracy: 0.6692 - val_loss: 1.1168 - val_accuracy: 0.6908\n",
            "Epoch 11/20\n",
            "469/469 [==============================] - 7s 14ms/step - loss: 1.0868 - accuracy: 0.6887 - val_loss: 1.0247 - val_accuracy: 0.7099\n",
            "Epoch 12/20\n",
            "469/469 [==============================] - 7s 14ms/step - loss: 1.0057 - accuracy: 0.7079 - val_loss: 0.9521 - val_accuracy: 0.7215\n",
            "Epoch 13/20\n",
            "469/469 [==============================] - 7s 14ms/step - loss: 0.9405 - accuracy: 0.7212 - val_loss: 0.8834 - val_accuracy: 0.7447\n",
            "Epoch 14/20\n",
            "469/469 [==============================] - 7s 14ms/step - loss: 0.8819 - accuracy: 0.7363 - val_loss: 0.8361 - val_accuracy: 0.7486\n",
            "Epoch 15/20\n",
            "469/469 [==============================] - 7s 14ms/step - loss: 0.8406 - accuracy: 0.7480 - val_loss: 0.7834 - val_accuracy: 0.7677\n",
            "Epoch 16/20\n",
            "469/469 [==============================] - 7s 15ms/step - loss: 0.7994 - accuracy: 0.7590 - val_loss: 0.7585 - val_accuracy: 0.7717\n",
            "Epoch 17/20\n",
            "469/469 [==============================] - 7s 15ms/step - loss: 0.7662 - accuracy: 0.7684 - val_loss: 0.7302 - val_accuracy: 0.7857\n",
            "Epoch 18/20\n",
            "469/469 [==============================] - 7s 14ms/step - loss: 0.7352 - accuracy: 0.7774 - val_loss: 0.7049 - val_accuracy: 0.7866\n",
            "Epoch 19/20\n",
            "469/469 [==============================] - 7s 14ms/step - loss: 0.7118 - accuracy: 0.7841 - val_loss: 0.6764 - val_accuracy: 0.7968\n",
            "Epoch 20/20\n",
            "469/469 [==============================] - 7s 14ms/step - loss: 0.6920 - accuracy: 0.7872 - val_loss: 0.6549 - val_accuracy: 0.8002\n"
          ],
          "name": "stdout"
        }
      ]
    },
    {
      "cell_type": "code",
      "metadata": {
        "id": "uucOvZyatVzc",
        "outputId": "78829647-6545-417c-f20a-301bb1ea47bf",
        "colab": {
          "base_uri": "https://localhost:8080/",
          "height": 299
        }
      },
      "source": [
        "plot_train_validation(h_mc, \"loss\")"
      ],
      "execution_count": 15,
      "outputs": [
        {
          "output_type": "display_data",
          "data": {
            "image/png": "[encoded data removed]",
            "text/plain": [
              "<Figure size 432x288 with 1 Axes>"
            ]
          },
          "metadata": {
            "tags": [],
            "needs_background": "light"
          }
        }
      ]
    },
    {
      "cell_type": "code",
      "metadata": {
        "id": "O1GwBA6ItWVX",
        "outputId": "f5d14c1c-b1dd-41de-a68e-09c036a84112",
        "colab": {
          "base_uri": "https://localhost:8080/",
          "height": 299
        }
      },
      "source": [
        "plot_train_validation(h_mc, \"accuracy\")"
      ],
      "execution_count": 16,
      "outputs": [
        {
          "output_type": "display_data",
          "data": {
            "image/png": "[encoded data removed]",
            "text/plain": [
              "<Figure size 432x288 with 1 Axes>"
            ]
          },
          "metadata": {
            "tags": [],
            "needs_background": "light"
          }
        }
      ]
    },
    {
      "cell_type": "markdown",
      "metadata": {
        "id": "2G2T6WIBNaNx"
      },
      "source": [
        "## Calculate MC Dropout Predictions"
      ]
    },
    {
      "cell_type": "code",
      "metadata": {
        "id": "nkx2TIeIqOGS",
        "outputId": "aca96a20-e493-4df9-a415-ac4bf6a8f556",
        "colab": {
          "base_uri": "https://localhost:8080/",
          "height": 34
        }
      },
      "source": [
        "import tqdm\n",
        "\n",
        "mc_predictions = []\n",
        "for i in tqdm.tqdm(range(500)):\n",
        "    y_p = mc_model.predict(x_test, batch_size=1000)\n",
        "    mc_predictions.append(y_p)"
      ],
      "execution_count": 17,
      "outputs": [
        {
          "output_type": "stream",
          "text": [
            "100%|██████████| 500/500 [02:08<00:00,  3.88it/s]\n"
          ],
          "name": "stderr"
        }
      ]
    },
    {
      "cell_type": "code",
      "metadata": {
        "id": "xN2mOrPFqPp9",
        "outputId": "a27869df-9893-43ee-d7c0-926c58ca1d2d",
        "colab": {
          "base_uri": "https://localhost:8080/",
          "height": 34
        }
      },
      "source": [
        "# score of the mc model\n",
        "accs = []\n",
        "for y_p in mc_predictions:\n",
        "    acc = accuracy_score(y_test.argmax(axis=1), y_p.argmax(axis=1))\n",
        "    accs.append(acc)\n",
        "print(\"MC accuracy: {:.1%}\".format(sum(accs)/len(accs)))"
      ],
      "execution_count": 18,
      "outputs": [
        {
          "output_type": "stream",
          "text": [
            "MC accuracy: 80.2%\n"
          ],
          "name": "stdout"
        }
      ]
    },
    {
      "cell_type": "code",
      "metadata": {
        "id": "bEO-8Wz6qSOJ",
        "outputId": "890c92b8-d04f-4855-afc7-5ad6a47f34ef",
        "colab": {
          "base_uri": "https://localhost:8080/",
          "height": 34
        }
      },
      "source": [
        "mc_ensemble_pred = np.array(mc_predictions).mean(axis=0).argmax(axis=1)\n",
        "ensemble_acc = accuracy_score(y_test.argmax(axis=1), mc_ensemble_pred)\n",
        "print(\"MC-ensemble accuracy: {:.1%}\".format(ensemble_acc))"
      ],
      "execution_count": 19,
      "outputs": [
        {
          "output_type": "stream",
          "text": [
            "MC-ensemble accuracy: 88.2%\n"
          ],
          "name": "stdout"
        }
      ]
    },
    {
      "cell_type": "code",
      "metadata": {
        "id": "h6myvS2vqXaO",
        "outputId": "11352ed5-9113-4a0a-b723-d06889f65fa9",
        "colab": {
          "base_uri": "https://localhost:8080/",
          "height": 284
        }
      },
      "source": [
        "plt.hist(accs)\n",
        "plt.axvline(x=ensemble_acc, color=\"b\")"
      ],
      "execution_count": 20,
      "outputs": [
        {
          "output_type": "execute_result",
          "data": {
            "text/plain": [
              "<matplotlib.lines.Line2D at 0x7fcf70760f28>"
            ]
          },
          "metadata": {
            "tags": []
          },
          "execution_count": 20
        },
        {
          "output_type": "display_data",
          "data": {
            "image/png": "[encoded data removed]",
            "text/plain": [
              "<Figure size 432x288 with 1 Axes>"
            ]
          },
          "metadata": {
            "tags": [],
            "needs_background": "light"
          }
        }
      ]
    },
    {
      "cell_type": "markdown",
      "metadata": {
        "id": "1fXpaObLNhT_"
      },
      "source": [
        "## Test MC Dropout results"
      ]
    },
    {
      "cell_type": "code",
      "metadata": {
        "id": "oHpqlqxwqcGI",
        "outputId": "89e14c47-e928-40a2-e002-672862db34e0",
        "colab": {
          "base_uri": "https://localhost:8080/",
          "height": 282
        }
      },
      "source": [
        "idx = 240\n",
        "plt.imshow(x_test[idx][:,:,0])"
      ],
      "execution_count": 21,
      "outputs": [
        {
          "output_type": "execute_result",
          "data": {
            "text/plain": [
              "<matplotlib.image.AxesImage at 0x7fcf70701048>"
            ]
          },
          "metadata": {
            "tags": []
          },
          "execution_count": 21
        },
        {
          "output_type": "display_data",
          "data": {
            "image/png": "[encoded data removed]",
            "text/plain": [
              "<Figure size 432x288 with 1 Axes>"
            ]
          },
          "metadata": {
            "tags": [],
            "needs_background": "light"
          }
        }
      ]
    },
    {
      "cell_type": "code",
      "metadata": {
        "id": "vfnyFLHDqd7b",
        "outputId": "f68282a1-d317-4a7f-e83c-4cbb962eec82",
        "colab": {
          "base_uri": "https://localhost:8080/",
          "height": 244
        }
      },
      "source": [
        "p0 = np.array([p[idx] for p in mc_predictions])\n",
        "print(\"posterior mean: {}\".format(p0.mean(axis=0).argmax()))\n",
        "print(\"true label: {}\".format(y_test[idx].argmax()))\n",
        "print()\n",
        "# probability + variance\n",
        "for i, (prob, var) in enumerate(zip(p0.mean(axis=0), p0.std(axis=0))):\n",
        "    print(\"class: {}; proba: {:.1%}; var: {:.2%} \".format(i, prob, var))"
      ],
      "execution_count": 22,
      "outputs": [
        {
          "output_type": "stream",
          "text": [
            "posterior mean: 5\n",
            "true label: 5\n",
            "\n",
            "class: 0; proba: 3.1%; var: 5.15% \n",
            "class: 1; proba: 1.6%; var: 2.70% \n",
            "class: 2; proba: 1.0%; var: 1.83% \n",
            "class: 3; proba: 22.0%; var: 17.14% \n",
            "class: 4; proba: 0.6%; var: 0.95% \n",
            "class: 5; proba: 42.2%; var: 21.40% \n",
            "class: 6; proba: 3.5%; var: 4.62% \n",
            "class: 7; proba: 0.2%; var: 0.52% \n",
            "class: 8; proba: 24.0%; var: 17.30% \n",
            "class: 9; proba: 1.9%; var: 2.17% \n"
          ],
          "name": "stdout"
        }
      ]
    },
    {
      "cell_type": "code",
      "metadata": {
        "id": "iaGEw6nlqgk0",
        "outputId": "3fb9d826-67a3-4e7a-9fad-65a62ad885bd",
        "colab": {
          "base_uri": "https://localhost:8080/",
          "height": 282
        }
      },
      "source": [
        "x, y = list(range(len(p0.mean(axis=0)))), p0.mean(axis=0)\n",
        "plt.plot(x, y)"
      ],
      "execution_count": 23,
      "outputs": [
        {
          "output_type": "execute_result",
          "data": {
            "text/plain": [
              "[<matplotlib.lines.Line2D at 0x7fcf72386eb8>]"
            ]
          },
          "metadata": {
            "tags": []
          },
          "execution_count": 23
        },
        {
          "output_type": "display_data",
          "data": {
            "image/png": "[encoded data removed]",
            "text/plain": [
              "<Figure size 432x288 with 1 Axes>"
            ]
          },
          "metadata": {
            "tags": [],
            "needs_background": "light"
          }
        }
      ]
    },
    {
      "cell_type": "code",
      "metadata": {
        "id": "sGZt_b1TqiQh",
        "outputId": "4a523fef-c5f6-41b0-87b9-7d2bedc342a2",
        "colab": {
          "base_uri": "https://localhost:8080/",
          "height": 717
        }
      },
      "source": [
        "fig, axes = plt.subplots(5, 2, figsize=(12,12))\n",
        "\n",
        "for i, ax in enumerate(fig.get_axes()):\n",
        "    ax.hist(p0[:,i], bins=100, range=(0,1))\n",
        "    ax.set_title(f\"class {i}\")\n",
        "    ax.label_outer()"
      ],
      "execution_count": 24,
      "outputs": [
        {
          "output_type": "display_data",
          "data": {
            "image/png": "[encoded data removed]",
            "text/plain": [
              "<Figure size 864x864 with 10 Axes>"
            ]
          },
          "metadata": {
            "tags": [],
            "needs_background": "light"
          }
        }
      ]
    },
    {
      "cell_type": "markdown",
      "metadata": {
        "id": "NgPGsgHjNoEz"
      },
      "source": [
        "## View images with lowest probability"
      ]
    },
    {
      "cell_type": "code",
      "metadata": {
        "id": "UebGG4FFqkTs"
      },
      "source": [
        "max_means = []\n",
        "preds = []\n",
        "for idx in range(len(mc_predictions)):\n",
        "    px = np.array([p[idx] for p in mc_predictions])\n",
        "    preds.append(px.mean(axis=0).argmax())\n",
        "    max_means.append(px.mean(axis=0).max())"
      ],
      "execution_count": 25,
      "outputs": []
    },
    {
      "cell_type": "code",
      "metadata": {
        "id": "9HKmuXlcqmcn",
        "outputId": "c24e4642-18cc-44d6-e66d-90690f1432e4",
        "colab": {
          "base_uri": "https://localhost:8080/",
          "height": 34
        }
      },
      "source": [
        "(np.array(max_means)).argsort()[:10]"
      ],
      "execution_count": 26,
      "outputs": [
        {
          "output_type": "execute_result",
          "data": {
            "text/plain": [
              "array([195, 149, 191, 483, 193, 478, 468, 175, 443, 317])"
            ]
          },
          "metadata": {
            "tags": []
          },
          "execution_count": 26
        }
      ]
    },
    {
      "cell_type": "code",
      "metadata": {
        "id": "nKKXAC8iqnbD",
        "outputId": "39d8c165-3f4a-445e-c2c5-26ded30a930c",
        "colab": {
          "base_uri": "https://localhost:8080/",
          "height": 282
        }
      },
      "source": [
        "plt.imshow(x_test[96][:,:,0])"
      ],
      "execution_count": 27,
      "outputs": [
        {
          "output_type": "execute_result",
          "data": {
            "text/plain": [
              "<matplotlib.image.AxesImage at 0x7fcf6dff3358>"
            ]
          },
          "metadata": {
            "tags": []
          },
          "execution_count": 27
        },
        {
          "output_type": "display_data",
          "data": {
            "image/png": "[encoded data removed]",
            "text/plain": [
              "<Figure size 432x288 with 1 Axes>"
            ]
          },
          "metadata": {
            "tags": [],
            "needs_background": "light"
          }
        }
      ]
    },
    {
      "cell_type": "markdown",
      "metadata": {
        "id": "RZKWSguSN71-"
      },
      "source": [
        "## View images with highest variance"
      ]
    },
    {
      "cell_type": "code",
      "metadata": {
        "id": "RSLwrUjHqpoA"
      },
      "source": [
        "max_vars = []\n",
        "for idx in range(len(mc_predictions)):\n",
        "    px = np.array([p[idx] for p in mc_predictions])\n",
        "    max_vars.append(px.std(axis=0)[px.mean(axis=0).argmax()])"
      ],
      "execution_count": 28,
      "outputs": []
    },
    {
      "cell_type": "code",
      "metadata": {
        "id": "Vq14yMjSqrWk",
        "outputId": "e7a811a0-c61b-472d-ec0f-84f3320e64c5",
        "colab": {
          "base_uri": "https://localhost:8080/",
          "height": 34
        }
      },
      "source": [
        "(-np.array(max_vars)).argsort()[:10]"
      ],
      "execution_count": 29,
      "outputs": [
        {
          "output_type": "execute_result",
          "data": {
            "text/plain": [
              "array([412, 172, 291, 449,   1, 186, 200,  48, 437, 250])"
            ]
          },
          "metadata": {
            "tags": []
          },
          "execution_count": 29
        }
      ]
    },
    {
      "cell_type": "code",
      "metadata": {
        "id": "FOqasRD5qsv3",
        "outputId": "2f368da4-6ea0-494d-b1f5-dedf38ce5abf",
        "colab": {
          "base_uri": "https://localhost:8080/",
          "height": 282
        }
      },
      "source": [
        "plt.imshow(x_test[222][:,:,0])"
      ],
      "execution_count": 30,
      "outputs": [
        {
          "output_type": "execute_result",
          "data": {
            "text/plain": [
              "<matplotlib.image.AxesImage at 0x7fcf6de77390>"
            ]
          },
          "metadata": {
            "tags": []
          },
          "execution_count": 30
        },
        {
          "output_type": "display_data",
          "data": {
            "image/png": "[encoded data removed]",
            "text/plain": [
              "<Figure size 432x288 with 1 Axes>"
            ]
          },
          "metadata": {
            "tags": [],
            "needs_background": "light"
          }
        }
      ]
    },
    {
      "cell_type": "markdown",
      "metadata": {
        "id": "fkam-qHaOBpb"
      },
      "source": [
        "## Test MC dropout on random image"
      ]
    },
    {
      "cell_type": "code",
      "metadata": {
        "id": "Cta7v7U3qu7t"
      },
      "source": [
        "random_img = np.random.random(input_shape)"
      ],
      "execution_count": 31,
      "outputs": []
    },
    {
      "cell_type": "code",
      "metadata": {
        "id": "Khz_b4buq5FV",
        "outputId": "d7d0c7ea-8d9e-4ad2-88e5-4d10184de120",
        "colab": {
          "base_uri": "https://localhost:8080/",
          "height": 265
        }
      },
      "source": [
        "plt.imshow(random_img[:,:,0]);"
      ],
      "execution_count": 32,
      "outputs": [
        {
          "output_type": "display_data",
          "data": {
            "image/png": "[encoded data removed]",
            "text/plain": [
              "<Figure size 432x288 with 1 Axes>"
            ]
          },
          "metadata": {
            "tags": [],
            "needs_background": "light"
          }
        }
      ]
    },
    {
      "cell_type": "code",
      "metadata": {
        "id": "-Ofqa1h6q6CU",
        "outputId": "df1965f8-e0cf-406a-b153-d9fda7cf1db8",
        "colab": {
          "base_uri": "https://localhost:8080/",
          "height": 34
        }
      },
      "source": [
        "random_predictions = []\n",
        "for i in tqdm.tqdm(range(500)):\n",
        "    y_p = mc_model.predict(np.array([random_img]))\n",
        "    random_predictions.append(y_p)"
      ],
      "execution_count": 33,
      "outputs": [
        {
          "output_type": "stream",
          "text": [
            "100%|██████████| 500/500 [00:20<00:00, 24.21it/s]\n"
          ],
          "name": "stderr"
        }
      ]
    },
    {
      "cell_type": "code",
      "metadata": {
        "id": "GcxDanEjq7fx",
        "outputId": "66db1855-7eb7-4fa1-c68a-44ae9a56f074",
        "colab": {
          "base_uri": "https://localhost:8080/",
          "height": 226
        }
      },
      "source": [
        "p0 = np.array([p[0] for p in random_predictions])\n",
        "print(\"posterior mean: {}\".format(p0.mean(axis=0).argmax()))\n",
        "print()\n",
        "# probability + variance\n",
        "for i, (prob, var) in enumerate(zip(p0.mean(axis=0), p0.std(axis=0))):\n",
        "    print(\"class: {}; proba: {:.1%}; var: {:.2%} \".format(i, prob, var))"
      ],
      "execution_count": 34,
      "outputs": [
        {
          "output_type": "stream",
          "text": [
            "posterior mean: 3\n",
            "\n",
            "class: 0; proba: 3.9%; var: 7.25% \n",
            "class: 1; proba: 0.2%; var: 0.45% \n",
            "class: 2; proba: 34.6%; var: 25.53% \n",
            "class: 3; proba: 38.2%; var: 25.97% \n",
            "class: 4; proba: 0.7%; var: 1.46% \n",
            "class: 5; proba: 14.7%; var: 17.18% \n",
            "class: 6; proba: 2.4%; var: 3.92% \n",
            "class: 7; proba: 0.4%; var: 0.90% \n",
            "class: 8; proba: 4.6%; var: 9.00% \n",
            "class: 9; proba: 0.2%; var: 0.32% \n"
          ],
          "name": "stdout"
        }
      ]
    },
    {
      "cell_type": "code",
      "metadata": {
        "id": "rjzCDeMLq82Y",
        "outputId": "f1800285-62b1-44ec-9dfa-7b58e7d2192d",
        "colab": {
          "base_uri": "https://localhost:8080/",
          "height": 286
        }
      },
      "source": [
        "x, y = list(range(len(p0.mean(axis=0)))), p0.mean(axis=0)\n",
        "plt.plot(x, y)"
      ],
      "execution_count": 35,
      "outputs": [
        {
          "output_type": "execute_result",
          "data": {
            "text/plain": [
              "[<matplotlib.lines.Line2D at 0x7fcf6c697b70>]"
            ]
          },
          "metadata": {
            "tags": []
          },
          "execution_count": 35
        },
        {
          "output_type": "display_data",
          "data": {
            "image/png": "[encoded data removed]",
            "text/plain": [
              "<Figure size 432x288 with 1 Axes>"
            ]
          },
          "metadata": {
            "tags": [],
            "needs_background": "light"
          }
        }
      ]
    },
    {
      "cell_type": "code",
      "metadata": {
        "id": "H8JGSP8Qq-oX",
        "outputId": "ac0d6e57-4cc5-4ba7-d9d9-4c92fb95d662",
        "colab": {
          "base_uri": "https://localhost:8080/",
          "height": 717
        }
      },
      "source": [
        "fig, axes = plt.subplots(5, 2, figsize=(12,12))\n",
        "\n",
        "for i, ax in enumerate(fig.get_axes()):\n",
        "    ax.hist(p0[:,i], bins=100, range=(0,1))\n",
        "    ax.set_title(f\"class {i}\")\n",
        "    ax.label_outer()"
      ],
      "execution_count": 36,
      "outputs": [
        {
          "output_type": "display_data",
          "data": {
            "image/png": "[encoded data removed]",
            "text/plain": [
              "<Figure size 864x864 with 10 Axes>"
            ]
          },
          "metadata": {
            "tags": [],
            "needs_background": "light"
          }
        }
      ]
    },
    {
      "cell_type": "markdown",
      "metadata": {
        "id": "nsCJdDOjzq5a"
      },
      "source": [
        "## Convert trained regular model into a MC model"
      ]
    },
    {
      "cell_type": "code",
      "metadata": {
        "id": "J6RrEZxA1Nli",
        "outputId": "36490663-8abb-4840-c5ca-31cd0b17e255",
        "colab": {
          "base_uri": "https://localhost:8080/",
          "height": 34
        }
      },
      "source": [
        "layers = [l for l in model.layers]\n",
        "x = layers[0].output\n",
        "for i in range(1, len(layers)):\n",
        "    # Replace dropout layers with MC dropout layers\n",
        "    if isinstance(layers[i], Dropout):\n",
        "        x = Dropout(layers[i].rate)(x, training=True)\n",
        "    else:\n",
        "        x = layers[i](x)\n",
        "        \n",
        "mc_model2 = Model(inputs=layers[0].input, outputs=x)\n",
        "mc_model2.set_weights(model.get_weights())\n",
        "mc_model2.predict(np.expand_dims(x_test[222], axis=0), batch_size=1).argmax()"
      ],
      "execution_count": 37,
      "outputs": [
        {
          "output_type": "execute_result",
          "data": {
            "text/plain": [
              "2"
            ]
          },
          "metadata": {
            "tags": []
          },
          "execution_count": 37
        }
      ]
    },
    {
      "cell_type": "code",
      "metadata": {
        "id": "SImMCSqLOxqs",
        "outputId": "137039f1-dae8-42d0-cb25-ff93731d872c",
        "colab": {
          "base_uri": "https://localhost:8080/",
          "height": 282
        }
      },
      "source": [
        "idx = 222\n",
        "plt.imshow(x_test[idx][:,:,0])"
      ],
      "execution_count": 38,
      "outputs": [
        {
          "output_type": "execute_result",
          "data": {
            "text/plain": [
              "<matplotlib.image.AxesImage at 0x7fcf6dedec50>"
            ]
          },
          "metadata": {
            "tags": []
          },
          "execution_count": 38
        },
        {
          "output_type": "display_data",
          "data": {
            "image/png": "[encoded data removed]",
            "text/plain": [
              "<Figure size 432x288 with 1 Axes>"
            ]
          },
          "metadata": {
            "tags": [],
            "needs_background": "light"
          }
        }
      ]
    },
    {
      "cell_type": "code",
      "metadata": {
        "id": "sDns_tB51qbt",
        "outputId": "5025ddd9-e8c1-461a-bac9-fe95397f9efb",
        "colab": {
          "base_uri": "https://localhost:8080/",
          "height": 209
        }
      },
      "source": [
        "print(f\"Ground truth is {y_test[idx].argmax()}\")\n",
        "for i in range(10):\n",
        "  print(f\"Prediction {i} = {mc_model2.predict(np.expand_dims(x_test[idx], axis=0), batch_size=1).argmax()}\")"
      ],
      "execution_count": 39,
      "outputs": [
        {
          "output_type": "stream",
          "text": [
            "Ground truth is 2\n",
            "Prediction 0 = 2\n",
            "Prediction 1 = 2\n",
            "Prediction 2 = 2\n",
            "Prediction 3 = 2\n",
            "Prediction 4 = 2\n",
            "Prediction 5 = 2\n",
            "Prediction 6 = 2\n",
            "Prediction 7 = 6\n",
            "Prediction 8 = 6\n",
            "Prediction 9 = 2\n"
          ],
          "name": "stdout"
        }
      ]
    },
    {
      "cell_type": "markdown",
      "metadata": {
        "id": "VO0YXDHqPCGT"
      },
      "source": [
        "## Test accuracy of new mc model"
      ]
    },
    {
      "cell_type": "code",
      "metadata": {
        "id": "i-MkJ2zx6L07",
        "outputId": "5eb20ed8-6e2a-4d44-b706-8ba482b48fa5",
        "colab": {
          "base_uri": "https://localhost:8080/",
          "height": 34
        }
      },
      "source": [
        "import tqdm\n",
        "\n",
        "mc_predictions2 = []\n",
        "for i in tqdm.tqdm(range(500)):\n",
        "    y_p = mc_model2.predict(x_test, batch_size=1000)\n",
        "    mc_predictions2.append(y_p)"
      ],
      "execution_count": 40,
      "outputs": [
        {
          "output_type": "stream",
          "text": [
            "100%|██████████| 500/500 [02:08<00:00,  3.89it/s]\n"
          ],
          "name": "stderr"
        }
      ]
    },
    {
      "cell_type": "code",
      "metadata": {
        "id": "WFzyPY4M6VK8",
        "outputId": "7441cc6c-6967-4b8b-af40-091a88472e13",
        "colab": {
          "base_uri": "https://localhost:8080/",
          "height": 34
        }
      },
      "source": [
        "# score of the mc model\n",
        "accs = []\n",
        "for y_p in mc_predictions2:\n",
        "    acc = accuracy_score(y_test.argmax(axis=1), y_p.argmax(axis=1))\n",
        "    accs.append(acc)\n",
        "print(\"MC accuracy: {:.1%}\".format(sum(accs)/len(accs)))"
      ],
      "execution_count": 41,
      "outputs": [
        {
          "output_type": "stream",
          "text": [
            "MC accuracy: 80.2%\n"
          ],
          "name": "stdout"
        }
      ]
    },
    {
      "cell_type": "code",
      "metadata": {
        "id": "jzd__QxH6U3i",
        "outputId": "3ed7b19e-e717-4b15-8768-fb7dbe15a6e2",
        "colab": {
          "base_uri": "https://localhost:8080/",
          "height": 34
        }
      },
      "source": [
        "mc_ensemble_pred = np.array(mc_predictions2).mean(axis=0).argmax(axis=1)\n",
        "ensemble_acc = accuracy_score(y_test.argmax(axis=1), mc_ensemble_pred)\n",
        "print(\"MC-ensemble accuracy: {:.1%}\".format(ensemble_acc))"
      ],
      "execution_count": 42,
      "outputs": [
        {
          "output_type": "stream",
          "text": [
            "MC-ensemble accuracy: 88.2%\n"
          ],
          "name": "stdout"
        }
      ]
    },
    {
      "cell_type": "markdown",
      "metadata": {
        "id": "uWtiwD0YPVEn"
      },
      "source": [
        "## Create ensemble of models"
      ]
    },
    {
      "cell_type": "code",
      "metadata": {
        "id": "0O1szSGe74ok"
      },
      "source": [
        "models = [get_model(mc=False, act=\"relu\") for x in range(5)]"
      ],
      "execution_count": 43,
      "outputs": []
    },
    {
      "cell_type": "code",
      "metadata": {
        "id": "ktm0BRA87-nd",
        "outputId": "27807a76-67d1-4929-cfd6-9c42a3c77bab",
        "colab": {
          "base_uri": "https://localhost:8080/",
          "height": 1000
        }
      },
      "source": [
        "histories = [m.fit(x_train, y_train,\n",
        "                       batch_size=batch_size,\n",
        "                       epochs=epochs,\n",
        "                       verbose=1,\n",
        "                       validation_data=(x_test, y_test)) for m in models]"
      ],
      "execution_count": 44,
      "outputs": [
        {
          "output_type": "stream",
          "text": [
            "Epoch 1/20\n",
            "469/469 [==============================] - 7s 15ms/step - loss: 2.2869 - accuracy: 0.1520 - val_loss: 2.2460 - val_accuracy: 0.3807\n",
            "Epoch 2/20\n",
            "469/469 [==============================] - 7s 14ms/step - loss: 2.2215 - accuracy: 0.2848 - val_loss: 2.1683 - val_accuracy: 0.5265\n",
            "Epoch 3/20\n",
            "469/469 [==============================] - 7s 14ms/step - loss: 2.1415 - accuracy: 0.3873 - val_loss: 2.0661 - val_accuracy: 0.5986\n",
            "Epoch 4/20\n",
            "469/469 [==============================] - 7s 14ms/step - loss: 2.0331 - accuracy: 0.4645 - val_loss: 1.9262 - val_accuracy: 0.6575\n",
            "Epoch 5/20\n",
            "469/469 [==============================] - 7s 14ms/step - loss: 1.8893 - accuracy: 0.5298 - val_loss: 1.7442 - val_accuracy: 0.7192\n",
            "Epoch 6/20\n",
            "469/469 [==============================] - 7s 14ms/step - loss: 1.7156 - accuracy: 0.5788 - val_loss: 1.5331 - val_accuracy: 0.7637\n",
            "Epoch 7/20\n",
            "469/469 [==============================] - 7s 14ms/step - loss: 1.5315 - accuracy: 0.6174 - val_loss: 1.3157 - val_accuracy: 0.7897\n",
            "Epoch 8/20\n",
            "469/469 [==============================] - 7s 14ms/step - loss: 1.3579 - accuracy: 0.6481 - val_loss: 1.1195 - val_accuracy: 0.8128\n",
            "Epoch 9/20\n",
            "469/469 [==============================] - 7s 15ms/step - loss: 1.2049 - accuracy: 0.6745 - val_loss: 0.9584 - val_accuracy: 0.8242\n",
            "Epoch 10/20\n",
            "469/469 [==============================] - 7s 14ms/step - loss: 1.0910 - accuracy: 0.6960 - val_loss: 0.8365 - val_accuracy: 0.8350\n",
            "Epoch 11/20\n",
            "469/469 [==============================] - 7s 14ms/step - loss: 0.9973 - accuracy: 0.7138 - val_loss: 0.7448 - val_accuracy: 0.8430\n",
            "Epoch 12/20\n",
            "469/469 [==============================] - 7s 14ms/step - loss: 0.9234 - accuracy: 0.7294 - val_loss: 0.6751 - val_accuracy: 0.8500\n",
            "Epoch 13/20\n",
            "469/469 [==============================] - 7s 14ms/step - loss: 0.8635 - accuracy: 0.7459 - val_loss: 0.6217 - val_accuracy: 0.8580\n",
            "Epoch 14/20\n",
            "469/469 [==============================] - 7s 14ms/step - loss: 0.8150 - accuracy: 0.7585 - val_loss: 0.5786 - val_accuracy: 0.8655\n",
            "Epoch 15/20\n",
            "469/469 [==============================] - 7s 14ms/step - loss: 0.7772 - accuracy: 0.7661 - val_loss: 0.5433 - val_accuracy: 0.8701\n",
            "Epoch 16/20\n",
            "469/469 [==============================] - 7s 14ms/step - loss: 0.7422 - accuracy: 0.7772 - val_loss: 0.5146 - val_accuracy: 0.8741\n",
            "Epoch 17/20\n",
            "469/469 [==============================] - 7s 14ms/step - loss: 0.7118 - accuracy: 0.7836 - val_loss: 0.4912 - val_accuracy: 0.8775\n",
            "Epoch 18/20\n",
            "469/469 [==============================] - 7s 14ms/step - loss: 0.6839 - accuracy: 0.7924 - val_loss: 0.4692 - val_accuracy: 0.8815\n",
            "Epoch 19/20\n",
            "469/469 [==============================] - 7s 14ms/step - loss: 0.6644 - accuracy: 0.7984 - val_loss: 0.4510 - val_accuracy: 0.8850\n",
            "Epoch 20/20\n",
            "469/469 [==============================] - 7s 14ms/step - loss: 0.6456 - accuracy: 0.8041 - val_loss: 0.4353 - val_accuracy: 0.8879\n",
            "Epoch 1/20\n",
            "469/469 [==============================] - 7s 15ms/step - loss: 2.2779 - accuracy: 0.1610 - val_loss: 2.2489 - val_accuracy: 0.3120\n",
            "Epoch 2/20\n",
            "469/469 [==============================] - 7s 14ms/step - loss: 2.2318 - accuracy: 0.2457 - val_loss: 2.1907 - val_accuracy: 0.4144\n",
            "Epoch 3/20\n",
            "469/469 [==============================] - 7s 14ms/step - loss: 2.1706 - accuracy: 0.3335 - val_loss: 2.1131 - val_accuracy: 0.5759\n",
            "Epoch 4/20\n",
            "469/469 [==============================] - 7s 14ms/step - loss: 2.0868 - accuracy: 0.4106 - val_loss: 2.0075 - val_accuracy: 0.6392\n",
            "Epoch 5/20\n",
            "469/469 [==============================] - 7s 14ms/step - loss: 1.9757 - accuracy: 0.4780 - val_loss: 1.8684 - val_accuracy: 0.6734\n",
            "Epoch 6/20\n",
            "469/469 [==============================] - 7s 14ms/step - loss: 1.8379 - accuracy: 0.5343 - val_loss: 1.6963 - val_accuracy: 0.7071\n",
            "Epoch 7/20\n",
            "469/469 [==============================] - 7s 14ms/step - loss: 1.6784 - accuracy: 0.5734 - val_loss: 1.5041 - val_accuracy: 0.7386\n",
            "Epoch 8/20\n",
            "469/469 [==============================] - 7s 14ms/step - loss: 1.5121 - accuracy: 0.6092 - val_loss: 1.3122 - val_accuracy: 0.7619\n",
            "Epoch 9/20\n",
            "469/469 [==============================] - 7s 14ms/step - loss: 1.3652 - accuracy: 0.6343 - val_loss: 1.1400 - val_accuracy: 0.7817\n",
            "Epoch 10/20\n",
            "469/469 [==============================] - 7s 14ms/step - loss: 1.2307 - accuracy: 0.6621 - val_loss: 0.9965 - val_accuracy: 0.7979\n",
            "Epoch 11/20\n",
            "469/469 [==============================] - 7s 14ms/step - loss: 1.1221 - accuracy: 0.6821 - val_loss: 0.8834 - val_accuracy: 0.8149\n",
            "Epoch 12/20\n",
            "469/469 [==============================] - 7s 14ms/step - loss: 1.0370 - accuracy: 0.6998 - val_loss: 0.7962 - val_accuracy: 0.8241\n",
            "Epoch 13/20\n",
            "469/469 [==============================] - 7s 14ms/step - loss: 0.9648 - accuracy: 0.7164 - val_loss: 0.7279 - val_accuracy: 0.8341\n",
            "Epoch 14/20\n",
            "469/469 [==============================] - 7s 14ms/step - loss: 0.9105 - accuracy: 0.7282 - val_loss: 0.6745 - val_accuracy: 0.8413\n",
            "Epoch 15/20\n",
            "469/469 [==============================] - 7s 14ms/step - loss: 0.8636 - accuracy: 0.7406 - val_loss: 0.6312 - val_accuracy: 0.8493\n",
            "Epoch 16/20\n",
            "469/469 [==============================] - 7s 14ms/step - loss: 0.8205 - accuracy: 0.7509 - val_loss: 0.5947 - val_accuracy: 0.8569\n",
            "Epoch 17/20\n",
            "469/469 [==============================] - 7s 14ms/step - loss: 0.7856 - accuracy: 0.7643 - val_loss: 0.5642 - val_accuracy: 0.8607\n",
            "Epoch 18/20\n",
            "469/469 [==============================] - 7s 14ms/step - loss: 0.7591 - accuracy: 0.7678 - val_loss: 0.5395 - val_accuracy: 0.8663\n",
            "Epoch 19/20\n",
            "469/469 [==============================] - 7s 14ms/step - loss: 0.7338 - accuracy: 0.7759 - val_loss: 0.5173 - val_accuracy: 0.8695\n",
            "Epoch 20/20\n",
            "469/469 [==============================] - 7s 14ms/step - loss: 0.7095 - accuracy: 0.7838 - val_loss: 0.4977 - val_accuracy: 0.8727\n",
            "Epoch 1/20\n",
            "469/469 [==============================] - 7s 15ms/step - loss: 2.2914 - accuracy: 0.1106 - val_loss: 2.2495 - val_accuracy: 0.1803\n",
            "Epoch 2/20\n",
            "469/469 [==============================] - 7s 14ms/step - loss: 2.2258 - accuracy: 0.2081 - val_loss: 2.1724 - val_accuracy: 0.4072\n",
            "Epoch 3/20\n",
            "469/469 [==============================] - 7s 14ms/step - loss: 2.1469 - accuracy: 0.3155 - val_loss: 2.0721 - val_accuracy: 0.5634\n",
            "Epoch 4/20\n",
            "469/469 [==============================] - 7s 15ms/step - loss: 2.0403 - accuracy: 0.4161 - val_loss: 1.9345 - val_accuracy: 0.6761\n",
            "Epoch 5/20\n",
            "469/469 [==============================] - 7s 15ms/step - loss: 1.9008 - accuracy: 0.4968 - val_loss: 1.7550 - val_accuracy: 0.7317\n",
            "Epoch 6/20\n",
            "469/469 [==============================] - 7s 14ms/step - loss: 1.7278 - accuracy: 0.5620 - val_loss: 1.5424 - val_accuracy: 0.7560\n",
            "Epoch 7/20\n",
            "469/469 [==============================] - 7s 14ms/step - loss: 1.5444 - accuracy: 0.6036 - val_loss: 1.3248 - val_accuracy: 0.7805\n",
            "Epoch 8/20\n",
            "469/469 [==============================] - 7s 14ms/step - loss: 1.3738 - accuracy: 0.6348 - val_loss: 1.1315 - val_accuracy: 0.7982\n",
            "Epoch 9/20\n",
            "469/469 [==============================] - 7s 14ms/step - loss: 1.2256 - accuracy: 0.6627 - val_loss: 0.9754 - val_accuracy: 0.8119\n",
            "Epoch 10/20\n",
            "469/469 [==============================] - 7s 14ms/step - loss: 1.1108 - accuracy: 0.6816 - val_loss: 0.8556 - val_accuracy: 0.8270\n",
            "Epoch 11/20\n",
            "469/469 [==============================] - 7s 14ms/step - loss: 1.0205 - accuracy: 0.7021 - val_loss: 0.7652 - val_accuracy: 0.8381\n",
            "Epoch 12/20\n",
            "469/469 [==============================] - 7s 14ms/step - loss: 0.9453 - accuracy: 0.7222 - val_loss: 0.6956 - val_accuracy: 0.8458\n",
            "Epoch 13/20\n",
            "469/469 [==============================] - 7s 14ms/step - loss: 0.8899 - accuracy: 0.7337 - val_loss: 0.6426 - val_accuracy: 0.8541\n",
            "Epoch 14/20\n",
            "469/469 [==============================] - 7s 15ms/step - loss: 0.8405 - accuracy: 0.7474 - val_loss: 0.5997 - val_accuracy: 0.8586\n",
            "Epoch 15/20\n",
            "469/469 [==============================] - 7s 14ms/step - loss: 0.8059 - accuracy: 0.7546 - val_loss: 0.5651 - val_accuracy: 0.8636\n",
            "Epoch 16/20\n",
            "469/469 [==============================] - 7s 14ms/step - loss: 0.7723 - accuracy: 0.7646 - val_loss: 0.5362 - val_accuracy: 0.8694\n",
            "Epoch 17/20\n",
            "469/469 [==============================] - 7s 14ms/step - loss: 0.7395 - accuracy: 0.7737 - val_loss: 0.5117 - val_accuracy: 0.8730\n",
            "Epoch 18/20\n",
            "469/469 [==============================] - 7s 14ms/step - loss: 0.7156 - accuracy: 0.7818 - val_loss: 0.4910 - val_accuracy: 0.8758\n",
            "Epoch 19/20\n",
            "469/469 [==============================] - 7s 14ms/step - loss: 0.6947 - accuracy: 0.7861 - val_loss: 0.4728 - val_accuracy: 0.8784\n",
            "Epoch 20/20\n",
            "469/469 [==============================] - 7s 14ms/step - loss: 0.6777 - accuracy: 0.7915 - val_loss: 0.4575 - val_accuracy: 0.8812\n",
            "Epoch 1/20\n",
            "469/469 [==============================] - 7s 15ms/step - loss: 2.2888 - accuracy: 0.1435 - val_loss: 2.2633 - val_accuracy: 0.2754\n",
            "Epoch 2/20\n",
            "469/469 [==============================] - 7s 14ms/step - loss: 2.2466 - accuracy: 0.2493 - val_loss: 2.2113 - val_accuracy: 0.4333\n",
            "Epoch 3/20\n",
            "469/469 [==============================] - 7s 14ms/step - loss: 2.1924 - accuracy: 0.3340 - val_loss: 2.1414 - val_accuracy: 0.5338\n",
            "Epoch 4/20\n",
            "469/469 [==============================] - 7s 14ms/step - loss: 2.1176 - accuracy: 0.4116 - val_loss: 2.0455 - val_accuracy: 0.6305\n",
            "Epoch 5/20\n",
            "469/469 [==============================] - 7s 14ms/step - loss: 2.0177 - accuracy: 0.4752 - val_loss: 1.9163 - val_accuracy: 0.7010\n",
            "Epoch 6/20\n",
            "469/469 [==============================] - 7s 14ms/step - loss: 1.8873 - accuracy: 0.5320 - val_loss: 1.7504 - val_accuracy: 0.7471\n",
            "Epoch 7/20\n",
            "469/469 [==============================] - 7s 14ms/step - loss: 1.7306 - accuracy: 0.5767 - val_loss: 1.5544 - val_accuracy: 0.7727\n",
            "Epoch 8/20\n",
            "469/469 [==============================] - 7s 14ms/step - loss: 1.5594 - accuracy: 0.6105 - val_loss: 1.3470 - val_accuracy: 0.7910\n",
            "Epoch 9/20\n",
            "469/469 [==============================] - 7s 14ms/step - loss: 1.3930 - accuracy: 0.6391 - val_loss: 1.1562 - val_accuracy: 0.8034\n",
            "Epoch 10/20\n",
            "469/469 [==============================] - 7s 14ms/step - loss: 1.2477 - accuracy: 0.6636 - val_loss: 0.9992 - val_accuracy: 0.8136\n",
            "Epoch 11/20\n",
            "469/469 [==============================] - 7s 14ms/step - loss: 1.1366 - accuracy: 0.6804 - val_loss: 0.8788 - val_accuracy: 0.8263\n",
            "Epoch 12/20\n",
            "469/469 [==============================] - 7s 14ms/step - loss: 1.0433 - accuracy: 0.6999 - val_loss: 0.7859 - val_accuracy: 0.8337\n",
            "Epoch 13/20\n",
            "469/469 [==============================] - 7s 14ms/step - loss: 0.9739 - accuracy: 0.7163 - val_loss: 0.7148 - val_accuracy: 0.8407\n",
            "Epoch 14/20\n",
            "469/469 [==============================] - 7s 14ms/step - loss: 0.9180 - accuracy: 0.7266 - val_loss: 0.6596 - val_accuracy: 0.8476\n",
            "Epoch 15/20\n",
            "469/469 [==============================] - 7s 14ms/step - loss: 0.8649 - accuracy: 0.7427 - val_loss: 0.6150 - val_accuracy: 0.8529\n",
            "Epoch 16/20\n",
            "469/469 [==============================] - 7s 15ms/step - loss: 0.8222 - accuracy: 0.7511 - val_loss: 0.5783 - val_accuracy: 0.8586\n",
            "Epoch 17/20\n",
            "469/469 [==============================] - 7s 14ms/step - loss: 0.7918 - accuracy: 0.7612 - val_loss: 0.5478 - val_accuracy: 0.8641\n",
            "Epoch 18/20\n",
            "469/469 [==============================] - 7s 14ms/step - loss: 0.7622 - accuracy: 0.7686 - val_loss: 0.5221 - val_accuracy: 0.8697\n",
            "Epoch 19/20\n",
            "469/469 [==============================] - 7s 14ms/step - loss: 0.7310 - accuracy: 0.7787 - val_loss: 0.4993 - val_accuracy: 0.8727\n",
            "Epoch 20/20\n",
            "469/469 [==============================] - 7s 14ms/step - loss: 0.7069 - accuracy: 0.7850 - val_loss: 0.4800 - val_accuracy: 0.8764\n",
            "Epoch 1/20\n",
            "469/469 [==============================] - 7s 15ms/step - loss: 2.2888 - accuracy: 0.1273 - val_loss: 2.2421 - val_accuracy: 0.3112\n",
            "Epoch 2/20\n",
            "469/469 [==============================] - 7s 14ms/step - loss: 2.2186 - accuracy: 0.2565 - val_loss: 2.1625 - val_accuracy: 0.5507\n",
            "Epoch 3/20\n",
            "469/469 [==============================] - 7s 14ms/step - loss: 2.1372 - accuracy: 0.3759 - val_loss: 2.0599 - val_accuracy: 0.6344\n",
            "Epoch 4/20\n",
            "469/469 [==============================] - 7s 14ms/step - loss: 2.0309 - accuracy: 0.4604 - val_loss: 1.9236 - val_accuracy: 0.6834\n",
            "Epoch 5/20\n",
            "469/469 [==============================] - 7s 14ms/step - loss: 1.8921 - accuracy: 0.5183 - val_loss: 1.7505 - val_accuracy: 0.7214\n",
            "Epoch 6/20\n",
            "469/469 [==============================] - 7s 14ms/step - loss: 1.7308 - accuracy: 0.5592 - val_loss: 1.5535 - val_accuracy: 0.7500\n",
            "Epoch 7/20\n",
            "469/469 [==============================] - 7s 14ms/step - loss: 1.5618 - accuracy: 0.5918 - val_loss: 1.3539 - val_accuracy: 0.7694\n",
            "Epoch 8/20\n",
            "469/469 [==============================] - 7s 14ms/step - loss: 1.4045 - accuracy: 0.6223 - val_loss: 1.1734 - val_accuracy: 0.7852\n",
            "Epoch 9/20\n",
            "469/469 [==============================] - 7s 14ms/step - loss: 1.2694 - accuracy: 0.6470 - val_loss: 1.0240 - val_accuracy: 0.8002\n",
            "Epoch 10/20\n",
            "469/469 [==============================] - 7s 15ms/step - loss: 1.1558 - accuracy: 0.6728 - val_loss: 0.9047 - val_accuracy: 0.8117\n",
            "Epoch 11/20\n",
            "469/469 [==============================] - 7s 15ms/step - loss: 1.0639 - accuracy: 0.6916 - val_loss: 0.8113 - val_accuracy: 0.8222\n",
            "Epoch 12/20\n",
            "469/469 [==============================] - 7s 14ms/step - loss: 0.9884 - accuracy: 0.7072 - val_loss: 0.7372 - val_accuracy: 0.8315\n",
            "Epoch 13/20\n",
            "469/469 [==============================] - 7s 14ms/step - loss: 0.9286 - accuracy: 0.7235 - val_loss: 0.6783 - val_accuracy: 0.8396\n",
            "Epoch 14/20\n",
            "469/469 [==============================] - 7s 14ms/step - loss: 0.8766 - accuracy: 0.7353 - val_loss: 0.6301 - val_accuracy: 0.8473\n",
            "Epoch 15/20\n",
            "469/469 [==============================] - 7s 14ms/step - loss: 0.8343 - accuracy: 0.7494 - val_loss: 0.5910 - val_accuracy: 0.8544\n",
            "Epoch 16/20\n",
            "469/469 [==============================] - 7s 14ms/step - loss: 0.7945 - accuracy: 0.7588 - val_loss: 0.5589 - val_accuracy: 0.8590\n",
            "Epoch 17/20\n",
            "469/469 [==============================] - 7s 14ms/step - loss: 0.7698 - accuracy: 0.7651 - val_loss: 0.5321 - val_accuracy: 0.8659\n",
            "Epoch 18/20\n",
            "469/469 [==============================] - 7s 14ms/step - loss: 0.7395 - accuracy: 0.7738 - val_loss: 0.5085 - val_accuracy: 0.8709\n",
            "Epoch 19/20\n",
            "469/469 [==============================] - 7s 15ms/step - loss: 0.7113 - accuracy: 0.7823 - val_loss: 0.4880 - val_accuracy: 0.8744\n",
            "Epoch 20/20\n",
            "469/469 [==============================] - 7s 14ms/step - loss: 0.6970 - accuracy: 0.7868 - val_loss: 0.4707 - val_accuracy: 0.8782\n"
          ],
          "name": "stdout"
        }
      ]
    },
    {
      "cell_type": "markdown",
      "metadata": {
        "id": "1kkzI__xZg79"
      },
      "source": [
        "## Compare ensemble and MC methods"
      ]
    },
    {
      "cell_type": "code",
      "metadata": {
        "id": "OGQTQgFDS4rX",
        "outputId": "e03b4609-c1a4-464b-f20f-6635d5a3dd8e",
        "colab": {
          "base_uri": "https://localhost:8080/",
          "height": 282
        }
      },
      "source": [
        "idx = 195\n",
        "plt.imshow(x_test[idx][:,:,0])"
      ],
      "execution_count": 80,
      "outputs": [
        {
          "output_type": "execute_result",
          "data": {
            "text/plain": [
              "<matplotlib.image.AxesImage at 0x7fcf5ca54828>"
            ]
          },
          "metadata": {
            "tags": []
          },
          "execution_count": 80
        },
        {
          "output_type": "display_data",
          "data": {
            "image/png": "[encoded data removed]",
            "text/plain": [
              "<Figure size 432x288 with 1 Axes>"
            ]
          },
          "metadata": {
            "tags": [],
            "needs_background": "light"
          }
        }
      ]
    },
    {
      "cell_type": "code",
      "metadata": {
        "id": "osW1ZF1VSZBw",
        "outputId": "77f1df25-63c3-466b-b225-2dec94046f83",
        "colab": {
          "base_uri": "https://localhost:8080/",
          "height": 89
        }
      },
      "source": [
        "def average(nums):\n",
        "    return sum(nums) / len(nums)\n",
        "\n",
        "def argmax(lst):\n",
        "    return lst.index(max(lst))\n",
        "\n",
        "print(f\"Ground truth is {y_test[idx].argmax()}\")\n",
        "\n",
        "my_predictions = []\n",
        "for m in models:\n",
        "    my_predictions.append(np.squeeze(m.predict(np.expand_dims(x_test[idx], axis=0), batch_size=1)))\n",
        "\n",
        "final_predictions = []\n",
        "for i in range(len(my_predictions[0])):\n",
        "    predictions_i = [p[i] for p in my_predictions]\n",
        "    final_predictions.append(average(predictions_i))\n",
        "print(f\"Ensemble Prediction = {argmax(final_predictions)}\")\n",
        "print(f\"Average ensemble predictions = {final_predictions}\")"
      ],
      "execution_count": 81,
      "outputs": [
        {
          "output_type": "stream",
          "text": [
            "Ground truth is 3\n",
            "Ensemble Prediction = 8\n",
            "Average ensemble predictions = [0.010421648807823657, 0.0638065792620182, 0.16446850895881654, 0.16631044447422028, 0.08164062649011612, 0.1371259167790413, 0.0733741819858551, 0.033726805448532106, 0.19048974215984343, 0.0786355584859848]\n"
          ],
          "name": "stdout"
        }
      ]
    },
    {
      "cell_type": "code",
      "metadata": {
        "id": "ujbwBMb3Yb6N",
        "outputId": "4787a01f-6b7c-4139-847a-5cc50fde75b0",
        "colab": {
          "base_uri": "https://localhost:8080/",
          "height": 72
        }
      },
      "source": [
        "my_mc_predictions = []\n",
        "for m in models:\n",
        "    my_mc_predictions.append(np.squeeze(mc_model.predict(np.expand_dims(x_test[idx], axis=0), batch_size=1)))\n",
        "\n",
        "final_mc_predictions = []\n",
        "for i in range(len(my_mc_predictions[0])):\n",
        "    predictions_i = [p[i] for p in my_mc_predictions]\n",
        "    final_mc_predictions.append(average(predictions_i)) \n",
        "print(f\"MC Prediction = {argmax(final_mc_predictions)}\")\n",
        "print(f\"Average MC predictions = {final_mc_predictions}\")"
      ],
      "execution_count": 87,
      "outputs": [
        {
          "output_type": "stream",
          "text": [
            "MC Prediction = 2\n",
            "Average MC predictions = [0.00835052588954568, 0.06754794269800186, 0.2103624314069748, 0.1411617361009121, 0.1212344378232956, 0.1020847201347351, 0.0966033786535263, 0.023874041438102723, 0.13458833880722523, 0.09419248178601265]\n"
          ],
          "name": "stdout"
        }
      ]
    },
    {
      "cell_type": "markdown",
      "metadata": {
        "id": "gwtSj3EDPb4C"
      },
      "source": [
        "## High level plan for aleatoric uncertainty model"
      ]
    },
    {
      "cell_type": "code",
      "metadata": {
        "id": "DPsWAnFN8MwM"
      },
      "source": [
        "# def get_model(mc=False, act=\"relu\"):\n",
        "#     inp = Input(input_shape)\n",
        "#     x = Conv2D(32, kernel_size=(3, 3), activation=act)(inp)\n",
        "#     x = Conv2D(64, kernel_size=(3, 3), activation=act)(x)\n",
        "#     x = MaxPooling2D(pool_size=(2, 2))(x)\n",
        "#     x = get_dropout(x, p=0.25, mc=mc)\n",
        "#     x = Flatten()(x)\n",
        "#     x = Dense(128, activation=act)(x)\n",
        "#     x = get_dropout(x, p=0.5, mc=mc)\n",
        "#     out = Dense(num_classes, activation='softmax')(x)\n",
        "#     # out2 = Dense(num_classes, activation='softplus')(x)  Or relu\n",
        "#     # For classificiation, can either be 1 or num_classes for aleatoric uncertainty\n",
        "#     # Probably num_classes, then for each prediction, looking at the sigma of the prediction\n",
        "#     model = Model(inputs=inp, outputs=[out, out2])\n",
        "\n",
        "#     model.compile(loss=keras.losses.categorical_crossentropy, # Replace with custom loss\n",
        "#                   optimizer=keras.optimizers.Adadelta(),\n",
        "#                   metrics=['accuracy'])\n",
        "#     return model"
      ],
      "execution_count": 45,
      "outputs": []
    }
  ]
}